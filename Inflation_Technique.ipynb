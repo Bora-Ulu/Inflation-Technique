{
 "cells": [
  {
   "cell_type": "markdown",
   "metadata": {
    "colab_type": "text",
    "id": "view-in-github"
   },
   "source": [
    "<a href=\"https://colab.research.google.com/github/Bora-Ulu/Inflation-Technique/blob/main/Inflation_Technique.ipynb\" target=\"_parent\"><img src=\"https://colab.research.google.com/assets/colab-badge.svg\" alt=\"Open In Colab\"/></a>"
   ]
  },
  {
   "cell_type": "code",
   "execution_count": 1,
   "metadata": {
    "colab": {
     "base_uri": "https://localhost:8080/"
    },
    "id": "AJnk0dIPXaUa",
    "outputId": "7043ad83-9893-4741-d3f5-954c2b18ae5d"
   },
   "outputs": [
    {
     "data": {
      "text/plain": [
       "\"\\nfrom numpy import *\\nfrom itertools import *\\nimport time\\nfrom scipy.sparse import coo_matrix\\nfrom scipy.sparse import csr_matrix\\n\\ndef RefiningRows(m): #Takes a matrix as input \\n                     #Returns the same matrix with the identical rows removed\\n    \\n    M=list(m)\\n    \\n    M = ascontiguousarray(M)\\n    uM = unique(M.view([('', M.dtype)]*M.shape[1]))\\n    return uM.view(M.dtype).reshape((uM.shape[0], M.shape[1]))\\n\\ntrial_m=array([[1,0,0,1,0],\\n                 [1,0,1,0,1],\\n                 [1,0,0,1,0]])\\nprint(trial_m)\\nprint('Refining:')\\nstart = time.time()\\nprint(RefiningRows(trial_m))\\nprint('It takes', time.time()-start, 'seconds to calculate.')\\n\""
      ]
     },
     "execution_count": 1,
     "metadata": {
      "tags": []
     },
     "output_type": "execute_result"
    }
   ],
   "source": [
    "\"\"\"\n",
    "from numpy import *\n",
    "from itertools import *\n",
    "import time\n",
    "from scipy.sparse import coo_matrix\n",
    "from scipy.sparse import csr_matrix\n",
    "\n",
    "def RefiningRows(m): #Takes a matrix as input \n",
    "                     #Returns the same matrix with the identical rows removed\n",
    "    \n",
    "    M=list(m)\n",
    "    \n",
    "    M = ascontiguousarray(M)\n",
    "    uM = unique(M.view([('', M.dtype)]*M.shape[1]))\n",
    "    return uM.view(M.dtype).reshape((uM.shape[0], M.shape[1]))\n",
    "\n",
    "trial_m=array([[1,0,0,1,0],\n",
    "                 [1,0,1,0,1],\n",
    "                 [1,0,0,1,0]])\n",
    "print(trial_m)\n",
    "print('Refining:')\n",
    "start = time.time()\n",
    "print(RefiningRows(trial_m))\n",
    "print('It takes', time.time()-start, 'seconds to calculate.')\n",
    "\"\"\""
   ]
  },
  {
   "cell_type": "code",
   "execution_count": 2,
   "metadata": {
    "colab": {
     "base_uri": "https://localhost:8080/"
    },
    "id": "v6ZBysf1gqJh",
    "outputId": "97e6772d-9d94-4f22-b402-c761a3a96179"
   },
   "outputs": [
    {
      "cell_type": "code",
      "metadata": {
        "colab": {
          "base_uri": "https://localhost:8080/"
        },
        "id": "AJnk0dIPXaUa",
        "outputId": "7043ad83-9893-4741-d3f5-954c2b18ae5d"
      },
      "source": [
        "\"\"\"\n",
        "from numpy import *\n",
        "from itertools import *\n",
        "import time\n",
        "from scipy.sparse import coo_matrix\n",
        "from scipy.sparse import csr_matrix\n",
        "\n",
        "def RefiningRows(m): #Takes a matrix as input \n",
        "                     #Returns the same matrix with the identical rows removed\n",
        "    \n",
        "    M=list(m)\n",
        "    \n",
        "    M = ascontiguousarray(M)\n",
        "    uM = unique(M.view([('', M.dtype)]*M.shape[1]))\n",
        "    return uM.view(M.dtype).reshape((uM.shape[0], M.shape[1]))\n",
        "\n",
        "trial_m=array([[1,0,0,1,0],\n",
        "                 [1,0,1,0,1],\n",
        "                 [1,0,0,1,0]])\n",
        "print(trial_m)\n",
        "print('Refining:')\n",
        "start = time.time()\n",
        "print(RefiningRows(trial_m))\n",
        "print('It takes', time.time()-start, 'seconds to calculate.')\n",
        "\"\"\""
      ],
      "execution_count": null,
      "outputs": [
        {
          "output_type": "execute_result",
          "data": {
            "text/plain": [
              "\"\\nfrom numpy import *\\nfrom itertools import *\\nimport time\\nfrom scipy.sparse import coo_matrix\\nfrom scipy.sparse import csr_matrix\\n\\ndef RefiningRows(m): #Takes a matrix as input \\n                     #Returns the same matrix with the identical rows removed\\n    \\n    M=list(m)\\n    \\n    M = ascontiguousarray(M)\\n    uM = unique(M.view([('', M.dtype)]*M.shape[1]))\\n    return uM.view(M.dtype).reshape((uM.shape[0], M.shape[1]))\\n\\ntrial_m=array([[1,0,0,1,0],\\n                 [1,0,1,0,1],\\n                 [1,0,0,1,0]])\\nprint(trial_m)\\nprint('Refining:')\\nstart = time.time()\\nprint(RefiningRows(trial_m))\\nprint('It takes', time.time()-start, 'seconds to calculate.')\\n\""
            ]
          },
          "metadata": {
            "tags": []
          },
          "execution_count": 1
        }
      ]
    },
    "id": "PpIPdG_mSr7S",
    "outputId": "bec682e2-33d6-4ce3-c101-7d60d9011c26"
   },
   "outputs": [
    {
      "cell_type": "code",
      "metadata": {
        "colab": {
          "base_uri": "https://localhost:8080/"
        },
        "id": "v6ZBysf1gqJh",
        "outputId": "97e6772d-9d94-4f22-b402-c761a3a96179"
      },
      "source": [
        "pip list"
      ],
      "execution_count": null,
      "outputs": [
        {
          "output_type": "stream",
          "text": [
            "Package            Version\r\n",
            "------------------ -------------------\r\n",
            "appnope            0.1.0\r\n",
            "attrs              19.3.0\r\n",
            "backcall           0.2.0\r\n",
            "bleach             3.1.5\r\n",
            "brotlipy           0.7.0\r\n",
            "certifi            2020.6.20\r\n",
            "cffi               1.14.0\r\n",
            "chardet            3.0.4\r\n",
            "cryptography       2.9.2\r\n",
            "cvxopt             1.2.5\r\n",
            "decorator          4.4.2\r\n",
            "defusedxml         0.6.0\r\n",
            "entrypoints        0.3\r\n",
            "idna               2.9\r\n",
            "importlib-metadata 1.6.1\r\n",
            "ipykernel          5.3.0\r\n",
            "ipyparallel        6.3.0\r\n",
            "ipython            7.15.0\r\n",
            "ipython-genutils   0.2.0\r\n",
            "jedi               0.17.1\r\n",
            "Jinja2             2.11.2\r\n",
            "json5              0.9.5\r\n",
            "jsonschema         3.2.0\r\n",
            "jupyter-client     6.1.3\r\n",
            "jupyter-core       4.6.3\r\n",
            "jupyterlab         2.1.4\r\n",
            "jupyterlab-server  1.1.5\r\n",
            "MarkupSafe         1.1.1\r\n",
            "metakernel         0.24.4\r\n",
            "mistune            0.8.4\r\n",
            "Mosek              9.2.29\r\n",
            "nbconvert          5.6.1\r\n",
            "nbformat           5.0.6\r\n",
            "notebook           6.0.3\r\n",
            "numpy              1.18.5\r\n",
            "packaging          20.4\r\n",
            "pandocfilters      1.4.2\r\n",
            "parso              0.7.0\r\n",
            "pexpect            4.8.0\r\n",
            "pickleshare        0.7.5\r\n",
            "pip                20.1.1\r\n",
            "portalocker        1.7.0\r\n",
            "prometheus-client  0.8.0\r\n",
            "prompt-toolkit     3.0.5\r\n",
            "ptyprocess         0.6.0\r\n",
            "pycparser          2.20\r\n",
            "Pygments           2.6.1\r\n",
            "pyOpenSSL          19.1.0\r\n",
            "pyparsing          2.4.7\r\n",
            "pyrsistent         0.16.0\r\n",
            "PySocks            1.7.1\r\n",
            "python-dateutil    2.8.1\r\n",
            "pyzmq              19.0.1\r\n",
            "requests           2.24.0\r\n",
            "scipy              1.5.4\r\n",
            "Send2Trash         1.5.0\r\n",
            "setuptools         47.3.1.post20200616\r\n",
            "six                1.15.0\r\n",
            "terminado          0.8.3\r\n",
            "testpath           0.4.4\r\n",
            "tornado            6.0.4\r\n",
            "traitlets          4.3.3\r\n",
            "urllib3            1.25.9\r\n",
            "wcwidth            0.2.5\r\n",
            "webencodings       0.5.1\r\n",
            "wheel              0.34.2\r\n",
            "xrootd             4.11.3\r\n",
            "zipp               3.1.0\r\n",
            "Note: you may need to restart the kernel to use updated packages.\n"
          ],
          "name": "stdout"
        }
      ]
     },
     "execution_count": 3,
     "metadata": {
      "tags": []
     },
     "output_type": "execute_result"
    }
   ],
   "source": [
    "\"\"\"\n",
    "def IntToList(inte, base, leng):#Takes an integer as input\n",
    "                                #Returns the variable value configuration as a list\n",
    "    \n",
    "    List=[int(i) for i in base_repr(inte, base)]\n",
    "    \n",
    "    if len(List)<leng:\n",
    "        \n",
    "        l=[0 for i in range(leng-len(List))]\n",
    "        l.extend(List)\n",
    "        List=l\n",
    "        \n",
    "    return List\n",
    "print('The integer 1456 in the form of a list:')\n",
    "start = time.time()\n",
    "print(IntToList(1456, 4, 12))\n",
    "print('It takes', time.time()-start, 'seconds to calculate.')\n",
    "\"\"\""
   ]
  },
  {
   "cell_type": "code",
   "execution_count": 4,
   "metadata": {
    "colab": {
     "base_uri": "https://localhost:8080/"
    },
    "id": "jI_5s_zXTPaJ",
    "outputId": "ae7ebe92-8931-4a3c-f379-8ddd4324aff3"
   },
   "outputs": [
    {
      "cell_type": "code",
      "metadata": {
        "colab": {
          "base_uri": "https://localhost:8080/"
        },
        "id": "PpIPdG_mSr7S",
        "outputId": "bec682e2-33d6-4ce3-c101-7d60d9011c26"
      },
      "source": [
        "\"\"\"\n",
        "def IntToList(inte, base, leng):#Takes an integer as input\n",
        "                                #Returns the variable value configuration as a list\n",
        "    \n",
        "    List=[int(i) for i in base_repr(inte, base)]\n",
        "    \n",
        "    if len(List)<leng:\n",
        "        \n",
        "        l=[0 for i in range(leng-len(List))]\n",
        "        l.extend(List)\n",
        "        List=l\n",
        "        \n",
        "    return List\n",
        "print('The integer 1456 in the form of a list:')\n",
        "start = time.time()\n",
        "print(IntToList(1456, 4, 12))\n",
        "print('It takes', time.time()-start, 'seconds to calculate.')\n",
        "\"\"\""
      ],
      "execution_count": null,
      "outputs": [
        {
          "output_type": "execute_result",
          "data": {
            "text/plain": [
              "\"\\ndef IntToList(inte, base, leng):#Takes an integer as input\\n                                #Returns the variable value configuration as a list\\n    \\n    List=[int(i) for i in base_repr(inte, base)]\\n    \\n    if len(List)<leng:\\n        \\n        l=[0 for i in range(leng-len(List))]\\n        l.extend(List)\\n        List=l\\n        \\n    return List\\nprint('The integer 1456 in the form of a list:')\\nstart = time.time()\\nprint(IntToList(1456, 4, 12))\\nprint('It takes', time.time()-start, 'seconds to calculate.')\\n\""
            ]
          },
          "metadata": {
            "tags": []
          },
          "execution_count": 3
        }
      ]
     },
     "execution_count": 4,
     "metadata": {
      "tags": []
     },
     "output_type": "execute_result"
    }
   ],
   "source": [
    "\"\"\"\n",
    "def ListToInt(List, Base):#Takes a varaible value configuration as a list\n",
    "                          #Returns the corresponding integer\n",
    "    \n",
    "    L=list(List)\n",
    "    r = str(\"\".join([str(i) for i in L]))\n",
    "    inte = int(r, base = Base)\n",
    "    \n",
    "    return inte\n",
    "a=IntToList(1456, 4, 12)\n",
    "print('We have a list:')\n",
    "print(a)\n",
    "print('This list corresponds to the integer:')\n",
    "start = time.time()\n",
    "print(ListToInt(a, 4))\n",
    "print('It takes', time.time()-start, 'seconds to calculate.')\n",
    "\"\"\""
   ]
  },
  {
   "cell_type": "code",
   "execution_count": 5,
   "metadata": {
    "colab": {
     "base_uri": "https://localhost:8080/"
    },
    "id": "7P3mbuV4jpBo",
    "outputId": "da28d51e-9380-4dec-eabb-181eb0a68a47"
   },
   "outputs": [
    {
      "cell_type": "code",
      "metadata": {
        "colab": {
          "base_uri": "https://localhost:8080/"
        },
        "id": "jI_5s_zXTPaJ",
        "outputId": "ae7ebe92-8931-4a3c-f379-8ddd4324aff3"
      },
      "source": [
        "\"\"\"\n",
        "def ListToInt(List, Base):#Takes a varaible value configuration as a list\n",
        "                          #Returns the corresponding integer\n",
        "    \n",
        "    L=list(List)\n",
        "    r = str(\"\".join([str(i) for i in L]))\n",
        "    inte = int(r, base = Base)\n",
        "    \n",
        "    return inte\n",
        "a=IntToList(1456, 4, 12)\n",
        "print('We have a list:')\n",
        "print(a)\n",
        "print('This list corresponds to the integer:')\n",
        "start = time.time()\n",
        "print(ListToInt(a, 4))\n",
        "print('It takes', time.time()-start, 'seconds to calculate.')\n",
        "\"\"\""
      ],
      "execution_count": null,
      "outputs": [
        {
          "output_type": "execute_result",
          "data": {
            "text/plain": [
              "'\\ndef ListToInt(List, Base):#Takes a varaible value configuration as a list\\n                          #Returns the corresponding integer\\n    \\n    L=list(List)\\n    r = str(\"\".join([str(i) for i in L]))\\n    inte = int(r, base = Base)\\n    \\n    return inte\\na=IntToList(1456, 4, 12)\\nprint(\\'We have a list:\\')\\nprint(a)\\nprint(\\'This list corresponds to the integer:\\')\\nstart = time.time()\\nprint(ListToInt(a, 4))\\nprint(\\'It takes\\', time.time()-start, \\'seconds to calculate.\\')\\n'"
            ]
          },
          "metadata": {
            "tags": []
          },
          "execution_count": 4
        }
      ]
     },
     "execution_count": 5,
     "metadata": {
      "tags": []
     },
     "output_type": "execute_result"
    }
   ],
   "source": [
    "\"\"\"\n",
    "def IntToArray32(inte,cnt):\n",
    "    \n",
    "    a=array([inte],dtype=uint32)\n",
    "    a=a.view(uint8)\n",
    "    a=unpackbits(a,count=cnt)\n",
    "    \n",
    "    return a\n",
    "\n",
    "def ArrayToInt32(ar):\n",
    "\n",
    "    A=ar\n",
    "    A=concatenate((A, array([0,0,0,0,0,0,0,0])), axis=0)\n",
    "    A=A.reshape(-1,4, 8)\n",
    "    A=packbits(A).view(uint32)\n",
    "    \n",
    "    return A\n",
    "\n",
    "def IntToListBin(inte,leng):\n",
    "    \n",
    "    List=format(inte, 'b')\n",
    "    List=[i for i in List]\n",
    "    \n",
    "    if len(List)<leng:\n",
    "        \n",
    "        l=[0 for i in range(leng-len(List))]\n",
    "        l.extend(List)\n",
    "        List=l    \n",
    "    \n",
    "    return List\n",
    "t=100000\n",
    "inte=12345\n",
    "base=4\n",
    "start = time.time()\n",
    "for i in range(t):\n",
    "  A=IntToArray32(inte,-8)\n",
    "  B=ArrayToInt32(A)\n",
    "print('It took', time.time()-start, 'seconds with bit conversion.')\n",
    "\n",
    "start = time.time()\n",
    "for i in range(t):\n",
    "  A=IntToList(inte,base,12)\n",
    "  B=ListToInt(A,base)\n",
    "print('It took', time.time()-start, 'seconds with base conversion.')\n",
    "\n",
    "start = time.time()\n",
    "for i in range(t):\n",
    "    A=IntToListBin(inte, 24)\n",
    "    B=ListToInt(A,2)\n",
    "print('It took', time.time()-start, 'seconds with bin.')\n",
    "\"\"\""
   ]
  },
  {
   "cell_type": "code",
   "execution_count": 6,
   "metadata": {
    "colab": {
     "base_uri": "https://localhost:8080/"
    },
    "id": "ZnqOuBHhdzSx",
    "outputId": "a60ce479-8d0f-4206-ea44-8adbfb2231fe"
   },
   "outputs": [
    {
      "cell_type": "code",
      "metadata": {
        "colab": {
          "base_uri": "https://localhost:8080/"
        },
        "id": "7P3mbuV4jpBo",
        "outputId": "da28d51e-9380-4dec-eabb-181eb0a68a47"
      },
      "source": [
        "\"\"\"\n",
        "def IntToArray32(inte,cnt):\n",
        "    \n",
        "    a=array([inte],dtype=uint32)\n",
        "    a=a.view(uint8)\n",
        "    a=unpackbits(a,count=cnt)\n",
        "    \n",
        "    return a\n",
        "\n",
        "def ArrayToInt32(ar):\n",
        "\n",
        "    A=ar\n",
        "    A=concatenate((A, array([0,0,0,0,0,0,0,0])), axis=0)\n",
        "    A=A.reshape(-1,4, 8)\n",
        "    A=packbits(A).view(uint32)\n",
        "    \n",
        "    return A\n",
        "\n",
        "def IntToListBin(inte,leng):\n",
        "    \n",
        "    List=format(inte, 'b')\n",
        "    List=[i for i in List]\n",
        "    \n",
        "    if len(List)<leng:\n",
        "        \n",
        "        l=[0 for i in range(leng-len(List))]\n",
        "        l.extend(List)\n",
        "        List=l    \n",
        "    \n",
        "    return List\n",
        "t=100000\n",
        "inte=12345\n",
        "base=4\n",
        "start = time.time()\n",
        "for i in range(t):\n",
        "  A=IntToArray32(inte,-8)\n",
        "  B=ArrayToInt32(A)\n",
        "print('It took', time.time()-start, 'seconds with bit conversion.')\n",
        "\n",
        "start = time.time()\n",
        "for i in range(t):\n",
        "  A=IntToList(inte,base,12)\n",
        "  B=ListToInt(A,base)\n",
        "print('It took', time.time()-start, 'seconds with base conversion.')\n",
        "\n",
        "start = time.time()\n",
        "for i in range(t):\n",
        "    A=IntToListBin(inte, 24)\n",
        "    B=ListToInt(A,2)\n",
        "print('It took', time.time()-start, 'seconds with bin.')\n",
        "\"\"\""
      ],
      "execution_count": null,
      "outputs": [
        {
          "output_type": "execute_result",
          "data": {
            "text/plain": [
              "\"\\ndef IntToArray32(inte,cnt):\\n    \\n    a=array([inte],dtype=uint32)\\n    a=a.view(uint8)\\n    a=unpackbits(a,count=cnt)\\n    \\n    return a\\n\\ndef ArrayToInt32(ar):\\n\\n    A=ar\\n    A=concatenate((A, array([0,0,0,0,0,0,0,0])), axis=0)\\n    A=A.reshape(-1,4, 8)\\n    A=packbits(A).view(uint32)\\n    \\n    return A\\n\\ndef IntToListBin(inte,leng):\\n    \\n    List=format(inte, 'b')\\n    List=[i for i in List]\\n    \\n    if len(List)<leng:\\n        \\n        l=[0 for i in range(leng-len(List))]\\n        l.extend(List)\\n        List=l    \\n    \\n    return List\\nt=100000\\ninte=12345\\nbase=4\\nstart = time.time()\\nfor i in range(t):\\n  A=IntToArray32(inte,-8)\\n  B=ArrayToInt32(A)\\nprint('It took', time.time()-start, 'seconds with bit conversion.')\\n\\nstart = time.time()\\nfor i in range(t):\\n  A=IntToList(inte,base,12)\\n  B=ListToInt(A,base)\\nprint('It took', time.time()-start, 'seconds with base conversion.')\\n\\nstart = time.time()\\nfor i in range(t):\\n    A=IntToListBin(inte, 24)\\n    B=ListToInt(A,2)\\nprint('It took', time.time()-start, 'seconds with bin.')\\n\""
            ]
          },
          "metadata": {
            "tags": []
          },
          "execution_count": 5
        }
      ]
     },
     "execution_count": 6,
     "metadata": {
      "tags": []
     },
     "output_type": "execute_result"
    }
   ],
   "source": [
    "\"\"\"\n",
    "def Symmetry_Op(operation, inte):#Takes the exchange operation of copy latent variables and the values of the observable variables as integers\n",
    "                                   #Returns the corresponding observable values for the resultant identical probability in the form of an integer\n",
    "    \n",
    "    # The input list is of the form: [A1,A2,A3,A4,B1,B2,B3,B4,C1,C2,C3,C4]\n",
    "    \n",
    "    \n",
    "    \n",
    "    array=IntToList(inte, 4 ,12)\n",
    "    \n",
    "    if operation == 'X1_X2': #Exchanging \\Lambda_{1}^{AB} and \\Lambda_{2}^{AB}\n",
    "        \n",
    "        array[0],array[1],array[2],array[3],array[4],array[6]array[5],array[7]=array[1],array[0],array[3],array[2],array[6],array[4],array[7],array[5] \n",
    "        #A1 -- A2, #A3 -- A4, #B1 -- B3,= #B2 -- B4\n",
    "        \n",
    "        a=ListToInt(array , 4)\n",
    "    \n",
    "        return a\n",
    "        \n",
    "    elif operation == 'Y1_Y2': #Exchanging \\Lambda_{1}^{AC} and \\Lambda_{2}^{AC}\n",
    "        \n",
    "        array[0],array[2]=array[2],array[0] #A1 -- A3\n",
    "        array[1],array[3]=array[3],array[1] #A2 -- A4\n",
    "        array[8],array[9]=array[9],array[8] #C1 -- C2\n",
    "        array[10],array[11]=array[11],array[10] #C3 -- C4\n",
    "        \n",
    "        a=ListToInt(array , 4)\n",
    "        \n",
    "        return a\n",
    "        \n",
    "    elif operation == 'Z1_Z2': #Exchanging \\Lambda_{1}^{BC} and \\Lambda_{2}^{BC}\n",
    "\n",
    "        array[4],array[5]=array[5],array[4] #B1 -- B2\n",
    "        array[6],array[7]=array[7],array[6] #B3 -- B4\n",
    "        array[8],array[10]=array[10],array[8] #C1 -- C3\n",
    "        array[9],array[11]=array[11],array[9] #C2 -- C1\n",
    "        \n",
    "        a=ListToInt(array , 4)\n",
    "        \n",
    "        return a\n",
    "    \n",
    "    else:\n",
    "        print('Error: Enter a valid operation.')\n",
    "\n",
    "Op='X1_X2'\n",
    "inte=634567\n",
    "print('Integer before the exchange:')\n",
    "print(inte)\n",
    "print('List before the exchange:')\n",
    "print(IntToList(inte, 4, 12))\n",
    "print('Integer after the exchange:')\n",
    "start = time.time()\n",
    "print(Symmetry_Op(Op, inte))\n",
    "print('It takes', time.time()-start, 'seconds to calculate.')\n",
    "print('List after the exchange:')\n",
    "print(IntToList(Symmetry_Op(Op, inte) , 4, 12))\n",
    "\"\"\""
   ]
  },
  {
   "cell_type": "code",
   "execution_count": 7,
   "metadata": {
    "colab": {
     "base_uri": "https://localhost:8080/"
    },
    "id": "3C45gTEcd2I8",
    "outputId": "ff68a449-6215-41ca-f7d1-f57c39b9cd44"
   },
   "outputs": [
    {
      "cell_type": "code",
      "metadata": {
        "colab": {
          "base_uri": "https://localhost:8080/"
        },
        "id": "ZnqOuBHhdzSx",
        "outputId": "a60ce479-8d0f-4206-ea44-8adbfb2231fe"
      },
      "source": [
        "\"\"\"\n",
        "def Symmetry_Op(operation, inte):#Takes the exchange operation of copy latent variables and the values of the observable variables as integers\n",
        "                                   #Returns the corresponding observable values for the resultant identical probability in the form of an integer\n",
        "    \n",
        "    # The input list is of the form: [A1,A2,A3,A4,B1,B2,B3,B4,C1,C2,C3,C4]\n",
        "    \n",
        "    \n",
        "    \n",
        "    array=IntToList(inte, 4 ,12)\n",
        "    \n",
        "    if operation == 'X1_X2': #Exchanging \\Lambda_{1}^{AB} and \\Lambda_{2}^{AB}\n",
        "        \n",
        "        array[0],array[1],array[2],array[3],array[4],array[6]array[5],array[7]=array[1],array[0],array[3],array[2],array[6],array[4],array[7],array[5] \n",
        "        #A1 -- A2, #A3 -- A4, #B1 -- B3,= #B2 -- B4\n",
        "        \n",
        "        a=ListToInt(array , 4)\n",
        "    \n",
        "        return a\n",
        "        \n",
        "    elif operation == 'Y1_Y2': #Exchanging \\Lambda_{1}^{AC} and \\Lambda_{2}^{AC}\n",
        "        \n",
        "        array[0],array[2]=array[2],array[0] #A1 -- A3\n",
        "        array[1],array[3]=array[3],array[1] #A2 -- A4\n",
        "        array[8],array[9]=array[9],array[8] #C1 -- C2\n",
        "        array[10],array[11]=array[11],array[10] #C3 -- C4\n",
        "        \n",
        "        a=ListToInt(array , 4)\n",
        "        \n",
        "        return a\n",
        "        \n",
        "    elif operation == 'Z1_Z2': #Exchanging \\Lambda_{1}^{BC} and \\Lambda_{2}^{BC}\n",
        "\n",
        "        array[4],array[5]=array[5],array[4] #B1 -- B2\n",
        "        array[6],array[7]=array[7],array[6] #B3 -- B4\n",
        "        array[8],array[10]=array[10],array[8] #C1 -- C3\n",
        "        array[9],array[11]=array[11],array[9] #C2 -- C1\n",
        "        \n",
        "        a=ListToInt(array , 4)\n",
        "        \n",
        "        return a\n",
        "    \n",
        "    else:\n",
        "        print('Error: Enter a valid operation.')\n",
        "\n",
        "Op='X1_X2'\n",
        "inte=634567\n",
        "print('Integer before the exchange:')\n",
        "print(inte)\n",
        "print('List before the exchange:')\n",
        "print(IntToList(inte, 4, 12))\n",
        "print('Integer after the exchange:')\n",
        "start = time.time()\n",
        "print(Symmetry_Op(Op, inte))\n",
        "print('It takes', time.time()-start, 'seconds to calculate.')\n",
        "print('List after the exchange:')\n",
        "print(IntToList(Symmetry_Op(Op, inte) , 4, 12))\n",
        "\"\"\""
      ],
      "execution_count": null,
      "outputs": [
        {
          "output_type": "execute_result",
          "data": {
            "text/plain": [
              "\"\\ndef Symmetry_Op(operation, inte):#Takes the exchange operation of copy latent variables and the values of the observable variables as integers\\n                                   #Returns the corresponding observable values for the resultant identical probability in the form of an integer\\n    \\n    # The input list is of the form: [A1,A2,A3,A4,B1,B2,B3,B4,C1,C2,C3,C4]\\n    \\n    \\n    \\n    array=IntToList(inte, 4 ,12)\\n    \\n    if operation == 'X1_X2': #Exchanging \\\\Lambda_{1}^{AB} and \\\\Lambda_{2}^{AB}\\n        \\n        array[0],array[1],array[2],array[3],array[4],array[6]array[5],array[7]=array[1],array[0],array[3],array[2],array[6],array[4],array[7],array[5] \\n        #A1 -- A2, #A3 -- A4, #B1 -- B3,= #B2 -- B4\\n        \\n        a=ListToInt(array , 4)\\n    \\n        return a\\n        \\n    elif operation == 'Y1_Y2': #Exchanging \\\\Lambda_{1}^{AC} and \\\\Lambda_{2}^{AC}\\n        \\n        array[0],array[2]=array[2],array[0] #A1 -- A3\\n        array[1],array[3]=array[3],array[1] #A2 -- A4\\n        array[8],array[9]=array[9],array[8] #C1 -- C2\\n        array[10],array[11]=array[11],array[10] #C3 -- C4\\n        \\n        a=ListToInt(array , 4)\\n        \\n        return a\\n        \\n    elif operation == 'Z1_Z2': #Exchanging \\\\Lambda_{1}^{BC} and \\\\Lambda_{2}^{BC}\\n\\n        array[4],array[5]=array[5],array[4] #B1 -- B2\\n        array[6],array[7]=array[7],array[6] #B3 -- B4\\n        array[8],array[10]=array[10],array[8] #C1 -- C3\\n        array[9],array[11]=array[11],array[9] #C2 -- C1\\n        \\n        a=ListToInt(array , 4)\\n        \\n        return a\\n    \\n    else:\\n        print('Error: Enter a valid operation.')\\n\\nOp='X1_X2'\\ninte=634567\\nprint('Integer before the exchange:')\\nprint(inte)\\nprint('List before the exchange:')\\nprint(IntToList(inte, 4, 12))\\nprint('Integer after the exchange:')\\nstart = time.time()\\nprint(Symmetry_Op(Op, inte))\\nprint('It takes', time.time()-start, 'seconds to calculate.')\\nprint('List after the exchange:')\\nprint(IntToList(Symmetry_Op(Op, inte) , 4, 12))\\n\""
            ]
          },
          "metadata": {
            "tags": []
          },
          "execution_count": 6
        }
      ]
     },
     "execution_count": 7,
     "metadata": {
      "tags": []
     },
     "output_type": "execute_result"
    }
   ],
   "source": [
    "\"\"\"\n",
    "def Symmetric_Arrays(Op_list, inte):#Takes a list of latent variable copy index exchange operations and the values of the observable variables as input as integer\n",
    "                                     #Returns all configurations of observable variable values that have identical probabilities in the form of a list of integers\n",
    "    A=[inte]\n",
    "    \n",
    "    permutation1=list(permutations(Op_list, 1))# A single copy index exchange operation on latent variables (X1_X2, Y1_Y2 and Z1_Z2)\n",
    "    permutation2=list(permutations(Op_list, 2))# Two copy index exchange operations on latent variables\n",
    "    permutation3=list(permutations(Op_list, 3))# Three copy index exchange operations on latent variables\n",
    "    \n",
    "    for i in range(len(permutation1)):#Lists the configurations of observable variable values that have identical probabilities for a single exchange\n",
    "        \n",
    "        A.append(Symmetry_Op(permutation1[i][0],inte))\n",
    "    \n",
    "    for i in range(len(permutation2)):#Lists the configurations of observable variable values that have identical probabilities for a two exchange operations\n",
    "        \n",
    "        inte1=Symmetry_Op(permutation2[i][0],inte)\n",
    "        A.append(Symmetry_Op(permutation2[i][1],inte1))\n",
    "        \n",
    "    for i in range(len(permutation3)):#Lists the configurations of observable variable values that have identical probabilities for a three exchange operations\n",
    "\n",
    "        inte1=Symmetry_Op(permutation3[i][0],inte)\n",
    "        inte2=Symmetry_Op(permutation3[i][1],inte1)\n",
    "        A.append(Symmetry_Op(permutation3[i][2],inte2))\n",
    "    \n",
    "    #A=list(set(A))#Removes identical configurations from the list\n",
    "    \n",
    "    return A\n",
    "\n",
    "Op_list=['X1_X2','Y1_Y2','Z1_Z2']\n",
    "inte=634567\n",
    "print('Configuration of the variable values in the form of an integer:')\n",
    "print(inte)\n",
    "print('All configurations that have the same probabilities as this configuration, in the form of integers:')\n",
    "start = time.time()\n",
    "print(Symmetric_Arrays(Op_list, inte))\n",
    "print('It takes', time.time()-start, 'seconds to calculate.')\n",
    "\"\"\""
   ]
  },
  {
   "cell_type": "code",
   "execution_count": 8,
   "metadata": {
    "colab": {
     "base_uri": "https://localhost:8080/"
    },
    "id": "qss_D9R8WRGG",
    "outputId": "e67cc840-f4b3-463a-a6ee-642898919819"
   },
   "outputs": [
    {
      "cell_type": "code",
      "metadata": {
        "colab": {
          "base_uri": "https://localhost:8080/"
        },
        "id": "3C45gTEcd2I8",
        "outputId": "ff68a449-6215-41ca-f7d1-f57c39b9cd44"
      },
      "source": [
        "\"\"\"\n",
        "def Symmetric_Arrays(Op_list, inte):#Takes a list of latent variable copy index exchange operations and the values of the observable variables as input as integer\n",
        "                                     #Returns all configurations of observable variable values that have identical probabilities in the form of a list of integers\n",
        "    A=[inte]\n",
        "    \n",
        "    permutation1=list(permutations(Op_list, 1))# A single copy index exchange operation on latent variables (X1_X2, Y1_Y2 and Z1_Z2)\n",
        "    permutation2=list(permutations(Op_list, 2))# Two copy index exchange operations on latent variables\n",
        "    permutation3=list(permutations(Op_list, 3))# Three copy index exchange operations on latent variables\n",
        "    \n",
        "    for i in range(len(permutation1)):#Lists the configurations of observable variable values that have identical probabilities for a single exchange\n",
        "        \n",
        "        A.append(Symmetry_Op(permutation1[i][0],inte))\n",
        "    \n",
        "    for i in range(len(permutation2)):#Lists the configurations of observable variable values that have identical probabilities for a two exchange operations\n",
        "        \n",
        "        inte1=Symmetry_Op(permutation2[i][0],inte)\n",
        "        A.append(Symmetry_Op(permutation2[i][1],inte1))\n",
        "        \n",
        "    for i in range(len(permutation3)):#Lists the configurations of observable variable values that have identical probabilities for a three exchange operations\n",
        "\n",
        "        inte1=Symmetry_Op(permutation3[i][0],inte)\n",
        "        inte2=Symmetry_Op(permutation3[i][1],inte1)\n",
        "        A.append(Symmetry_Op(permutation3[i][2],inte2))\n",
        "    \n",
        "    #A=list(set(A))#Removes identical configurations from the list\n",
        "    \n",
        "    return A\n",
        "\n",
        "Op_list=['X1_X2','Y1_Y2','Z1_Z2']\n",
        "inte=634567\n",
        "print('Configuration of the variable values in the form of an integer:')\n",
        "print(inte)\n",
        "print('All configurations that have the same probabilities as this configuration, in the form of integers:')\n",
        "start = time.time()\n",
        "print(Symmetric_Arrays(Op_list, inte))\n",
        "print('It takes', time.time()-start, 'seconds to calculate.')\n",
        "\"\"\""
      ],
      "execution_count": null,
      "outputs": [
        {
          "output_type": "execute_result",
          "data": {
            "text/plain": [
              "\"\\ndef Symmetric_Arrays(Op_list, inte):#Takes a list of latent variable copy index exchange operations and the values of the observable variables as input as integer\\n                                     #Returns all configurations of observable variable values that have identical probabilities in the form of a list of integers\\n    A=[inte]\\n    \\n    permutation1=list(permutations(Op_list, 1))# A single copy index exchange operation on latent variables (X1_X2, Y1_Y2 and Z1_Z2)\\n    permutation2=list(permutations(Op_list, 2))# Two copy index exchange operations on latent variables\\n    permutation3=list(permutations(Op_list, 3))# Three copy index exchange operations on latent variables\\n    \\n    for i in range(len(permutation1)):#Lists the configurations of observable variable values that have identical probabilities for a single exchange\\n        \\n        A.append(Symmetry_Op(permutation1[i][0],inte))\\n    \\n    for i in range(len(permutation2)):#Lists the configurations of observable variable values that have identical probabilities for a two exchange operations\\n        \\n        inte1=Symmetry_Op(permutation2[i][0],inte)\\n        A.append(Symmetry_Op(permutation2[i][1],inte1))\\n        \\n    for i in range(len(permutation3)):#Lists the configurations of observable variable values that have identical probabilities for a three exchange operations\\n\\n        inte1=Symmetry_Op(permutation3[i][0],inte)\\n        inte2=Symmetry_Op(permutation3[i][1],inte1)\\n        A.append(Symmetry_Op(permutation3[i][2],inte2))\\n    \\n    #A=list(set(A))#Removes identical configurations from the list\\n    \\n    return A\\n\\nOp_list=['X1_X2','Y1_Y2','Z1_Z2']\\ninte=634567\\nprint('Configuration of the variable values in the form of an integer:')\\nprint(inte)\\nprint('All configurations that have the same probabilities as this configuration, in the form of integers:')\\nstart = time.time()\\nprint(Symmetric_Arrays(Op_list, inte))\\nprint('It takes', time.time()-start, 'seconds to calculate.')\\n\""
            ]
          },
          "metadata": {
            "tags": []
          },
          "execution_count": 7
        }
      ]
     },
     "execution_count": 8,
     "metadata": {
      "tags": []
     },
     "output_type": "execute_result"
    }
   ],
   "source": [
    "\"\"\"\n",
    "def RowOfaColumn(inte):#Takes a column configuration as an integer\n",
    "                       #Finds the two symmetric rows that have a \"1\" in the corresponding column of the description matrix\n",
    "                       #Returns the row with the smaller index\n",
    "    \n",
    "    c=IntToList(inte, 4 , 12)\n",
    "    cc=[c[3],c[0],c[7],c[4],c[11],c[8]]\n",
    "    c=[c[0],c[3],c[4],c[7],c[8],c[11]]\n",
    "    c=ListToInt(c,4)\n",
    "    cc=ListToInt(cc,4)\n",
    "    if cc >= c:\n",
    "        return c\n",
    "    else:\n",
    "        return cc\n",
    "\n",
    "co=634567\n",
    "print('For the column represented by the integer:')\n",
    "print(co)\n",
    "print('The row at which this column has its only 1 value is:')\n",
    "start = time.time()\n",
    "print(RowOfaColumn(co))\n",
    "print('It takes', time.time()-start, 'seconds to calculate.')\n",
    "\"\"\""
   ]
  },
  {
   "cell_type": "code",
   "execution_count": 9,
   "metadata": {
    "colab": {
     "base_uri": "https://localhost:8080/"
    },
    "id": "GachnZP2d6Zk",
    "outputId": "645867cc-67eb-410a-9b51-face7ee97b93"
   },
   "outputs": [
    {
      "cell_type": "code",
      "metadata": {
        "colab": {
          "base_uri": "https://localhost:8080/"
        },
        "id": "qss_D9R8WRGG",
        "outputId": "e67cc840-f4b3-463a-a6ee-642898919819"
      },
      "source": [
        "\"\"\"\n",
        "def RowOfaColumn(inte):#Takes a column configuration as an integer\n",
        "                       #Finds the two symmetric rows that have a \"1\" in the corresponding column of the description matrix\n",
        "                       #Returns the row with the smaller index\n",
        "    \n",
        "    c=IntToList(inte, 4 , 12)\n",
        "    cc=[c[3],c[0],c[7],c[4],c[11],c[8]]\n",
        "    c=[c[0],c[3],c[4],c[7],c[8],c[11]]\n",
        "    c=ListToInt(c,4)\n",
        "    cc=ListToInt(cc,4)\n",
        "    if cc >= c:\n",
        "        return c\n",
        "    else:\n",
        "        return cc\n",
        "\n",
        "co=634567\n",
        "print('For the column represented by the integer:')\n",
        "print(co)\n",
        "print('The row at which this column has its only 1 value is:')\n",
        "start = time.time()\n",
        "print(RowOfaColumn(co))\n",
        "print('It takes', time.time()-start, 'seconds to calculate.')\n",
        "\"\"\""
      ],
      "execution_count": null,
      "outputs": [
        {
          "output_type": "execute_result",
          "data": {
            "text/plain": [
              "'\\ndef RowOfaColumn(inte):#Takes a column configuration as an integer\\n                       #Finds the two symmetric rows that have a \"1\" in the corresponding column of the description matrix\\n                       #Returns the row with the smaller index\\n    \\n    c=IntToList(inte, 4 , 12)\\n    cc=[c[3],c[0],c[7],c[4],c[11],c[8]]\\n    c=[c[0],c[3],c[4],c[7],c[8],c[11]]\\n    c=ListToInt(c,4)\\n    cc=ListToInt(cc,4)\\n    if cc >= c:\\n        return c\\n    else:\\n        return cc\\n\\nco=634567\\nprint(\\'For the column represented by the integer:\\')\\nprint(co)\\nprint(\\'The row at which this column has its only 1 value is:\\')\\nstart = time.time()\\nprint(RowOfaColumn(co))\\nprint(\\'It takes\\', time.time()-start, \\'seconds to calculate.\\')\\n'"
            ]
          },
          "metadata": {
            "tags": []
          },
          "execution_count": 8
        }
      ]
     },
     "execution_count": 9,
     "metadata": {
      "tags": []
     },
     "output_type": "execute_result"
    }
   ],
   "source": [
    "\"\"\"\n",
    "def RowSymmetry(inte):#Takes a row as input\n",
    "                      #Returns the symmetric row\n",
    "    \n",
    "    c=IntToList(inte,4,6)\n",
    "    c=[c[1],c[0],c[3],c[2],c[5],c[4]]\n",
    "    c=ListToInt(c,4)\n",
    "    \n",
    "    return c\n",
    "def RowList(inte):#Creates the row list (Rows) by removing the symmetrical rows\n",
    "                  #Returns the configuration of a row specified by the input integer\n",
    "    \n",
    "    Checklist=[0 for i in range(4**6)]\n",
    "    \n",
    "    i=0\n",
    "    v=0\n",
    "    Rows=[0]\n",
    "    while i in range(len(Checklist)-1):\n",
    "        \n",
    "        if Checklist[i+1] == 0:\n",
    "            \n",
    "            R=RowSymmetry(i+1)\n",
    "            Rows.append(i+1)\n",
    "            Checklist[R]=1\n",
    "            \n",
    "        i=i+1\n",
    "    \n",
    "    Row=IntToList(Rows[inte],4,6)\n",
    "    \n",
    "    return Row,Rows\n",
    "h=2000\n",
    "start = time.time()\n",
    "Row,Rows=RowList(h)\n",
    "print('It takes', time.time()-start, 'seconds to calculate.')\n",
    "print('We have the configuration for the',h,'th row as:')\n",
    "print('{A1,A4,B1,B4,C1,C4}')\n",
    "print(Row)\n",
    "print('And the total number of rows after symmetrization is:')\n",
    "print(len(Rows))\n",
    "\"\"\""
   ]
  },
  {
   "cell_type": "code",
   "execution_count": 10,
   "metadata": {
    "colab": {
     "base_uri": "https://localhost:8080/"
    },
    "id": "g82IuqXveDdo",
    "outputId": "851198be-90b5-4098-a184-805bc7b0fb9f"
   },
   "outputs": [
    {
      "cell_type": "code",
      "metadata": {
        "colab": {
          "base_uri": "https://localhost:8080/"
        },
        "id": "GachnZP2d6Zk",
        "outputId": "645867cc-67eb-410a-9b51-face7ee97b93"
      },
      "source": [
        "\"\"\"\n",
        "def RowSymmetry(inte):#Takes a row as input\n",
        "                      #Returns the symmetric row\n",
        "    \n",
        "    c=IntToList(inte,4,6)\n",
        "    c=[c[1],c[0],c[3],c[2],c[5],c[4]]\n",
        "    c=ListToInt(c,4)\n",
        "    \n",
        "    return c\n",
        "def RowList(inte):#Creates the row list (Rows) by removing the symmetrical rows\n",
        "                  #Returns the configuration of a row specified by the input integer\n",
        "    \n",
        "    Checklist=[0 for i in range(4**6)]\n",
        "    \n",
        "    i=0\n",
        "    v=0\n",
        "    Rows=[0]\n",
        "    while i in range(len(Checklist)-1):\n",
        "        \n",
        "        if Checklist[i+1] == 0:\n",
        "            \n",
        "            R=RowSymmetry(i+1)\n",
        "            Rows.append(i+1)\n",
        "            Checklist[R]=1\n",
        "            \n",
        "        i=i+1\n",
        "    \n",
        "    Row=IntToList(Rows[inte],4,6)\n",
        "    \n",
        "    return Row,Rows\n",
        "h=2000\n",
        "start = time.time()\n",
        "Row,Rows=RowList(h)\n",
        "print('It takes', time.time()-start, 'seconds to calculate.')\n",
        "print('We have the configuration for the',h,'th row as:')\n",
        "print('{A1,A4,B1,B4,C1,C4}')\n",
        "print(Row)\n",
        "print('And the total number of rows after symmetrization is:')\n",
        "print(len(Rows))\n",
        "\"\"\""
      ],
      "execution_count": null,
      "outputs": [
        {
          "output_type": "execute_result",
          "data": {
            "text/plain": [
              "\"\\ndef RowSymmetry(inte):#Takes a row as input\\n                      #Returns the symmetric row\\n    \\n    c=IntToList(inte,4,6)\\n    c=[c[1],c[0],c[3],c[2],c[5],c[4]]\\n    c=ListToInt(c,4)\\n    \\n    return c\\ndef RowList(inte):#Creates the row list (Rows) by removing the symmetrical rows\\n                  #Returns the configuration of a row specified by the input integer\\n    \\n    Checklist=[0 for i in range(4**6)]\\n    \\n    i=0\\n    v=0\\n    Rows=[0]\\n    while i in range(len(Checklist)-1):\\n        \\n        if Checklist[i+1] == 0:\\n            \\n            R=RowSymmetry(i+1)\\n            Rows.append(i+1)\\n            Checklist[R]=1\\n            \\n        i=i+1\\n    \\n    Row=IntToList(Rows[inte],4,6)\\n    \\n    return Row,Rows\\nh=2000\\nstart = time.time()\\nRow,Rows=RowList(h)\\nprint('It takes', time.time()-start, 'seconds to calculate.')\\nprint('We have the configuration for the',h,'th row as:')\\nprint('{A1,A4,B1,B4,C1,C4}')\\nprint(Row)\\nprint('And the total number of rows after symmetrization is:')\\nprint(len(Rows))\\n\""
            ]
          },
          "metadata": {
            "tags": []
          },
          "execution_count": 9
        }
      ]
     },
     "execution_count": 10,
     "metadata": {
      "tags": []
     },
     "output_type": "execute_result"
    }
   ],
   "source": [
    "\"\"\"\n",
    "def remove_zero_rows(M):#Removes the zero rows of a sparse matrix\n",
    "  M = csr_matrix(M)\n",
    "  num_nonzeros = diff(M.indptr)\n",
    "  return M[num_nonzeros != 0]\n",
    "\n",
    "def MDM():#Returns the description matrix\n",
    "    \n",
    "    Op_list=['X1_X2','Y1_Y2','Z1_Z2']\n",
    "    \n",
    "    Checklist=[0 for i in range(4**12)]#Creates the checklist\n",
    "    \n",
    "    j=0#specifies the variable value configurations for columns\n",
    "    v=0#specifies the idecies of the columns\n",
    "    while j in range(len(Checklist)):\n",
    "        \n",
    "        if Checklist[j] == 0:#Runs for the \"0\" valued elements of the checklist\n",
    "            \n",
    "            S=Symmetric_Arrays(Op_list, j)#Finds the symmetric columns of a colum specified by an integer\n",
    "            \n",
    "            if j == 0:#Initial iteration\n",
    "        \n",
    "                Columns=[v for k in range(len(S))]\n",
    "                v=v+1\n",
    "                Rows=[RowOfaColumn(k) for k in S]\n",
    "                \n",
    "            else:#Extends the row and column arrays that will form the coo sparse matrix\n",
    "                \n",
    "                Columns.extend((v for k in range(len(S))))#Extends the column indecies linearly\n",
    "                v=v+1\n",
    "                Rows.extend((RowOfaColumn(k) for k in S))#Extends the row indecies with the rows corresponding the the symmetric columns\n",
    "                \n",
    "            for x in S:#Modifies the checklist\n",
    "                Checklist[x]=1\n",
    "            \n",
    "        j=j+1\n",
    "        \n",
    "    data=[1 for i in range(len(Rows))]#creates the data list for the sparse matrix\n",
    "    m = coo_matrix((array(data), (array(Rows), array(Columns))))#creates the sparse matrix\n",
    "    M=remove_zero_rows(m)#removes the zero rows arising from the symmetric rows\n",
    "    M = M.toarray()\n",
    "    return M\n",
    "\n",
    "start = time.time()\n",
    "M=MDM()\n",
    "print('It takes', time.time()-start, 'seconds to calculate the marginal description matrix.')\n",
    "print('It has',len(M),'rows and',len(M[0]),'columns')\n",
    "print('Its explicit form is:')\n",
    "print(M)\n",
    "\"\"\""
   ]
  },
  {
   "cell_type": "code",
   "execution_count": 11,
   "metadata": {
    "colab": {
     "base_uri": "https://localhost:8080/"
    },
    "id": "DFJJdFsS0RDX",
    "outputId": "c5eb57ca-c7bc-403f-f9ac-8490d05fade9"
   },
   "outputs": [
    {
      "cell_type": "code",
      "metadata": {
        "colab": {
          "base_uri": "https://localhost:8080/"
        },
        "id": "g82IuqXveDdo",
        "outputId": "851198be-90b5-4098-a184-805bc7b0fb9f"
      },
      "source": [
        "\"\"\"\n",
        "def remove_zero_rows(M):#Removes the zero rows of a sparse matrix\n",
        "  M = csr_matrix(M)\n",
        "  num_nonzeros = diff(M.indptr)\n",
        "  return M[num_nonzeros != 0]\n",
        "\n",
        "def MDM():#Returns the description matrix\n",
        "    \n",
        "    Op_list=['X1_X2','Y1_Y2','Z1_Z2']\n",
        "    \n",
        "    Checklist=[0 for i in range(4**12)]#Creates the checklist\n",
        "    \n",
        "    j=0#specifies the variable value configurations for columns\n",
        "    v=0#specifies the idecies of the columns\n",
        "    while j in range(len(Checklist)):\n",
        "        \n",
        "        if Checklist[j] == 0:#Runs for the \"0\" valued elements of the checklist\n",
        "            \n",
        "            S=Symmetric_Arrays(Op_list, j)#Finds the symmetric columns of a colum specified by an integer\n",
        "            \n",
        "            if j == 0:#Initial iteration\n",
        "        \n",
        "                Columns=[v for k in range(len(S))]\n",
        "                v=v+1\n",
        "                Rows=[RowOfaColumn(k) for k in S]\n",
        "                \n",
        "            else:#Extends the row and column arrays that will form the coo sparse matrix\n",
        "                \n",
        "                Columns.extend((v for k in range(len(S))))#Extends the column indecies linearly\n",
        "                v=v+1\n",
        "                Rows.extend((RowOfaColumn(k) for k in S))#Extends the row indecies with the rows corresponding the the symmetric columns\n",
        "                \n",
        "            for x in S:#Modifies the checklist\n",
        "                Checklist[x]=1\n",
        "            \n",
        "        j=j+1\n",
        "        \n",
        "    data=[1 for i in range(len(Rows))]#creates the data list for the sparse matrix\n",
        "    m = coo_matrix((array(data), (array(Rows), array(Columns))))#creates the sparse matrix\n",
        "    M=remove_zero_rows(m)#removes the zero rows arising from the symmetric rows\n",
        "    M = M.toarray()\n",
        "    return M\n",
        "\n",
        "start = time.time()\n",
        "M=MDM()\n",
        "print('It takes', time.time()-start, 'seconds to calculate the marginal description matrix.')\n",
        "print('It has',len(M),'rows and',len(M[0]),'columns')\n",
        "print('Its explicit form is:')\n",
        "print(M)\n",
        "\"\"\""
      ],
      "execution_count": null,
      "outputs": [
        {
          "output_type": "execute_result",
          "data": {
            "text/plain": [
              "'\\ndef remove_zero_rows(M):#Removes the zero rows of a sparse matrix\\n  M = csr_matrix(M)\\n  num_nonzeros = diff(M.indptr)\\n  return M[num_nonzeros != 0]\\n\\ndef MDM():#Returns the description matrix\\n    \\n    Op_list=[\\'X1_X2\\',\\'Y1_Y2\\',\\'Z1_Z2\\']\\n    \\n    Checklist=[0 for i in range(4**12)]#Creates the checklist\\n    \\n    j=0#specifies the variable value configurations for columns\\n    v=0#specifies the idecies of the columns\\n    while j in range(len(Checklist)):\\n        \\n        if Checklist[j] == 0:#Runs for the \"0\" valued elements of the checklist\\n            \\n            S=Symmetric_Arrays(Op_list, j)#Finds the symmetric columns of a colum specified by an integer\\n            \\n            if j == 0:#Initial iteration\\n        \\n                Columns=[v for k in range(len(S))]\\n                v=v+1\\n                Rows=[RowOfaColumn(k) for k in S]\\n                \\n            else:#Extends the row and column arrays that will form the coo sparse matrix\\n                \\n                Columns.extend((v for k in range(len(S))))#Extends the column indecies linearly\\n                v=v+1\\n                Rows.extend((RowOfaColumn(k) for k in S))#Extends the row indecies with the rows corresponding the the symmetric columns\\n                \\n            for x in S:#Modifies the checklist\\n                Checklist[x]=1\\n            \\n        j=j+1\\n        \\n    data=[1 for i in range(len(Rows))]#creates the data list for the sparse matrix\\n    m = coo_matrix((array(data), (array(Rows), array(Columns))))#creates the sparse matrix\\n    M=remove_zero_rows(m)#removes the zero rows arising from the symmetric rows\\n    M = M.toarray()\\n    return M\\n\\nstart = time.time()\\nM=MDM()\\nprint(\\'It takes\\', time.time()-start, \\'seconds to calculate the marginal description matrix.\\')\\nprint(\\'It has\\',len(M),\\'rows and\\',len(M[0]),\\'columns\\')\\nprint(\\'Its explicit form is:\\')\\nprint(M)\\n'"
            ]
          },
          "metadata": {
            "tags": []
          },
          "execution_count": 10
        }
      ]
    },
    "id": "MwN2cz2ZGBid",
    "outputId": "69a3f9ae-8b8d-40a2-dd7d-5209f4c21fe4"
   },
   "outputs": [
    {
      "cell_type": "code",
      "metadata": {
        "id": "DFJJdFsS0RDX",
        "colab": {
          "base_uri": "https://localhost:8080/"
        },
        "outputId": "c5eb57ca-c7bc-403f-f9ac-8490d05fade9"
      },
      "source": [
        "from numpy import *\n",
        "from itertools import *\n",
        "import time\n",
        "from scipy.sparse import coo_matrix\n",
        "from scipy.sparse import csc_matrix\n",
        "from scipy.sparse import csr_matrix\n",
        "from scipy.sparse import hstack as shstack\n",
        "from scipy.sparse import vstack as svstack\n",
        "from cvxopt import matrix, solvers, sparse, spmatrix\n",
        "import mosek\n",
        "\n",
        "solvers.options['mosek'] = {mosek.iparam.infeas_report_auto: mosek.onoffkey.on}\n",
        "\n",
        "def IntToList(inte, base, leng):\n",
        "    \n",
        "    List=[int(i) for i in base_repr(inte, base)]\n",
        "    \n",
        "    if len(List)<leng:\n",
        "        \n",
        "        l=[0 for i in range(leng-len(List))]\n",
        "        l.extend(List)\n",
        "        List=l\n",
        "        \n",
        "    return List\n",
        "        \n",
        "def ListToInt(List, Base):\n",
        "    \n",
        "    L=list(List)\n",
        "    r = str(\"\".join([str(i) for i in L]))\n",
        "    inte = int(r, base = Base)\n",
        "    \n",
        "    return inte\n",
        "\n",
        "\n",
        "def IntToArray32(ar):# Takes a huge column vector as input\n",
        "                     # Returns a matrix where the rows are the base-4 binary expansions of each element of the input array\n",
        "    \n",
        "    a=ar\n",
        "    a=a.astype('uint32')\n",
        "    a=a.view(uint8)\n",
        "    a=unpackbits(a,count=-8,axis=1)\n",
        "    \n",
        "    return a\n",
        "\n",
        "def ArrayToInt32(matrix):#Takes the output matrix of IntToArray32() as input\n",
        "                         #Returns the column vector with each row of the input turned into an integer \n",
        "\n",
        "    A=matrix\n",
        "    A=concatenate((A, zeros((len(A),8),dtype=uint32)), axis=1)\n",
        "    A=A.reshape(-1,4, 8)\n",
        "    A=packbits(A).view(uint32)\n",
        "    A=array([A]).T\n",
        "    \n",
        "    return A\n",
        "\n",
        "def ArrayToInt16(matrix):#Does the same as ArrayToInt16() however, this time the input has 12 binary digits that represent a 6 digit base-4 integer\n",
        "    \n",
        "    A=matrix\n",
        "    A=concatenate((A, zeros((len(A),4),dtype=uint16)), axis=1)\n",
        "    A=A.reshape(-1,2, 8)\n",
        "    A=packbits(A,bitorder='little').view(uint16)\n",
        "    #A=array([A]).T\n",
        "    \n",
        "    return A\n",
        "\n",
        "ar=array([arange(4**12)]).T\n",
        "start = time.time()\n",
        "A=IntToArray32(ar)\n",
        "print('It took', time.time()-start, 'seconds.')\n",
        "print(A[2])\n",
        "start = time.time()\n",
        "A=ArrayToInt32(A)\n",
        "print('It took', time.time()-start, 'seconds.')\n",
        "print(A[2])"
      ],
      "execution_count": null,
      "outputs": [
        {
          "output_type": "stream",
          "text": [
            "It took 0.33482789993286133 seconds.\n",
            "[0 0 0 0 0 0 1 0 0 0 0 0 0 0 0 0 0 0 0 0 0 0 0 0]\n",
            "It took 4.512168884277344 seconds.\n",
            "[2]\n"
          ],
          "name": "stdout"
        }
      ]
    },
    "id": "_n2XK5FoGI62",
    "outputId": "06d89016-1246-40f5-d150-0bf82a6b17b9"
   },
   "outputs": [
    {
      "cell_type": "code",
      "metadata": {
        "colab": {
          "base_uri": "https://localhost:8080/"
        },
        "id": "MwN2cz2ZGBid",
        "outputId": "69a3f9ae-8b8d-40a2-dd7d-5209f4c21fe4"
      },
      "source": [
        "def Symmetry_Op(operation, ar):#Takes the exchange opration of copy latent variables and the values of the observable variables as input \n",
        "                                   #Returns the corresponding observable values for the resultant identical probability\n",
        "    \n",
        "    # The input list is of the form: [A1,A2,A3,A4,B1,B2,B3,B4,C1,C2,C3,C4]\n",
        "    \n",
        "    \n",
        "    \n",
        "    A=IntToArray32(ar)\n",
        "    \n",
        "    if operation == 'X1_X2': #Exchanging \\Lambda_{1}^{AB} and \\Lambda_{2}^{AB}\n",
        "        \n",
        "        A[:,[0,1,2,3]] = A[:,[2,3,0,1]] #A1 -- A2\n",
        "        A[:,[4,5,6,7]] = A[:,[6,7,4,5]] #A3 -- A4\n",
        "        A[:,[8,9,12,13]] = A[:,[12,13,8,9]] #B1 -- B3\n",
        "        A[:,[10,11,14,15]] = A[:,[14,15,10,11]] #B2 -- B4\n",
        "        \n",
        "        A=ArrayToInt32(A)\n",
        "    \n",
        "        return A\n",
        "        \n",
        "    elif operation == 'Y1_Y2': #Exchanging \\Lambda_{1}^{AC} and \\Lambda_{2}^{AC}\n",
        "        \n",
        "        A[:,[0,1,4,5]] = A[:,[4,5,0,1]] #A1 -- A3\n",
        "        A[:,[2,3,6,7]] = A[:,[6,7,2,3]] #A2 -- A4\n",
        "        A[:,[16,17,18,19]] = A[:,[18,19,16,17]] #C1 -- C2\n",
        "        A[:,[20,21,22,23]] = A[:,[22,23,20,21]] #C3 -- C4\n",
        "        \n",
        "        A=ArrayToInt32(A)\n",
        "        \n",
        "        return A\n",
        "        \n",
        "    elif operation == 'Z1_Z2': #Exchanging \\Lambda_{1}^{BC} and \\Lambda_{2}^{BC}\n",
        "        \n",
        "        A[:,[8,9,10,11]] = A[:,[10,11,8,9]] #B1 -- B2\n",
        "        A[:,[12,13,14,15]] = A[:,[14,15,12,13]] #B3 -- B4\n",
        "        A[:,[16,17,20,21]] = A[:,[20,21,16,17]]#C1 -- C3\n",
        "        A[:,[18,19,22,23]] = A[:,[22,23,18,19]] #C2 -- C1\n",
        "        \n",
        "        A=ArrayToInt32(A)\n",
        "        \n",
        "        return A\n",
        "    \n",
        "    else:\n",
        "        print('Error: Enter a valid operation.')\n",
        "start = time.time()\n",
        "A=Symmetry_Op('X1_X2',ar)\n",
        "print('It took', time.time()-start, 'seconds.')"
      ],
      "execution_count": null,
      "outputs": [
        {
          "output_type": "stream",
          "text": [
            "It took 4.9537458419799805 seconds.\n"
          ],
          "name": "stdout"
        }
      ]
    },
    "id": "BR-pR4TnGNvB",
    "outputId": "082800d2-0d1f-47b6-f269-da6e445301fa"
   },
   "outputs": [
    {
      "cell_type": "code",
      "metadata": {
        "colab": {
          "base_uri": "https://localhost:8080/"
        },
        "id": "_n2XK5FoGI62",
        "outputId": "06d89016-1246-40f5-d150-0bf82a6b17b9"
      },
      "source": [
        "def Symmetric_Arrays(Op_list, ar):#Takes a list of laten variable copy index exchange operations and the values of the observable variables as input as input \n",
        "                                     #Returns all configurations of observable variable values that have identical probabilities in the form of a list\n",
        "    A=ar\n",
        "    \n",
        "    combination1=list(combinations(Op_list, 1))# A single copy index exchange operation on latent variables (X1_X2, Y1_Y2 and Z1_Z2)\n",
        "    combination2=list(combinations(Op_list, 2))\n",
        "    combination3=list(combinations(Op_list, 3))# Three copy index exchange operations on latent variables\n",
        "    \n",
        "    for i in range(len(combination1)):#Lists the configurations of observable variable values that have identical probabilities for a single exchange\n",
        "        \n",
        "        A=hstack((A,Symmetry_Op(combination1[i][0],ar)))\n",
        "    \n",
        "    for i in range(len(combination2)):\n",
        "\n",
        "        ar1=Symmetry_Op(combination2[i][0],ar)\n",
        "        A=hstack((A,Symmetry_Op(combination2[i][1],ar1)))\n",
        "\n",
        "    for i in range(len(combination3)):#Lists the configurations of observable variable values that have identical probabilities for a three exchange operations\n",
        "\n",
        "        ar1=Symmetry_Op(combination3[i][0],ar)\n",
        "        ar2=Symmetry_Op(combination3[i][1],ar1)\n",
        "        A=hstack((A,Symmetry_Op(combination3[i][2],ar2)))\n",
        "    \n",
        "        \n",
        "    return A\n",
        "Op_list=['X1_X2','Y1_Y2','Z1_Z2']\n",
        "start = time.time()\n",
        "A=Symmetric_Arrays(Op_list, ar)\n",
        "print('It took', time.time()-start, 'seconds.')"
      ],
      "execution_count": null,
      "outputs": [
        {
          "output_type": "stream",
          "text": [
            "It took 61.011598110198975 seconds.\n"
          ],
          "name": "stdout"
        }
      ]
    },
    "id": "z_tyKDW4GSd1",
    "outputId": "f73ac1fb-2fb0-417c-924a-6ce0cee426d3"
   },
   "outputs": [
    {
      "cell_type": "code",
      "metadata": {
        "colab": {
          "base_uri": "https://localhost:8080/"
        },
        "id": "BR-pR4TnGNvB",
        "outputId": "082800d2-0d1f-47b6-f269-da6e445301fa"
      },
      "source": [
        "def CorRowsNoSymmetry(ar):\n",
        "    \n",
        "    A=IntToArray32(ar)\n",
        "    \n",
        "    #A=A[:,[0,1,6,7,8,9,14,15,16,17,22,23]]\n",
        "    A=A[:,[23,22,17,16,15,14,9,8,7,6,1,0]]\n",
        "\n",
        "    A=ArrayToInt16(A)\n",
        "    \n",
        "    return A\n",
        "\n",
        "def CorRows(ar):#Creates an array with all the rows that have a \"1\" in the corresponding column of the input array. the row symmetries are applied\n",
        "                #by choosing the row with the smaller index among the symmetric rows\n",
        "    \n",
        "    A=IntToArray32(ar)\n",
        "    \n",
        "    A1=A[:,[17,16,23,22,9,8,15,14,1,0,7,6]]\n",
        "    \n",
        "    A1=ArrayToInt16(A1)\n",
        "    \n",
        "    A=A[:,[23,22,17,16,15,14,9,8,7,6,1,0]]\n",
        "    \n",
        "    A=ArrayToInt16(A)\n",
        "    A=vstack((A,A1))\n",
        "    A=amin(A,axis=0)\n",
        "    \n",
        "    return A\n",
        "start = time.time()\n",
        "A=CorRows(ar)\n",
        "print('It took', time.time()-start, 'seconds.')"
      ],
      "execution_count": null,
      "outputs": [
        {
          "output_type": "stream",
          "text": [
            "It took 3.7416088581085205 seconds.\n"
          ],
          "name": "stdout"
        }
      ]
    },
    "id": "TP0ChQRIGXl2",
    "outputId": "cd57b3da-327f-4e26-9b67-7a7c1be8b776"
   },
   "outputs": [
    {
      "cell_type": "code",
      "metadata": {
        "colab": {
          "base_uri": "https://localhost:8080/"
        },
        "id": "z_tyKDW4GSd1",
        "outputId": "f73ac1fb-2fb0-417c-924a-6ce0cee426d3"
      },
      "source": [
        "def NewCols(ar):#Applies the symmetry condition to the columns by choosing the column with the smaller index among the symmetric columns\n",
        "    \n",
        "    Op_list=['X1_X2','Y1_Y2','Z1_Z2']\n",
        "    \n",
        "    A=Symmetric_Arrays(Op_list, ar)\n",
        "    \n",
        "    A=amin(A,axis=1)\n",
        "    \n",
        "    return A\n",
        "start = time.time()\n",
        "A=NewCols(ar)\n",
        "print('It took', time.time()-start, 'seconds.')"
      ],
      "execution_count": null,
      "outputs": [
        {
          "output_type": "stream",
          "text": [
            "It took 61.08558893203735 seconds.\n"
          ],
          "name": "stdout"
        }
      ]
    },
    "id": "e2ohZUMdGe1W",
    "outputId": "e8894d57-72a9-44d5-ef27-ef2fd72979c4"
   },
   "outputs": [
    {
      "cell_type": "code",
      "metadata": {
        "colab": {
          "base_uri": "https://localhost:8080/"
        },
        "id": "TP0ChQRIGXl2",
        "outputId": "cd57b3da-327f-4e26-9b67-7a7c1be8b776"
      },
      "source": [
        "def remove_zero_rows(M):# Removes zero rows from sparse array\n",
        "  M = csr_matrix(M)\n",
        "  num_nonzeros = diff(M.indptr)\n",
        "  return M[num_nonzeros != 0]\n",
        "\n",
        "def drop_zero_columns(m):#removes zero columns from sparse array\n",
        "    \n",
        "    nz_cols, new_col = unique(m.col, return_inverse=True)\n",
        "    m.col[:] = new_col\n",
        "    m._shape = (m.shape[0], len(nz_cols))\n",
        "\n",
        "    return m\n",
        "\n",
        "def MDM():#Creates the MDM by combining the outputs of the previous functions in a coo sparse array\n",
        "        \n",
        "    ar=array([arange(4**12)]).T\n",
        "        \n",
        "    Rows=CorRows(ar)\n",
        "    Columns=NewCols(ar)\n",
        "        \n",
        "    data=[1 for i in range(len(Rows))]\n",
        "    \n",
        "    m = coo_matrix((data, (Rows, Columns)),dtype=uint8)\n",
        "    M=drop_zero_columns(m)\n",
        "    M=remove_zero_rows(M)\n",
        "    M = M.toarray()\n",
        "    \n",
        "    return M\n",
        "start = time.time()\n",
        "M=MDM()\n",
        "print('It took', time.time()-start, 'seconds.')\n",
        "print('The number of columns in the MDM:')\n",
        "print(len(M[0]))\n",
        "print('The number of rows in the MDM:')\n",
        "print(len(M))"
      ],
      "execution_count": null,
      "outputs": [
        {
          "output_type": "stream",
          "text": [
            "It took 72.13360905647278 seconds.\n",
            "The number of columns in the MDM:\n",
            "2123776\n",
            "The number of rows in the MDM:\n",
            "2080\n"
          ],
          "name": "stdout"
        }
      ]
    },
    "id": "R_0g-e9rGkC-",
    "outputId": "13312f5d-6dae-42e1-966a-da3558041ad8"
   },
   "outputs": [
    {
      "cell_type": "code",
      "metadata": {
        "colab": {
          "base_uri": "https://localhost:8080/"
        },
        "id": "e2ohZUMdGe1W",
        "outputId": "e8894d57-72a9-44d5-ef27-ef2fd72979c4"
      },
      "source": [
        "def RowSymmetry(inte):#Takes a row as input\n",
        "                      #Returns the symmetric row\n",
        "    \n",
        "    c=IntToList(inte,4,6)\n",
        "    c=[c[1],c[0],c[3],c[2],c[5],c[4]]\n",
        "    c=ListToInt(c,4)\n",
        "    \n",
        "    return c\n",
        "\n",
        "\n",
        "def b(Data):#Creates the b vector by removing the symmetrical rows and using the input data with the correct multiplications of the probabilities.\n",
        "    \n",
        "    Checklist=[0 for i in range(4**6)]\n",
        "    i=0\n",
        "    b=[]\n",
        "    while i in range(len(Checklist)):\n",
        "        \n",
        "        if Checklist[i] == 0:\n",
        "            \n",
        "            R=RowSymmetry(i)\n",
        "            \n",
        "            c=IntToList(i,4,6)\n",
        "            c1=[c[0],c[2],c[4]]\n",
        "            c1=ListToInt(c1,4)\n",
        "            c2=[c[1],c[3],c[5]]\n",
        "            c2=ListToInt(c2,4)\n",
        "            \n",
        "            c3=Data[c1]*Data[c2]\n",
        "            \n",
        "            b.append(c3)\n",
        "            Checklist[R]=1\n",
        "            \n",
        "        i=i+1\n",
        "    \n",
        "    b=array([b]).T\n",
        "    \n",
        "    return b\n",
        "Data=[0.12199995751046305, 0.0022969343799089472, 0.001748319476328954, 3.999015242496535e-05, 0.028907881434196828, 0.0005736087488455967, 0.0003924033706699725, 1.1247230369521505e-05, 0.0030142577390317635, 0.09234476010282468, 4.373922921480586e-05, 0.0014533921021948346, 0.0007798079722868244, 0.024091567451515063, 1.1247230369521505e-05, 0.0003849052170902915, 0.020774884184769502, 0.000396152447459813, 0.0003049249122403608, 4.998769053120669e-06, 0.10820335492385, 0.0020794879260981982, 0.0015546171755205281, 2.4993845265603346e-05, 0.0006260958239033638, 0.020273757587194154, 7.498153579681003e-06, 0.0003374169110856452, 0.0028942872817568676, 0.08976414557915113, 2.624353752888351e-05, 0.0012984302615480939, 0.002370666223442477, 4.7488306004646356e-05, 0.0999928767540993, 0.001957018084296742, 0.0006198473625869629, 8.747845842961171e-06, 0.02636975644747481, 0.0005198719815245496, 1.4996307159362007e-05, 0.000403650601039494, 0.0005498645958432735, 0.017359475229224805, 7.123245900696953e-05, 0.002346922070440154, 0.0033754188031197316, 0.10295964618712641, 0.00038740460161685187, 7.498153579681003e-06, 0.01608353942841575, 0.000306174604503641, 0.0021319750011559654, 4.248953695152569e-05, 0.09107007399427891, 0.001860791780024169, 5.998522863744803e-05, 0.0018395470115484063, 0.002570616985567304, 0.0766411271224461, 1.874538394920251e-05, 0.00048238121362614454, 0.0006410921310627258, 0.020223769896662948]\n",
        "start = time.time()\n",
        "b=b(Data)\n",
        "print('It took', time.time()-start, 'seconds.')\n",
        "print('The length of the vector b is:')\n",
        "print(len(b))"
      ],
      "execution_count": null,
      "outputs": [
        {
          "output_type": "stream",
          "text": [
            "It took 0.026355266571044922 seconds.\n",
            "The length of the vector b is:\n",
            "2080\n"
          ],
          "name": "stdout"
        }
      ]
    },
    {
      "cell_type": "code",
      "metadata": {
        "colab": {
          "base_uri": "https://localhost:8080/"
        },
        "id": "R_0g-e9rGkC-",
        "outputId": "13312f5d-6dae-42e1-966a-da3558041ad8"
      },
      "source": [
        "def scipy_sparse_to_spmatrix(A):#Turns a scipy sparse array into a cvxopt sparse array\n",
        "    coo = A.tocoo()\n",
        "    SP = spmatrix(coo.data.tolist(), coo.row.tolist(), coo.col.tolist(), size=A.shape, tc='d')\n",
        "    return SP\n",
        "\n",
        "S1=len(M[0])#The number of columns in the MDM\n",
        "S2=len(M)#The number of rows in the MDM\n",
        "\n",
        "M=-1*M#Takes the negative of all elements in the MDM\n",
        "A=transpose(M)#Takes the transpose of the MDM \n",
        "A=coo_matrix(A)#Turns the MDM back into a coo_matrix\n",
        "c=b#sets the vector b as the objective function\n",
        "z=zeros((S1,1))#creates the right hand sides of the constraints concerning the linear program\n",
        "z=vstack((z,array([1])))#adds the extra condition's right hand side to the constraints\n",
        "f=ones((1,S2))#creates an extra row for the updated MDM to add the extra condition\n",
        "f=coo_matrix(f)#turns the extra row to a coo_matrix\n",
        "\n",
        "A=svstack([A,f])#adds the extra constraint to the matrix\n",
        "\n",
        "\n",
        "A=scipy_sparse_to_spmatrix(A)#turns the scipy matrix to cvxopt matrix\n",
        "c=matrix(c)#turns numpy array to dense cvxopt matrix\n",
        "z=matrix(z)\n",
        "\n",
        "\n",
        "sol=solvers.lp(c,A,z, solver='mosek')#solves the lp"
      ],
      "execution_count": null,
      "outputs": [
        {
          "output_type": "stream",
          "text": [
            "Problem\n",
            "  Name                   :                 \n",
            "  Objective sense        : min             \n",
            "  Type                   : LO (linear optimization problem)\n",
            "  Constraints            : 2123777         \n",
            "  Cones                  : 0               \n",
            "  Scalar variables       : 2080            \n",
            "  Matrix variables       : 0               \n",
            "  Integer variables      : 0               \n",
            "\n",
            "Optimizer started.\n",
            "Presolve started.\n",
            "Linear dependency checker started.\n",
            "Linear dependency checker terminated.\n",
            "Eliminator started.\n",
            "Freed constraints in eliminator : 0\n",
            "Eliminator terminated.\n",
            "Eliminator - tries                  : 1                 time                   : 0.00            \n",
            "Lin. dep.  - tries                  : 1                 time                   : 0.36            \n",
            "Lin. dep.  - number                 : 0               \n",
            "Presolve terminated. Time: 1.86    \n",
            "Problem\n",
            "  Name                   :                 \n",
            "  Objective sense        : min             \n",
            "  Type                   : LO (linear optimization problem)\n",
            "  Constraints            : 2123777         \n",
            "  Cones                  : 0               \n",
            "  Scalar variables       : 2080            \n",
            "  Matrix variables       : 0               \n",
            "  Integer variables      : 0               \n",
            "\n",
            "Optimizer  - threads                : 8               \n",
            "Optimizer  - solved problem         : the dual        \n",
            "Optimizer  - Constraints            : 2016\n",
            "Optimizer  - Cones                  : 0\n",
            "Optimizer  - Scalar variables       : 1682065           conic                  : 0               \n",
            "Optimizer  - Semi-definite variables: 0                 scalarized             : 0               \n",
            "Factor     - setup time             : 1.01              dense det. time        : 0.00            \n",
            "Factor     - ML order time          : 0.06              GP order time          : 0.00            \n",
            "Factor     - nonzeros before factor : 2.03e+06          after factor           : 2.03e+06        \n",
            "Factor     - dense dim.             : 0                 flops                  : 2.77e+09        \n",
            "ITE PFEAS    DFEAS    GFEAS    PRSTATUS   POBJ              DOBJ              MU       TIME  \n",
            "0   1.6e+00  6.4e+03  3.8e+00  0.00e+00   0.000000000e+00   -1.414213562e+00  2.4e+00  3.90  \n",
            "1   1.5e-01  6.3e+02  3.7e-01  3.28e+02   2.841619979e-06   -8.532394075e-09  2.4e-01  4.42  \n",
            "2   5.2e-02  2.1e+02  1.3e-01  1.23e+00   1.492590300e-06   -9.933329883e-09  8.1e-02  4.88  \n",
            "3   1.5e-02  6.2e+01  3.7e-02  9.94e-01   9.238153056e-07   -4.271971908e-09  2.4e-02  5.49  \n",
            "4   6.9e-03  2.8e+01  1.7e-02  1.03e+00   5.162527084e-07   -1.835509116e-09  1.1e-02  5.92  \n",
            "5   4.0e-03  1.6e+01  9.6e-03  8.10e-01   3.722841357e-07   -1.540084074e-09  6.2e-03  6.41  \n",
            "6   1.0e-03  4.2e+00  2.5e-03  5.81e-01   1.710643047e-07   -1.515953135e-09  1.6e-03  6.90  \n",
            "7   2.0e-04  8.0e-01  4.7e-04  -1.80e-01  -2.245640769e-07  -4.473705897e-09  3.1e-04  7.26  \n",
            "8   4.8e-05  2.0e-01  1.2e-04  -7.82e-01  -1.630222435e-06  -4.126196097e-08  7.5e-05  7.63  \n",
            "9   3.4e-05  1.4e-01  8.3e-05  8.44e-01   -4.552449298e-06  -3.907028305e-06  5.3e-05  8.15  \n",
            "10  2.8e-05  1.1e-01  6.8e-05  3.57e-01   -6.058935390e-06  -5.543094364e-06  4.4e-05  8.45  \n",
            "11  5.0e-06  2.1e-02  1.2e-05  5.11e-01   -1.246348992e-05  -1.241218620e-05  7.9e-06  9.32  \n",
            "12  4.3e-06  1.7e-02  1.0e-05  8.83e-01   -1.435935959e-05  -1.431637145e-05  6.7e-06  9.83  \n",
            "13  3.4e-06  1.4e-02  8.2e-06  8.97e-01   -1.677125975e-05  -1.673830952e-05  5.3e-06  10.40 \n",
            "14  2.9e-06  1.2e-02  7.1e-06  9.16e-01   -1.814830592e-05  -1.812036768e-05  4.6e-06  10.99 \n",
            "15  2.0e-06  8.0e-03  4.7e-06  9.27e-01   -2.125615479e-05  -2.123900249e-05  3.0e-06  11.61 \n",
            "16  1.6e-06  6.5e-03  3.8e-06  9.52e-01   -2.269470636e-05  -2.268119432e-05  2.5e-06  12.04 \n",
            "17  1.3e-06  5.3e-03  3.2e-06  9.62e-01   -2.389719300e-05  -2.388649190e-05  2.0e-06  12.51 \n",
            "18  1.1e-06  4.6e-03  2.7e-06  9.69e-01   -2.472058567e-05  -2.471162262e-05  1.8e-06  12.92 \n",
            "19  1.1e-06  4.5e-03  2.7e-06  9.74e-01   -2.480901772e-05  -2.480023055e-05  1.7e-06  13.24 \n",
            "20  1.0e-06  4.2e-03  2.5e-06  9.74e-01   -2.520246033e-05  -2.519442439e-05  1.6e-06  13.58 \n",
            "21  8.6e-07  3.5e-03  2.1e-06  9.76e-01   -2.600228381e-05  -2.599576100e-05  1.3e-06  14.07 \n",
            "22  6.2e-07  2.5e-03  1.5e-06  9.80e-01   -2.724540300e-05  -2.724102262e-05  9.6e-07  14.42 \n",
            "23  4.6e-07  1.9e-03  1.1e-06  9.85e-01   -2.809701303e-05  -2.809394822e-05  7.2e-07  14.75 \n",
            "24  2.0e-07  8.0e-04  4.8e-07  9.89e-01   -2.962027389e-05  -2.961934202e-05  3.1e-07  15.13 \n",
            "25  1.1e-07  4.5e-04  2.7e-07  9.95e-01   -3.014760913e-05  -3.014718972e-05  1.7e-07  15.51 \n",
            "26  7.9e-08  3.2e-04  1.9e-07  9.97e-01   -3.034705592e-05  -3.034679437e-05  1.2e-07  15.89 \n",
            "27  5.9e-08  2.4e-04  1.4e-07  9.98e-01   -3.046899404e-05  -3.046881712e-05  9.3e-08  16.20 \n",
            "28  4.9e-09  2.0e-05  1.2e-08  9.99e-01   -3.081956747e-05  -3.081959902e-05  7.6e-09  17.00 \n",
            "29  9.1e-10  3.7e-06  2.2e-09  1.00e+00   -3.085422937e-05  -3.085423528e-05  1.4e-09  17.89 \n",
            "30  6.5e-10  2.7e-06  1.6e-09  1.00e+00   -3.085646803e-05  -3.085647226e-05  1.0e-09  18.20 \n",
            "31  6.2e-10  2.5e-06  1.5e-09  1.00e+00   -3.085667675e-05  -3.085668082e-05  9.7e-10  18.51 \n",
            "32  5.5e-10  2.2e-06  1.3e-09  1.00e+00   -3.085732366e-05  -3.085732722e-05  8.5e-10  18.86 \n",
            "33  3.6e-10  1.5e-06  8.7e-10  1.00e+00   -3.085894566e-05  -3.085894801e-05  5.6e-10  19.17 \n",
            "34  6.0e-11  2.4e-07  1.4e-10  1.00e+00   -3.086157614e-05  -3.086157653e-05  9.3e-11  19.71 \n",
            "35  6.9e-12  3.7e-08  3.4e-11  1.00e+00   -3.086204624e-05  -3.086204633e-05  1.1e-11  20.14 \n",
            "Basis identification started.\n",
            "Primal basis identification phase started.\n",
            "Primal basis identification phase terminated. Time: 38.57\n",
            "Dual basis identification phase started.\n",
            "Dual basis identification phase terminated. Time: 0.03\n",
            "Basis identification terminated. Time: 39.06\n",
            "Optimizer terminated. Time: 59.75   \n",
            "\n",
            "\n",
            "Interior-point solution summary\n",
            "  Problem status  : PRIMAL_AND_DUAL_FEASIBLE\n",
            "  Solution status : OPTIMAL\n",
            "  Primal.  obj: -3.0862046242e-05   nrm: 1e+00    Viol.  con: 2e-14    var: 0e+00  \n",
            "  Dual.    obj: -3.0862046335e-05   nrm: 1e-02    Viol.  con: 0e+00    var: 5e-20  \n",
            "\n",
            "Basic solution summary\n",
            "  Problem status  : PRIMAL_AND_DUAL_FEASIBLE\n",
            "  Solution status : OPTIMAL\n",
            "  Primal.  obj: -3.0862108414e-05   nrm: 1e+00    Viol.  con: 3e-15    var: 0e+00  \n",
            "  Dual.    obj: -3.0862108414e-05   nrm: 1e-02    Viol.  con: 1e-06    var: 2e-06  \n"
          ],
          "name": "stdout"
        }
      ]
    },
    {
      "cell_type": "code",
      "metadata": {
        "colab": {
          "base_uri": "https://localhost:8080/"
        },
        "id": "Ppr_30gTTUS-",
        "outputId": "55cfa6ca-c341-41fa-b6d0-171b27cc511f"
      },
      "source": [
        "from numpy import *\n",
        "from itertools import *\n",
        "import time\n",
        "from scipy.sparse import coo_matrix\n",
        "from scipy.sparse import csc_matrix\n",
        "from scipy.sparse import csr_matrix\n",
        "from scipy.sparse import hstack as shstack\n",
        "from scipy.sparse import vstack as svstack\n",
        "from cvxopt import matrix, solvers, sparse, spmatrix\n",
        "\n",
        "def IntToList(inte, base, leng):\n",
        "    \n",
        "    List=[int(i) for i in base_repr(inte, base)]\n",
        "    \n",
        "    if len(List)<leng:\n",
        "        \n",
        "        l=[0 for i in range(leng-len(List))]\n",
        "        l.extend(List)\n",
        "        List=l\n",
        "        \n",
        "    return List\n",
        "        \n",
        "def ListToInt(List, Base):\n",
        "    \n",
        "    L=list(List)\n",
        "    r = str(\"\".join([str(i) for i in L]))\n",
        "    inte = int(r, base = Base)\n",
        "    \n",
        "    return inte\n",
        "\n",
        "\n",
        "def IntToArrayCol(ar):\n",
        "    \n",
        "    a=ar\n",
        "    a=a.astype('uint16')\n",
        "    a=a.view(uint8)\n",
        "    a=unpackbits(a,count=10,axis=1, bitorder='little')\n",
        "    \n",
        "    return a\n",
        "\n",
        "def ArrayToIntCol(matrix):\n",
        "\n",
        "    A=matrix\n",
        "    A=concatenate((A, zeros((len(A),6),dtype=uint16)), axis=1)\n",
        "    A=A.reshape(-1,2, 8)\n",
        "    A=packbits(A,bitorder='little').view(uint16)\n",
        "    A=array([A]).T\n",
        "    \n",
        "    return A\n",
        "\n",
        "def ArrayToIntRow(matrix):\n",
        "    \n",
        "    A=matrix\n",
        "    A=concatenate((A, zeros((len(A),2),dtype=uint8)), axis=1)\n",
        "    A=packbits(A,bitorder='little')\n",
        "    \n",
        "    return A\n",
        "\n",
        "def Symmetry_Op(operation, ar):#Takes the exchange opration of copy latent variables and the values of the observable variables as input \n",
        "                                #Returns the corresponding observable values for the resultant identical probability \n",
        "    \n",
        "    # The list of variables is of the form: [B4,B3,B2,B1,A4,A3,A2,A1,X2,X1] (reverse because of the 'little bit ordering')\n",
        "    \n",
        "    A=IntToArrayCol(ar)\n",
        "    \n",
        "    if operation == 'L1_L2':\n",
        "        \n",
        "        A[:,[5,7]] = A[:,[7,5]] #A1 -- A3\n",
        "        A[:,[1,3]] = A[:,[3,1]] #B1 -- B3\n",
        "        \n",
        "        A=ArrayToIntCol(A)\n",
        "    \n",
        "        return A\n",
        "        \n",
        "    elif operation == 'X1_X2':\n",
        "        \n",
        "        A[:,[6,7]] = A[:,[7,6]] #A1 -- A2\n",
        "        A[:,[4,5]] = A[:,[5,4]] #A3 -- A4\n",
        "        A[:,[2,3]] = A[:,[3,2]] #B1 -- B2\n",
        "        A[:,[0,1]] = A[:,[1,0]] #B3 -- B4\n",
        "        A[:,[8,9]] = A[:,[9,8]] #X1 -- X2\n",
        "        \n",
        "        A=ArrayToIntCol(A)\n",
        "        \n",
        "        return A\n",
        "    \n",
        "    else:\n",
        "        print('Error: Enter a valid operation.')\n",
        "        \n",
        "def Symmetric_Arrays(Op_list, ar):#Takes a list of laten variable copy index exchange operations and the values of the observable variables as input as input \n",
        "                                     #Returns all configurations of observable variable values that have identical probabilities in the form of a list\n",
        "    A=ar\n",
        "    \n",
        "    combination1=list(combinations(Op_list, 1))# A single copy index exchange operation on latent variables (X1_X2, Y1_Y2 and Z1_Z2)\n",
        "    combination2=list(combinations(Op_list, 2))\n",
        "    \n",
        "    for i in range(len(combination1)):#Lists the configurations of observable variable values that have identical probabilities for a single exchange\n",
        "        \n",
        "        A=hstack((A,Symmetry_Op(combination1[i][0],ar)))\n",
        "    \n",
        "    for i in range(len(combination2)):\n",
        "\n",
        "        ar1=Symmetry_Op(combination2[i][0],ar)\n",
        "        A=hstack((A,Symmetry_Op(combination2[i][1],ar1)))\n",
        "    \n",
        "        \n",
        "    return A\n",
        "\n",
        "def DetAs(ar):\n",
        "    \n",
        "    A=IntToArrayCol(ar)#takes the vector of integers representing columns and expands every element, thus creating a matrix\n",
        "    \n",
        "    A2=A[:,6]#extracts the columns of the matrix that represent the value of the variable A2\n",
        "    A1=A[:,7]#extracts the columns of the matrix that represent the value of the variable A1\n",
        "    \n",
        "    A3=A[:,5]#extracts the columns of the matrix that represent the value of the variable A3\n",
        "    A4=A[:,4]#extracts the columns of the matrix that represent the value of the variable A4\n",
        "\n",
        "    a=where(A1 == A2)#finds the indecies where the values of A1 and A2 are equal\n",
        "    a0=where(A3 == A4)#finds the indecies where the values of A3 and A4 are equal\n",
        "    \n",
        "    a1=A[list(a[0]),:]#extracts the rows with these indecies from the original matrix (1,2 case)\n",
        "    a2=A[list(a0[0]),:]#extracts the rows with these indecies from the original matrix (3,4 case)\n",
        "\n",
        "    b2=a1[:,2]#extracts the column representing B2\n",
        "    b1=a1[:,3]#extracts the column representing B1\n",
        "\n",
        "    b4=a1[:,0]#extracts the column representing B4\n",
        "    b3=a1[:,1]#extracts the column representing B3\n",
        "    \n",
        "    b=where(b2 != b1)#finds the indecies of the rows where the values of B1 and B2 are different\n",
        "    b0=where(b4 != b3)#finds the indecies of the rows where the values of B3 and B4 are different\n",
        "    \n",
        "    a1=a1[list(b[0]),:]#extracts the rows from the matrix (1,2 case)\n",
        "    a2=a2[list(b0[0]),:]#extracts the rows from the matrix (3,4 case)\n",
        "\n",
        "    a1=ArrayToIntCol(a1)#Turns the rows back into integers (1,2 case)\n",
        "    a2=ArrayToIntCol(a2)#Turns the rows back into integers (3,4 case)\n",
        "    \n",
        "    a1=a1.T\n",
        "    a2=a2.T\n",
        "    \n",
        "    a1=list(a1[0])\n",
        "    a2=list(a2[0])\n",
        "    a1.extend(a2)#combines the list of elements to be removed from the input array\n",
        "    A=ArrayToIntCol(A)\n",
        "    A=delete(A,a1,0)#removes these elements from the input array\n",
        "    \n",
        "    return A\n",
        "\n",
        "\n",
        "def CorRows(ar):\n",
        "    \n",
        "    A=IntToArrayCol(ar)\n",
        "    \n",
        "    A1=A[:,[9,8,7,4,3,0]]\n",
        "    \n",
        "    A1=ArrayToIntRow(A1)\n",
        "    \n",
        "    A=A[:,[8,9,4,7,0,3]]\n",
        "\n",
        "    A=ArrayToIntRow(A)\n",
        "    A=vstack((A,A1))\n",
        "    A=amin(A,axis=0)\n",
        "    \n",
        "    return A\n",
        "\n",
        "def NewCols(ar):\n",
        "    \n",
        "    Op_list=['X1_X2','L1_L2']\n",
        "    \n",
        "    A=Symmetric_Arrays(Op_list, ar)\n",
        "    \n",
        "    A=amin(A,axis=1)\n",
        "    \n",
        "    return A\n",
        "\n",
        "def remove_zero_rows(M):\n",
        "  M = csr_matrix(M)\n",
        "  num_nonzeros = diff(M.indptr)\n",
        "  return M[num_nonzeros != 0]\n",
        "\n",
        "def drop_zero_columns(m):\n",
        "    \n",
        "    nz_cols, new_col = unique(m.col, return_inverse=True)\n",
        "    m.col[:] = new_col\n",
        "    m._shape = (m.shape[0], len(nz_cols))\n",
        "\n",
        "    return m\n",
        "\n",
        "def MDM():\n",
        "        \n",
        "    ar=array([arange(2**10)]).T\n",
        "    \n",
        "    ar=DetAs(ar)\n",
        "    Rows=CorRows(ar)\n",
        "    Columns=NewCols(ar)\n",
        "        \n",
        "    data=[1 for i in range(len(Rows))]\n",
        "    \n",
        "    m = coo_matrix((data, (Rows, Columns)),dtype=uint8)\n",
        "    M=drop_zero_columns(m)\n",
        "    M=remove_zero_rows(M)\n",
        "    M = M.toarray()\n",
        "    \n",
        "    return M\n",
        "\n",
        "def RowSymmetry(inte):#Takes a row as input\n",
        "                      #Returns the symmetric row\n",
        "    \n",
        "    c=IntToList(inte,2,6)\n",
        "    c=[c[1],c[0],c[3],c[2],c[5],c[4]]\n",
        "    c=ListToInt(c,2)\n",
        "    \n",
        "    return c\n",
        "\n",
        "\n",
        "def b(Data):#Creates the row list (Rows) by removing the symmetrical rows\n",
        "                  #Returns the configuration of a row specified by the input integer\n",
        "    \n",
        "    Checklist=[0 for i in range(2**6)]\n",
        "    i=0\n",
        "    b=[]\n",
        "    while i in range(len(Checklist)):\n",
        "        \n",
        "        if Checklist[i] == 0:\n",
        "            \n",
        "            R=RowSymmetry(i)\n",
        "            \n",
        "            c=IntToList(i,4,6)\n",
        "            c1=[c[0],c[2],c[4]]\n",
        "            c1=ListToInt(c1,4)\n",
        "            c2=[c[1],c[3],c[5]]\n",
        "            c2=ListToInt(c2,4)\n",
        "            \n",
        "            c3=Data[c1]*Data[c2]\n",
        "            \n",
        "            b.append(c3)\n",
        "            Checklist[R]=1\n",
        "            \n",
        "        i=i+1\n",
        "    \n",
        "    b=array([b]).T\n",
        "    \n",
        "    return b\n",
        "    \n",
        "def scipy_sparse_to_spmatrix(A):\n",
        "    coo = A.tocoo()\n",
        "    SP = spmatrix(coo.data.tolist(), coo.row.tolist(), coo.col.tolist(), size=A.shape, tc='d')\n",
        "    return SP\n",
        "\n",
        "\n",
        "ar=array([arange(2**10)]).T\n",
        "    \n",
        "Data=[0.12199995751046305, 0.0022969343799089472, 0.001748319476328954, 3.999015242496535e-05, 0.028907881434196828, 0.0005736087488455967, 0.0003924033706699725, 1.1247230369521505e-05, 0.0030142577390317635, 0.09234476010282468, 4.373922921480586e-05, 0.0014533921021948346, 0.0007798079722868244, 0.024091567451515063, 1.1247230369521505e-05, 0.0003849052170902915, 0.020774884184769502, 0.000396152447459813, 0.0003049249122403608, 4.998769053120669e-06, 0.10820335492385, 0.0020794879260981982, 0.0015546171755205281, 2.4993845265603346e-05, 0.0006260958239033638, 0.020273757587194154, 7.498153579681003e-06, 0.0003374169110856452, 0.0028942872817568676, 0.08976414557915113, 2.624353752888351e-05, 0.0012984302615480939, 0.002370666223442477, 4.7488306004646356e-05, 0.0999928767540993, 0.001957018084296742, 0.0006198473625869629, 8.747845842961171e-06, 0.02636975644747481, 0.0005198719815245496, 1.4996307159362007e-05, 0.000403650601039494, 0.0005498645958432735, 0.017359475229224805, 7.123245900696953e-05, 0.002346922070440154, 0.0033754188031197316, 0.10295964618712641, 0.00038740460161685187, 7.498153579681003e-06, 0.01608353942841575, 0.000306174604503641, 0.0021319750011559654, 4.248953695152569e-05, 0.09107007399427891, 0.001860791780024169, 5.998522863744803e-05, 0.0018395470115484063, 0.002570616985567304, 0.0766411271224461, 1.874538394920251e-05, 0.00048238121362614454, 0.0006410921310627258, 0.020223769896662948]\n",
        "\n",
        "\n",
        "\n",
        "start = time.time()\n",
        "M=MDM()\n",
        "print('It took', time.time()-start, 'seconds.')\n",
        "print('The number of columns in the MDM:')\n",
        "print(len(M[0]))\n",
        "print('The number of rows in the MDM:')\n",
        "print(len(M))\n",
        "S1=len(M[0])\n",
        "S2=len(M)\n",
        "\n",
        "\n",
        "start = time.time()\n",
        "b=b(Data)\n",
        "print('It took', time.time()-start, 'seconds.')\n",
        "print('Length of the vector b:')\n",
        "print(len(b))\n",
        "\n",
        "M=-1*M\n",
        "A=transpose(M)\n",
        "A=coo_matrix(A)\n",
        "c=b\n",
        "z=zeros((S1,1))\n",
        "z=vstack((z,array([1])))\n",
        "f=ones((1,S2))\n",
        "f=coo_matrix(f)\n",
        "A=svstack([A,f])\n",
        "c=matrix(c)\n",
        "z=matrix(z)\n",
        "\n",
        "\n",
        "A=scipy_sparse_to_spmatrix(A)\n",
        "c=matrix(c)\n",
        "z=matrix(z)\n",
        "\n",
        "sol=solvers.lp(c,A,z, solver='mosek')"
      ],
      "execution_count": null,
      "outputs": [
        {
          "output_type": "stream",
          "text": [
            "It took 0.0029120445251464844 seconds.\n",
            "The number of columns in the MDM:\n",
            "256\n",
            "The number of rows in the MDM:\n",
            "36\n",
            "It took 0.0005650520324707031 seconds.\n",
            "Length of the vector b:\n",
            "36\n",
            "Problem\n",
            "  Name                   :                 \n",
            "  Objective sense        : min             \n",
            "  Type                   : LO (linear optimization problem)\n",
            "  Constraints            : 257             \n",
            "  Cones                  : 0               \n",
            "  Scalar variables       : 36              \n",
            "  Matrix variables       : 0               \n",
            "  Integer variables      : 0               \n",
            "\n",
            "Optimizer started.\n",
            "Presolve started.\n",
            "Linear dependency checker started.\n",
            "Linear dependency checker terminated.\n",
            "Eliminator started.\n",
            "Freed constraints in eliminator : 4\n",
            "Eliminator terminated.\n",
            "Eliminator - tries                  : 1                 time                   : 0.00            \n",
            "Lin. dep.  - tries                  : 1                 time                   : 0.00            \n",
            "Lin. dep.  - number                 : 0               \n",
            "Presolve terminated. Time: 0.00    \n",
            "Problem\n",
            "  Name                   :                 \n",
            "  Objective sense        : min             \n",
            "  Type                   : LO (linear optimization problem)\n",
            "  Constraints            : 257             \n",
            "  Cones                  : 0               \n",
            "  Scalar variables       : 36              \n",
            "  Matrix variables       : 0               \n",
            "  Integer variables      : 0               \n",
            "\n",
            "Optimizer  - threads                : 8               \n",
            "Optimizer  - solved problem         : the dual        \n",
            "Optimizer  - Constraints            : 16\n",
            "Optimizer  - Cones                  : 0\n",
            "Optimizer  - Scalar variables       : 43                conic                  : 0               \n",
            "Optimizer  - Semi-definite variables: 0                 scalarized             : 0               \n",
            "Factor     - setup time             : 0.00              dense det. time        : 0.00            \n",
            "Factor     - ML order time          : 0.00              GP order time          : 0.00            \n",
            "Factor     - nonzeros before factor : 135               after factor           : 136             \n",
            "Factor     - dense dim.             : 0                 flops                  : 2.17e+03        \n",
            "ITE PFEAS    DFEAS    GFEAS    PRSTATUS   POBJ              DOBJ              MU       TIME  \n",
            "0   1.4e+00  1.1e+01  2.8e+00  0.00e+00   0.000000000e+00   -1.000000000e+00  2.0e+00  0.01  \n",
            "1   6.0e-01  4.8e+00  1.2e+00  4.33e+00   1.210112583e-04   -2.050896776e-01  8.4e-01  0.02  \n",
            "2   1.7e-02  1.3e-01  3.4e-02  3.26e+00   1.831623944e-04   -2.198259922e-03  2.4e-02  0.02  \n",
            "3   4.3e-04  3.5e-03  8.6e-04  1.01e+00   1.813155925e-05   -5.324324860e-05  6.1e-04  0.03  \n",
            "4   4.5e-05  3.6e-04  9.1e-05  1.03e+00   4.417880279e-06   -2.893726251e-06  6.4e-05  0.03  \n",
            "5   1.1e-05  8.7e-05  2.2e-05  1.10e+00   1.192447001e-06   -4.880586447e-07  1.5e-05  0.03  \n",
            "6   1.6e-06  1.3e-05  3.2e-06  1.16e+00   2.035348283e-07   -4.208608200e-09  2.2e-06  0.03  \n",
            "7   7.7e-08  6.2e-07  1.5e-07  1.40e+00   6.843684256e-09   -1.138459152e-09  1.1e-07  0.03  \n",
            "8   9.5e-09  7.6e-08  1.9e-08  1.66e+00   5.465250250e-10   -1.253096964e-10  1.3e-08  0.03  \n",
            "9   3.0e-11  2.4e-10  6.0e-11  1.20e+00   6.170759262e-13   -1.324333112e-12  4.3e-11  0.03  \n",
            "10  7.1e-15  4.8e-14  1.2e-14  1.00e+00   1.234722771e-16   -2.648318924e-16  8.6e-15  0.03  \n",
            "Basis identification started.\n",
            "Primal basis identification phase started.\n",
            "Primal basis identification phase terminated. Time: 0.00\n",
            "Dual basis identification phase started.\n",
            "Dual basis identification phase terminated. Time: 0.00\n",
            "Basis identification terminated. Time: 0.00\n",
            "Optimizer terminated. Time: 0.04    \n",
            "\n",
            "\n",
            "Interior-point solution summary\n",
            "  Problem status  : PRIMAL_AND_DUAL_FEASIBLE\n",
            "  Solution status : OPTIMAL\n",
            "  Primal.  obj: 1.2347227712e-16    nrm: 4e-09    Viol.  con: 4e-16    var: 0e+00  \n",
            "  Dual.    obj: -2.6483189237e-16   nrm: 1e-02    Viol.  con: 2e-15    var: 3e-15  \n",
            "\n",
            "Basic solution summary\n",
            "  Problem status  : PRIMAL_AND_DUAL_FEASIBLE\n",
            "  Solution status : OPTIMAL\n",
            "  Primal.  obj: -2.4666916117e-17   nrm: 4e-09    Viol.  con: 4e-09    var: 0e+00  \n",
            "  Dual.    obj: 0.0000000000e+00    nrm: 1e-02    Viol.  con: 0e+00    var: 0e+00  \n"
          ],
          "name": "stdout"
        }
      ]
    }
   ],
   "source": [
    "def scipy_sparse_to_spmatrix(A):#Turns a scipy sparse array into a cvxopt sparse array\n",
    "    coo = A.tocoo()\n",
    "    SP = spmatrix(coo.data.tolist(), coo.row.tolist(), coo.col.tolist(), size=A.shape, tc='d')\n",
    "    return SP\n",
    "\n",
    "S1=len(M[0])\n",
    "S2=len(M)\n",
    "\n",
    "M=-1*M\n",
    "A=transpose(M)\n",
    "A=coo_matrix(A)\n",
    "c=b\n",
    "z=zeros((S1,1))\n",
    "z=vstack((z,array([1])))\n",
    "f=ones((1,S2))\n",
    "f=coo_matrix(f)\n",
    "\n",
    "A=svstack([A,f])\n",
    "\n",
    "\n",
    "A=scipy_sparse_to_spmatrix(A)\n",
    "c=matrix(c)\n",
    "z=matrix(z)\n",
    "\n",
    "\n",
    "sol=solvers.lp(c,A,z, solver='mosek')"
   ]
  }
 ],
 "metadata": {
  "colab": {
   "collapsed_sections": [],
   "include_colab_link": true,
   "name": "Inflation Technique.ipynb",
   "provenance": []
  },
  "kernelspec": {
   "display_name": "Python 3",
   "language": "python",
   "name": "python3"
  },
  "language_info": {
   "codemirror_mode": {
    "name": "ipython",
    "version": 3
   },
   "file_extension": ".py",
   "mimetype": "text/x-python",
   "name": "python",
   "nbconvert_exporter": "python",
   "pygments_lexer": "ipython3",
   "version": "3.7.7"
  }
 },
 "nbformat": 4,
 "nbformat_minor": 4
}
