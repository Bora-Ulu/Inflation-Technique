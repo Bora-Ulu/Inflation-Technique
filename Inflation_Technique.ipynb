{
  "nbformat": 4,
  "nbformat_minor": 0,
  "metadata": {
    "colab": {
      "name": "Inflation Technique.ipynb",
      "provenance": [],
      "collapsed_sections": [],
      "include_colab_link": true
    },
    "kernelspec": {
      "name": "python3",
      "display_name": "Python 3"
    }
  },
  "cells": [
    {
      "cell_type": "markdown",
      "metadata": {
        "id": "view-in-github",
        "colab_type": "text"
      },
      "source": [
        "<a href=\"https://colab.research.google.com/github/Bora-Ulu/Inflation-Technique/blob/main/Inflation_Technique.ipynb\" target=\"_parent\"><img src=\"https://colab.research.google.com/assets/colab-badge.svg\" alt=\"Open In Colab\"/></a>"
      ]
    },
    {
      "cell_type": "code",
      "metadata": {
        "id": "DFJJdFsS0RDX",
        "colab": {
          "base_uri": "https://localhost:8080/"
        },
        "outputId": "71535368-8a9a-4ae0-b6ac-7423ef070d24"
      },
      "source": [
        "\"\"\"\n",
        "from numpy import *\n",
        "from itertools import *\n",
        "import time\n",
        "from scipy.sparse import coo_matrix\n",
        "from scipy.sparse import csc_matrix\n",
        "from scipy.sparse import csr_matrix\n",
        "from scipy.sparse import hstack as shstack\n",
        "from scipy.sparse import vstack as svstack\n",
        "from cvxopt import matrix, solvers, sparse, spmatrix\n",
        "import mosek\n",
        "\n",
        "solvers.options['mosek'] = {mosek.iparam.infeas_report_auto: mosek.onoffkey.on}\n",
        "\n",
        "def IntToList(inte, base, leng):\n",
        "    \n",
        "    List=[int(i) for i in base_repr(inte, base)]\n",
        "    \n",
        "    if len(List)<leng:\n",
        "        \n",
        "        l=[0 for i in range(leng-len(List))]\n",
        "        l.extend(List)\n",
        "        List=l\n",
        "        \n",
        "    return List\n",
        "        \n",
        "def ListToInt(List, Base):\n",
        "    \n",
        "    L=list(List)\n",
        "    r = str(\"\".join([str(i) for i in L]))\n",
        "    inte = int(r, base = Base)\n",
        "    \n",
        "    return inte\n",
        "\n",
        "\n",
        "def IntToArray32(ar):# Takes a huge column vector as input\n",
        "                     # Returns a matrix where the rows are the base-4 binary expansions of each element of the input array\n",
        "    \n",
        "    a=ar\n",
        "    a=a.astype('uint32')\n",
        "    a=a.view(uint8)\n",
        "    a=unpackbits(a,count=-8,axis=1)\n",
        "    \n",
        "    return a\n",
        "\n",
        "def ArrayToInt32(matrix):#Takes the output matrix of IntToArray32() as input\n",
        "                         #Returns the column vector with each row of the input turned into an integer \n",
        "\n",
        "    A=matrix\n",
        "    A=concatenate((A, zeros((len(A),8),dtype=uint32)), axis=1)\n",
        "    A=A.reshape(-1,4, 8)\n",
        "    A=packbits(A).view(uint32)\n",
        "    A=array([A]).T\n",
        "    \n",
        "    return A\n",
        "\n",
        "def ArrayToInt16(matrix):#Does the same as ArrayToInt16() however, this time the input has 12 binary digits that represent a 6 digit base-4 integer\n",
        "    \n",
        "    A=matrix\n",
        "    A=concatenate((A, zeros((len(A),4),dtype=uint16)), axis=1)\n",
        "    A=A.reshape(-1,2, 8)\n",
        "    A=packbits(A,bitorder='little').view(uint16)\n",
        "    #A=array([A]).T\n",
        "    \n",
        "    return A\n",
        "\n",
        "ar=array([arange(4**12)]).T\n",
        "start = time.time()\n",
        "A=IntToArray32(ar)\n",
        "print('It took', time.time()-start, 'seconds.')\n",
        "print(A[2])\n",
        "start = time.time()\n",
        "A=ArrayToInt32(A)\n",
        "print('It took', time.time()-start, 'seconds.')\n",
        "print(A[2])\n",
        "\"\"\""
      ],
      "execution_count": 70,
      "outputs": [
        {
          "output_type": "execute_result",
          "data": {
            "text/plain": [
              "'\\nfrom numpy import *\\nfrom itertools import *\\nimport time\\nfrom scipy.sparse import coo_matrix\\nfrom scipy.sparse import csc_matrix\\nfrom scipy.sparse import csr_matrix\\nfrom scipy.sparse import hstack as shstack\\nfrom scipy.sparse import vstack as svstack\\nfrom cvxopt import matrix, solvers, sparse, spmatrix\\nimport mosek\\n\\nsolvers.options[\\'mosek\\'] = {mosek.iparam.infeas_report_auto: mosek.onoffkey.on}\\n\\ndef IntToList(inte, base, leng):\\n    \\n    List=[int(i) for i in base_repr(inte, base)]\\n    \\n    if len(List)<leng:\\n        \\n        l=[0 for i in range(leng-len(List))]\\n        l.extend(List)\\n        List=l\\n        \\n    return List\\n        \\ndef ListToInt(List, Base):\\n    \\n    L=list(List)\\n    r = str(\"\".join([str(i) for i in L]))\\n    inte = int(r, base = Base)\\n    \\n    return inte\\n\\n\\ndef IntToArray32(ar):# Takes a huge column vector as input\\n                     # Returns a matrix where the rows are the base-4 binary expansions of each element of the input array\\n    \\n    a=ar\\n    a=a.astype(\\'uint32\\')\\n    a=a.view(uint8)\\n    a=unpackbits(a,count=-8,axis=1)\\n    \\n    return a\\n\\ndef ArrayToInt32(matrix):#Takes the output matrix of IntToArray32() as input\\n                         #Returns the column vector with each row of the input turned into an integer \\n\\n    A=matrix\\n    A=concatenate((A, zeros((len(A),8),dtype=uint32)), axis=1)\\n    A=A.reshape(-1,4, 8)\\n    A=packbits(A).view(uint32)\\n    A=array([A]).T\\n    \\n    return A\\n\\ndef ArrayToInt16(matrix):#Does the same as ArrayToInt16() however, this time the input has 12 binary digits that represent a 6 digit base-4 integer\\n    \\n    A=matrix\\n    A=concatenate((A, zeros((len(A),4),dtype=uint16)), axis=1)\\n    A=A.reshape(-1,2, 8)\\n    A=packbits(A,bitorder=\\'little\\').view(uint16)\\n    #A=array([A]).T\\n    \\n    return A\\n\\nar=array([arange(4**12)]).T\\nstart = time.time()\\nA=IntToArray32(ar)\\nprint(\\'It took\\', time.time()-start, \\'seconds.\\')\\nprint(A[2])\\nstart = time.time()\\nA=ArrayToInt32(A)\\nprint(\\'It took\\', time.time()-start, \\'seconds.\\')\\nprint(A[2])\\n'"
            ]
          },
          "metadata": {
            "tags": []
          },
          "execution_count": 70
        }
      ]
    },
    {
      "cell_type": "code",
      "metadata": {
        "colab": {
          "base_uri": "https://localhost:8080/"
        },
        "id": "MwN2cz2ZGBid",
        "outputId": "1db0651c-fead-4574-c44f-b07edc2d1a41"
      },
      "source": [
        "\"\"\"\n",
        "def Symmetry_Op(operation, ar):#Takes the exchange opration of copy latent variables and the values of the observable variables as input \n",
        "                                   #Returns the corresponding observable values for the resultant identical probability\n",
        "    \n",
        "    # The input list is of the form: [A1,A2,A3,A4,B1,B2,B3,B4,C1,C2,C3,C4]\n",
        "    \n",
        "    \n",
        "    \n",
        "    A=IntToArray32(ar)\n",
        "    \n",
        "    if operation == 'X1_X2': #Exchanging \\Lambda_{1}^{AB} and \\Lambda_{2}^{AB}\n",
        "        \n",
        "        A[:,[0,1,2,3]] = A[:,[2,3,0,1]] #A1 -- A2\n",
        "        A[:,[4,5,6,7]] = A[:,[6,7,4,5]] #A3 -- A4\n",
        "        A[:,[8,9,12,13]] = A[:,[12,13,8,9]] #B1 -- B3\n",
        "        A[:,[10,11,14,15]] = A[:,[14,15,10,11]] #B2 -- B4\n",
        "        \n",
        "        A=ArrayToInt32(A)\n",
        "    \n",
        "        return A\n",
        "        \n",
        "    elif operation == 'Y1_Y2': #Exchanging \\Lambda_{1}^{AC} and \\Lambda_{2}^{AC}\n",
        "        \n",
        "        A[:,[0,1,4,5]] = A[:,[4,5,0,1]] #A1 -- A3\n",
        "        A[:,[2,3,6,7]] = A[:,[6,7,2,3]] #A2 -- A4\n",
        "        A[:,[16,17,18,19]] = A[:,[18,19,16,17]] #C1 -- C2\n",
        "        A[:,[20,21,22,23]] = A[:,[22,23,20,21]] #C3 -- C4\n",
        "        \n",
        "        A=ArrayToInt32(A)\n",
        "        \n",
        "        return A\n",
        "        \n",
        "    elif operation == 'Z1_Z2': #Exchanging \\Lambda_{1}^{BC} and \\Lambda_{2}^{BC}\n",
        "        \n",
        "        A[:,[8,9,10,11]] = A[:,[10,11,8,9]] #B1 -- B2\n",
        "        A[:,[12,13,14,15]] = A[:,[14,15,12,13]] #B3 -- B4\n",
        "        A[:,[16,17,20,21]] = A[:,[20,21,16,17]]#C1 -- C3\n",
        "        A[:,[18,19,22,23]] = A[:,[22,23,18,19]] #C2 -- C1\n",
        "        \n",
        "        A=ArrayToInt32(A)\n",
        "        \n",
        "        return A\n",
        "    \n",
        "    else:\n",
        "        print('Error: Enter a valid operation.')\n",
        "start = time.time()\n",
        "A=Symmetry_Op('X1_X2',ar)\n",
        "print('It took', time.time()-start, 'seconds.')\n",
        "\"\"\""
      ],
      "execution_count": 71,
      "outputs": [
        {
          "output_type": "execute_result",
          "data": {
            "text/plain": [
              "\"\\ndef Symmetry_Op(operation, ar):#Takes the exchange opration of copy latent variables and the values of the observable variables as input \\n                                   #Returns the corresponding observable values for the resultant identical probability\\n    \\n    # The input list is of the form: [A1,A2,A3,A4,B1,B2,B3,B4,C1,C2,C3,C4]\\n    \\n    \\n    \\n    A=IntToArray32(ar)\\n    \\n    if operation == 'X1_X2': #Exchanging \\\\Lambda_{1}^{AB} and \\\\Lambda_{2}^{AB}\\n        \\n        A[:,[0,1,2,3]] = A[:,[2,3,0,1]] #A1 -- A2\\n        A[:,[4,5,6,7]] = A[:,[6,7,4,5]] #A3 -- A4\\n        A[:,[8,9,12,13]] = A[:,[12,13,8,9]] #B1 -- B3\\n        A[:,[10,11,14,15]] = A[:,[14,15,10,11]] #B2 -- B4\\n        \\n        A=ArrayToInt32(A)\\n    \\n        return A\\n        \\n    elif operation == 'Y1_Y2': #Exchanging \\\\Lambda_{1}^{AC} and \\\\Lambda_{2}^{AC}\\n        \\n        A[:,[0,1,4,5]] = A[:,[4,5,0,1]] #A1 -- A3\\n        A[:,[2,3,6,7]] = A[:,[6,7,2,3]] #A2 -- A4\\n        A[:,[16,17,18,19]] = A[:,[18,19,16,17]] #C1 -- C2\\n        A[:,[20,21,22,23]] = A[:,[22,23,20,21]] #C3 -- C4\\n        \\n        A=ArrayToInt32(A)\\n        \\n        return A\\n        \\n    elif operation == 'Z1_Z2': #Exchanging \\\\Lambda_{1}^{BC} and \\\\Lambda_{2}^{BC}\\n        \\n        A[:,[8,9,10,11]] = A[:,[10,11,8,9]] #B1 -- B2\\n        A[:,[12,13,14,15]] = A[:,[14,15,12,13]] #B3 -- B4\\n        A[:,[16,17,20,21]] = A[:,[20,21,16,17]]#C1 -- C3\\n        A[:,[18,19,22,23]] = A[:,[22,23,18,19]] #C2 -- C1\\n        \\n        A=ArrayToInt32(A)\\n        \\n        return A\\n    \\n    else:\\n        print('Error: Enter a valid operation.')\\nstart = time.time()\\nA=Symmetry_Op('X1_X2',ar)\\nprint('It took', time.time()-start, 'seconds.')\\n\""
            ]
          },
          "metadata": {
            "tags": []
          },
          "execution_count": 71
        }
      ]
    },
    {
      "cell_type": "code",
      "metadata": {
        "colab": {
          "base_uri": "https://localhost:8080/"
        },
        "id": "_n2XK5FoGI62",
        "outputId": "f92e52a5-3bd9-4d36-8c10-c00775c5d380"
      },
      "source": [
        "\"\"\"\n",
        "def Symmetric_Arrays(Op_list, ar):#Takes a list of laten variable copy index exchange operations and the values of the observable variables as input as input \n",
        "                                     #Returns all configurations of observable variable values that have identical probabilities in the form of a list\n",
        "    A=ar\n",
        "    \n",
        "    combination1=list(combinations(Op_list, 1))# A single copy index exchange operation on latent variables (X1_X2, Y1_Y2 and Z1_Z2)\n",
        "    combination2=list(combinations(Op_list, 2))\n",
        "    combination3=list(combinations(Op_list, 3))# Three copy index exchange operations on latent variables\n",
        "    \n",
        "    for i in range(len(combination1)):#Lists the configurations of observable variable values that have identical probabilities for a single exchange\n",
        "        \n",
        "        A=hstack((A,Symmetry_Op(combination1[i][0],ar)))\n",
        "    \n",
        "    for i in range(len(combination2)):\n",
        "\n",
        "        ar1=Symmetry_Op(combination2[i][0],ar)\n",
        "        A=hstack((A,Symmetry_Op(combination2[i][1],ar1)))\n",
        "\n",
        "    for i in range(len(combination3)):#Lists the configurations of observable variable values that have identical probabilities for a three exchange operations\n",
        "\n",
        "        ar1=Symmetry_Op(combination3[i][0],ar)\n",
        "        ar2=Symmetry_Op(combination3[i][1],ar1)\n",
        "        A=hstack((A,Symmetry_Op(combination3[i][2],ar2)))\n",
        "    \n",
        "        \n",
        "    return A\n",
        "Op_list=['X1_X2','Y1_Y2','Z1_Z2']\n",
        "start = time.time()\n",
        "A=Symmetric_Arrays(Op_list, ar)\n",
        "print('It took', time.time()-start, 'seconds.')\n",
        "\"\"\""
      ],
      "execution_count": 72,
      "outputs": [
        {
          "output_type": "execute_result",
          "data": {
            "text/plain": [
              "\"\\ndef Symmetric_Arrays(Op_list, ar):#Takes a list of laten variable copy index exchange operations and the values of the observable variables as input as input \\n                                     #Returns all configurations of observable variable values that have identical probabilities in the form of a list\\n    A=ar\\n    \\n    combination1=list(combinations(Op_list, 1))# A single copy index exchange operation on latent variables (X1_X2, Y1_Y2 and Z1_Z2)\\n    combination2=list(combinations(Op_list, 2))\\n    combination3=list(combinations(Op_list, 3))# Three copy index exchange operations on latent variables\\n    \\n    for i in range(len(combination1)):#Lists the configurations of observable variable values that have identical probabilities for a single exchange\\n        \\n        A=hstack((A,Symmetry_Op(combination1[i][0],ar)))\\n    \\n    for i in range(len(combination2)):\\n\\n        ar1=Symmetry_Op(combination2[i][0],ar)\\n        A=hstack((A,Symmetry_Op(combination2[i][1],ar1)))\\n\\n    for i in range(len(combination3)):#Lists the configurations of observable variable values that have identical probabilities for a three exchange operations\\n\\n        ar1=Symmetry_Op(combination3[i][0],ar)\\n        ar2=Symmetry_Op(combination3[i][1],ar1)\\n        A=hstack((A,Symmetry_Op(combination3[i][2],ar2)))\\n    \\n        \\n    return A\\nOp_list=['X1_X2','Y1_Y2','Z1_Z2']\\nstart = time.time()\\nA=Symmetric_Arrays(Op_list, ar)\\nprint('It took', time.time()-start, 'seconds.')\\n\""
            ]
          },
          "metadata": {
            "tags": []
          },
          "execution_count": 72
        }
      ]
    },
    {
      "cell_type": "code",
      "metadata": {
        "colab": {
          "base_uri": "https://localhost:8080/"
        },
        "id": "BR-pR4TnGNvB",
        "outputId": "d9dc6d97-fad4-4127-d63d-5a22be0e6f37"
      },
      "source": [
        "\"\"\"\n",
        "def CorRowsNoSymmetry(ar):\n",
        "    \n",
        "    A=IntToArray32(ar)\n",
        "    \n",
        "    #A=A[:,[0,1,6,7,8,9,14,15,16,17,22,23]]\n",
        "    A=A[:,[23,22,17,16,15,14,9,8,7,6,1,0]]\n",
        "\n",
        "    A=ArrayToInt16(A)\n",
        "    \n",
        "    return A\n",
        "\n",
        "def CorRows(ar):#Creates an array with all the rows that have a \"1\" in the corresponding column of the input array. the row symmetries are applied\n",
        "                #by choosing the row with the smaller index among the symmetric rows\n",
        "    \n",
        "    A=IntToArray32(ar)\n",
        "    \n",
        "    A1=A[:,[17,16,23,22,9,8,15,14,1,0,7,6]]\n",
        "    \n",
        "    A1=ArrayToInt16(A1)\n",
        "    \n",
        "    A=A[:,[23,22,17,16,15,14,9,8,7,6,1,0]]\n",
        "    \n",
        "    A=ArrayToInt16(A)\n",
        "    A=vstack((A,A1))\n",
        "    A=amin(A,axis=0)\n",
        "    \n",
        "    return A\n",
        "start = time.time()\n",
        "A=CorRows(ar)\n",
        "print('It took', time.time()-start, 'seconds.')\n",
        "\"\"\""
      ],
      "execution_count": 73,
      "outputs": [
        {
          "output_type": "execute_result",
          "data": {
            "text/plain": [
              "'\\ndef CorRowsNoSymmetry(ar):\\n    \\n    A=IntToArray32(ar)\\n    \\n    #A=A[:,[0,1,6,7,8,9,14,15,16,17,22,23]]\\n    A=A[:,[23,22,17,16,15,14,9,8,7,6,1,0]]\\n\\n    A=ArrayToInt16(A)\\n    \\n    return A\\n\\ndef CorRows(ar):#Creates an array with all the rows that have a \"1\" in the corresponding column of the input array. the row symmetries are applied\\n                #by choosing the row with the smaller index among the symmetric rows\\n    \\n    A=IntToArray32(ar)\\n    \\n    A1=A[:,[17,16,23,22,9,8,15,14,1,0,7,6]]\\n    \\n    A1=ArrayToInt16(A1)\\n    \\n    A=A[:,[23,22,17,16,15,14,9,8,7,6,1,0]]\\n    \\n    A=ArrayToInt16(A)\\n    A=vstack((A,A1))\\n    A=amin(A,axis=0)\\n    \\n    return A\\nstart = time.time()\\nA=CorRows(ar)\\nprint(\\'It took\\', time.time()-start, \\'seconds.\\')\\n'"
            ]
          },
          "metadata": {
            "tags": []
          },
          "execution_count": 73
        }
      ]
    },
    {
      "cell_type": "code",
      "metadata": {
        "colab": {
          "base_uri": "https://localhost:8080/"
        },
        "id": "z_tyKDW4GSd1",
        "outputId": "f6f92f37-0cdf-41e8-acb1-a19c958f5c51"
      },
      "source": [
        "\"\"\"\n",
        "def NewCols(ar):#Applies the symmetry condition to the columns by choosing the column with the smaller index among the symmetric columns\n",
        "    \n",
        "    Op_list=['X1_X2','Y1_Y2','Z1_Z2']\n",
        "    \n",
        "    A=Symmetric_Arrays(Op_list, ar)\n",
        "    \n",
        "    A=amin(A,axis=1)\n",
        "    \n",
        "    return A\n",
        "start = time.time()\n",
        "A=NewCols(ar)\n",
        "print('It took', time.time()-start, 'seconds.')\n",
        "\"\"\""
      ],
      "execution_count": 74,
      "outputs": [
        {
          "output_type": "execute_result",
          "data": {
            "text/plain": [
              "\"\\ndef NewCols(ar):#Applies the symmetry condition to the columns by choosing the column with the smaller index among the symmetric columns\\n    \\n    Op_list=['X1_X2','Y1_Y2','Z1_Z2']\\n    \\n    A=Symmetric_Arrays(Op_list, ar)\\n    \\n    A=amin(A,axis=1)\\n    \\n    return A\\nstart = time.time()\\nA=NewCols(ar)\\nprint('It took', time.time()-start, 'seconds.')\\n\""
            ]
          },
          "metadata": {
            "tags": []
          },
          "execution_count": 74
        }
      ]
    },
    {
      "cell_type": "code",
      "metadata": {
        "colab": {
          "base_uri": "https://localhost:8080/"
        },
        "id": "TP0ChQRIGXl2",
        "outputId": "54bded09-3d91-452b-d894-09f4a04f8378"
      },
      "source": [
        "\"\"\"\n",
        "def remove_zero_rows(M):# Removes zero rows from sparse array\n",
        "  M = csr_matrix(M)\n",
        "  num_nonzeros = diff(M.indptr)\n",
        "  return M[num_nonzeros != 0]\n",
        "\n",
        "def drop_zero_columns(m):#removes zero columns from sparse array\n",
        "    \n",
        "    nz_cols, new_col = unique(m.col, return_inverse=True)\n",
        "    m.col[:] = new_col\n",
        "    m._shape = (m.shape[0], len(nz_cols))\n",
        "\n",
        "    return m\n",
        "\n",
        "def MDM():#Creates the MDM by combining the outputs of the previous functions in a coo sparse array\n",
        "        \n",
        "    ar=array([arange(4**12)]).T\n",
        "        \n",
        "    Rows=CorRows(ar)\n",
        "    Columns=NewCols(ar)\n",
        "        \n",
        "    data=[1 for i in range(len(Rows))]\n",
        "    \n",
        "    m = coo_matrix((data, (Rows, Columns)),dtype=uint8)\n",
        "    M=drop_zero_columns(m)\n",
        "    M=remove_zero_rows(M)\n",
        "    M = M.toarray()\n",
        "    \n",
        "    return M\n",
        "start = time.time()\n",
        "M=MDM()\n",
        "print('It took', time.time()-start, 'seconds.')\n",
        "print('The number of columns in the MDM:')\n",
        "print(len(M[0]))\n",
        "print('The number of rows in the MDM:')\n",
        "print(len(M))\n",
        "\"\"\""
      ],
      "execution_count": 75,
      "outputs": [
        {
          "output_type": "execute_result",
          "data": {
            "text/plain": [
              "\"\\ndef remove_zero_rows(M):# Removes zero rows from sparse array\\n  M = csr_matrix(M)\\n  num_nonzeros = diff(M.indptr)\\n  return M[num_nonzeros != 0]\\n\\ndef drop_zero_columns(m):#removes zero columns from sparse array\\n    \\n    nz_cols, new_col = unique(m.col, return_inverse=True)\\n    m.col[:] = new_col\\n    m._shape = (m.shape[0], len(nz_cols))\\n\\n    return m\\n\\ndef MDM():#Creates the MDM by combining the outputs of the previous functions in a coo sparse array\\n        \\n    ar=array([arange(4**12)]).T\\n        \\n    Rows=CorRows(ar)\\n    Columns=NewCols(ar)\\n        \\n    data=[1 for i in range(len(Rows))]\\n    \\n    m = coo_matrix((data, (Rows, Columns)),dtype=uint8)\\n    M=drop_zero_columns(m)\\n    M=remove_zero_rows(M)\\n    M = M.toarray()\\n    \\n    return M\\nstart = time.time()\\nM=MDM()\\nprint('It took', time.time()-start, 'seconds.')\\nprint('The number of columns in the MDM:')\\nprint(len(M[0]))\\nprint('The number of rows in the MDM:')\\nprint(len(M))\\n\""
            ]
          },
          "metadata": {
            "tags": []
          },
          "execution_count": 75
        }
      ]
    },
    {
      "cell_type": "code",
      "metadata": {
        "colab": {
          "base_uri": "https://localhost:8080/"
        },
        "id": "e2ohZUMdGe1W",
        "outputId": "cd55460a-43a5-45ac-8e76-0abcfa276598"
      },
      "source": [
        "\"\"\"\n",
        "def RowSymmetry(inte):#Takes a row as input\n",
        "                      #Returns the symmetric row\n",
        "    \n",
        "    c=IntToList(inte,4,6)\n",
        "    c=[c[1],c[0],c[3],c[2],c[5],c[4]]\n",
        "    c=ListToInt(c,4)\n",
        "    \n",
        "    return c\n",
        "\n",
        "\n",
        "def b(Data):#Creates the b vector by removing the symmetrical rows and using the input data with the correct multiplications of the probabilities.\n",
        "    \n",
        "    Checklist=[0 for i in range(4**6)]\n",
        "    i=0\n",
        "    b=[]\n",
        "    while i in range(len(Checklist)):\n",
        "        \n",
        "        if Checklist[i] == 0:\n",
        "            \n",
        "            R=RowSymmetry(i)\n",
        "            \n",
        "            c=IntToList(i,4,6)\n",
        "            c1=[c[0],c[2],c[4]]\n",
        "            c1=ListToInt(c1,4)\n",
        "            c2=[c[1],c[3],c[5]]\n",
        "            c2=ListToInt(c2,4)\n",
        "            \n",
        "            c3=Data[c1]*Data[c2]\n",
        "            \n",
        "            b.append(c3)\n",
        "            Checklist[R]=1\n",
        "            \n",
        "        i=i+1\n",
        "    \n",
        "    b=array([b]).T\n",
        "    \n",
        "    return b\n",
        "Data=[0.12199995751046305, 0.0022969343799089472, 0.001748319476328954, 3.999015242496535e-05, 0.028907881434196828, 0.0005736087488455967, 0.0003924033706699725, 1.1247230369521505e-05, 0.0030142577390317635, 0.09234476010282468, 4.373922921480586e-05, 0.0014533921021948346, 0.0007798079722868244, 0.024091567451515063, 1.1247230369521505e-05, 0.0003849052170902915, 0.020774884184769502, 0.000396152447459813, 0.0003049249122403608, 4.998769053120669e-06, 0.10820335492385, 0.0020794879260981982, 0.0015546171755205281, 2.4993845265603346e-05, 0.0006260958239033638, 0.020273757587194154, 7.498153579681003e-06, 0.0003374169110856452, 0.0028942872817568676, 0.08976414557915113, 2.624353752888351e-05, 0.0012984302615480939, 0.002370666223442477, 4.7488306004646356e-05, 0.0999928767540993, 0.001957018084296742, 0.0006198473625869629, 8.747845842961171e-06, 0.02636975644747481, 0.0005198719815245496, 1.4996307159362007e-05, 0.000403650601039494, 0.0005498645958432735, 0.017359475229224805, 7.123245900696953e-05, 0.002346922070440154, 0.0033754188031197316, 0.10295964618712641, 0.00038740460161685187, 7.498153579681003e-06, 0.01608353942841575, 0.000306174604503641, 0.0021319750011559654, 4.248953695152569e-05, 0.09107007399427891, 0.001860791780024169, 5.998522863744803e-05, 0.0018395470115484063, 0.002570616985567304, 0.0766411271224461, 1.874538394920251e-05, 0.00048238121362614454, 0.0006410921310627258, 0.020223769896662948]\n",
        "start = time.time()\n",
        "b=b(Data)\n",
        "print('It took', time.time()-start, 'seconds.')\n",
        "print('The length of the vector b is:')\n",
        "print(len(b))\n",
        "\"\"\""
      ],
      "execution_count": 76,
      "outputs": [
        {
          "output_type": "execute_result",
          "data": {
            "text/plain": [
              "\"\\ndef RowSymmetry(inte):#Takes a row as input\\n                      #Returns the symmetric row\\n    \\n    c=IntToList(inte,4,6)\\n    c=[c[1],c[0],c[3],c[2],c[5],c[4]]\\n    c=ListToInt(c,4)\\n    \\n    return c\\n\\n\\ndef b(Data):#Creates the b vector by removing the symmetrical rows and using the input data with the correct multiplications of the probabilities.\\n    \\n    Checklist=[0 for i in range(4**6)]\\n    i=0\\n    b=[]\\n    while i in range(len(Checklist)):\\n        \\n        if Checklist[i] == 0:\\n            \\n            R=RowSymmetry(i)\\n            \\n            c=IntToList(i,4,6)\\n            c1=[c[0],c[2],c[4]]\\n            c1=ListToInt(c1,4)\\n            c2=[c[1],c[3],c[5]]\\n            c2=ListToInt(c2,4)\\n            \\n            c3=Data[c1]*Data[c2]\\n            \\n            b.append(c3)\\n            Checklist[R]=1\\n            \\n        i=i+1\\n    \\n    b=array([b]).T\\n    \\n    return b\\nData=[0.12199995751046305, 0.0022969343799089472, 0.001748319476328954, 3.999015242496535e-05, 0.028907881434196828, 0.0005736087488455967, 0.0003924033706699725, 1.1247230369521505e-05, 0.0030142577390317635, 0.09234476010282468, 4.373922921480586e-05, 0.0014533921021948346, 0.0007798079722868244, 0.024091567451515063, 1.1247230369521505e-05, 0.0003849052170902915, 0.020774884184769502, 0.000396152447459813, 0.0003049249122403608, 4.998769053120669e-06, 0.10820335492385, 0.0020794879260981982, 0.0015546171755205281, 2.4993845265603346e-05, 0.0006260958239033638, 0.020273757587194154, 7.498153579681003e-06, 0.0003374169110856452, 0.0028942872817568676, 0.08976414557915113, 2.624353752888351e-05, 0.0012984302615480939, 0.002370666223442477, 4.7488306004646356e-05, 0.0999928767540993, 0.001957018084296742, 0.0006198473625869629, 8.747845842961171e-06, 0.02636975644747481, 0.0005198719815245496, 1.4996307159362007e-05, 0.000403650601039494, 0.0005498645958432735, 0.017359475229224805, 7.123245900696953e-05, 0.002346922070440154, 0.0033754188031197316, 0.10295964618712641, 0.00038740460161685187, 7.498153579681003e-06, 0.01608353942841575, 0.000306174604503641, 0.0021319750011559654, 4.248953695152569e-05, 0.09107007399427891, 0.001860791780024169, 5.998522863744803e-05, 0.0018395470115484063, 0.002570616985567304, 0.0766411271224461, 1.874538394920251e-05, 0.00048238121362614454, 0.0006410921310627258, 0.020223769896662948]\\nstart = time.time()\\nb=b(Data)\\nprint('It took', time.time()-start, 'seconds.')\\nprint('The length of the vector b is:')\\nprint(len(b))\\n\""
            ]
          },
          "metadata": {
            "tags": []
          },
          "execution_count": 76
        }
      ]
    },
    {
      "cell_type": "code",
      "metadata": {
        "colab": {
          "base_uri": "https://localhost:8080/"
        },
        "id": "R_0g-e9rGkC-",
        "outputId": "b8510408-3444-4fa2-8d09-50c16a5fe375"
      },
      "source": [
        "\"\"\"\n",
        "def scipy_sparse_to_spmatrix(A):#Turns a scipy sparse array into a cvxopt sparse array\n",
        "    coo = A.tocoo()\n",
        "    SP = spmatrix(coo.data.tolist(), coo.row.tolist(), coo.col.tolist(), size=A.shape, tc='d')\n",
        "    return SP\n",
        "\n",
        "S1=len(M[0])#The number of columns in the MDM\n",
        "S2=len(M)#The number of rows in the MDM\n",
        "\n",
        "M=-1*M#Takes the negative of all elements in the MDM\n",
        "A=transpose(M)#Takes the transpose of the MDM \n",
        "A=coo_matrix(A)#Turns the MDM back into a coo_matrix\n",
        "c=b#sets the vector b as the objective function\n",
        "z=zeros((S1,1))#creates the right hand sides of the constraints concerning the linear program\n",
        "z=vstack((z,array([1])))#adds the extra condition's right hand side to the constraints\n",
        "f=ones((1,S2))#creates an extra row for the updated MDM to add the extra condition\n",
        "f=coo_matrix(f)#turns the extra row to a coo_matrix\n",
        "\n",
        "A=svstack([A,f])#adds the extra constraint to the matrix\n",
        "\n",
        "\n",
        "A=scipy_sparse_to_spmatrix(A)#turns the scipy matrix to cvxopt matrix\n",
        "c=matrix(c)#turns numpy array to dense cvxopt matrix\n",
        "z=matrix(z)\n",
        "\n",
        "\n",
        "sol=solvers.lp(c,A,z, solver='mosek')#solves the lp\n",
        "\"\"\""
      ],
      "execution_count": 77,
      "outputs": [
        {
          "output_type": "execute_result",
          "data": {
            "text/plain": [
              "\"\\ndef scipy_sparse_to_spmatrix(A):#Turns a scipy sparse array into a cvxopt sparse array\\n    coo = A.tocoo()\\n    SP = spmatrix(coo.data.tolist(), coo.row.tolist(), coo.col.tolist(), size=A.shape, tc='d')\\n    return SP\\n\\nS1=len(M[0])#The number of columns in the MDM\\nS2=len(M)#The number of rows in the MDM\\n\\nM=-1*M#Takes the negative of all elements in the MDM\\nA=transpose(M)#Takes the transpose of the MDM \\nA=coo_matrix(A)#Turns the MDM back into a coo_matrix\\nc=b#sets the vector b as the objective function\\nz=zeros((S1,1))#creates the right hand sides of the constraints concerning the linear program\\nz=vstack((z,array([1])))#adds the extra condition's right hand side to the constraints\\nf=ones((1,S2))#creates an extra row for the updated MDM to add the extra condition\\nf=coo_matrix(f)#turns the extra row to a coo_matrix\\n\\nA=svstack([A,f])#adds the extra constraint to the matrix\\n\\n\\nA=scipy_sparse_to_spmatrix(A)#turns the scipy matrix to cvxopt matrix\\nc=matrix(c)#turns numpy array to dense cvxopt matrix\\nz=matrix(z)\\n\\n\\nsol=solvers.lp(c,A,z, solver='mosek')#solves the lp\\n\""
            ]
          },
          "metadata": {
            "tags": []
          },
          "execution_count": 77
        }
      ]
    },
    {
      "cell_type": "code",
      "metadata": {
        "colab": {
          "base_uri": "https://localhost:8080/"
        },
        "id": "Ppr_30gTTUS-",
        "outputId": "8f3fd0b7-a06e-495d-f1a1-abdfe7981d7f"
      },
      "source": [
        "\"\"\"\n",
        "from numpy import *\n",
        "from itertools import *\n",
        "import time\n",
        "from scipy.sparse import coo_matrix\n",
        "from scipy.sparse import csc_matrix\n",
        "from scipy.sparse import csr_matrix\n",
        "from scipy.sparse import hstack as shstack\n",
        "from scipy.sparse import vstack as svstack\n",
        "from cvxopt import matrix, solvers, sparse, spmatrix\n",
        "\n",
        "def IntToList(inte, base, leng):\n",
        "    \n",
        "    List=[int(i) for i in base_repr(inte, base)]\n",
        "    \n",
        "    if len(List)<leng:\n",
        "        \n",
        "        l=[0 for i in range(leng-len(List))]\n",
        "        l.extend(List)\n",
        "        List=l\n",
        "        \n",
        "    return List\n",
        "        \n",
        "def ListToInt(List, Base):\n",
        "    \n",
        "    L=list(List)\n",
        "    r = str(\"\".join([str(i) for i in L]))\n",
        "    inte = int(r, base = Base)\n",
        "    \n",
        "    return inte\n",
        "\n",
        "\n",
        "def IntToArrayCol(ar):\n",
        "    \n",
        "    a=ar\n",
        "    a=a.astype('uint16')\n",
        "    a=a.view(uint8)\n",
        "    a=unpackbits(a,count=10,axis=1, bitorder='little')\n",
        "    \n",
        "    return a\n",
        "\n",
        "def ArrayToIntCol(matrix):\n",
        "\n",
        "    A=matrix\n",
        "    A=concatenate((A, zeros((len(A),6),dtype=uint16)), axis=1)\n",
        "    A=A.reshape(-1,2, 8)\n",
        "    A=packbits(A,bitorder='little').view(uint16)\n",
        "    A=array([A]).T\n",
        "    \n",
        "    return A\n",
        "\n",
        "def ArrayToIntRow(matrix):\n",
        "    \n",
        "    A=matrix\n",
        "    A=concatenate((A, zeros((len(A),2),dtype=uint8)), axis=1)\n",
        "    A=packbits(A,bitorder='little')\n",
        "    \n",
        "    return A\n",
        "\n",
        "def Symmetry_Op(operation, ar):#Takes the exchange opration of copy latent variables and the values of the observable variables as input \n",
        "                                #Returns the corresponding observable values for the resultant identical probability \n",
        "    \n",
        "    # The list of variables is of the form: [B4,B3,B2,B1,A4,A3,A2,A1,X2,X1] (reverse because of the 'little bit ordering')\n",
        "    \n",
        "    A=IntToArrayCol(ar)\n",
        "    \n",
        "    if operation == 'L1_L2':\n",
        "        \n",
        "        A[:,[5,7]] = A[:,[7,5]] #A1 -- A3\n",
        "        A[:,[1,3]] = A[:,[3,1]] #B1 -- B3\n",
        "        \n",
        "        A=ArrayToIntCol(A)\n",
        "    \n",
        "        return A\n",
        "        \n",
        "    elif operation == 'X1_X2':\n",
        "        \n",
        "        A[:,[6,7]] = A[:,[7,6]] #A1 -- A2\n",
        "        A[:,[4,5]] = A[:,[5,4]] #A3 -- A4\n",
        "        A[:,[2,3]] = A[:,[3,2]] #B1 -- B2\n",
        "        A[:,[0,1]] = A[:,[1,0]] #B3 -- B4\n",
        "        A[:,[8,9]] = A[:,[9,8]] #X1 -- X2\n",
        "        \n",
        "        A=ArrayToIntCol(A)\n",
        "        \n",
        "        return A\n",
        "    \n",
        "    else:\n",
        "        print('Error: Enter a valid operation.')\n",
        "        \n",
        "def Symmetric_Arrays(Op_list, ar):#Takes a list of laten variable copy index exchange operations and the values of the observable variables as input as input \n",
        "                                     #Returns all configurations of observable variable values that have identical probabilities in the form of a list\n",
        "    A=ar\n",
        "    \n",
        "    combination1=list(combinations(Op_list, 1))# A single copy index exchange operation on latent variables (X1_X2, Y1_Y2 and Z1_Z2)\n",
        "    combination2=list(combinations(Op_list, 2))\n",
        "    \n",
        "    for i in range(len(combination1)):#Lists the configurations of observable variable values that have identical probabilities for a single exchange\n",
        "        \n",
        "        A=hstack((A,Symmetry_Op(combination1[i][0],ar)))\n",
        "    \n",
        "    for i in range(len(combination2)):\n",
        "\n",
        "        ar1=Symmetry_Op(combination2[i][0],ar)\n",
        "        A=hstack((A,Symmetry_Op(combination2[i][1],ar1)))\n",
        "    \n",
        "        \n",
        "    return A\n",
        "\n",
        "def DetAs(ar):\n",
        "    \n",
        "    A=IntToArrayCol(ar)#takes the vector of integers representing columns and expands every element, thus creating a matrix\n",
        "    \n",
        "    A2=A[:,6]#extracts the columns of the matrix that represent the value of the variable A2\n",
        "    A1=A[:,7]#extracts the columns of the matrix that represent the value of the variable A1\n",
        "    \n",
        "    A3=A[:,5]#extracts the columns of the matrix that represent the value of the variable A3\n",
        "    A4=A[:,4]#extracts the columns of the matrix that represent the value of the variable A4\n",
        "\n",
        "    a=where(A1 == A2)#finds the indecies where the values of A1 and A2 are equal\n",
        "    a0=where(A3 == A4)#finds the indecies where the values of A3 and A4 are equal\n",
        "    \n",
        "    a1=A[list(a[0]),:]#extracts the rows with these indecies from the original matrix (1,2 case)\n",
        "    a2=A[list(a0[0]),:]#extracts the rows with these indecies from the original matrix (3,4 case)\n",
        "\n",
        "    b2=a1[:,2]#extracts the column representing B2\n",
        "    b1=a1[:,3]#extracts the column representing B1\n",
        "\n",
        "    b4=a1[:,0]#extracts the column representing B4\n",
        "    b3=a1[:,1]#extracts the column representing B3\n",
        "    \n",
        "    b=where(b2 != b1)#finds the indecies of the rows where the values of B1 and B2 are different\n",
        "    b0=where(b4 != b3)#finds the indecies of the rows where the values of B3 and B4 are different\n",
        "    \n",
        "    a1=a1[list(b[0]),:]#extracts the rows from the matrix (1,2 case)\n",
        "    a2=a2[list(b0[0]),:]#extracts the rows from the matrix (3,4 case)\n",
        "\n",
        "    a1=ArrayToIntCol(a1)#Turns the rows back into integers (1,2 case)\n",
        "    a2=ArrayToIntCol(a2)#Turns the rows back into integers (3,4 case)\n",
        "    \n",
        "    a1=a1.T\n",
        "    a2=a2.T\n",
        "    \n",
        "    a1=list(a1[0])\n",
        "    a2=list(a2[0])\n",
        "    a1.extend(a2)#combines the list of elements to be removed from the input array\n",
        "    A=ArrayToIntCol(A)\n",
        "    A=delete(A,a1,0)#removes these elements from the input array\n",
        "    \n",
        "    return A\n",
        "\n",
        "\n",
        "def CorRows(ar):\n",
        "    \n",
        "    A=IntToArrayCol(ar)\n",
        "    \n",
        "    A1=A[:,[9,8,7,4,3,0]]\n",
        "    \n",
        "    A1=ArrayToIntRow(A1)\n",
        "    \n",
        "    A=A[:,[8,9,4,7,0,3]]\n",
        "\n",
        "    A=ArrayToIntRow(A)\n",
        "    A=vstack((A,A1))\n",
        "    A=amin(A,axis=0)\n",
        "    \n",
        "    return A\n",
        "\n",
        "def NewCols(ar):\n",
        "    \n",
        "    Op_list=['X1_X2','L1_L2']\n",
        "    \n",
        "    A=Symmetric_Arrays(Op_list, ar)\n",
        "    \n",
        "    A=amin(A,axis=1)\n",
        "    \n",
        "    return A\n",
        "\n",
        "def remove_zero_rows(M):\n",
        "  M = csr_matrix(M)\n",
        "  num_nonzeros = diff(M.indptr)\n",
        "  return M[num_nonzeros != 0]\n",
        "\n",
        "def drop_zero_columns(m):\n",
        "    \n",
        "    nz_cols, new_col = unique(m.col, return_inverse=True)\n",
        "    m.col[:] = new_col\n",
        "    m._shape = (m.shape[0], len(nz_cols))\n",
        "\n",
        "    return m\n",
        "\n",
        "def MDM():\n",
        "        \n",
        "    ar=array([arange(2**10)]).T\n",
        "    \n",
        "    ar=DetAs(ar)\n",
        "    Rows=CorRows(ar)\n",
        "    Columns=NewCols(ar)\n",
        "        \n",
        "    data=[1 for i in range(len(Rows))]\n",
        "    \n",
        "    m = coo_matrix((data, (Rows, Columns)),dtype=uint8)\n",
        "    M=drop_zero_columns(m)\n",
        "    M=remove_zero_rows(M)\n",
        "    M = M.toarray()\n",
        "    \n",
        "    return M\n",
        "\n",
        "def RowSymmetry(inte):#Takes a row as input\n",
        "                      #Returns the symmetric row\n",
        "    \n",
        "    c=IntToList(inte,2,6)\n",
        "    c=[c[1],c[0],c[3],c[2],c[5],c[4]]\n",
        "    c=ListToInt(c,2)\n",
        "    \n",
        "    return c\n",
        "\n",
        "\n",
        "def b(Data):#Creates the row list (Rows) by removing the symmetrical rows\n",
        "                  #Returns the configuration of a row specified by the input integer\n",
        "    \n",
        "    Checklist=[0 for i in range(2**6)]\n",
        "    i=0\n",
        "    b=[]\n",
        "    while i in range(len(Checklist)):\n",
        "        \n",
        "        if Checklist[i] == 0:\n",
        "            \n",
        "            R=RowSymmetry(i)\n",
        "            \n",
        "            c=IntToList(i,4,6)\n",
        "            c1=[c[0],c[2],c[4]]\n",
        "            c1=ListToInt(c1,4)\n",
        "            c2=[c[1],c[3],c[5]]\n",
        "            c2=ListToInt(c2,4)\n",
        "            \n",
        "            c3=Data[c1]*Data[c2]\n",
        "            \n",
        "            b.append(c3)\n",
        "            Checklist[R]=1\n",
        "            \n",
        "        i=i+1\n",
        "    \n",
        "    b=array([b]).T\n",
        "    \n",
        "    return b\n",
        "    \n",
        "def scipy_sparse_to_spmatrix(A):\n",
        "    coo = A.tocoo()\n",
        "    SP = spmatrix(coo.data.tolist(), coo.row.tolist(), coo.col.tolist(), size=A.shape, tc='d')\n",
        "    return SP\n",
        "\n",
        "\n",
        "ar=array([arange(2**10)]).T\n",
        "    \n",
        "Data=[0.12199995751046305, 0.0022969343799089472, 0.001748319476328954, 3.999015242496535e-05, 0.028907881434196828, 0.0005736087488455967, 0.0003924033706699725, 1.1247230369521505e-05, 0.0030142577390317635, 0.09234476010282468, 4.373922921480586e-05, 0.0014533921021948346, 0.0007798079722868244, 0.024091567451515063, 1.1247230369521505e-05, 0.0003849052170902915, 0.020774884184769502, 0.000396152447459813, 0.0003049249122403608, 4.998769053120669e-06, 0.10820335492385, 0.0020794879260981982, 0.0015546171755205281, 2.4993845265603346e-05, 0.0006260958239033638, 0.020273757587194154, 7.498153579681003e-06, 0.0003374169110856452, 0.0028942872817568676, 0.08976414557915113, 2.624353752888351e-05, 0.0012984302615480939, 0.002370666223442477, 4.7488306004646356e-05, 0.0999928767540993, 0.001957018084296742, 0.0006198473625869629, 8.747845842961171e-06, 0.02636975644747481, 0.0005198719815245496, 1.4996307159362007e-05, 0.000403650601039494, 0.0005498645958432735, 0.017359475229224805, 7.123245900696953e-05, 0.002346922070440154, 0.0033754188031197316, 0.10295964618712641, 0.00038740460161685187, 7.498153579681003e-06, 0.01608353942841575, 0.000306174604503641, 0.0021319750011559654, 4.248953695152569e-05, 0.09107007399427891, 0.001860791780024169, 5.998522863744803e-05, 0.0018395470115484063, 0.002570616985567304, 0.0766411271224461, 1.874538394920251e-05, 0.00048238121362614454, 0.0006410921310627258, 0.020223769896662948]\n",
        "\n",
        "\n",
        "\n",
        "start = time.time()\n",
        "M=MDM()\n",
        "print('It took', time.time()-start, 'seconds.')\n",
        "print('The number of columns in the MDM:')\n",
        "print(len(M[0]))\n",
        "print('The number of rows in the MDM:')\n",
        "print(len(M))\n",
        "S1=len(M[0])\n",
        "S2=len(M)\n",
        "\n",
        "\n",
        "start = time.time()\n",
        "b=b(Data)\n",
        "print('It took', time.time()-start, 'seconds.')\n",
        "print('Length of the vector b:')\n",
        "print(len(b))\n",
        "\n",
        "M=-1*M\n",
        "A=transpose(M)\n",
        "A=coo_matrix(A)\n",
        "c=b\n",
        "z=zeros((S1,1))\n",
        "z=vstack((z,array([1])))\n",
        "f=ones((1,S2))\n",
        "f=coo_matrix(f)\n",
        "A=svstack([A,f])\n",
        "c=matrix(c)\n",
        "z=matrix(z)\n",
        "\n",
        "\n",
        "A=scipy_sparse_to_spmatrix(A)\n",
        "c=matrix(c)\n",
        "z=matrix(z)\n",
        "\n",
        "sol=solvers.lp(c,A,z, solver='mosek')\n",
        "\"\"\""
      ],
      "execution_count": 78,
      "outputs": [
        {
          "output_type": "execute_result",
          "data": {
            "text/plain": [
              "'\\nfrom numpy import *\\nfrom itertools import *\\nimport time\\nfrom scipy.sparse import coo_matrix\\nfrom scipy.sparse import csc_matrix\\nfrom scipy.sparse import csr_matrix\\nfrom scipy.sparse import hstack as shstack\\nfrom scipy.sparse import vstack as svstack\\nfrom cvxopt import matrix, solvers, sparse, spmatrix\\n\\ndef IntToList(inte, base, leng):\\n    \\n    List=[int(i) for i in base_repr(inte, base)]\\n    \\n    if len(List)<leng:\\n        \\n        l=[0 for i in range(leng-len(List))]\\n        l.extend(List)\\n        List=l\\n        \\n    return List\\n        \\ndef ListToInt(List, Base):\\n    \\n    L=list(List)\\n    r = str(\"\".join([str(i) for i in L]))\\n    inte = int(r, base = Base)\\n    \\n    return inte\\n\\n\\ndef IntToArrayCol(ar):\\n    \\n    a=ar\\n    a=a.astype(\\'uint16\\')\\n    a=a.view(uint8)\\n    a=unpackbits(a,count=10,axis=1, bitorder=\\'little\\')\\n    \\n    return a\\n\\ndef ArrayToIntCol(matrix):\\n\\n    A=matrix\\n    A=concatenate((A, zeros((len(A),6),dtype=uint16)), axis=1)\\n    A=A.reshape(-1,2, 8)\\n    A=packbits(A,bitorder=\\'little\\').view(uint16)\\n    A=array([A]).T\\n    \\n    return A\\n\\ndef ArrayToIntRow(matrix):\\n    \\n    A=matrix\\n    A=concatenate((A, zeros((len(A),2),dtype=uint8)), axis=1)\\n    A=packbits(A,bitorder=\\'little\\')\\n    \\n    return A\\n\\ndef Symmetry_Op(operation, ar):#Takes the exchange opration of copy latent variables and the values of the observable variables as input \\n                                #Returns the corresponding observable values for the resultant identical probability \\n    \\n    # The list of variables is of the form: [B4,B3,B2,B1,A4,A3,A2,A1,X2,X1] (reverse because of the \\'little bit ordering\\')\\n    \\n    A=IntToArrayCol(ar)\\n    \\n    if operation == \\'L1_L2\\':\\n        \\n        A[:,[5,7]] = A[:,[7,5]] #A1 -- A3\\n        A[:,[1,3]] = A[:,[3,1]] #B1 -- B3\\n        \\n        A=ArrayToIntCol(A)\\n    \\n        return A\\n        \\n    elif operation == \\'X1_X2\\':\\n        \\n        A[:,[6,7]] = A[:,[7,6]] #A1 -- A2\\n        A[:,[4,5]] = A[:,[5,4]] #A3 -- A4\\n        A[:,[2,3]] = A[:,[3,2]] #B1 -- B2\\n        A[:,[0,1]] = A[:,[1,0]] #B3 -- B4\\n        A[:,[8,9]] = A[:,[9,8]] #X1 -- X2\\n        \\n        A=ArrayToIntCol(A)\\n        \\n        return A\\n    \\n    else:\\n        print(\\'Error: Enter a valid operation.\\')\\n        \\ndef Symmetric_Arrays(Op_list, ar):#Takes a list of laten variable copy index exchange operations and the values of the observable variables as input as input \\n                                     #Returns all configurations of observable variable values that have identical probabilities in the form of a list\\n    A=ar\\n    \\n    combination1=list(combinations(Op_list, 1))# A single copy index exchange operation on latent variables (X1_X2, Y1_Y2 and Z1_Z2)\\n    combination2=list(combinations(Op_list, 2))\\n    \\n    for i in range(len(combination1)):#Lists the configurations of observable variable values that have identical probabilities for a single exchange\\n        \\n        A=hstack((A,Symmetry_Op(combination1[i][0],ar)))\\n    \\n    for i in range(len(combination2)):\\n\\n        ar1=Symmetry_Op(combination2[i][0],ar)\\n        A=hstack((A,Symmetry_Op(combination2[i][1],ar1)))\\n    \\n        \\n    return A\\n\\ndef DetAs(ar):\\n    \\n    A=IntToArrayCol(ar)#takes the vector of integers representing columns and expands every element, thus creating a matrix\\n    \\n    A2=A[:,6]#extracts the columns of the matrix that represent the value of the variable A2\\n    A1=A[:,7]#extracts the columns of the matrix that represent the value of the variable A1\\n    \\n    A3=A[:,5]#extracts the columns of the matrix that represent the value of the variable A3\\n    A4=A[:,4]#extracts the columns of the matrix that represent the value of the variable A4\\n\\n    a=where(A1 == A2)#finds the indecies where the values of A1 and A2 are equal\\n    a0=where(A3 == A4)#finds the indecies where the values of A3 and A4 are equal\\n    \\n    a1=A[list(a[0]),:]#extracts the rows with these indecies from the original matrix (1,2 case)\\n    a2=A[list(a0[0]),:]#extracts the rows with these indecies from the original matrix (3,4 case)\\n\\n    b2=a1[:,2]#extracts the column representing B2\\n    b1=a1[:,3]#extracts the column representing B1\\n\\n    b4=a1[:,0]#extracts the column representing B4\\n    b3=a1[:,1]#extracts the column representing B3\\n    \\n    b=where(b2 != b1)#finds the indecies of the rows where the values of B1 and B2 are different\\n    b0=where(b4 != b3)#finds the indecies of the rows where the values of B3 and B4 are different\\n    \\n    a1=a1[list(b[0]),:]#extracts the rows from the matrix (1,2 case)\\n    a2=a2[list(b0[0]),:]#extracts the rows from the matrix (3,4 case)\\n\\n    a1=ArrayToIntCol(a1)#Turns the rows back into integers (1,2 case)\\n    a2=ArrayToIntCol(a2)#Turns the rows back into integers (3,4 case)\\n    \\n    a1=a1.T\\n    a2=a2.T\\n    \\n    a1=list(a1[0])\\n    a2=list(a2[0])\\n    a1.extend(a2)#combines the list of elements to be removed from the input array\\n    A=ArrayToIntCol(A)\\n    A=delete(A,a1,0)#removes these elements from the input array\\n    \\n    return A\\n\\n\\ndef CorRows(ar):\\n    \\n    A=IntToArrayCol(ar)\\n    \\n    A1=A[:,[9,8,7,4,3,0]]\\n    \\n    A1=ArrayToIntRow(A1)\\n    \\n    A=A[:,[8,9,4,7,0,3]]\\n\\n    A=ArrayToIntRow(A)\\n    A=vstack((A,A1))\\n    A=amin(A,axis=0)\\n    \\n    return A\\n\\ndef NewCols(ar):\\n    \\n    Op_list=[\\'X1_X2\\',\\'L1_L2\\']\\n    \\n    A=Symmetric_Arrays(Op_list, ar)\\n    \\n    A=amin(A,axis=1)\\n    \\n    return A\\n\\ndef remove_zero_rows(M):\\n  M = csr_matrix(M)\\n  num_nonzeros = diff(M.indptr)\\n  return M[num_nonzeros != 0]\\n\\ndef drop_zero_columns(m):\\n    \\n    nz_cols, new_col = unique(m.col, return_inverse=True)\\n    m.col[:] = new_col\\n    m._shape = (m.shape[0], len(nz_cols))\\n\\n    return m\\n\\ndef MDM():\\n        \\n    ar=array([arange(2**10)]).T\\n    \\n    ar=DetAs(ar)\\n    Rows=CorRows(ar)\\n    Columns=NewCols(ar)\\n        \\n    data=[1 for i in range(len(Rows))]\\n    \\n    m = coo_matrix((data, (Rows, Columns)),dtype=uint8)\\n    M=drop_zero_columns(m)\\n    M=remove_zero_rows(M)\\n    M = M.toarray()\\n    \\n    return M\\n\\ndef RowSymmetry(inte):#Takes a row as input\\n                      #Returns the symmetric row\\n    \\n    c=IntToList(inte,2,6)\\n    c=[c[1],c[0],c[3],c[2],c[5],c[4]]\\n    c=ListToInt(c,2)\\n    \\n    return c\\n\\n\\ndef b(Data):#Creates the row list (Rows) by removing the symmetrical rows\\n                  #Returns the configuration of a row specified by the input integer\\n    \\n    Checklist=[0 for i in range(2**6)]\\n    i=0\\n    b=[]\\n    while i in range(len(Checklist)):\\n        \\n        if Checklist[i] == 0:\\n            \\n            R=RowSymmetry(i)\\n            \\n            c=IntToList(i,4,6)\\n            c1=[c[0],c[2],c[4]]\\n            c1=ListToInt(c1,4)\\n            c2=[c[1],c[3],c[5]]\\n            c2=ListToInt(c2,4)\\n            \\n            c3=Data[c1]*Data[c2]\\n            \\n            b.append(c3)\\n            Checklist[R]=1\\n            \\n        i=i+1\\n    \\n    b=array([b]).T\\n    \\n    return b\\n    \\ndef scipy_sparse_to_spmatrix(A):\\n    coo = A.tocoo()\\n    SP = spmatrix(coo.data.tolist(), coo.row.tolist(), coo.col.tolist(), size=A.shape, tc=\\'d\\')\\n    return SP\\n\\n\\nar=array([arange(2**10)]).T\\n    \\nData=[0.12199995751046305, 0.0022969343799089472, 0.001748319476328954, 3.999015242496535e-05, 0.028907881434196828, 0.0005736087488455967, 0.0003924033706699725, 1.1247230369521505e-05, 0.0030142577390317635, 0.09234476010282468, 4.373922921480586e-05, 0.0014533921021948346, 0.0007798079722868244, 0.024091567451515063, 1.1247230369521505e-05, 0.0003849052170902915, 0.020774884184769502, 0.000396152447459813, 0.0003049249122403608, 4.998769053120669e-06, 0.10820335492385, 0.0020794879260981982, 0.0015546171755205281, 2.4993845265603346e-05, 0.0006260958239033638, 0.020273757587194154, 7.498153579681003e-06, 0.0003374169110856452, 0.0028942872817568676, 0.08976414557915113, 2.624353752888351e-05, 0.0012984302615480939, 0.002370666223442477, 4.7488306004646356e-05, 0.0999928767540993, 0.001957018084296742, 0.0006198473625869629, 8.747845842961171e-06, 0.02636975644747481, 0.0005198719815245496, 1.4996307159362007e-05, 0.000403650601039494, 0.0005498645958432735, 0.017359475229224805, 7.123245900696953e-05, 0.002346922070440154, 0.0033754188031197316, 0.10295964618712641, 0.00038740460161685187, 7.498153579681003e-06, 0.01608353942841575, 0.000306174604503641, 0.0021319750011559654, 4.248953695152569e-05, 0.09107007399427891, 0.001860791780024169, 5.998522863744803e-05, 0.0018395470115484063, 0.002570616985567304, 0.0766411271224461, 1.874538394920251e-05, 0.00048238121362614454, 0.0006410921310627258, 0.020223769896662948]\\n\\n\\n\\nstart = time.time()\\nM=MDM()\\nprint(\\'It took\\', time.time()-start, \\'seconds.\\')\\nprint(\\'The number of columns in the MDM:\\')\\nprint(len(M[0]))\\nprint(\\'The number of rows in the MDM:\\')\\nprint(len(M))\\nS1=len(M[0])\\nS2=len(M)\\n\\n\\nstart = time.time()\\nb=b(Data)\\nprint(\\'It took\\', time.time()-start, \\'seconds.\\')\\nprint(\\'Length of the vector b:\\')\\nprint(len(b))\\n\\nM=-1*M\\nA=transpose(M)\\nA=coo_matrix(A)\\nc=b\\nz=zeros((S1,1))\\nz=vstack((z,array([1])))\\nf=ones((1,S2))\\nf=coo_matrix(f)\\nA=svstack([A,f])\\nc=matrix(c)\\nz=matrix(z)\\n\\n\\nA=scipy_sparse_to_spmatrix(A)\\nc=matrix(c)\\nz=matrix(z)\\n\\nsol=solvers.lp(c,A,z, solver=\\'mosek\\')\\n'"
            ]
          },
          "metadata": {
            "tags": []
          },
          "execution_count": 78
        }
      ]
    },
    {
      "cell_type": "code",
      "metadata": {
        "id": "26ylEW1UCWEr"
      },
      "source": [
        "from numpy import *\n",
        "from itertools import *\n",
        "import time\n",
        "from scipy.sparse import coo_matrix\n",
        "from scipy.sparse import csc_matrix\n",
        "from scipy.sparse import csr_matrix\n",
        "from cvxopt import matrix, solvers, sparse, spmatrix\n",
        "from numba import njit\n",
        "\n",
        "@njit\n",
        "def PrepForIntToArray32(ar):# Takes a huge column vector as input\n",
        "                     # Returns a matrix where the rows are the base-4 binary expansions of each element of the input array\n",
        "    #return transpose(atleast_2d(ravel(ar.astype(uint32)))).view(uint8)\n",
        "    return reshape(ar.astype(uint32).view(uint8),(-1,4))\n",
        "\n",
        "\n",
        "def IntToArray32(ar):\n",
        "    return unpackbits(PrepForIntToArray32(ar),axis=1, bitorder='little').view(bool_)\n",
        "\n",
        "\n",
        "def ArrayToInt32(bitarray):\n",
        "    return packbits(bitarray, bitorder='little').view(uint32)\n",
        "\n",
        "@njit\n",
        "def ExtractBitsFromBitArray(bitarray,bitstoextract): #bitstoextract must be numpy array\n",
        "    tempbitarray=zeros_like(bitarray)\n",
        "    tempbitarray[:,:len(bitstoextract)]=bitarray[:,subtract(amax(bitstoextract),bitstoextract)]\n",
        "    return tempbitarray\n",
        "\n",
        "def ExtractBitsFromInts(intarray,bitstoextract): #bitstoextract need not be a numpy array\n",
        "\n",
        "    return ArrayToInt32(ExtractBitsFromBitArray(IntToArray32(intarray),array(bitstoextract,uint16)))\n",
        "\n",
        "@njit\n",
        "def PositionIndex(arraywithduplicates):\n",
        "    arraycopy=zeros_like(arraywithduplicates)\n",
        "    u=unique(arraywithduplicates)\n",
        "    arraycopy[u]=arange(len(u))\n",
        "    return arraycopy[arraywithduplicates]"
      ],
      "execution_count": 79,
      "outputs": []
    },
    {
      "cell_type": "code",
      "metadata": {
        "id": "HO4Ltr0pC1Xz"
      },
      "source": [
        "def SwappingOps(card, num_var, anc_con):\n",
        "    c=int(card/2)\n",
        "    a=array([list(arange(2)+(x*c)) for x in range(num_var)])\n",
        "    \n",
        "    for i in range(len(anc_con)):\n",
        "        \n",
        "        C=list(combinations(list(anc_con[i]),2))\n",
        "        \n",
        "        for j in range(len(C)):\n",
        "                \n",
        "            V=vstack((C[j][0],C[j][1]))\n",
        "                \n",
        "            V=a[V]\n",
        "                \n",
        "            S1=ravel(V[0])\n",
        "            S2=ravel(V[1])\n",
        "                \n",
        "            Swap=arange(32)          \n",
        "            Swap[(num_var*c-1)-hstack((S1,S2))]=Swap[(num_var*c-1)-hstack((S2,S1))]\n",
        "                \n",
        "            if i==0 and j==0:\n",
        "                    \n",
        "                Swaps=Swap\n",
        "                    \n",
        "            else:\n",
        "                    \n",
        "                Swaps=vstack((Swaps,Swap))\n",
        "                \n",
        "    return Swaps\n",
        "\n",
        "card=4\n",
        "num_var=12\n",
        "X=array([[0,1,8,10],[2,3,9,11]])\n",
        "Y=array([[0,2,4,5],[1,3,6,7]])\n",
        "Z=array([[4,6,8,9],[5,7,10,11]])\n",
        "ai=[0,1,6,7,8,9,14,15,16,17,22,23]\n",
        "anc_con=[X,Y,Z]"
      ],
      "execution_count": 80,
      "outputs": []
    },
    {
      "cell_type": "code",
      "metadata": {
        "id": "GKxHkfQCDO9c"
      },
      "source": [
        "def A(card, num_var, anc_con):\n",
        "    \n",
        "    ColumnIntegers=arange(0,card**num_var,1,uint32)\n",
        "    \n",
        "    ColumnIntegersAsBits=IntToArray32(ColumnIntegers)\n",
        "    \n",
        "    S=SwappingOps(card, num_var, anc_con)\n",
        "    \n",
        "    multiplier=hstack((2**arange(num_var*2),zeros((32-2*num_var),uint32)))\n",
        "    \n",
        "    SymMultiplier=multiplier\n",
        "    \n",
        "    a=range(len(S))\n",
        "    \n",
        "    for i in range(1,len(S)+1):\n",
        "        \n",
        "        C=list(combinations(a,i))\n",
        "        \n",
        "        for k in C:\n",
        "            \n",
        "            D=S[k[0]]\n",
        "            j=0\n",
        "            while j+1 < i:\n",
        "                \n",
        "                D=D[S[k[j+1]]]\n",
        "                j=j+1\n",
        "            \n",
        "            SymMultiplier=vstack((SymMultiplier,multiplier[D]))\n",
        "    \n",
        "    A=dot(SymMultiplier[:,:(2*num_var)],ColumnIntegersAsBits.T[:(2*num_var),:])\n",
        "    print(A.shape)\n",
        "    A=A[:,unique(amin(A,axis=0))]\n",
        "    print(A.shape)\n",
        "    return A"
      ],
      "execution_count": 81,
      "outputs": []
    },
    {
      "cell_type": "code",
      "metadata": {
        "id": "YHhZ0BbTF_4S"
      },
      "source": [
        "def MergeMonomials(bvector,encoding):\n",
        "    return ravel(coo_matrix((bvector, (zeros(len(bvector),uint8), encoding)),(1, amax(encoding)+1)).toarray())"
      ],
      "execution_count": 82,
      "outputs": []
    },
    {
      "cell_type": "code",
      "metadata": {
        "id": "CHTlviKhDTEq"
      },
      "source": [
        "def EncodeA_FindB(card, num_var, anc_con, ai, Data):\n",
        "    \n",
        "    RowIntegers=arange(0,card**(int(len(ai)/2)),1,uint32)\n",
        "    \n",
        "    ColumnIntegers=arange(0,card**num_var,1,uint32)\n",
        "    \n",
        "    ColumnIntegersAsBits=IntToArray32(ColumnIntegers)\n",
        "    \n",
        "    ai_sym=arange(len(ai))\n",
        "    \n",
        "    i=0\n",
        "    \n",
        "    while i<=len(ai_sym)-4:\n",
        "        \n",
        "        ai_sym[[i,i+1,i+2,i+3]]=ai_sym[[i+2,i+3,i,i+1]]\n",
        "        \n",
        "        i=i+4\n",
        "    \n",
        "    ai_sym=list(ai_sym)\n",
        "    \n",
        "    EncodingMonomialToRow=PositionIndex(amin(vstack((RowIntegers,ExtractBitsFromInts(RowIntegers,ai_sym))),axis=0))\n",
        "    \n",
        "    EncodingColumnToMonomial=ArrayToInt32(ExtractBitsFromBitArray(ColumnIntegersAsBits,array(ai,uint16)))\n",
        "    \n",
        "    EncodedA=EncodingMonomialToRow[EncodingColumnToMonomial][A(card, num_var, anc_con)]\n",
        "    #Down below is just to check\n",
        "    preb=array(Data)\n",
        "    preb=kron(preb,preb)\n",
        "    preb=ravel(transpose(reshape(preb,(4,4,4,4,4,4)),(0,3,1,4,2,5)))\n",
        "\n",
        "    b=MergeMonomials(preb,EncodingMonomialToRow)\n",
        "\n",
        "    return EncodedA,b"
      ],
      "execution_count": 83,
      "outputs": []
    },
    {
      "cell_type": "code",
      "metadata": {
        "id": "MTOaAM63DWjk"
      },
      "source": [
        "def FormCVXOPTArrayFromOnesPositions(OnesPositions):\n",
        "    columncount=OnesPositions.shape[-1]\n",
        "    columnspec=ravel(broadcast_to(arange(columncount), (len(OnesPositions), columncount)))\n",
        "    return spmatrix(ones(OnesPositions.size), ravel(OnesPositions).tolist(), columnspec.tolist(),(amax(OnesPositions)+1, columncount))"
      ],
      "execution_count": 84,
      "outputs": []
    },
    {
      "cell_type": "code",
      "metadata": {
        "colab": {
          "base_uri": "https://localhost:8080/"
        },
        "id": "M1V_jyvxDaH9",
        "outputId": "1883a45a-98fd-42a8-f6d2-224be3388e6a"
      },
      "source": [
        "Data=[0.12199995751046305, 0.0022969343799089472, 0.001748319476328954, 3.999015242496535e-05, 0.028907881434196828, 0.0005736087488455967, 0.0003924033706699725, 1.1247230369521505e-05, 0.0030142577390317635, 0.09234476010282468, 4.373922921480586e-05, 0.0014533921021948346, 0.0007798079722868244, 0.024091567451515063, 1.1247230369521505e-05, 0.0003849052170902915, 0.020774884184769502, 0.000396152447459813, 0.0003049249122403608, 4.998769053120669e-06, 0.10820335492385, 0.0020794879260981982, 0.0015546171755205281, 2.4993845265603346e-05, 0.0006260958239033638, 0.020273757587194154, 7.498153579681003e-06, 0.0003374169110856452, 0.0028942872817568676, 0.08976414557915113, 2.624353752888351e-05, 0.0012984302615480939, 0.002370666223442477, 4.7488306004646356e-05, 0.0999928767540993, 0.001957018084296742, 0.0006198473625869629, 8.747845842961171e-06, 0.02636975644747481, 0.0005198719815245496, 1.4996307159362007e-05, 0.000403650601039494, 0.0005498645958432735, 0.017359475229224805, 7.123245900696953e-05, 0.002346922070440154, 0.0033754188031197316, 0.10295964618712641, 0.00038740460161685187, 7.498153579681003e-06, 0.01608353942841575, 0.000306174604503641, 0.0021319750011559654, 4.248953695152569e-05, 0.09107007399427891, 0.001860791780024169, 5.998522863744803e-05, 0.0018395470115484063, 0.002570616985567304, 0.0766411271224461, 1.874538394920251e-05, 0.00048238121362614454, 0.0006410921310627258, 0.020223769896662948]\n",
        "start = time.time()\n",
        "EncodedA,b=EncodeA_FindB(card, num_var, anc_con, ai,Data)\n",
        "MCVXOPT=FormCVXOPTArrayFromOnesPositions(EncodedA).T #This far the code is generalized\n",
        "print('It took', time.time()-start, 'seconds.')\n",
        "print(MCVXOPT.size)"
      ],
      "execution_count": 85,
      "outputs": [
        {
          "output_type": "stream",
          "text": [
            "(8, 16777216)\n",
            "(8, 2123776)\n",
            "It took 11.001540184020996 seconds.\n",
            "(2123776, 2080)\n"
          ],
          "name": "stdout"
        }
      ]
    },
    {
      "cell_type": "code",
      "metadata": {
        "colab": {
          "base_uri": "https://localhost:8080/"
        },
        "id": "BStEV_p3FGQ5",
        "outputId": "e6c4cb7a-eb2f-48a7-f4a2-b4ed7053092d"
      },
      "source": [
        "rowcount=MCVXOPT.size[0];\n",
        "colcount=MCVXOPT.size[1];\n",
        "CVXOPTb=matrix(atleast_2d(b).T)\n",
        "CVXOPTh=matrix(zeros((rowcount,1)))\n",
        "CVXOPTA=matrix(ones((1,colcount)))\n",
        "solvers.lp(CVXOPTb,-MCVXOPT,CVXOPTh,CVXOPTA,matrix(ones((1,1))),solver='mosek')"
      ],
      "execution_count": 86,
      "outputs": [
        {
          "output_type": "stream",
          "text": [
            "Problem\n",
            "  Name                   :                 \n",
            "  Objective sense        : min             \n",
            "  Type                   : LO (linear optimization problem)\n",
            "  Constraints            : 2123777         \n",
            "  Cones                  : 0               \n",
            "  Scalar variables       : 2080            \n",
            "  Matrix variables       : 0               \n",
            "  Integer variables      : 0               \n",
            "\n",
            "Optimizer started.\n",
            "Presolve started.\n",
            "Linear dependency checker started.\n",
            "Linear dependency checker terminated.\n",
            "Eliminator started.\n",
            "Freed constraints in eliminator : 0\n",
            "Eliminator terminated.\n",
            "Eliminator - tries                  : 1                 time                   : 0.00            \n",
            "Lin. dep.  - tries                  : 1                 time                   : 0.34            \n",
            "Lin. dep.  - number                 : 0               \n",
            "Presolve terminated. Time: 4.10    \n",
            "Problem\n",
            "  Name                   :                 \n",
            "  Objective sense        : min             \n",
            "  Type                   : LO (linear optimization problem)\n",
            "  Constraints            : 2123777         \n",
            "  Cones                  : 0               \n",
            "  Scalar variables       : 2080            \n",
            "  Matrix variables       : 0               \n",
            "  Integer variables      : 0               \n",
            "\n",
            "Optimizer  - threads                : 8               \n",
            "Optimizer  - solved problem         : the dual        \n",
            "Optimizer  - Constraints            : 1036\n",
            "Optimizer  - Cones                  : 0\n",
            "Optimizer  - Scalar variables       : 829565            conic                  : 0               \n",
            "Optimizer  - Semi-definite variables: 0                 scalarized             : 0               \n",
            "Factor     - setup time             : 0.41              dense det. time        : 0.00            \n",
            "Factor     - ML order time          : 0.01              GP order time          : 0.00            \n",
            "Factor     - nonzeros before factor : 5.37e+05          after factor           : 5.37e+05        \n",
            "Factor     - dense dim.             : 0                 flops                  : 3.89e+08        \n",
            "ITE PFEAS    DFEAS    GFEAS    PRSTATUS   POBJ              DOBJ              MU       TIME  \n",
            "0   1.4e+00  4.0e+03  2.8e+00  0.00e+00   6.887232624e-10   -9.999999993e-01  2.0e+00  5.05  \n",
            "1   1.4e-01  3.9e+02  2.8e-01  1.99e+02   7.475546882e-06   -9.433424362e-09  2.0e-01  5.25  \n",
            "2   3.5e-02  9.7e+01  6.9e-02  1.56e+00   3.648341580e-06   -1.116384159e-08  4.9e-02  5.57  \n",
            "3   1.7e-02  4.6e+01  3.3e-02  8.74e-01   2.622777019e-06   -6.371583257e-09  2.4e-02  5.83  \n",
            "4   7.7e-03  2.1e+01  1.5e-02  1.05e+00   9.581271366e-07   -1.136890971e-09  1.1e-02  6.17  \n",
            "5   3.9e-03  1.1e+01  7.8e-03  1.19e+00   4.784120933e-07   -1.428006139e-10  5.5e-03  6.41  \n",
            "6   2.8e-03  7.9e+00  5.7e-03  8.16e-01   3.786746088e-07   -1.452365339e-11  4.0e-03  6.60  \n",
            "7   7.0e-04  2.0e+00  1.4e-03  6.20e-01   1.434667340e-07   3.126305579e-10   1.0e-03  6.95  \n",
            "8   1.4e-04  4.0e-01  2.8e-04  -3.04e-01  9.118830469e-08   -5.644375528e-10  2.0e-04  7.26  \n",
            "9   2.2e-05  6.1e-02  4.3e-05  -8.04e-01  -2.575966056e-07  -8.929328489e-09  3.1e-05  7.40  \n",
            "10  2.2e-05  6.1e-02  4.3e-05  2.72e-01   -1.567473516e-06  -1.407789695e-06  3.1e-05  7.54  \n",
            "11  1.4e-05  3.9e-02  2.8e-05  -2.54e-02  -4.382385005e-06  -4.242822721e-06  2.0e-05  7.72  \n",
            "12  9.1e-06  2.5e-02  1.8e-05  8.30e-01   -7.368669430e-06  -7.284008432e-06  1.3e-05  8.04  \n",
            "13  6.7e-06  1.9e-02  1.3e-05  8.93e-01   -9.407556017e-06  -9.347188065e-06  9.5e-06  8.26  \n",
            "14  3.8e-06  1.1e-02  7.6e-06  9.11e-01   -1.207323602e-05  -1.204281620e-05  5.4e-06  8.56  \n",
            "15  3.0e-06  8.3e-03  5.9e-06  9.33e-01   -1.331261852e-05  -1.328982147e-05  4.2e-06  8.77  \n",
            "16  2.1e-06  5.9e-03  4.2e-06  9.44e-01   -1.472770641e-05  -1.471276016e-05  3.0e-06  9.00  \n",
            "17  1.5e-06  4.3e-03  3.1e-06  9.58e-01   -1.579040568e-05  -1.578020130e-05  2.2e-06  9.26  \n",
            "18  1.2e-06  3.4e-03  2.5e-06  9.70e-01   -1.647371290e-05  -1.646597507e-05  1.7e-06  9.44  \n",
            "19  1.2e-06  3.3e-03  2.4e-06  9.78e-01   -1.658444800e-05  -1.657710255e-05  1.7e-06  9.60  \n",
            "20  1.0e-06  2.9e-03  2.0e-06  9.79e-01   -1.692797674e-05  -1.692183230e-05  1.5e-06  9.80  \n",
            "21  8.8e-07  2.5e-03  1.8e-06  9.84e-01   -1.723256776e-05  -1.722748092e-05  1.2e-06  9.97  \n",
            "22  6.0e-07  1.7e-03  1.2e-06  9.86e-01   -1.789219956e-05  -1.788915061e-05  8.5e-07  10.23 \n",
            "23  2.8e-07  7.8e-04  5.6e-07  9.90e-01   -1.870368972e-05  -1.870256775e-05  4.0e-07  10.45 \n",
            "24  2.1e-07  5.8e-04  4.2e-07  9.95e-01   -1.889503821e-05  -1.889428320e-05  3.0e-07  10.63 \n",
            "25  1.8e-07  5.1e-04  3.7e-07  9.97e-01   -1.896927327e-05  -1.896864780e-05  2.6e-07  10.82 \n",
            "26  1.1e-07  3.2e-04  2.3e-07  9.98e-01   -1.915843730e-05  -1.915811990e-05  1.6e-07  10.99 \n",
            "27  2.7e-08  7.5e-05  5.4e-08  9.99e-01   -1.941920080e-05  -1.941915923e-05  3.8e-08  11.18 \n",
            "28  2.6e-09  7.3e-06  5.2e-09  1.00e+00   -1.949581328e-05  -1.949583079e-05  3.7e-09  11.49 \n",
            "29  2.3e-10  6.5e-07  4.6e-10  1.00e+00   -1.950580129e-05  -1.950580295e-05  3.3e-10  11.79 \n",
            "30  1.7e-11  4.8e-08  3.5e-11  1.00e+00   -1.950672166e-05  -1.950672180e-05  2.5e-11  11.99 \n",
            "31  1.7e-13  1.6e-10  7.4e-15  1.00e+00   -1.950679859e-05  -1.950679859e-05  5.9e-15  12.14 \n",
            "Basis identification started.\n",
            "Primal basis identification phase started.\n",
            "Primal basis identification phase terminated. Time: 3.00\n",
            "Dual basis identification phase started.\n",
            "Dual basis identification phase terminated. Time: 0.01\n",
            "Basis identification terminated. Time: 3.21\n",
            "Optimizer terminated. Time: 16.10   \n",
            "\n",
            "\n",
            "Interior-point solution summary\n",
            "  Problem status  : PRIMAL_AND_DUAL_FEASIBLE\n",
            "  Solution status : OPTIMAL\n",
            "  Primal.  obj: -1.9506798587e-05   nrm: 1e+00    Viol.  con: 9e-16    var: 0e+00  \n",
            "  Dual.    obj: -1.9506798587e-05   nrm: 4e-03    Viol.  con: 0e+00    var: 1e-12  \n",
            "\n",
            "Basic solution summary\n",
            "  Problem status  : PRIMAL_AND_DUAL_FEASIBLE\n",
            "  Solution status : OPTIMAL\n",
            "  Primal.  obj: -1.9506798587e-05   nrm: 1e+00    Viol.  con: 2e-08    var: 0e+00  \n",
            "  Dual.    obj: -1.9506798605e-05   nrm: 4e-03    Viol.  con: 2e-06    var: 2e-06  \n"
          ],
          "name": "stdout"
        },
        {
          "output_type": "execute_result",
          "data": {
            "text/plain": [
              "{'status': 'optimal',\n",
              " 'x': <2080x1 matrix, tc='d'>,\n",
              " 's': <2123776x1 matrix, tc='d'>,\n",
              " 'y': <1x1 matrix, tc='d'>,\n",
              " 'z': <2123776x1 matrix, tc='d'>,\n",
              " 'primal objective': -1.9506798587277455e-05,\n",
              " 'dual objective': -1.9506798604887067e-05,\n",
              " 'gap': 4.8101107242260775e-14,\n",
              " 'relative gap': 2.465863736022416e-09,\n",
              " 'primal infeasibility': 1.1500134178277222e-11,\n",
              " 'dual infeasibility': 0.0005720377566950834,\n",
              " 'residual as primal infeasibility certificate': None,\n",
              " 'residual as dual infeasibility certificate': None,\n",
              " 'primal slack': -1.5739496561517755e-12,\n",
              " 'dual slack': -1.9211699275015077e-06}"
            ]
          },
          "metadata": {
            "tags": []
          },
          "execution_count": 86
        }
      ]
    },
    {
      "cell_type": "code",
      "metadata": {
        "id": "Mc5B6pQEWeqX"
      },
      "source": [
        "#A1 A2 A3 A4 B1 B2 B3 B4 C1 C2 C3 C4\n",
        "#0. 1. 2. 3. 4. 5. 6. 7. 8. 9. 10 11\n",
        "\n",
        "#A1. A2. A3. A4. B1. B2.   B3.   B4.   C1.   C2.   C3.   C4\n",
        "#0,1 2,3 4,5 6,7 8,9 10,11 12,13 14,15 16,17 18,19 20,21 22,23\n",
        "\n",
        "#A1 A4 B1 B4 C1 C4\n",
        "#0. 1. 2. 3. 4. 5"
      ],
      "execution_count": null,
      "outputs": []
    }
  ]
}