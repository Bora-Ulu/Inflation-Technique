{
  "nbformat": 4,
  "nbformat_minor": 0,
  "metadata": {
    "colab": {
      "name": "Inflation Technique.ipynb",
      "provenance": [],
      "collapsed_sections": [],
      "authorship_tag": "ABX9TyNVP2n/wAd3ESPC13+trVbG",
      "include_colab_link": true
    },
    "kernelspec": {
      "name": "python3",
      "display_name": "Python 3"
    }
  },
  "cells": [
    {
      "cell_type": "markdown",
      "metadata": {
        "id": "view-in-github",
        "colab_type": "text"
      },
      "source": [
        "<a href=\"https://colab.research.google.com/github/Bora-Ulu/Inflation-Technique/blob/main/Inflation_Technique.ipynb\" target=\"_parent\"><img src=\"https://colab.research.google.com/assets/colab-badge.svg\" alt=\"Open In Colab\"/></a>"
      ]
    },
    {
      "cell_type": "code",
      "metadata": {
        "colab": {
          "base_uri": "https://localhost:8080/"
        },
        "id": "AJnk0dIPXaUa",
        "outputId": "44e26d67-428e-4276-851b-bf829363e25f"
      },
      "source": [
        "from numpy import *\n",
        "from itertools import *\n",
        "import time\n",
        "\n",
        "def RefiningRows(m): #Takes a matrix as input \n",
        "                     #Returns the same matrix with the identical rows removed\n",
        "    \n",
        "    M=list(m)\n",
        "    \n",
        "    M = ascontiguousarray(M)\n",
        "    uM = unique(M.view([('', M.dtype)]*M.shape[1]))\n",
        "    return uM.view(M.dtype).reshape((uM.shape[0], M.shape[1]))\n",
        "\n",
        "trial_m=array([[1,0,0,1,0],\n",
        "                 [1,0,1,0,1],\n",
        "                 [1,0,0,1,0]])\n",
        "print(trial_m)\n",
        "print('Refining:')\n",
        "start = time.time()\n",
        "print(RefiningRows(trial_m))\n",
        "print('It takes', time.time()-start, 'seconds to calculate.')"
      ],
      "execution_count": 1,
      "outputs": [
        {
          "output_type": "stream",
          "text": [
            "[[1 0 0 1 0]\n",
            " [1 0 1 0 1]\n",
            " [1 0 0 1 0]]\n",
            "Refining:\n",
            "[[1 0 0 1 0]\n",
            " [1 0 1 0 1]]\n",
            "It takes 0.0005285739898681641 seconds to calculate.\n"
          ],
          "name": "stdout"
        }
      ]
    },
    {
      "cell_type": "code",
      "metadata": {
        "colab": {
          "base_uri": "https://localhost:8080/"
        },
        "id": "ZnqOuBHhdzSx",
        "outputId": "1c7c48ee-8f6a-4ba9-9911-f221a8b7c0d7"
      },
      "source": [
        "def Symmetry_Op(operation, array0):#Takes the exchange opration of copy latent variables and the values of the observable variables as input \n",
        "                                   #Returns the corresponding observable values for the resultant identical probability \n",
        "    \n",
        "    # The input list is of the form: [A1,A2,A3,A4,B1,B2,B3,B4,C1,C2,C3,C4]\n",
        "    \n",
        "    \n",
        "    \n",
        "    array=list(array0)\n",
        "    \n",
        "    if operation == 'X1_X2': #Exchanging \\Lambda_{1}^{AB} and \\Lambda_{2}^{AB}\n",
        "        \n",
        "        array[0],array[1]=array[1],array[0] #A1 -- A2\n",
        "        array[2],array[3]=array[3],array[2] #A3 -- A4\n",
        "        array[4],array[6]=array[6],array[4] #B1 -- B3\n",
        "        array[6],array[7]=array[7],array[6] #B3 -- B4\n",
        "    \n",
        "        return array\n",
        "        \n",
        "    elif operation == 'Y1_Y2': #Exchanging \\Lambda_{1}^{AC} and \\Lambda_{2}^{AC}\n",
        "        \n",
        "        array[0],array[2]=array[2],array[0] #A1 -- A3\n",
        "        array[1],array[3]=array[3],array[1] #A2 -- A4\n",
        "        array[8],array[9]=array[9],array[8] #C1 -- C2\n",
        "        array[10],array[11]=array[11],array[10] #C3 -- C4\n",
        "        \n",
        "        return array\n",
        "        \n",
        "    elif operation == 'Z1_Z2': #Exchanging \\Lambda_{1}^{BC} and \\Lambda_{2}^{BC}\n",
        "\n",
        "        array[4],array[5]=array[5],array[4] #B1 -- B2\n",
        "        array[6],array[7]=array[7],array[6] #B3 -- B4\n",
        "        array[8],array[10]=array[10],array[8] #C1 -- C3\n",
        "        array[9],array[11]=array[11],array[9] #C2 -- C1\n",
        "        \n",
        "        return array\n",
        "    \n",
        "    else:\n",
        "        print('Error: Enter a valid operation.')\n",
        "\n",
        "Op='X1_X2'\n",
        "ar=[1,0,0,1,1,1,0,1,1,0,1,0]\n",
        "print('Before the exchange:')\n",
        "print(ar)\n",
        "print('After the exchange:')\n",
        "start = time.time()\n",
        "print(Symmetry_Op(Op, ar))\n",
        "print('It takes', time.time()-start, 'seconds to calculate.')"
      ],
      "execution_count": 2,
      "outputs": [
        {
          "output_type": "stream",
          "text": [
            "Before the exchange:\n",
            "[1, 0, 0, 1, 1, 1, 0, 1, 1, 0, 1, 0]\n",
            "After the exchange:\n",
            "[0, 1, 1, 0, 0, 1, 1, 1, 1, 0, 1, 0]\n",
            "It takes 8.654594421386719e-05 seconds to calculate.\n"
          ],
          "name": "stdout"
        }
      ]
    },
    {
      "cell_type": "code",
      "metadata": {
        "colab": {
          "base_uri": "https://localhost:8080/"
        },
        "id": "3C45gTEcd2I8",
        "outputId": "6e2611ae-5d96-4e6b-c845-023d62a682bc"
      },
      "source": [
        "def Symmetric_Arrays(Op_list, array):#Takes a list of laten variable copy index exchange operations and the values of the observable variables as input as input \n",
        "                                     #Returns all configurations of observable variable values that have identical probabilities in the form of a list\n",
        "    A=list(array)\n",
        "    \n",
        "    permutation1=list(permutations(Op_list, 1))# A single copy index exchange operation on latent variables (X1_X2, Y1_Y2 and Z1_Z2)\n",
        "    permutation2=list(permutations(Op_list, 2))# Two copy index exchange operations on latent variables\n",
        "    permutation3=list(permutations(Op_list, 3))# Three copy index exchange operations on latent variables\n",
        "    \n",
        "    for i in range(len(permutation1)):#Lists the configurations of observable variable values that have identical probabilities for a single exchange\n",
        "        \n",
        "        A=vstack((A,Symmetry_Op(permutation1[i][0],list(array))))\n",
        "    \n",
        "    for i in range(len(permutation2)):#Lists the configurations of observable variable values that have identical probabilities for a two exchange operations\n",
        "        \n",
        "        array1=Symmetry_Op(permutation2[i][0],list(array))\n",
        "        A=vstack((A,Symmetry_Op(permutation2[i][1],list(array1))))\n",
        "        \n",
        "    for i in range(len(permutation3)):#Lists the configurations of observable variable values that have identical probabilities for a three exchange operations\n",
        "\n",
        "        array1=Symmetry_Op(permutation3[i][0],list(array))\n",
        "        array2=Symmetry_Op(permutation3[i][1],list(array1))\n",
        "        A=vstack((A,Symmetry_Op(permutation3[i][2],list(array2))))\n",
        "    \n",
        "    A=RefiningRows(A)#Removes identical configurations from the list\n",
        "    \n",
        "    return A\n",
        "\n",
        "Op_list=['X1_X2','Y1_Y2','Z1_Z2']\n",
        "print('Configuration of the variable values:')\n",
        "print(ar)\n",
        "print('All other configurations that have the same probabilities:')\n",
        "start = time.time()\n",
        "print(Symmetric_Arrays(Op_list, ar))\n",
        "print('It takes', time.time()-start, 'seconds to calculate.')"
      ],
      "execution_count": 3,
      "outputs": [
        {
          "output_type": "stream",
          "text": [
            "Configuration of the variable values:\n",
            "[1, 0, 0, 1, 1, 1, 0, 1, 1, 0, 1, 0]\n",
            "All other configurations that have the same probabilities:\n",
            "[[0 1 1 0 0 1 1 1 1 0 1 0]\n",
            " [0 1 1 0 1 0 1 1 1 0 1 0]\n",
            " [0 1 1 0 1 1 0 1 0 1 0 1]\n",
            " [0 1 1 0 1 1 0 1 1 0 1 0]\n",
            " [0 1 1 0 1 1 1 0 0 1 0 1]\n",
            " [1 0 0 1 0 1 1 1 0 1 0 1]\n",
            " [1 0 0 1 1 0 1 1 0 1 0 1]\n",
            " [1 0 0 1 1 1 0 1 0 1 0 1]\n",
            " [1 0 0 1 1 1 0 1 1 0 1 0]\n",
            " [1 0 0 1 1 1 1 0 1 0 1 0]]\n",
            "It takes 0.0016353130340576172 seconds to calculate.\n"
          ],
          "name": "stdout"
        }
      ]
    },
    {
      "cell_type": "code",
      "metadata": {
        "colab": {
          "base_uri": "https://localhost:8080/"
        },
        "id": "GachnZP2d6Zk",
        "outputId": "fabd61a7-1c60-4df0-b17d-fbe6b2fc20c1"
      },
      "source": [
        "def RowList():#Returns the list representing each row of the matrix by assigning configurations of observable variable values for the ai-expressable set {A2,B2,C2} \n",
        "\n",
        "    Row_List_Row=list(product(range(2), repeat=3))#RowList however all elements of the list are in a row\n",
        "    for i in range(len(Row_List_Row)):#Orders elements of RowList in a column to make it easier to read\n",
        "        \n",
        "        if i == 0:\n",
        "           Row_List_Column=Row_List_Row[i]\n",
        "        else:  \n",
        "           Row_List_Column=vstack((Row_List_Column,Row_List_Row[i]))\n",
        "        \n",
        "    return Row_List_Column\n",
        "print('{A2,B2,C2}')\n",
        "start = time.time()\n",
        "print(RowList())\n",
        "print('It takes', time.time()-start, 'seconds to calculate.')"
      ],
      "execution_count": 4,
      "outputs": [
        {
          "output_type": "stream",
          "text": [
            "{A2,B2,C2}\n",
            "[[0 0 0]\n",
            " [0 0 1]\n",
            " [0 1 0]\n",
            " [0 1 1]\n",
            " [1 0 0]\n",
            " [1 0 1]\n",
            " [1 1 0]\n",
            " [1 1 1]]\n",
            "It takes 0.0005424022674560547 seconds to calculate.\n"
          ],
          "name": "stdout"
        }
      ]
    },
    {
      "cell_type": "code",
      "metadata": {
        "colab": {
          "base_uri": "https://localhost:8080/"
        },
        "id": "G-blgrJCd-CP",
        "outputId": "0456373b-ffea-4a8b-fc46-c5eb175e4279"
      },
      "source": [
        "def Columns_in_M(colum):#Takes a configuration of observable variable values as input\n",
        "                        #Returns the corresponding column of the marginal description matrix\n",
        "    R=list(RowList())#Takes the representation of the rows\n",
        "    C=[0 for i in range(len(R))]#Creates an empty array to fill and create the column\n",
        "    \n",
        "    for i in range(len(R)):#Matches the values of the observable variables with the values of A2,B2,C2 corresponding to the marginal. If the values match fills that spot with 1 if values don't match, fills the spot with 0\n",
        "        if (colum[1] == R[i][0])&(colum[5] == R[i][1])&(colum[9] == R[i][2]):\n",
        "            C[i]=1\n",
        "    c=array([C]).T\n",
        "    return c\n",
        "print('Configuration of the variable values:')\n",
        "print(ar)\n",
        "print('Corresponding column of M:')\n",
        "start = time.time()\n",
        "print(Columns_in_M(ar))\n",
        "print('It takes', time.time()-start, 'seconds to calculate.')"
      ],
      "execution_count": 5,
      "outputs": [
        {
          "output_type": "stream",
          "text": [
            "Configuration of the variable values:\n",
            "[1, 0, 0, 1, 1, 1, 0, 1, 1, 0, 1, 0]\n",
            "Corresponding column of M:\n",
            "[[0]\n",
            " [0]\n",
            " [1]\n",
            " [0]\n",
            " [0]\n",
            " [0]\n",
            " [0]\n",
            " [0]]\n",
            "It takes 0.0006835460662841797 seconds to calculate.\n"
          ],
          "name": "stdout"
        }
      ]
    },
    {
      "cell_type": "code",
      "metadata": {
        "colab": {
          "base_uri": "https://localhost:8080/"
        },
        "id": "g82IuqXveDdo",
        "outputId": "0d248cf2-3a36-4fad-9705-7a8892fe8097"
      },
      "source": [
        "def Matrix():#Creates the marginal description matrix\n",
        "    \n",
        "     Op_list=['X1_X2','Y1_Y2','Z1_Z2']\n",
        "     All_P=list(product(range(2), repeat=12))#Creates a list of all possible configurations for the observable variable values\n",
        "     i=0#To iterate the while loop\n",
        "     while i in range(len(All_P)):\n",
        "         \n",
        "         if i == 0:#for the initial iteration\n",
        "             \n",
        "             S=Symmetric_Arrays(Op_list, All_P[i])#Takes a configuration and finds the list of configurations with identical probabilities\n",
        "             m=Columns_in_M(S[0])#Computes the column of the description matrix that corresponds to the first configuration of the list\n",
        "             for x in range(len(S)-1):#iterates over the elements of the list of configurations with identical probabilities\n",
        "                 m=m+Columns_in_M(S[x+1])#sums the columns that correspond to identical probabilities\n",
        "                 index=where(all(array(All_P)==array(S[x+1]),axis=1))#Finds the index of the observable variable value configurations that just had thier columns in the description matrix summed, inside the list of all possible configurations for the observable variable values\n",
        "                 All_P.pop(int(index[0]))#Removes the observable variable value configurations that just had thier columns in the description matrix summed, from the list of all possible configurations for the observable variable values\n",
        "             M=m#creates the first column of the description matrix\n",
        "         else:\n",
        "             \n",
        "             S=Symmetric_Arrays(Op_list, All_P[i])#Does the same as in the if statement above\n",
        "             m=Columns_in_M(S[0])\n",
        "             for x in range(len(S)-1):\n",
        "                 m=m+Columns_in_M(S[x+1])\n",
        "                 index=where(all(array(All_P)==array(S[x+1]),axis=1))\n",
        "                 if index[0].size > 0:#Checks whether the observable variable value configurations that just had thier columns in the description matrix summed, have already been removed from the list of all possible configurations for the observable variable values\n",
        "                     All_P.pop(int(index[0][0]))\n",
        "             #M=concatenate((M,m),axis=1)\n",
        "             M=hstack((M,m))#Concatenates the columns of the description matrix to form the description matrix \n",
        "         i=i+1\n",
        "     return M\n",
        "\n",
        "print('The row list:')\n",
        "print(RowList())\n",
        "print('The marginal description matrix:')\n",
        "start = time.time()\n",
        "print(Matrix())\n",
        "print('It takes', time.time()-start, 'seconds to calculate.')"
      ],
      "execution_count": 6,
      "outputs": [
        {
          "output_type": "stream",
          "text": [
            "The row list:\n",
            "[[0 0 0]\n",
            " [0 0 1]\n",
            " [0 1 0]\n",
            " [0 1 1]\n",
            " [1 0 0]\n",
            " [1 0 1]\n",
            " [1 1 0]\n",
            " [1 1 1]]\n",
            "The marginal description matrix:\n",
            "[[1 3 1 ... 0 0 0]\n",
            " [0 1 1 ... 0 0 0]\n",
            " [0 0 0 ... 0 0 0]\n",
            " ...\n",
            " [0 0 0 ... 0 0 0]\n",
            " [0 0 0 ... 1 1 1]\n",
            " [0 0 0 ... 1 3 1]]\n",
            "It takes 12.830290794372559 seconds to calculate.\n"
          ],
          "name": "stdout"
        }
      ]
    }
  ]
}