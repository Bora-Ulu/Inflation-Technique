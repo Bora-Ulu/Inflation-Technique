{
  "nbformat": 4,
  "nbformat_minor": 0,
  "metadata": {
    "colab": {
      "name": "Inflation Technique.ipynb",
      "provenance": [],
      "collapsed_sections": [],
      "include_colab_link": true
    },
    "kernelspec": {
      "name": "python3",
      "display_name": "Python 3"
    }
  },
  "cells": [
    {
      "cell_type": "markdown",
      "metadata": {
        "id": "view-in-github",
        "colab_type": "text"
      },
      "source": [
        "<a href=\"https://colab.research.google.com/github/Bora-Ulu/Inflation-Technique/blob/main/Inflation_Technique.ipynb\" target=\"_parent\"><img src=\"https://colab.research.google.com/assets/colab-badge.svg\" alt=\"Open In Colab\"/></a>"
      ]
    },
    {
      "cell_type": "code",
      "metadata": {
        "colab": {
          "base_uri": "https://localhost:8080/"
        },
        "id": "AJnk0dIPXaUa",
        "outputId": "8c9d8fc7-d529-4569-a8c6-a172d076292f"
      },
      "source": [
        "from numpy import *\n",
        "from itertools import *\n",
        "import time\n",
        "from scipy.sparse import coo_matrix\n",
        "from scipy.sparse import csr_matrix\n",
        "\n",
        "def RefiningRows(m): #Takes a matrix as input \n",
        "                     #Returns the same matrix with the identical rows removed\n",
        "    \n",
        "    M=list(m)\n",
        "    \n",
        "    M = ascontiguousarray(M)\n",
        "    uM = unique(M.view([('', M.dtype)]*M.shape[1]))\n",
        "    return uM.view(M.dtype).reshape((uM.shape[0], M.shape[1]))\n",
        "\n",
        "trial_m=array([[1,0,0,1,0],\n",
        "                 [1,0,1,0,1],\n",
        "                 [1,0,0,1,0]])\n",
        "print(trial_m)\n",
        "print('Refining:')\n",
        "start = time.time()\n",
        "print(RefiningRows(trial_m))\n",
        "print('It takes', time.time()-start, 'seconds to calculate.')"
      ],
      "execution_count": 17,
      "outputs": [
        {
          "output_type": "stream",
          "text": [
            "[[1 0 0 1 0]\n",
            " [1 0 1 0 1]\n",
            " [1 0 0 1 0]]\n",
            "Refining:\n",
            "[[1 0 0 1 0]\n",
            " [1 0 1 0 1]]\n",
            "It takes 0.0003540515899658203 seconds to calculate.\n"
          ],
          "name": "stdout"
        }
      ]
    },
    {
      "cell_type": "code",
      "metadata": {
        "colab": {
          "base_uri": "https://localhost:8080/"
        },
        "id": "PpIPdG_mSr7S",
        "outputId": "520b558c-1433-4f2f-e172-4af04267d4c1"
      },
      "source": [
        "def IntToList(inte, base, leng):\n",
        "    \n",
        "    List=[int(i) for i in base_repr(inte, base)]\n",
        "    \n",
        "    if len(List)<leng:\n",
        "        \n",
        "        l=[0 for i in range(leng-len(List))]\n",
        "        l.extend(List)\n",
        "        List=l\n",
        "        \n",
        "    return List\n",
        "print('The integer 1456 in the form of a list:')\n",
        "start = time.time()\n",
        "print(IntToList(1456, 4, 12))\n",
        "print('It takes', time.time()-start, 'seconds to calculate.')"
      ],
      "execution_count": 18,
      "outputs": [
        {
          "output_type": "stream",
          "text": [
            "The integer 1456 in the form of a list:\n",
            "[0, 0, 0, 0, 0, 0, 1, 1, 2, 3, 0, 0]\n",
            "It takes 9.489059448242188e-05 seconds to calculate.\n"
          ],
          "name": "stdout"
        }
      ]
    },
    {
      "cell_type": "code",
      "metadata": {
        "colab": {
          "base_uri": "https://localhost:8080/"
        },
        "id": "jI_5s_zXTPaJ",
        "outputId": "e9afaed0-e1b6-484e-c347-9f38022a5f9c"
      },
      "source": [
        "def ListToInt(List, Base):\n",
        "    \n",
        "    L=list(List)\n",
        "    r = int(\"\".join([str(i) for i in L]))\n",
        "    inte = int(str(r), base = Base)\n",
        "    \n",
        "    return inte\n",
        "a=IntToList(1456, 4, 12)\n",
        "print('We have a list:')\n",
        "print(a)\n",
        "print('This list corresponds to the integer:')\n",
        "start = time.time()\n",
        "print(ListToInt(a, 4))\n",
        "print('It takes', time.time()-start, 'seconds to calculate.')"
      ],
      "execution_count": 19,
      "outputs": [
        {
          "output_type": "stream",
          "text": [
            "We have a list:\n",
            "[0, 0, 0, 0, 0, 0, 1, 1, 2, 3, 0, 0]\n",
            "This list corresponds to the integer:\n",
            "1456\n",
            "It takes 7.510185241699219e-05 seconds to calculate.\n"
          ],
          "name": "stdout"
        }
      ]
    },
    {
      "cell_type": "code",
      "metadata": {
        "colab": {
          "base_uri": "https://localhost:8080/"
        },
        "id": "ZnqOuBHhdzSx",
        "outputId": "032398b1-606f-4336-f7a2-19c3fa753f37"
      },
      "source": [
        "def Symmetry_Op(operation, inte):#Takes the exchange opration of copy latent variables and the values of the observable variables as input \n",
        "                                   #Returns the corresponding observable values for the resultant identical probability \n",
        "    \n",
        "    # The input list is of the form: [A1,A2,A3,A4,B1,B2,B3,B4,C1,C2,C3,C4]\n",
        "    \n",
        "    \n",
        "    \n",
        "    array=IntToList(inte, 4 ,12)\n",
        "    \n",
        "    if operation == 'X1_X2': #Exchanging \\Lambda_{1}^{AB} and \\Lambda_{2}^{AB}\n",
        "        \n",
        "        array[0],array[1]=array[1],array[0] #A1 -- A2\n",
        "        array[2],array[3]=array[3],array[2] #A3 -- A4\n",
        "        array[4],array[6]=array[6],array[4] #B1 -- B3\n",
        "        array[6],array[7]=array[7],array[6] #B3 -- B4\n",
        "        \n",
        "        a=ListToInt(array , 4)\n",
        "    \n",
        "        return a\n",
        "        \n",
        "    elif operation == 'Y1_Y2': #Exchanging \\Lambda_{1}^{AC} and \\Lambda_{2}^{AC}\n",
        "        \n",
        "        array[0],array[2]=array[2],array[0] #A1 -- A3\n",
        "        array[1],array[3]=array[3],array[1] #A2 -- A4\n",
        "        array[8],array[9]=array[9],array[8] #C1 -- C2\n",
        "        array[10],array[11]=array[11],array[10] #C3 -- C4\n",
        "        \n",
        "        a=ListToInt(array , 4)\n",
        "        \n",
        "        return a\n",
        "        \n",
        "    elif operation == 'Z1_Z2': #Exchanging \\Lambda_{1}^{BC} and \\Lambda_{2}^{BC}\n",
        "\n",
        "        array[4],array[5]=array[5],array[4] #B1 -- B2\n",
        "        array[6],array[7]=array[7],array[6] #B3 -- B4\n",
        "        array[8],array[10]=array[10],array[8] #C1 -- C3\n",
        "        array[9],array[11]=array[11],array[9] #C2 -- C1\n",
        "        \n",
        "        a=ListToInt(array , 4)\n",
        "        \n",
        "        return a\n",
        "    \n",
        "    else:\n",
        "        print('Error: Enter a valid operation.')\n",
        "\n",
        "Op='X1_X2'\n",
        "inte=634567\n",
        "print('Integer before the exchange:')\n",
        "print(inte)\n",
        "print('List before the exchange:')\n",
        "print(IntToList(inte, 4, 12))\n",
        "print('Integer after the exchange:')\n",
        "start = time.time()\n",
        "print(Symmetry_Op(Op, inte))\n",
        "print('It takes', time.time()-start, 'seconds to calculate.')\n",
        "print('List after the exchange:')\n",
        "print(IntToList(Symmetry_Op(Op, inte) , 4, 12))"
      ],
      "execution_count": 20,
      "outputs": [
        {
          "output_type": "stream",
          "text": [
            "Integer before the exchange:\n",
            "634567\n",
            "List before the exchange:\n",
            "[0, 0, 2, 1, 2, 2, 3, 2, 3, 0, 1, 3]\n",
            "Integer after the exchange:\n",
            "453319\n",
            "It takes 9.298324584960938e-05 seconds to calculate.\n",
            "List after the exchange:\n",
            "[0, 0, 1, 2, 3, 2, 2, 2, 3, 0, 1, 3]\n"
          ],
          "name": "stdout"
        }
      ]
    },
    {
      "cell_type": "code",
      "metadata": {
        "colab": {
          "base_uri": "https://localhost:8080/"
        },
        "id": "3C45gTEcd2I8",
        "outputId": "53c88cf0-bd47-46a0-8d78-7c04f219d9cc"
      },
      "source": [
        "def Symmetric_Arrays(Op_list, inte):#Takes a list of laten variable copy index exchange operations and the values of the observable variables as input as input \n",
        "                                     #Returns all configurations of observable variable values that have identical probabilities in the form of a list\n",
        "    A=[inte]\n",
        "    \n",
        "    permutation1=list(permutations(Op_list, 1))# A single copy index exchange operation on latent variables (X1_X2, Y1_Y2 and Z1_Z2)\n",
        "    permutation2=list(permutations(Op_list, 2))# Two copy index exchange operations on latent variables\n",
        "    permutation3=list(permutations(Op_list, 3))# Three copy index exchange operations on latent variables\n",
        "    \n",
        "    for i in range(len(permutation1)):#Lists the configurations of observable variable values that have identical probabilities for a single exchange\n",
        "        \n",
        "        A.append(Symmetry_Op(permutation1[i][0],inte))\n",
        "    \n",
        "    for i in range(len(permutation2)):#Lists the configurations of observable variable values that have identical probabilities for a two exchange operations\n",
        "        \n",
        "        inte1=Symmetry_Op(permutation2[i][0],inte)\n",
        "        A.append(Symmetry_Op(permutation2[i][1],inte1))\n",
        "        \n",
        "    for i in range(len(permutation3)):#Lists the configurations of observable variable values that have identical probabilities for a three exchange operations\n",
        "\n",
        "        inte1=Symmetry_Op(permutation3[i][0],inte)\n",
        "        inte2=Symmetry_Op(permutation3[i][1],inte1)\n",
        "        A.append(Symmetry_Op(permutation3[i][2],inte2))\n",
        "    \n",
        "    A=list(set(A))#Removes identical configurations from the list\n",
        "    \n",
        "    return A\n",
        "\n",
        "Op_list=['X1_X2','Y1_Y2','Z1_Z2']\n",
        "inte=634567\n",
        "print('Configuration of the variable values in the form of an integer:')\n",
        "print(inte)\n",
        "print('All configurations that have the same probabilities as this configuration, in the form of integers:')\n",
        "start = time.time()\n",
        "print(Symmetric_Arrays(Op_list, inte))\n",
        "print('It takes', time.time()-start, 'seconds to calculate.')"
      ],
      "execution_count": 21,
      "outputs": [
        {
          "output_type": "stream",
          "text": [
            "Configuration of the variable values in the form of an integer:\n",
            "634567\n",
            "All configurations that have the same probabilities as this configuration, in the form of integers:\n",
            "[440956, 437884, 9481789, 453319, 634567, 9481171, 6339283, 6336211, 633724, 6351421]\n",
            "It takes 0.00040078163146972656 seconds to calculate.\n"
          ],
          "name": "stdout"
        }
      ]
    },
    {
      "cell_type": "code",
      "metadata": {
        "colab": {
          "base_uri": "https://localhost:8080/"
        },
        "id": "qss_D9R8WRGG",
        "outputId": "2f677a6b-1dbc-4daa-a2ed-15dc35b4bf10"
      },
      "source": [
        "def RowOfaColumn(inte):\n",
        "    \n",
        "    c=IntToList(inte, 4 , 12)\n",
        "    cc=[c[3],c[0],c[7],c[4],c[11],c[8]]\n",
        "    c=[c[0],c[3],c[4],c[7],c[8],c[11]]\n",
        "    c=ListToInt(c,4)\n",
        "    cc=ListToInt(cc,4)\n",
        "    if cc >= c:\n",
        "        return c\n",
        "    else:\n",
        "        return cc\n",
        "\n",
        "co=634567\n",
        "print('For the column represented by the integer:')\n",
        "print(co)\n",
        "print('The row at which this column has its only 1 value is:')\n",
        "start = time.time()\n",
        "print(RowOfaColumn(co))\n",
        "print('It takes', time.time()-start, 'seconds to calculate.')"
      ],
      "execution_count": 22,
      "outputs": [
        {
          "output_type": "stream",
          "text": [
            "For the column represented by the integer:\n",
            "634567\n",
            "The row at which this column has its only 1 value is:\n",
            "431\n",
            "It takes 0.00011396408081054688 seconds to calculate.\n"
          ],
          "name": "stdout"
        }
      ]
    },
    {
      "cell_type": "code",
      "metadata": {
        "colab": {
          "base_uri": "https://localhost:8080/"
        },
        "id": "GachnZP2d6Zk",
        "outputId": "e77c2398-a6a0-4f6c-d8c8-df38802f5d7d"
      },
      "source": [
        "def RowList():\n",
        "    \n",
        "    S=[IntToList(i, 4, 6) for i in range(4**6)]\n",
        "    \n",
        "    return S\n",
        "h=200\n",
        "print('We have the configuration for the',h,'th row as:')\n",
        "print('{A1,A4,B1,B4,C1,C4}')\n",
        "start = time.time()\n",
        "print(RowList()[h-1])\n",
        "print('It takes', time.time()-start, 'seconds to calculate.')"
      ],
      "execution_count": 23,
      "outputs": [
        {
          "output_type": "stream",
          "text": [
            "We have the configuration for the 200 th row as:\n",
            "{A1,A4,B1,B4,C1,C4}\n",
            "[0, 0, 3, 0, 1, 3]\n",
            "It takes 0.01241612434387207 seconds to calculate.\n"
          ],
          "name": "stdout"
        }
      ]
    },
    {
      "cell_type": "code",
      "metadata": {
        "colab": {
          "base_uri": "https://localhost:8080/"
        },
        "id": "g82IuqXveDdo",
        "outputId": "84345e80-0153-4529-f4e2-c5dcdc2916ab"
      },
      "source": [
        "def remove_zero_rows(M):\n",
        "  M = csr_matrix(M)\n",
        "  num_nonzeros = diff(M.indptr)\n",
        "  return M[num_nonzeros != 0]\n",
        "\n",
        "def MDM():\n",
        "    \n",
        "    Op_list=['X1_X2','Y1_Y2','Z1_Z2']\n",
        "    \n",
        "    Checklist=[0 for i in range(4**12)]\n",
        "    \n",
        "    j=0\n",
        "    v=0\n",
        "    while j in range(len(Checklist)):\n",
        "        \n",
        "        if Checklist[j] == 0:\n",
        "            \n",
        "            S=Symmetric_Arrays(Op_list, j)\n",
        "            \n",
        "            if j == 0:\n",
        "        \n",
        "                Columns=[v for k in range(len(S))]\n",
        "                v=v+1\n",
        "                Rows=[RowOfaColumn(k) for k in S]\n",
        "                \n",
        "            else:\n",
        "                \n",
        "                Columns.extend((v for k in range(len(S))))\n",
        "                v=v+1\n",
        "                Rows.extend((RowOfaColumn(k) for k in S))\n",
        "                \n",
        "            for x in S:\n",
        "                Checklist[x]=1\n",
        "            \n",
        "        j=j+1\n",
        "        \n",
        "    data=[1 for i in range(len(Rows))]\n",
        "    m = coo_matrix((array(data), (array(Rows), array(Columns))))\n",
        "    M=remove_zero_rows(m)\n",
        "    M = M.toarray()\n",
        "    return M\n",
        "\n",
        "start = time.time()\n",
        "M=MDM()\n",
        "print('It takes', time.time()-start, 'seconds to calculate the marginal description matrix.')\n",
        "print('It has',len(M),'rows and',len(M[0]),'columns')\n",
        "print('Its explicit form is:')\n",
        "print(M)"
      ],
      "execution_count": 24,
      "outputs": [
        {
          "output_type": "stream",
          "text": [
            "It takes 767.6190559864044 seconds to calculate the marginal description matrix.\n",
            "It has 2080 rows and 2123776 columns\n",
            "Its explicit form is:\n",
            "[[1 2 2 ... 0 0 0]\n",
            " [0 2 0 ... 0 0 0]\n",
            " [0 0 2 ... 0 0 0]\n",
            " ...\n",
            " [0 0 0 ... 1 0 0]\n",
            " [0 0 0 ... 0 2 0]\n",
            " [0 0 0 ... 1 2 1]]\n"
          ],
          "name": "stdout"
        }
      ]
    }
  ]
}