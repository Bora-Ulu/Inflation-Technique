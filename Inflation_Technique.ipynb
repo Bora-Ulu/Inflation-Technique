{
  "nbformat": 4,
  "nbformat_minor": 0,
  "metadata": {
    "colab": {
      "name": "Inflation Technique.ipynb",
      "provenance": [],
      "collapsed_sections": [],
      "include_colab_link": true
    },
    "kernelspec": {
      "name": "python3",
      "display_name": "Python 3"
    }
  },
  "cells": [
    {
      "cell_type": "markdown",
      "metadata": {
        "id": "view-in-github",
        "colab_type": "text"
      },
      "source": [
        "<a href=\"https://colab.research.google.com/github/Bora-Ulu/Inflation-Technique/blob/main/Inflation_Technique.ipynb\" target=\"_parent\"><img src=\"https://colab.research.google.com/assets/colab-badge.svg\" alt=\"Open In Colab\"/></a>"
      ]
    },
    {
      "cell_type": "code",
      "metadata": {
        "colab": {
          "base_uri": "https://localhost:8080/"
        },
        "id": "AJnk0dIPXaUa",
        "outputId": "d06c315f-6f9b-417d-e1cf-e0ce372b475e"
      },
      "source": [
        "\"\"\"\n",
        "from numpy import *\n",
        "from itertools import *\n",
        "import time\n",
        "from scipy.sparse import coo_matrix\n",
        "from scipy.sparse import csr_matrix\n",
        "\n",
        "def RefiningRows(m): #Takes a matrix as input \n",
        "                     #Returns the same matrix with the identical rows removed\n",
        "    \n",
        "    M=list(m)\n",
        "    \n",
        "    M = ascontiguousarray(M)\n",
        "    uM = unique(M.view([('', M.dtype)]*M.shape[1]))\n",
        "    return uM.view(M.dtype).reshape((uM.shape[0], M.shape[1]))\n",
        "\n",
        "trial_m=array([[1,0,0,1,0],\n",
        "                 [1,0,1,0,1],\n",
        "                 [1,0,0,1,0]])\n",
        "print(trial_m)\n",
        "print('Refining:')\n",
        "start = time.time()\n",
        "print(RefiningRows(trial_m))\n",
        "print('It takes', time.time()-start, 'seconds to calculate.')\n",
        "\"\"\""
      ],
      "execution_count": null,
      "outputs": [
        {
          "output_type": "stream",
          "text": [
            "[[1 0 0 1 0]\n",
            " [1 0 1 0 1]\n",
            " [1 0 0 1 0]]\n",
            "Refining:\n",
            "[[1 0 0 1 0]\n",
            " [1 0 1 0 1]]\n",
            "It takes 0.0004589557647705078 seconds to calculate.\n"
          ],
          "name": "stdout"
        }
      ]
    },
    {
      "cell_type": "code",
      "metadata": {
        "colab": {
          "base_uri": "https://localhost:8080/"
        },
        "id": "PpIPdG_mSr7S",
        "outputId": "32e8e9b7-7e3d-45bf-b0a1-746245780bcf"
      },
      "source": [
        "\"\"\"\n",
        "def IntToList(inte, base, leng):#Takes an integer as input\n",
        "                                #Returns the variable value configuration as a list\n",
        "    \n",
        "    List=[int(i) for i in base_repr(inte, base)]\n",
        "    \n",
        "    if len(List)<leng:\n",
        "        \n",
        "        l=[0 for i in range(leng-len(List))]\n",
        "        l.extend(List)\n",
        "        List=l\n",
        "        \n",
        "    return List\n",
        "print('The integer 1456 in the form of a list:')\n",
        "start = time.time()\n",
        "print(IntToList(1456, 4, 12))\n",
        "print('It takes', time.time()-start, 'seconds to calculate.')\n",
        "\"\"\""
      ],
      "execution_count": null,
      "outputs": [
        {
          "output_type": "stream",
          "text": [
            "The integer 1456 in the form of a list:\n",
            "[0, 0, 0, 0, 0, 0, 1, 1, 2, 3, 0, 0]\n",
            "It takes 0.0001227855682373047 seconds to calculate.\n"
          ],
          "name": "stdout"
        }
      ]
    },
    {
      "cell_type": "code",
      "metadata": {
        "colab": {
          "base_uri": "https://localhost:8080/"
        },
        "id": "jI_5s_zXTPaJ",
        "outputId": "bae4784f-ca9a-4aa8-d72d-652fd89bb90d"
      },
      "source": [
        "\"\"\"\n",
        "def ListToInt(List, Base):#Takes a varaible value configuration as a list\n",
        "                          #Returns the corresponding integer\n",
        "    \n",
        "    L=list(List)\n",
        "    r = str(\"\".join([str(i) for i in L]))\n",
        "    inte = int(r, base = Base)\n",
        "    \n",
        "    return inte\n",
        "a=IntToList(1456, 4, 12)\n",
        "print('We have a list:')\n",
        "print(a)\n",
        "print('This list corresponds to the integer:')\n",
        "start = time.time()\n",
        "print(ListToInt(a, 4))\n",
        "print('It takes', time.time()-start, 'seconds to calculate.')\n",
        "\"\"\""
      ],
      "execution_count": null,
      "outputs": [
        {
          "output_type": "stream",
          "text": [
            "We have a list:\n",
            "[0, 0, 0, 0, 0, 0, 1, 1, 2, 3, 0, 0]\n",
            "This list corresponds to the integer:\n",
            "1456\n",
            "It takes 9.012222290039062e-05 seconds to calculate.\n"
          ],
          "name": "stdout"
        }
      ]
    },
    {
      "cell_type": "code",
      "metadata": {
        "colab": {
          "base_uri": "https://localhost:8080/"
        },
        "id": "7P3mbuV4jpBo",
        "outputId": "5425ba72-32a3-4af5-9fac-43dd5ee87533"
      },
      "source": [
        "\"\"\"\n",
        "def IntToArray32(inte,cnt):\n",
        "    \n",
        "    a=array([inte],dtype=uint32)\n",
        "    a=a.view(uint8)\n",
        "    a=unpackbits(a,count=cnt)\n",
        "    \n",
        "    return a\n",
        "\n",
        "def ArrayToInt32(ar):\n",
        "\n",
        "    A=ar\n",
        "    A=concatenate((A, array([0,0,0,0,0,0,0,0])), axis=0)\n",
        "    A=A.reshape(-1,4, 8)\n",
        "    A=packbits(A).view(uint32)\n",
        "    \n",
        "    return A\n",
        "\n",
        "def IntToListBin(inte,leng):\n",
        "    \n",
        "    List=format(inte, 'b')\n",
        "    List=[i for i in List]\n",
        "    \n",
        "    if len(List)<leng:\n",
        "        \n",
        "        l=[0 for i in range(leng-len(List))]\n",
        "        l.extend(List)\n",
        "        List=l    \n",
        "    \n",
        "    return List\n",
        "t=100000\n",
        "inte=12345\n",
        "base=4\n",
        "start = time.time()\n",
        "for i in range(t):\n",
        "  A=IntToArray32(inte,-8)\n",
        "  B=ArrayToInt32(A)\n",
        "print('It took', time.time()-start, 'seconds with bit conversion.')\n",
        "\n",
        "start = time.time()\n",
        "for i in range(t):\n",
        "  A=IntToList(inte,base,12)\n",
        "  B=ListToInt(A,base)\n",
        "print('It took', time.time()-start, 'seconds with base conversion.')\n",
        "\n",
        "start = time.time()\n",
        "for i in range(t):\n",
        "    A=IntToListBin(inte, 24)\n",
        "    B=ListToInt(A,2)\n",
        "print('It took', time.time()-start, 'seconds with bin.')\n",
        "\"\"\""
      ],
      "execution_count": null,
      "outputs": [
        {
          "output_type": "stream",
          "text": [
            "It took 0.842592716217041 seconds with bit conversion.\n",
            "It took 0.6444659233093262 seconds with base conversion.\n",
            "It took 0.6410398483276367 seconds with bin.\n"
          ],
          "name": "stdout"
        }
      ]
    },
    {
      "cell_type": "code",
      "metadata": {
        "colab": {
          "base_uri": "https://localhost:8080/"
        },
        "id": "ZnqOuBHhdzSx",
        "outputId": "032398b1-606f-4336-f7a2-19c3fa753f37"
      },
      "source": [
        "\"\"\"\n",
        "def Symmetry_Op(operation, inte):#Takes the exchange operation of copy latent variables and the values of the observable variables as integers\n",
        "                                   #Returns the corresponding observable values for the resultant identical probability in the form of an integer\n",
        "    \n",
        "    # The input list is of the form: [A1,A2,A3,A4,B1,B2,B3,B4,C1,C2,C3,C4]\n",
        "    \n",
        "    \n",
        "    \n",
        "    array=IntToList(inte, 4 ,12)\n",
        "    \n",
        "    if operation == 'X1_X2': #Exchanging \\Lambda_{1}^{AB} and \\Lambda_{2}^{AB}\n",
        "        \n",
        "        array[0],array[1],array[2],array[3],array[4],array[6]array[5],array[7]=array[1],array[0],array[3],array[2],array[6],array[4],array[7],array[5] \n",
        "        #A1 -- A2, #A3 -- A4, #B1 -- B3,= #B2 -- B4\n",
        "        \n",
        "        a=ListToInt(array , 4)\n",
        "    \n",
        "        return a\n",
        "        \n",
        "    elif operation == 'Y1_Y2': #Exchanging \\Lambda_{1}^{AC} and \\Lambda_{2}^{AC}\n",
        "        \n",
        "        array[0],array[2]=array[2],array[0] #A1 -- A3\n",
        "        array[1],array[3]=array[3],array[1] #A2 -- A4\n",
        "        array[8],array[9]=array[9],array[8] #C1 -- C2\n",
        "        array[10],array[11]=array[11],array[10] #C3 -- C4\n",
        "        \n",
        "        a=ListToInt(array , 4)\n",
        "        \n",
        "        return a\n",
        "        \n",
        "    elif operation == 'Z1_Z2': #Exchanging \\Lambda_{1}^{BC} and \\Lambda_{2}^{BC}\n",
        "\n",
        "        array[4],array[5]=array[5],array[4] #B1 -- B2\n",
        "        array[6],array[7]=array[7],array[6] #B3 -- B4\n",
        "        array[8],array[10]=array[10],array[8] #C1 -- C3\n",
        "        array[9],array[11]=array[11],array[9] #C2 -- C1\n",
        "        \n",
        "        a=ListToInt(array , 4)\n",
        "        \n",
        "        return a\n",
        "    \n",
        "    else:\n",
        "        print('Error: Enter a valid operation.')\n",
        "\n",
        "Op='X1_X2'\n",
        "inte=634567\n",
        "print('Integer before the exchange:')\n",
        "print(inte)\n",
        "print('List before the exchange:')\n",
        "print(IntToList(inte, 4, 12))\n",
        "print('Integer after the exchange:')\n",
        "start = time.time()\n",
        "print(Symmetry_Op(Op, inte))\n",
        "print('It takes', time.time()-start, 'seconds to calculate.')\n",
        "print('List after the exchange:')\n",
        "print(IntToList(Symmetry_Op(Op, inte) , 4, 12))\n",
        "\"\"\""
      ],
      "execution_count": null,
      "outputs": [
        {
          "output_type": "stream",
          "text": [
            "Integer before the exchange:\n",
            "634567\n",
            "List before the exchange:\n",
            "[0, 0, 2, 1, 2, 2, 3, 2, 3, 0, 1, 3]\n",
            "Integer after the exchange:\n",
            "453319\n",
            "It takes 9.298324584960938e-05 seconds to calculate.\n",
            "List after the exchange:\n",
            "[0, 0, 1, 2, 3, 2, 2, 2, 3, 0, 1, 3]\n"
          ],
          "name": "stdout"
        }
      ]
    },
    {
      "cell_type": "code",
      "metadata": {
        "colab": {
          "base_uri": "https://localhost:8080/"
        },
        "id": "3C45gTEcd2I8",
        "outputId": "53c88cf0-bd47-46a0-8d78-7c04f219d9cc"
      },
      "source": [
        "\"\"\"\n",
        "def Symmetric_Arrays(Op_list, inte):#Takes a list of latent variable copy index exchange operations and the values of the observable variables as input as integer\n",
        "                                     #Returns all configurations of observable variable values that have identical probabilities in the form of a list of integers\n",
        "    A=[inte]\n",
        "    \n",
        "    permutation1=list(permutations(Op_list, 1))# A single copy index exchange operation on latent variables (X1_X2, Y1_Y2 and Z1_Z2)\n",
        "    permutation2=list(permutations(Op_list, 2))# Two copy index exchange operations on latent variables\n",
        "    permutation3=list(permutations(Op_list, 3))# Three copy index exchange operations on latent variables\n",
        "    \n",
        "    for i in range(len(permutation1)):#Lists the configurations of observable variable values that have identical probabilities for a single exchange\n",
        "        \n",
        "        A.append(Symmetry_Op(permutation1[i][0],inte))\n",
        "    \n",
        "    for i in range(len(permutation2)):#Lists the configurations of observable variable values that have identical probabilities for a two exchange operations\n",
        "        \n",
        "        inte1=Symmetry_Op(permutation2[i][0],inte)\n",
        "        A.append(Symmetry_Op(permutation2[i][1],inte1))\n",
        "        \n",
        "    for i in range(len(permutation3)):#Lists the configurations of observable variable values that have identical probabilities for a three exchange operations\n",
        "\n",
        "        inte1=Symmetry_Op(permutation3[i][0],inte)\n",
        "        inte2=Symmetry_Op(permutation3[i][1],inte1)\n",
        "        A.append(Symmetry_Op(permutation3[i][2],inte2))\n",
        "    \n",
        "    #A=list(set(A))#Removes identical configurations from the list\n",
        "    \n",
        "    return A\n",
        "\n",
        "Op_list=['X1_X2','Y1_Y2','Z1_Z2']\n",
        "inte=634567\n",
        "print('Configuration of the variable values in the form of an integer:')\n",
        "print(inte)\n",
        "print('All configurations that have the same probabilities as this configuration, in the form of integers:')\n",
        "start = time.time()\n",
        "print(Symmetric_Arrays(Op_list, inte))\n",
        "print('It takes', time.time()-start, 'seconds to calculate.')\n",
        "\"\"\""
      ],
      "execution_count": null,
      "outputs": [
        {
          "output_type": "stream",
          "text": [
            "Configuration of the variable values in the form of an integer:\n",
            "634567\n",
            "All configurations that have the same probabilities as this configuration, in the form of integers:\n",
            "[440956, 437884, 9481789, 453319, 634567, 9481171, 6339283, 6336211, 633724, 6351421]\n",
            "It takes 0.00040078163146972656 seconds to calculate.\n"
          ],
          "name": "stdout"
        }
      ]
    },
    {
      "cell_type": "code",
      "metadata": {
        "colab": {
          "base_uri": "https://localhost:8080/"
        },
        "id": "qss_D9R8WRGG",
        "outputId": "2f677a6b-1dbc-4daa-a2ed-15dc35b4bf10"
      },
      "source": [
        "\"\"\"\n",
        "def RowOfaColumn(inte):#Takes a column configuration as an integer\n",
        "                       #Finds the two symmetric rows that have a \"1\" in the corresponding column of the description matrix\n",
        "                       #Returns the row with the smaller index\n",
        "    \n",
        "    c=IntToList(inte, 4 , 12)\n",
        "    cc=[c[3],c[0],c[7],c[4],c[11],c[8]]\n",
        "    c=[c[0],c[3],c[4],c[7],c[8],c[11]]\n",
        "    c=ListToInt(c,4)\n",
        "    cc=ListToInt(cc,4)\n",
        "    if cc >= c:\n",
        "        return c\n",
        "    else:\n",
        "        return cc\n",
        "\n",
        "co=634567\n",
        "print('For the column represented by the integer:')\n",
        "print(co)\n",
        "print('The row at which this column has its only 1 value is:')\n",
        "start = time.time()\n",
        "print(RowOfaColumn(co))\n",
        "print('It takes', time.time()-start, 'seconds to calculate.')\n",
        "\"\"\""
      ],
      "execution_count": null,
      "outputs": [
        {
          "output_type": "stream",
          "text": [
            "For the column represented by the integer:\n",
            "634567\n",
            "The row at which this column has its only 1 value is:\n",
            "431\n",
            "It takes 0.00011396408081054688 seconds to calculate.\n"
          ],
          "name": "stdout"
        }
      ]
    },
    {
      "cell_type": "code",
      "metadata": {
        "colab": {
          "base_uri": "https://localhost:8080/"
        },
        "id": "GachnZP2d6Zk",
        "outputId": "b322d1c3-c07e-4bf4-ff97-7c0d1b340d7a"
      },
      "source": [
        "\"\"\"\n",
        "def RowSymmetry(inte):#Takes a row as input\n",
        "                      #Returns the symmetric row\n",
        "    \n",
        "    c=IntToList(inte,4,6)\n",
        "    c=[c[1],c[0],c[3],c[2],c[5],c[4]]\n",
        "    c=ListToInt(c,4)\n",
        "    \n",
        "    return c\n",
        "def RowList(inte):#Creates the row list (Rows) by removing the symmetrical rows\n",
        "                  #Returns the configuration of a row specified by the input integer\n",
        "    \n",
        "    Checklist=[0 for i in range(4**6)]\n",
        "    \n",
        "    i=0\n",
        "    v=0\n",
        "    Rows=[0]\n",
        "    while i in range(len(Checklist)-1):\n",
        "        \n",
        "        if Checklist[i+1] == 0:\n",
        "            \n",
        "            R=RowSymmetry(i+1)\n",
        "            Rows.append(i+1)\n",
        "            Checklist[R]=1\n",
        "            \n",
        "        i=i+1\n",
        "    \n",
        "    Row=IntToList(Rows[inte],4,6)\n",
        "    \n",
        "    return Row,Rows\n",
        "h=2000\n",
        "start = time.time()\n",
        "Row,Rows=RowList(h)\n",
        "print('It takes', time.time()-start, 'seconds to calculate.')\n",
        "print('We have the configuration for the',h,'th row as:')\n",
        "print('{A1,A4,B1,B4,C1,C4}')\n",
        "print(Row)\n",
        "print('And the total number of rows after symmetrization is:')\n",
        "print(len(Rows))\n",
        "\"\"\""
      ],
      "execution_count": null,
      "outputs": [
        {
          "output_type": "stream",
          "text": [
            "It takes 0.013324975967407227 seconds to calculate.\n",
            "We have the configuration for the 2000 th row as:\n",
            "{A1,A4,B1,B4,C1,C4}\n",
            "[3, 3, 0, 3, 3, 2]\n",
            "And the total number of rows after symmetrization is:\n",
            "2080\n"
          ],
          "name": "stdout"
        }
      ]
    },
    {
      "cell_type": "code",
      "metadata": {
        "colab": {
          "base_uri": "https://localhost:8080/"
        },
        "id": "g82IuqXveDdo",
        "outputId": "84345e80-0153-4529-f4e2-c5dcdc2916ab"
      },
      "source": [
        "\"\"\"\n",
        "def remove_zero_rows(M):#Removes the zero rows of a sparse matrix\n",
        "  M = csr_matrix(M)\n",
        "  num_nonzeros = diff(M.indptr)\n",
        "  return M[num_nonzeros != 0]\n",
        "\n",
        "def MDM():#Returns the description matrix\n",
        "    \n",
        "    Op_list=['X1_X2','Y1_Y2','Z1_Z2']\n",
        "    \n",
        "    Checklist=[0 for i in range(4**12)]#Creates the checklist\n",
        "    \n",
        "    j=0#specifies the variable value configurations for columns\n",
        "    v=0#specifies the idecies of the columns\n",
        "    while j in range(len(Checklist)):\n",
        "        \n",
        "        if Checklist[j] == 0:#Runs for the \"0\" valued elements of the checklist\n",
        "            \n",
        "            S=Symmetric_Arrays(Op_list, j)#Finds the symmetric columns of a colum specified by an integer\n",
        "            \n",
        "            if j == 0:#Initial iteration\n",
        "        \n",
        "                Columns=[v for k in range(len(S))]\n",
        "                v=v+1\n",
        "                Rows=[RowOfaColumn(k) for k in S]\n",
        "                \n",
        "            else:#Extends the row and column arrays that will form the coo sparse matrix\n",
        "                \n",
        "                Columns.extend((v for k in range(len(S))))#Extends the column indecies linearly\n",
        "                v=v+1\n",
        "                Rows.extend((RowOfaColumn(k) for k in S))#Extends the row indecies with the rows corresponding the the symmetric columns\n",
        "                \n",
        "            for x in S:#Modifies the checklist\n",
        "                Checklist[x]=1\n",
        "            \n",
        "        j=j+1\n",
        "        \n",
        "    data=[1 for i in range(len(Rows))]#creates the data list for the sparse matrix\n",
        "    m = coo_matrix((array(data), (array(Rows), array(Columns))))#creates the sparse matrix\n",
        "    M=remove_zero_rows(m)#removes the zero rows arising from the symmetric rows\n",
        "    M = M.toarray()\n",
        "    return M\n",
        "\n",
        "start = time.time()\n",
        "M=MDM()\n",
        "print('It takes', time.time()-start, 'seconds to calculate the marginal description matrix.')\n",
        "print('It has',len(M),'rows and',len(M[0]),'columns')\n",
        "print('Its explicit form is:')\n",
        "print(M)\n",
        "\"\"\""
      ],
      "execution_count": null,
      "outputs": [
        {
          "output_type": "stream",
          "text": [
            "It takes 767.6190559864044 seconds to calculate the marginal description matrix.\n",
            "It has 2080 rows and 2123776 columns\n",
            "Its explicit form is:\n",
            "[[1 2 2 ... 0 0 0]\n",
            " [0 2 0 ... 0 0 0]\n",
            " [0 0 2 ... 0 0 0]\n",
            " ...\n",
            " [0 0 0 ... 1 0 0]\n",
            " [0 0 0 ... 0 2 0]\n",
            " [0 0 0 ... 1 2 1]]\n"
          ],
          "name": "stdout"
        }
      ]
    },
    {
      "cell_type": "code",
      "metadata": {
        "id": "DFJJdFsS0RDX",
        "colab": {
          "base_uri": "https://localhost:8080/"
        },
        "outputId": "ab46b54c-dfce-4e60-fb14-b7ca210f2bd0"
      },
      "source": [
        "from numpy import *\n",
        "from itertools import *\n",
        "import time\n",
        "from scipy.sparse import coo_matrix\n",
        "from scipy.sparse import csc_matrix\n",
        "from scipy.sparse import csr_matrix\n",
        "from cvxopt import matrix, solvers, sparse, spmatrix\n",
        "\n",
        "def IntToList(inte, base, leng):\n",
        "    \n",
        "    List=[int(i) for i in base_repr(inte, base)]\n",
        "    \n",
        "    if len(List)<leng:\n",
        "        \n",
        "        l=[0 for i in range(leng-len(List))]\n",
        "        l.extend(List)\n",
        "        List=l\n",
        "        \n",
        "    return List\n",
        "        \n",
        "def ListToInt(List, Base):\n",
        "    \n",
        "    L=list(List)\n",
        "    r = str(\"\".join([str(i) for i in L]))\n",
        "    inte = int(r, base = Base)\n",
        "    \n",
        "    return inte\n",
        "\n",
        "\n",
        "def IntToArray32(ar):# Takes a huge column vector as input\n",
        "                     # Returns a matrix where the rows are the base-4 binary expansions of each element of the input array\n",
        "    \n",
        "    a=ar\n",
        "    a=a.astype('uint32')\n",
        "    a=a.view(uint8)\n",
        "    a=unpackbits(a,count=-8,axis=1)\n",
        "    \n",
        "    return a\n",
        "\n",
        "def ArrayToInt32(matrix):#Takes the output matrix of IntToArray32() as input\n",
        "                         #Returns the column vector with each row of the input turned into an integer \n",
        "\n",
        "    A=matrix\n",
        "    A=concatenate((A, zeros((len(A),8),dtype=uint32)), axis=1)\n",
        "    A=A.reshape(-1,4, 8)\n",
        "    A=packbits(A).view(uint32)\n",
        "    A=array([A]).T\n",
        "    \n",
        "    return A\n",
        "\n",
        "def ArrayToInt16(matrix):#Does the same as ArrayToInt16() however, this time the input has 12 binary digits that represent a 6 digit base-4 integer\n",
        "    \n",
        "    A=matrix\n",
        "    A=concatenate((A, zeros((len(A),4),dtype=uint16)), axis=1)\n",
        "    A=A.reshape(-1,2, 8)\n",
        "    A=packbits(A,bitorder='little').view(uint16)\n",
        "    #A=array([A]).T\n",
        "    \n",
        "    return A\n",
        "\n",
        "ar=array([arange(4**12)]).T\n",
        "start = time.time()\n",
        "A=IntToArray32(ar)\n",
        "print('It took', time.time()-start, 'seconds.')\n",
        "print(A[2])\n",
        "start = time.time()\n",
        "A=ArrayToInt32(A)\n",
        "print('It took', time.time()-start, 'seconds.')\n",
        "print(A[2])"
      ],
      "execution_count": 1,
      "outputs": [
        {
          "output_type": "stream",
          "text": [
            "It took 0.2918868064880371 seconds.\n",
            "[0 0 0 0 0 0 1 0 0 0 0 0 0 0 0 0 0 0 0 0 0 0 0 0]\n",
            "It took 3.81207275390625 seconds.\n",
            "[2]\n"
          ],
          "name": "stdout"
        }
      ]
    },
    {
      "cell_type": "code",
      "metadata": {
        "colab": {
          "base_uri": "https://localhost:8080/"
        },
        "id": "MwN2cz2ZGBid",
        "outputId": "cfddc8df-7d03-4ff6-a215-fa22cc9ed433"
      },
      "source": [
        "def Symmetry_Op(operation, ar):#Takes the exchange opration of copy latent variables and the values of the observable variables as input \n",
        "                                   #Returns the corresponding observable values for the resultant identical probability\n",
        "    \n",
        "    # The input list is of the form: [A1,A2,A3,A4,B1,B2,B3,B4,C1,C2,C3,C4]\n",
        "    \n",
        "    \n",
        "    \n",
        "    A=IntToArray32(ar)\n",
        "    \n",
        "    if operation == 'X1_X2': #Exchanging \\Lambda_{1}^{AB} and \\Lambda_{2}^{AB}\n",
        "        \n",
        "        A[:,[0,1,2,3]] = A[:,[2,3,0,1]] #A1 -- A2\n",
        "        A[:,[4,5,6,7]] = A[:,[6,7,4,5]] #A3 -- A4\n",
        "        A[:,[8,9,12,13]] = A[:,[12,13,8,9]] #B1 -- B3\n",
        "        A[:,[10,11,14,15]] = A[:,[14,15,10,11]] #B2 -- B4\n",
        "        \n",
        "        A=ArrayToInt32(A)\n",
        "    \n",
        "        return A\n",
        "        \n",
        "    elif operation == 'Y1_Y2': #Exchanging \\Lambda_{1}^{AC} and \\Lambda_{2}^{AC}\n",
        "        \n",
        "        A[:,[0,1,4,5]] = A[:,[4,5,0,1]] #A1 -- A3\n",
        "        A[:,[2,3,6,7]] = A[:,[6,7,2,3]] #A2 -- A4\n",
        "        A[:,[16,17,18,19]] = A[:,[18,19,16,17]] #C1 -- C2\n",
        "        A[:,[20,21,22,23]] = A[:,[22,23,20,21]] #C3 -- C4\n",
        "        \n",
        "        A=ArrayToInt32(A)\n",
        "        \n",
        "        return A\n",
        "        \n",
        "    elif operation == 'Z1_Z2': #Exchanging \\Lambda_{1}^{BC} and \\Lambda_{2}^{BC}\n",
        "        \n",
        "        A[:,[8,9,10,11]] = A[:,[10,11,8,9]] #B1 -- B2\n",
        "        A[:,[12,13,14,15]] = A[:,[14,15,12,13]] #B3 -- B4\n",
        "        A[:,[16,17,20,21]] = A[:,[20,21,16,17]]#C1 -- C3\n",
        "        A[:,[18,19,22,23]] = A[:,[22,23,18,19]] #C2 -- C1\n",
        "        \n",
        "        A=ArrayToInt32(A)\n",
        "        \n",
        "        return A\n",
        "    \n",
        "    else:\n",
        "        print('Error: Enter a valid operation.')\n",
        "start = time.time()\n",
        "A=Symmetry_Op('X1_X2',ar)\n",
        "print('It took', time.time()-start, 'seconds.')"
      ],
      "execution_count": 2,
      "outputs": [
        {
          "output_type": "stream",
          "text": [
            "It took 4.893877983093262 seconds.\n"
          ],
          "name": "stdout"
        }
      ]
    },
    {
      "cell_type": "code",
      "metadata": {
        "colab": {
          "base_uri": "https://localhost:8080/"
        },
        "id": "_n2XK5FoGI62",
        "outputId": "54d7286b-b5ba-408e-f666-44ac0ae0e9d4"
      },
      "source": [
        "def Symmetric_Arrays(Op_list, ar):#Takes a list of laten variable copy index exchange operations and the values of the observable variables as input as input \n",
        "                                     #Returns all configurations of observable variable values that have identical probabilities in the form of a list\n",
        "    A=ar\n",
        "    \n",
        "    permutation1=list(permutations(Op_list, 1))# A single copy index exchange operation on latent variables (X1_X2, Y1_Y2 and Z1_Z2)\n",
        "    permutation3=list(permutations(Op_list, 3))# Three copy index exchange operations on latent variables\n",
        "    \n",
        "    for i in range(len(permutation1)):#Lists the configurations of observable variable values that have identical probabilities for a single exchange\n",
        "        \n",
        "        A=hstack((A,Symmetry_Op(permutation1[i][0],ar)))\n",
        "        \n",
        "    for i in range(len(permutation3)):#Lists the configurations of observable variable values that have identical probabilities for a three exchange operations\n",
        "\n",
        "        ar1=Symmetry_Op(permutation3[i][0],ar)\n",
        "        A=hstack((A,Symmetry_Op(permutation3[i][1],ar1)))\n",
        "        ar2=Symmetry_Op(permutation3[i][1],ar1)\n",
        "        A=hstack((A,Symmetry_Op(permutation3[i][2],ar2)))\n",
        "    \n",
        "    #A=array([unique(A)]).T#Removes identical configurations from the list\n",
        "        \n",
        "    return A\n",
        "Op_list=['X1_X2','Y1_Y2','Z1_Z2']\n",
        "start = time.time()\n",
        "A=Symmetric_Arrays(Op_list, ar)\n",
        "print('It took', time.time()-start, 'seconds.')"
      ],
      "execution_count": 3,
      "outputs": [
        {
          "output_type": "stream",
          "text": [
            "It took 142.61117219924927 seconds.\n"
          ],
          "name": "stdout"
        }
      ]
    },
    {
      "cell_type": "code",
      "metadata": {
        "colab": {
          "base_uri": "https://localhost:8080/"
        },
        "id": "BR-pR4TnGNvB",
        "outputId": "74476d75-e1dc-4be4-a37f-00285c4a1255"
      },
      "source": [
        "def CorRowsNoSymmetry(ar):\n",
        "    \n",
        "    A=IntToArray32(ar)\n",
        "    \n",
        "    #A=A[:,[0,1,6,7,8,9,14,15,16,17,22,23]]\n",
        "    A=A[:,[23,22,17,16,15,14,9,8,7,6,1,0]]\n",
        "\n",
        "    A=ArrayToInt16(A)\n",
        "    \n",
        "    return A\n",
        "\n",
        "def CorRows(ar):#Creates an array with all the rows that have a \"1\" in the corresponding column of the input array. the row symmetries are applied\n",
        "                #by choosing the row with the smaller index among the symmetric rows\n",
        "    \n",
        "    A=IntToArray32(ar)\n",
        "    \n",
        "    A1=A[:,[0,1,6,7,8,9,14,15,16,17,22,23]]\n",
        "    #A1=A[:,[14,9,8,7,6,1,0,23,22,17,16,15]]\n",
        "    \n",
        "    A1=ArrayToInt16(A1)\n",
        "    \n",
        "    A=A[:,[23,22,17,16,15,14,9,8,7,6,1,0]]\n",
        "    \n",
        "    A=ArrayToInt16(A)\n",
        "    A=vstack((A,A1))\n",
        "    A=amin(A,axis=0)\n",
        "    \n",
        "    return A\n",
        "start = time.time()\n",
        "A=CorRows(ar)\n",
        "print('It took', time.time()-start, 'seconds.')"
      ],
      "execution_count": 4,
      "outputs": [
        {
          "output_type": "stream",
          "text": [
            "It took 3.7859010696411133 seconds.\n"
          ],
          "name": "stdout"
        }
      ]
    },
    {
      "cell_type": "code",
      "metadata": {
        "colab": {
          "base_uri": "https://localhost:8080/"
        },
        "id": "z_tyKDW4GSd1",
        "outputId": "2a5845b0-bffb-418f-e569-4ee8d200d43c"
      },
      "source": [
        "def NewCols(ar):#Applies the symmetry condition to the columns by choosing the column with the smaller index among the symmetric columns\n",
        "    \n",
        "    Op_list=['X1_X2','Y1_Y2','Z1_Z2']\n",
        "    \n",
        "    A=Symmetric_Arrays(Op_list, ar)\n",
        "    \n",
        "    A=amin(A,axis=1)\n",
        "    \n",
        "    #A=A[:,0]\n",
        "    \n",
        "    return A\n",
        "start = time.time()\n",
        "A=NewCols(ar)\n",
        "print('It took', time.time()-start, 'seconds.')"
      ],
      "execution_count": 5,
      "outputs": [
        {
          "output_type": "stream",
          "text": [
            "It took 143.67358303070068 seconds.\n"
          ],
          "name": "stdout"
        }
      ]
    },
    {
      "cell_type": "code",
      "metadata": {
        "colab": {
          "base_uri": "https://localhost:8080/"
        },
        "id": "TP0ChQRIGXl2",
        "outputId": "b63a1be4-77dd-4236-a6d1-ae5c26caf2da"
      },
      "source": [
        "def remove_zero_rows(M):# Removes zero rows from sparse array\n",
        "  M = csr_matrix(M)\n",
        "  num_nonzeros = diff(M.indptr)\n",
        "  return M[num_nonzeros != 0]\n",
        "\n",
        "def drop_zero_columns(m):#removes zero columns from sparse array\n",
        "    \n",
        "    nz_cols, new_col = unique(m.col, return_inverse=True)\n",
        "    m.col[:] = new_col\n",
        "    m._shape = (m.shape[0], len(nz_cols))\n",
        "\n",
        "    return m\n",
        "\n",
        "def MDM():#Creates the MDM by combining the outputs of the previous functions in a coo sparse array\n",
        "        \n",
        "    ar=array([arange(4**12)]).T\n",
        "        \n",
        "    Rows=CorRows(ar)\n",
        "    Columns=NewCols(ar)\n",
        "        \n",
        "    data=[1 for i in range(len(Rows))]\n",
        "    \n",
        "    m = coo_matrix((data, (Rows, Columns)),dtype=uint8)\n",
        "    M=drop_zero_columns(m)\n",
        "    M=remove_zero_rows(M)\n",
        "    M = M.toarray()\n",
        "    \n",
        "    return M\n",
        "start = time.time()\n",
        "M=MDM()\n",
        "print('It took', time.time()-start, 'seconds.')\n",
        "print('The number of columns in the MDM:')\n",
        "print(len(M[0]))\n",
        "print('The number of rows in the MDM:')\n",
        "print(len(M))"
      ],
      "execution_count": 6,
      "outputs": [
        {
          "output_type": "stream",
          "text": [
            "It took 154.16555166244507 seconds.\n",
            "The number of columns in the MDM:\n",
            "2123776\n",
            "The number of rows in the MDM:\n",
            "2080\n"
          ],
          "name": "stdout"
        }
      ]
    },
    {
      "cell_type": "code",
      "metadata": {
        "colab": {
          "base_uri": "https://localhost:8080/"
        },
        "id": "e2ohZUMdGe1W",
        "outputId": "448a6838-fae3-4356-f433-6ff3bc28a41d"
      },
      "source": [
        "def RowSymmetry(inte):#Takes a row as input\n",
        "                      #Returns the symmetric row\n",
        "    \n",
        "    c=IntToList(inte,4,6)\n",
        "    c=[c[1],c[0],c[3],c[2],c[5],c[4]]\n",
        "    c=ListToInt(c,4)\n",
        "    \n",
        "    return c\n",
        "\n",
        "\n",
        "def b(Data):#Creates the b vector by removing the symmetrical rows and using the input data with the correct multiplications of the probabilities.\n",
        "    \n",
        "    Checklist=[0 for i in range(4**6)]\n",
        "    i=0\n",
        "    b=[]\n",
        "    while i in range(len(Checklist)):\n",
        "        \n",
        "        if Checklist[i] == 0:\n",
        "            \n",
        "            R=RowSymmetry(i)\n",
        "            \n",
        "            c=IntToList(i,4,6)\n",
        "            c1=[c[0],c[1],c[2]]\n",
        "            c1=ListToInt(c1,4)\n",
        "            c2=[c[3],c[4],c[5]]\n",
        "            c2=ListToInt(c2,4)\n",
        "            \n",
        "            c3=Data[c1]*Data[c2]\n",
        "            \n",
        "            b.append(c3)\n",
        "            Checklist[R]=1\n",
        "            \n",
        "        i=i+1\n",
        "    \n",
        "    b=array([b]).T\n",
        "    \n",
        "    return b\n",
        "Data=[0.12199995751046305, 0.0022969343799089472, 0.001748319476328954, 3.999015242496535e-05, 0.028907881434196828, 0.0005736087488455967, 0.0003924033706699725, 1.1247230369521505e-05, 0.0030142577390317635, 0.09234476010282468, 4.373922921480586e-05, 0.0014533921021948346, 0.0007798079722868244, 0.024091567451515063, 1.1247230369521505e-05, 0.0003849052170902915, 0.020774884184769502, 0.000396152447459813, 0.0003049249122403608, 4.998769053120669e-06, 0.10820335492385, 0.0020794879260981982, 0.0015546171755205281, 2.4993845265603346e-05, 0.0006260958239033638, 0.020273757587194154, 7.498153579681003e-06, 0.0003374169110856452, 0.0028942872817568676, 0.08976414557915113, 2.624353752888351e-05, 0.0012984302615480939, 0.002370666223442477, 4.7488306004646356e-05, 0.0999928767540993, 0.001957018084296742, 0.0006198473625869629, 8.747845842961171e-06, 0.02636975644747481, 0.0005198719815245496, 1.4996307159362007e-05, 0.000403650601039494, 0.0005498645958432735, 0.017359475229224805, 7.123245900696953e-05, 0.002346922070440154, 0.0033754188031197316, 0.10295964618712641, 0.00038740460161685187, 7.498153579681003e-06, 0.01608353942841575, 0.000306174604503641, 0.0021319750011559654, 4.248953695152569e-05, 0.09107007399427891, 0.001860791780024169, 5.998522863744803e-05, 0.0018395470115484063, 0.002570616985567304, 0.0766411271224461, 1.874538394920251e-05, 0.00048238121362614454, 0.0006410921310627258, 0.020223769896662948]\n",
        "start = time.time()\n",
        "b=b(Data)\n",
        "print('It took', time.time()-start, 'seconds.')\n",
        "print('The length of the vector b is:')\n",
        "print(len(b))"
      ],
      "execution_count": 8,
      "outputs": [
        {
          "output_type": "stream",
          "text": [
            "It took 0.02775096893310547 seconds.\n",
            "The lenght of the vector b is:\n",
            "2080\n"
          ],
          "name": "stdout"
        }
      ]
    },
    {
      "cell_type": "code",
      "metadata": {
        "colab": {
          "base_uri": "https://localhost:8080/"
        },
        "id": "R_0g-e9rGkC-",
        "outputId": "f71755ed-7cee-4003-a35d-0e7a671f59e5"
      },
      "source": [
        "def scipy_sparse_to_spmatrix(A):#Turns a scipy sparse array into a cvxopt sparse array\n",
        "    coo = A.tocoo()\n",
        "    SP = spmatrix(coo.data.tolist(), coo.row.tolist(), coo.col.tolist(), size=A.shape, tc='d')\n",
        "    return SP\n",
        "\n",
        "A=M\n",
        "c=b\n",
        "z=zeros((len(A[0]),1))#Creates the right side of the inequality y.M>=0 in the form of a vector\n",
        "    \n",
        "A=A.astype(double)#Changes the format of the input arrays in a way that cvxopt functions will accept\n",
        "c=c.astype(double)\n",
        "z=z.astype(double)\n",
        "A=transpose(A)#Changes the rows with columns as this is how cvxopt accepts the input matrix M\n",
        "A=coo_matrix(A)#Changes the input matrix M to sparse form so that the solver won't crash the python kernel\n",
        "\n",
        "\"\"\"\n",
        "A=matrix(A)\n",
        "c=matrix(c)\n",
        "z=matrix(z)\n",
        "\"\"\"\n",
        "\n",
        "A=scipy_sparse_to_spmatrix(A)#Turns the scipy sparse array M into cvxopt sparse array\n",
        "c=matrix(c)#Turns numpy array objective function to cvxopt dense array\n",
        "z=matrix(z)\n",
        "\n",
        "sol=solvers.lp(c,A,z, solver='mosek')#Solves the linear program"
      ],
      "execution_count": 9,
      "outputs": [
        {
          "output_type": "stream",
          "text": [
            "Problem\n",
            "  Name                   :                 \n",
            "  Objective sense        : min             \n",
            "  Type                   : LO (linear optimization problem)\n",
            "  Constraints            : 2123776         \n",
            "  Cones                  : 0               \n",
            "  Scalar variables       : 2080            \n",
            "  Matrix variables       : 0               \n",
            "  Integer variables      : 0               \n",
            "\n",
            "Optimizer started.\n",
            "Presolve started.\n",
            "Eliminator - tries                  : 0                 time                   : 0.00            \n",
            "Lin. dep.  - tries                  : 0                 time                   : 0.00            \n",
            "Lin. dep.  - number                 : 0               \n",
            "Presolve terminated. Time: 0.87    \n",
            "Optimizer terminated. Time: 1.13    \n",
            "\n",
            "\n",
            "Interior-point solution summary\n",
            "  Problem status  : DUAL_INFEASIBLE\n",
            "  Solution status : DUAL_INFEASIBLE_CER\n",
            "  Primal.  obj: -4.0900086883e-04   nrm: 2e+00    Viol.  con: 0e+00    var: 0e+00  \n",
            "\n",
            "Basic solution summary\n",
            "  Problem status  : DUAL_INFEASIBLE\n",
            "  Solution status : DUAL_INFEASIBLE_CER\n",
            "  Primal.  obj: -4.0900086883e-04   nrm: 2e+00    Viol.  con: 0e+00    var: 0e+00  \n"
          ],
          "name": "stdout"
        }
      ]
    }
  ]
}