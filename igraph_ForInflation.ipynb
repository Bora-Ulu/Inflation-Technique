{
 "cells": [
  {
   "cell_type": "markdown",
   "metadata": {},
   "source": [
    "[![Open In Colab](https://colab.research.google.com/assets/colab-badge.svg)](https://colab.research.google.com/github/eliewolfe/d-separation/blob/main/igraph_playground.ipynb)"
   ]
  },
  {
   "cell_type": "code",
   "execution_count": 39,
   "metadata": {},
   "outputs": [
    {
     "data": {
      "text/plain": [
       "array([[1, 2],\n",
       "       [3, 4]])"
      ]
     },
     "execution_count": 39,
     "metadata": {},
     "output_type": "execute_result"
    }
   ],
   "source": [
    "import numpy as np\n",
    "from igraph import *"
   ]
  },
  {
   "cell_type": "code",
   "execution_count": 113,
   "metadata": {},
   "outputs": [],
   "source": [
    "#import pip\n",
    "#pip.main(['install','--upgrade','python-igraph'])"
   ]
  },
  {
   "cell_type": "code",
   "execution_count": 114,
   "metadata": {},
   "outputs": [],
   "source": [
    "#Here are some useful igraph commands:\n",
    "#get_inclist: can be used to obtain a vertex's parents or children\n",
    "#subcomponent: can be used to obtain a vertex's ancestors or descendants\n",
    "#all_st_mincuts: find screen off sets\n",
    "#all_minimal_st_separators()  find screen off sets, made not be useful output\n",
    "#minimum_size_separators() not sure what the difference is with previous, only works on undirected"
   ]
  },
  {
   "cell_type": "code",
   "execution_count": null,
   "metadata": {},
   "outputs": [],
   "source": [
    "#it may be much easier to use graph-tools https://graph-tool.skewed.de/static/doc/index.html, not on Windows\n",
    "#or networkx"
   ]
  },
  {
   "cell_type": "code",
   "execution_count": 186,
   "metadata": {},
   "outputs": [],
   "source": [
    "#Graph([(0,1), (0,2), (2,3), (3,4), (4,2), (2,5), (5,0), (6,3), (5,6)])"
   ]
  },
  {
   "cell_type": "code",
   "execution_count": 187,
   "metadata": {},
   "outputs": [
    {
     "data": {
      "text/plain": [
       "['U', 'L', 'X', 'A', 'B']"
      ]
     },
     "execution_count": 187,
     "metadata": {},
     "output_type": "execute_result"
    }
   ],
   "source": [
    "g=Graph.TupleList([('U','X'),('X','A'),('A','B'),('L','A'),('L','B')],directed=True);\n",
    "reorder=g.topological_sorting('out')\n",
    "reorder=np.argsort(reorder).tolist()\n",
    "g=g.permute_vertices(reorder)\n",
    "g.vs['name']"
   ]
  },
  {
   "cell_type": "code",
   "execution_count": 188,
   "metadata": {},
   "outputs": [
    {
     "data": {
      "text/plain": [
       "[(0, 2), (2, 3), (3, 4), (1, 3), (1, 4)]"
      ]
     },
     "execution_count": 188,
     "metadata": {},
     "output_type": "execute_result"
    }
   ],
   "source": [
    "[e.tuple for e in g.es]"
   ]
  },
  {
   "cell_type": "code",
   "execution_count": 189,
   "metadata": {},
   "outputs": [
    {
     "data": {
      "text/plain": [
       "[[], [], [0], [1, 2], [1, 3]]"
      ]
     },
     "execution_count": 189,
     "metadata": {},
     "output_type": "execute_result"
    }
   ],
   "source": [
    "parentslist=g.get_adjlist('in')\n",
    "parentslist"
   ]
  },
  {
   "cell_type": "code",
   "execution_count": 190,
   "metadata": {},
   "outputs": [
    {
     "data": {
      "text/plain": [
       "[[0], [1], [2, 0], [3, 1, 2, 0], [4, 1, 3, 2, 0]]"
      ]
     },
     "execution_count": 190,
     "metadata": {},
     "output_type": "execute_result"
    }
   ],
   "source": [
    "ancestorstable=[g.subcomponent(i,'in') for i in g.vs]\n",
    "ancestorstable"
   ]
  },
  {
   "cell_type": "code",
   "execution_count": 191,
   "metadata": {},
   "outputs": [
    {
     "data": {
      "text/plain": [
       "array([False, False,  True,  True,  True])"
      ]
     },
     "execution_count": 191,
     "metadata": {},
     "output_type": "execute_result"
    }
   ],
   "source": [
    "numbered_vertices=np.arange(g.vcount());\n",
    "rootvsnot=g.indegree()\n",
    "rootvsnot=np.array(rootvsnot,np.bool)\n",
    "rootvsnot"
   ]
  },
  {
   "cell_type": "code",
   "execution_count": 192,
   "metadata": {},
   "outputs": [],
   "source": [
    "nonroot_vertices=numbered_vertices[rootvsnot]\n",
    "root_vertices=numbered_vertices[~rootvsnot]\n",
    "latent_count=len(root_vertices)"
   ]
  },
  {
   "cell_type": "code",
   "execution_count": 193,
   "metadata": {},
   "outputs": [
    {
     "data": {
      "text/plain": [
       "[array([0]), array([1]), array([0]), array([0, 1]), array([0, 1])]"
      ]
     },
     "execution_count": 193,
     "metadata": {},
     "output_type": "execute_result"
    }
   ],
   "source": [
    "root_structure=[np.intersect1d(anc,root_vertices) for anc in ancestorstable]\n",
    "root_structure"
   ]
  },
  {
   "cell_type": "code",
   "execution_count": 194,
   "metadata": {},
   "outputs": [
    {
     "data": {
      "text/plain": [
       "array([[0, 3],\n",
       "       [0, 4]])"
      ]
     },
     "execution_count": 194,
     "metadata": {},
     "output_type": "execute_result"
    }
   ],
   "source": [
    "determinism_concerns=np.array([[l,idx] for idx,setpair in enumerate(zip(root_structure,parentslist)) for l in np.setdiff1d(*setpair) if l!=idx])\n",
    "determinism_concerns"
   ]
  },
  {
   "cell_type": "code",
   "execution_count": 195,
   "metadata": {},
   "outputs": [
    {
     "data": {
      "text/plain": [
       "[[0, 2, 3, 4], [1, 3, 4]]"
      ]
     },
     "execution_count": 195,
     "metadata": {},
     "output_type": "execute_result"
    }
   ],
   "source": [
    "rootdecendantstable=[g.subcomponent(i,'out') for i in root_vertices]\n",
    "rootdecendantstable"
   ]
  },
  {
   "cell_type": "code",
   "execution_count": 196,
   "metadata": {},
   "outputs": [
    {
     "data": {
      "text/plain": [
       "[(0, None), (0, None)]"
      ]
     },
     "execution_count": 196,
     "metadata": {},
     "output_type": "execute_result"
    }
   ],
   "source": [
    "[(concern[0],np.intersect1d(rootdecendantstable[concern[0]],parentslist[concern[1]]).tolist().append(concern[1])) for concern in determinism_concerns]"
   ]
  },
  {
   "cell_type": "code",
   "execution_count": 197,
   "metadata": {},
   "outputs": [
    {
     "data": {
      "text/plain": [
       "[[2], [3]]"
      ]
     },
     "execution_count": 197,
     "metadata": {},
     "output_type": "execute_result"
    }
   ],
   "source": [
    "g.all_minimal_st_separators()"
   ]
  },
  {
   "cell_type": "code",
   "execution_count": 198,
   "metadata": {},
   "outputs": [
    {
     "data": {
      "text/plain": [
       "[(0, [2, 3]), (0, [3, 4])]"
      ]
     },
     "execution_count": 198,
     "metadata": {},
     "output_type": "execute_result"
    }
   ],
   "source": [
    "def FindScreenSet(concern):\n",
    "    L=concern[0];\n",
    "    V=concern[1];\n",
    "    upcone_ofL=np.array(rootdecendantstable[L])\n",
    "    downcone_ofV=np.array(parentslist[V])\n",
    "    screeningset=np.intersect1d(upcone_ofL,downcone_ofV).tolist()\n",
    "    screeningset.append(V)\n",
    "    return screeningset\n",
    "[(concern[0],FindScreenSet(concern)) for concern in determinism_concerns]"
   ]
  },
  {
   "cell_type": "code",
   "execution_count": null,
   "metadata": {},
   "outputs": [],
   "source": []
  }
 ],
 "metadata": {
  "kernelspec": {
   "display_name": "idp",
   "language": "python",
   "name": "idp"
  },
  "language_info": {
   "codemirror_mode": {
    "name": "ipython",
    "version": 3
   },
   "file_extension": ".py",
   "mimetype": "text/x-python",
   "name": "python",
   "nbconvert_exporter": "python",
   "pygments_lexer": "ipython3",
   "version": "3.7.9"
  }
 },
 "nbformat": 4,
 "nbformat_minor": 4
}
