{
 "cells": [
  {
   "cell_type": "code",
   "execution_count": 1,
   "metadata": {},
   "outputs": [],
   "source": [
    "%reload_ext autoreload\n",
    "from igraph import Graph\n",
    "import numpy as np\n",
    "#import time\n",
    "#from numba import njit\n",
    "from scipy.sparse import coo_matrix, dok_matrix, csr_matrix\n",
    "#from collections import defaultdict\n",
    "#import json\n",
    "import importlib\n",
    "#from __future__ import absolute_import \n",
    "import os\n",
    "os.environ['PYTHONUNBUFFERED'] = '1'"
   ]
  },
  {
   "cell_type": "code",
   "execution_count": 11,
   "metadata": {},
   "outputs": [],
   "source": [
    "TriangleData=[0.12199995751046305, 0.0022969343799089472, 0.001748319476328954, 3.999015242496535e-05, 0.028907881434196828, 0.0005736087488455967, 0.0003924033706699725, 1.1247230369521505e-05, 0.0030142577390317635, 0.09234476010282468, 4.373922921480586e-05, 0.0014533921021948346, 0.0007798079722868244, 0.024091567451515063, 1.1247230369521505e-05, 0.0003849052170902915, 0.020774884184769502, 0.000396152447459813, 0.0003049249122403608, 4.998769053120669e-06, 0.10820335492385, 0.0020794879260981982, 0.0015546171755205281, 2.4993845265603346e-05, 0.0006260958239033638, 0.020273757587194154, 7.498153579681003e-06, 0.0003374169110856452, 0.0028942872817568676, 0.08976414557915113, 2.624353752888351e-05, 0.0012984302615480939, 0.002370666223442477, 4.7488306004646356e-05, 0.0999928767540993, 0.001957018084296742, 0.0006198473625869629, 8.747845842961171e-06, 0.02636975644747481, 0.0005198719815245496, 1.4996307159362007e-05, 0.000403650601039494, 0.0005498645958432735, 0.017359475229224805, 7.123245900696953e-05, 0.002346922070440154, 0.0033754188031197316, 0.10295964618712641, 0.00038740460161685187, 7.498153579681003e-06, 0.01608353942841575, 0.000306174604503641, 0.0021319750011559654, 4.248953695152569e-05, 0.09107007399427891, 0.001860791780024169, 5.998522863744803e-05, 0.0018395470115484063, 0.002570616985567304, 0.0766411271224461, 1.874538394920251e-05, 0.00048238121362614454, 0.0006410921310627258, 0.020223769896662948]\n",
    "InstrumentalData=np.zeros(8);\n",
    "InstrumentalData[0]=0.5;\n",
    "InstrumentalData[5]=0.5;\n",
    "\n",
    "inflation_order=2\n",
    "TriangleGraph=Graph.Formula(\"X->A,Y->A:B,Z->B:C,X->C\")\n",
    "EvansGraph=Graph.Formula(\"U3->A:C:D,U2->B:C:D,U1->A:B,A->C,B->D\")\n",
    "InstrumentalGraph=Graph.Formula(\"U1->X->A->B,U2->A:B\")\n",
    "#We are going to need to get some code to work with variable ordering.\n",
    "\n",
    "Graph=InstrumentalGraph\n",
    "Data=InstrumentalData\n",
    "card=2"
   ]
  },
  {
   "cell_type": "code",
   "execution_count": 12,
   "metadata": {},
   "outputs": [
    {
     "data": {
      "text/plain": [
       "[3, 10, ['X', 'A', 'B']]"
      ]
     },
     "execution_count": 12,
     "metadata": {},
     "output_type": "execute_result"
    }
   ],
   "source": [
    "from lib.quickgraph import LearnSomeInflationGraphParameters\n",
    "#importlib.reload(sys.modules['lib.quickgraph'])\n",
    "obs_count,num_vars,names=LearnSomeInflationGraphParameters(Graph,inflation_order)\n",
    "[obs_count,num_vars,names]"
   ]
  },
  {
   "cell_type": "code",
   "execution_count": 17,
   "metadata": {},
   "outputs": [
    {
     "name": "stdout",
     "output_type": "stream",
     "text": [
      "['X', 'A', 'B']\n"
     ]
    }
   ],
   "source": [
    "from lib.inflationmatrix import InflationMatrixFromGraph,FindB\n",
    "#importlib.reload(sys.modules['lib.inflationmatrix'])\n",
    "SparseInflationMatrix = InflationMatrixFromGraph(Graph,inflation_order,card)"
   ]
  },
  {
   "cell_type": "code",
   "execution_count": 19,
   "metadata": {},
   "outputs": [
    {
     "data": {
      "text/plain": [
       "[(36,), (36, 98)]"
      ]
     },
     "execution_count": 19,
     "metadata": {},
     "output_type": "execute_result"
    }
   ],
   "source": [
    "MarginalVector=FindB(Data,inflation_order)\n",
    "[MarginalVector.shape,SparseInflationMatrix.shape]"
   ]
  },
  {
   "cell_type": "code",
   "execution_count": 28,
   "metadata": {
    "collapsed": true,
    "jupyter": {
     "outputs_hidden": true
    }
   },
   "outputs": [
    {
     "name": "stdout",
     "output_type": "stream",
     "text": [
      "Setting up LP in CVXOPT...\n",
      "Initiating LP...\n",
      "Problem\n",
      "  Name                   :                 \n",
      "  Objective sense        : min             \n",
      "  Type                   : LO (linear optimization problem)\n",
      "  Constraints            : 2123777         \n",
      "  Cones                  : 0               \n",
      "  Scalar variables       : 2080            \n",
      "  Matrix variables       : 0               \n",
      "  Integer variables      : 0               \n",
      "\n",
      "Optimizer started.\n",
      "Problem\n",
      "  Name                   :                 \n",
      "  Objective sense        : min             \n",
      "  Type                   : LO (linear optimization problem)\n",
      "  Constraints            : 2123777         \n",
      "  Cones                  : 0               \n",
      "  Scalar variables       : 2080            \n",
      "  Matrix variables       : 0               \n",
      "  Integer variables      : 0               \n",
      "\n",
      "Optimizer  - threads                : 6               \n",
      "Optimizer  - solved problem         : the dual        \n",
      "Optimizer  - Constraints            : 2080\n",
      "Optimizer  - Cones                  : 0\n",
      "Optimizer  - Scalar variables       : 2123778           conic                  : 0               \n",
      "Optimizer  - Semi-definite variables: 0                 scalarized             : 0               \n",
      "Factor     - setup time             : 1.09              dense det. time        : 0.00            \n",
      "Factor     - ML order time          : 0.09              GP order time          : 0.00            \n",
      "Factor     - nonzeros before factor : 2.16e+06          after factor           : 2.16e+06        \n",
      "Factor     - dense dim.             : 0                 flops                  : 3.05e+09        \n",
      "ITE PFEAS    DFEAS    GFEAS    PRSTATUS   POBJ              DOBJ              MU       TIME  \n",
      "0   3.5e+00  5.1e+03  1.7e+00  0.00e+00   0.000000000e+00   0.000000000e+00   3.0e+00  2.11  \n",
      "1   3.5e+00  5.0e+03  1.7e+00  2.68e+02   1.037914164e-04   8.711891665e-01   3.0e+00  2.88  \n",
      "2   3.7e-01  5.4e+02  1.9e-01  1.74e+02   4.849015321e-04   4.076029626e+00   3.2e-01  3.31  \n",
      "3   2.8e-01  4.0e+02  1.4e-01  1.10e+00   4.798417958e-04   2.921507446e+00   2.4e-01  3.64  \n",
      "4   3.3e-03  4.8e+00  1.6e-03  1.08e+00   4.614080391e-04   3.221907806e-02   2.9e-03  4.05  \n",
      "5   3.9e-04  5.7e-01  2.0e-04  1.00e+00   1.129634813e-04   3.348277055e-03   3.4e-04  5.14  \n",
      "6   6.3e-05  9.2e-02  3.2e-05  9.99e-01   4.394263386e-05   3.436073712e-04   5.5e-05  6.27  \n",
      "7   4.3e-05  6.2e-02  2.1e-05  9.99e-01   1.818271062e-05   2.116695898e-04   3.7e-05  7.06  \n",
      "8   3.9e-05  5.6e-02  2.0e-05  1.00e+00   1.314577710e-05   1.866436131e-04   3.4e-05  7.42  \n",
      "9   1.0e-05  1.5e-02  1.0e-05  1.00e+00   -2.013318235e-05  1.234657563e-05   8.9e-06  8.53  \n",
      "10  7.5e-06  1.1e-02  1.2e-05  1.00e+00   -2.811195912e-05  -5.217788205e-06  6.5e-06  9.30  \n",
      "11  5.3e-06  7.8e-03  4.5e-05  1.00e+00   -3.531419762e-05  -1.945007229e-05  4.6e-06  10.03 \n",
      "12  4.0e-06  5.8e-03  5.9e-05  1.01e+00   -4.060520349e-05  -2.903504268e-05  3.5e-06  10.56 \n",
      "13  3.4e-06  4.9e-03  4.7e-05  1.01e+00   -4.342040625e-05  -3.385993283e-05  2.9e-06  10.94 \n",
      "14  3.3e-06  4.9e-03  4.5e-05  1.01e+00   -4.354748533e-05  -3.408460061e-05  2.9e-06  11.31 \n",
      "15  3.0e-06  4.4e-03  4.1e-05  1.01e+00   -4.510921498e-05  -3.665477046e-05  2.6e-06  11.67 \n",
      "16  2.5e-06  3.7e-03  3.0e-05  1.01e+00   -4.746143242e-05  -4.052783928e-05  2.2e-06  12.13 \n",
      "17  2.3e-06  3.4e-03  1.7e-05  1.01e+00   -4.840333579e-05  -4.207958277e-05  2.0e-06  12.52 \n",
      "18  1.7e-06  2.5e-03  3.4e-06  1.01e+00   -5.142232673e-05  -4.692336831e-05  1.5e-06  13.14 \n",
      "19  1.4e-06  2.0e-03  4.8e-06  1.00e+00   -5.352078654e-05  -5.010510040e-05  1.2e-06  13.58 \n",
      "20  9.6e-07  1.4e-03  1.0e-05  1.00e+00   -5.573427917e-05  -5.337691957e-05  8.4e-07  13.95 \n",
      "21  9.6e-07  1.4e-03  1.0e-05  1.00e+00   -5.573427917e-05  -5.337691957e-05  8.4e-07  14.61 \n",
      "22  1.3e-07  1.4e-04  9.9e-07  1.00e+00   -6.087416044e-05  -6.085866175e-05  8.2e-08  17.70 \n",
      "23  2.8e-08  3.0e-05  2.2e-07  1.00e+00   -6.152730274e-05  -6.152449308e-05  1.8e-08  20.53 \n",
      "25  1.3e-08  1.3e-05  9.6e-08  1.00e+00   -6.163647136e-05  -6.163531736e-05  8.0e-09  23.98 \n",
      "26  3.3e-09  3.5e-06  4.5e-08  9.99e-01   -6.170103312e-05  -6.170072992e-05  2.1e-09  25.50 \n",
      "27  1.4e-09  1.5e-06  1.9e-08  1.00e+00   -6.171440475e-05  -6.171428644e-05  8.6e-10  27.70 \n",
      "28  2.5e-10  2.7e-07  3.3e-09  1.00e+00   -6.172237749e-05  -6.172236087e-05  1.6e-10  29.16 \n",
      "29  1.4e-10  1.4e-07  1.8e-09  1.00e+00   -6.172322682e-05  -6.172321816e-05  8.5e-11  30.86 \n",
      "Basis identification started.\n",
      "Primal basis identification phase started.\n",
      "Primal basis identification phase terminated. Time: 37.97\n",
      "Dual basis identification phase started.\n",
      "Dual basis identification phase terminated. Time: 0.03\n",
      "Simplex reoptimization started.\n",
      "Primal simplex reoptimization started.\n",
      "ITER      DEGITER(%)  PFEAS       DFEAS       POBJ                  DOBJ                  TIME\n",
      "0         0.00        NA          3.02e-02    NA                    -6.172421192247e-05   0.09    \n",
      "2500      1.00        NA          0.00e+00    NA                    -7.156817245258e-05   1.00    \n",
      "5000      1.50        NA          0.00e+00    NA                    -6.648147342488e-05   1.64    \n",
      "7500      2.04        NA          0.00e+00    NA                    -6.485192553191e-05   2.25    \n",
      "10000     2.38        NA          0.00e+00    NA                    -6.404268174419e-05   2.84    \n",
      "12500     2.59        NA          0.00e+00    NA                    -6.323753191780e-05   3.44    \n",
      "15000     2.59        NA          0.00e+00    NA                    -6.273186489981e-05   4.05    \n",
      "17500     2.57        NA          0.00e+00    NA                    -6.222077905351e-05   4.67    \n",
      "20000     2.47        NA          0.00e+00    NA                    -6.179107899603e-05   5.42    \n",
      "20530     2.46        NA          0.00e+00    NA                    -6.172313592145e-05   5.78    \n",
      "Primal simplex reoptimization terminated. Time: 5.78    \n",
      "Simplex reoptimization terminated. Time: 5.89    \n",
      "Basis identification terminated. Time: 44.52\n",
      "Optimizer terminated. Time: 75.69   \n",
      "\n",
      "\n",
      "Interior-point solution summary\n",
      "  Problem status  : PRIMAL_AND_DUAL_FEASIBLE\n",
      "  Solution status : OPTIMAL\n",
      "  Primal.  obj: -6.1723226816e-05   nrm: 1e+00    Viol.  con: 2e-13    var: 0e+00  \n",
      "  Dual.    obj: -6.1723218163e-05   nrm: 3e-03    Viol.  con: 0e+00    var: 0e+00  \n",
      "\n",
      "Basic solution summary\n",
      "  Problem status  : PRIMAL_AND_DUAL_FEASIBLE\n",
      "  Solution status : OPTIMAL\n",
      "  Primal.  obj: -6.1724215822e-05   nrm: 1e+00    Viol.  con: 2e-08    var: 0e+00  \n",
      "  Dual.    obj: -6.1723135921e-05   nrm: 5e-03    Viol.  con: 5e-16    var: 2e-06  \n"
     ]
    }
   ],
   "source": [
    "\"\"\"from lib.inflationlp import InflationLP\n",
    "#importlib.reload(sys.modules['lib.inflationlp'])\n",
    "Sol=InflationLP(TriangleSparseInflationMatrix,MarginalVector)\"\"\";"
   ]
  },
  {
   "cell_type": "code",
   "execution_count": 28,
   "metadata": {
    "collapsed": false,
    "jupyter": {
     "outputs_hidden": false
    },
    "pycharm": {
     "name": "#%%\n"
    }
   },
   "outputs": [
    {
     "name": "stdout",
     "output_type": "stream",
     "text": [
      "Compiling 'lib\\\\moseklp.py'...\n",
      "Inferred variable count: 36\n",
      "LP constructed, initiated optimizer.\n",
      "Open file 'mosek_prob.jtask'\n",
      "Start writing.\n",
      "done writing. Time: 0.00\n",
      "\n",
      "Problem\n",
      "  Name                   :                 \n",
      "  Objective sense        : min             \n",
      "  Type                   : LO (linear optimization problem)\n",
      "  Constraints            : 98              \n",
      "  Cones                  : 0               \n",
      "  Scalar variables       : 36              \n",
      "  Matrix variables       : 0               \n",
      "  Integer variables      : 0               \n",
      "\n",
      "Optimizer started.\n",
      "Problem\n",
      "  Name                   :                 \n",
      "  Objective sense        : min             \n",
      "  Type                   : LO (linear optimization problem)\n",
      "  Constraints            : 98              \n",
      "  Cones                  : 0               \n",
      "  Scalar variables       : 36              \n",
      "  Matrix variables       : 0               \n",
      "  Integer variables      : 0               \n",
      "\n",
      "Optimizer  - threads                : 6               \n",
      "Optimizer  - solved problem         : the dual        \n",
      "Optimizer  - Constraints            : 16\n",
      "Optimizer  - Cones                  : 0\n",
      "Optimizer  - Scalar variables       : 114               conic                  : 0               \n",
      "Optimizer  - Semi-definite variables: 0                 scalarized             : 0               \n",
      "Factor     - setup time             : 0.00              dense det. time        : 0.00            \n",
      "Factor     - ML order time          : 0.00              GP order time          : 0.00            \n",
      "Factor     - nonzeros before factor : 82                after factor           : 121             \n",
      "Factor     - dense dim.             : 0                 flops                  : 1.57e+03        \n",
      "ITE PFEAS    DFEAS    GFEAS    PRSTATUS   POBJ              DOBJ              MU       TIME  \n",
      "0   1.9e+01  2.9e+01  1.3e+03  0.00e+00   -1.000000000e+00  4.506467530e+02   8.3e+00  0.00  \n",
      "1   4.2e-01  6.4e-01  2.9e+01  -9.13e-01  3.397633131e+00   1.599715275e+02   1.8e-01  0.01  \n",
      "2   6.4e-02  9.7e-02  4.4e+00  1.28e+00   2.141199677e+00   1.912041576e+01   2.8e-02  0.01  \n",
      "3   7.4e-03  1.1e-02  5.0e-01  2.13e+00   -1.938252731e-01  1.261474951e+00   3.2e-03  0.01  \n",
      "4   3.5e-04  5.2e-04  2.4e-02  6.60e-01   -4.932995555e-01  -4.130171831e-01  1.5e-04  0.01  \n",
      "5   1.2e-08  1.0e-07  5.0e-06  1.00e+00   -4.999991619e-01  -4.999821382e-01  2.9e-08  0.01  \n",
      "6   1.2e-12  1.0e-11  5.0e-10  1.00e+00   -4.999999999e-01  -4.999999982e-01  2.9e-12  0.01  \n",
      "7   1.8e-15  1.0e-15  5.0e-14  1.00e+00   -5.000000000e-01  -5.000000000e-01  2.9e-16  0.01  \n",
      "Optimizer terminated. Time: 0.03    \n",
      "\n",
      "Open file 'mosek_sol.json'\n",
      "\n",
      "Interior-point solution summary\n",
      "  Problem status  : PRIMAL_AND_DUAL_FEASIBLE\n",
      "  Solution status : OPTIMAL\n",
      "  Primal.  obj: -5.0000000000e-01   nrm: 1e+01    Viol.  con: 4e-15    var: 0e+00  \n",
      "  Dual.    obj: -5.0000000000e-01   nrm: 5e-01    Viol.  con: 0e+00    var: 0e+00  \n",
      "Problem status: prosta.prim_and_dual_feasSolution status: solsta.optimal"
     ]
    }
   ],
   "source": [
    "import compileall\n",
    "import sys\n",
    "compileall.compile_file(\"lib\\\\moseklp.py\",force=True)\n",
    "from lib.moseklp import InfeasibilityCertificate\n",
    "importlib.reload(sys.modules['lib.moseklp'])\n",
    "Sol=InfeasibilityCertificate(\n",
    "    TriangleSparseInflationMatrix,\n",
    "    MarginalVector)"
   ]
  },
  {
   "cell_type": "code",
   "execution_count": 29,
   "metadata": {},
   "outputs": [
    {
     "name": "stdout",
     "output_type": "stream",
     "text": [
      "Compiling 'lib\\\\certificate.py'...\n",
      "Distribution Compatibility Status: INCOMPATIBLE\n",
      "Writing to file: 'inequality_output.json'\n"
     ]
    }
   ],
   "source": [
    "import compileall\n",
    "import sys\n",
    "from lib.certificate import Inequality\n",
    "compileall.compile_file(\"lib\\\\certificate.py\",force=True)\n",
    "importlib.reload(sys.modules['lib.certificate'])\n",
    "solveroutputcleanedup=Inequality(Graph,inflation_order,card,\n",
    "           SparseInflationMatrix,MarginalVector,Sol)"
   ]
  },
  {
   "cell_type": "code",
   "execution_count": 32,
   "metadata": {},
   "outputs": [
    {
     "data": {
      "text/plain": [
       "dict_keys(['Order of variables', 'Raw rolver output', 'Inequality as string', 'Coefficients grouped by index', 'Coefficients grouped by symbol', 'Clean solver output', 'Symolic association'])"
      ]
     },
     "execution_count": 32,
     "metadata": {},
     "output_type": "execute_result"
    }
   ],
   "source": [
    "solveroutputcleanedup.keys()"
   ]
  },
  {
   "cell_type": "code",
   "execution_count": 33,
   "metadata": {},
   "outputs": [
    {
     "data": {
      "text/plain": [
       "['X', 'A', 'B']"
      ]
     },
     "execution_count": 33,
     "metadata": {},
     "output_type": "execute_result"
    }
   ],
   "source": [
    "solveroutputcleanedup['Order of variables']"
   ]
  },
  {
   "cell_type": "code",
   "execution_count": 34,
   "metadata": {},
   "outputs": [
    {
     "data": {
      "text/plain": [
       "defaultdict(list,\n",
       "            {'2': ['P(000)P(001)',\n",
       "              'P(000)P(010)',\n",
       "              'P(000)P(011)',\n",
       "              'P(000)P(100)',\n",
       "              'P(000)P(110)',\n",
       "              'P(000)P(111)',\n",
       "              'P(001)P(010)',\n",
       "              'P(001)P(011)',\n",
       "              'P(001)P(101)',\n",
       "              'P(001)P(110)',\n",
       "              'P(001)P(111)',\n",
       "              'P(010)P(011)',\n",
       "              'P(010)P(100)',\n",
       "              'P(010)P(101)',\n",
       "              'P(010)P(110)',\n",
       "              'P(011)P(100)',\n",
       "              'P(011)P(101)',\n",
       "              'P(011)P(111)',\n",
       "              'P(100)P(101)',\n",
       "              'P(100)P(110)',\n",
       "              'P(100)P(111)',\n",
       "              'P(101)P(110)',\n",
       "              'P(101)P(111)',\n",
       "              'P(110)P(111)'],\n",
       "             '-1': ['P(000)P(101)'],\n",
       "             '1': ['P(001)**2',\n",
       "              'P(010)**2',\n",
       "              'P(011)**2',\n",
       "              'P(100)**2',\n",
       "              'P(110)**2',\n",
       "              'P(111)**2'],\n",
       "             '3': ['P(001)P(100)', 'P(010)P(111)', 'P(011)P(110)']})"
      ]
     },
     "execution_count": 34,
     "metadata": {},
     "output_type": "execute_result"
    }
   ],
   "source": [
    "solveroutputcleanedup['Coefficients grouped by symbol']"
   ]
  }
 ],
 "metadata": {
  "kernelspec": {
   "display_name": "idp",
   "language": "python",
   "name": "idp"
  },
  "language_info": {
   "codemirror_mode": {
    "name": "ipython",
    "version": 3
   },
   "file_extension": ".py",
   "mimetype": "text/x-python",
   "name": "python",
   "nbconvert_exporter": "python",
   "pygments_lexer": "ipython3",
   "version": "3.7.9"
  }
 },
 "nbformat": 4,
 "nbformat_minor": 4
}