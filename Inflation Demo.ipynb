{
 "cells": [
  {
   "cell_type": "code",
   "execution_count": 1,
   "metadata": {},
   "outputs": [],
   "source": [
    "%reload_ext autoreload\n",
    "from igraph import Graph\n",
    "import numpy as np\n",
    "#import time\n",
    "#from numba import njit\n",
    "from scipy.sparse import coo_matrix, dok_matrix, csr_matrix\n",
    "#from collections import defaultdict\n",
    "#import json\n",
    "import importlib\n",
    "#from __future__ import absolute_import \n",
    "import os\n",
    "os.environ['PYTHONUNBUFFERED'] = '1'"
   ]
  },
  {
   "cell_type": "code",
   "execution_count": 2,
   "metadata": {},
   "outputs": [],
   "source": [
    "TriangleData=[0.12199995751046305, 0.0022969343799089472, 0.001748319476328954, 3.999015242496535e-05, 0.028907881434196828, 0.0005736087488455967, 0.0003924033706699725, 1.1247230369521505e-05, 0.0030142577390317635, 0.09234476010282468, 4.373922921480586e-05, 0.0014533921021948346, 0.0007798079722868244, 0.024091567451515063, 1.1247230369521505e-05, 0.0003849052170902915, 0.020774884184769502, 0.000396152447459813, 0.0003049249122403608, 4.998769053120669e-06, 0.10820335492385, 0.0020794879260981982, 0.0015546171755205281, 2.4993845265603346e-05, 0.0006260958239033638, 0.020273757587194154, 7.498153579681003e-06, 0.0003374169110856452, 0.0028942872817568676, 0.08976414557915113, 2.624353752888351e-05, 0.0012984302615480939, 0.002370666223442477, 4.7488306004646356e-05, 0.0999928767540993, 0.001957018084296742, 0.0006198473625869629, 8.747845842961171e-06, 0.02636975644747481, 0.0005198719815245496, 1.4996307159362007e-05, 0.000403650601039494, 0.0005498645958432735, 0.017359475229224805, 7.123245900696953e-05, 0.002346922070440154, 0.0033754188031197316, 0.10295964618712641, 0.00038740460161685187, 7.498153579681003e-06, 0.01608353942841575, 0.000306174604503641, 0.0021319750011559654, 4.248953695152569e-05, 0.09107007399427891, 0.001860791780024169, 5.998522863744803e-05, 0.0018395470115484063, 0.002570616985567304, 0.0766411271224461, 1.874538394920251e-05, 0.00048238121362614454, 0.0006410921310627258, 0.020223769896662948]\n",
    "InstrumentalData=np.zeros(8);\n",
    "InstrumentalData[0]=0.5;\n",
    "InstrumentalData[5]=0.5;\n",
    "\n",
    "inflation_order=2\n",
    "TriangleGraph=Graph.Formula(\"X->A,Y->A:B,Z->B:C,X->C\")\n",
    "EvansGraph=Graph.Formula(\"U3->A:C:D,U2->B:C:D,U1->A:B,A->C,B->D\")\n",
    "InstrumentalGraph=Graph.Formula(\"U1->X->A->B,U2->A:B\")\n",
    "#We are going to need to get some code to work with variable ordering.\n",
    "\n",
    "Graph=InstrumentalGraph\n",
    "Data=InstrumentalData\n",
    "card=2"
   ]
  },
  {
   "cell_type": "code",
   "execution_count": 3,
   "metadata": {},
   "outputs": [
    {
     "data": {
      "text/plain": [
       "[3, 10, ['X', 'A', 'B']]"
      ]
     },
     "execution_count": 3,
     "metadata": {},
     "output_type": "execute_result"
    }
   ],
   "source": [
    "from lib.quickgraph import LearnSomeInflationGraphParameters\n",
    "#importlib.reload(sys.modules['lib.quickgraph'])\n",
    "obs_count,num_vars,names=LearnSomeInflationGraphParameters(Graph,inflation_order)\n",
    "[obs_count,num_vars,names]"
   ]
  },
  {
   "cell_type": "code",
   "execution_count": 4,
   "metadata": {},
   "outputs": [
    {
     "name": "stdout",
     "output_type": "stream",
     "text": [
      "['X', 'A', 'B']\n"
     ]
    }
   ],
   "source": [
    "from lib.inflationmatrix import InflationMatrixFromGraph,FindB\n",
    "#importlib.reload(sys.modules['lib.inflationmatrix'])\n",
    "SparseInflationMatrix = InflationMatrixFromGraph(Graph,inflation_order,card)"
   ]
  },
  {
   "cell_type": "code",
   "execution_count": 5,
   "metadata": {},
   "outputs": [
    {
     "data": {
      "text/plain": [
       "[(36,), (36, 98)]"
      ]
     },
     "execution_count": 5,
     "metadata": {},
     "output_type": "execute_result"
    }
   ],
   "source": [
    "MarginalVector=FindB(Data,inflation_order)\n",
    "[MarginalVector.shape,SparseInflationMatrix.shape]"
   ]
  },
  {
   "cell_type": "code",
   "execution_count": 6,
   "metadata": {
    "collapsed": true,
    "jupyter": {
     "outputs_hidden": true
    }
   },
   "outputs": [],
   "source": [
    "\"\"\"from lib.inflationlp import InflationLP\n",
    "#importlib.reload(sys.modules['lib.inflationlp'])\n",
    "Sol=InflationLP(TriangleSparseInflationMatrix,MarginalVector)\"\"\";"
   ]
  },
  {
   "cell_type": "code",
   "execution_count": 26,
   "metadata": {
    "collapsed": false,
    "jupyter": {
     "outputs_hidden": false
    },
    "pycharm": {
     "name": "#%%\n"
    }
   },
   "outputs": [
    {
     "name": "stdout",
     "output_type": "stream",
     "text": [
      "Compiling 'lib\\\\moseklp.py'...\n",
      "Inferred variable count: 36\n",
      "LP constructed, initiated optimizer.\n",
      "Open file 'mosek_prob.jtask'\n",
      "Start writing.\n",
      "done writing. Time: 0.00\n",
      "\n",
      "Problem\n",
      "  Name                   :                 \n",
      "  Objective sense        : min             \n",
      "  Type                   : LO (linear optimization problem)\n",
      "  Constraints            : 98              \n",
      "  Cones                  : 0               \n",
      "  Scalar variables       : 36              \n",
      "  Matrix variables       : 0               \n",
      "  Integer variables      : 0               \n",
      "\n",
      "Optimizer started.\n",
      "Problem\n",
      "  Name                   :                 \n",
      "  Objective sense        : min             \n",
      "  Type                   : LO (linear optimization problem)\n",
      "  Constraints            : 98              \n",
      "  Cones                  : 0               \n",
      "  Scalar variables       : 36              \n",
      "  Matrix variables       : 0               \n",
      "  Integer variables      : 0               \n",
      "\n",
      "Optimizer  - threads                : 6               \n",
      "Optimizer  - solved problem         : the dual        \n",
      "Optimizer  - Constraints            : 36\n",
      "Optimizer  - Cones                  : 0\n",
      "Optimizer  - Scalar variables       : 232               conic                  : 0               \n",
      "Optimizer  - Semi-definite variables: 0                 scalarized             : 0               \n",
      "Factor     - setup time             : 0.00              dense det. time        : 0.00            \n",
      "Factor     - ML order time          : 0.00              GP order time          : 0.00            \n",
      "Factor     - nonzeros before factor : 102               after factor           : 141             \n",
      "Factor     - dense dim.             : 0                 flops                  : 1.87e+03        \n",
      "ITE PFEAS    DFEAS    GFEAS    PRSTATUS   POBJ              DOBJ              MU       TIME  \n",
      "0   2.1e+01  3.2e+00  3.6e+02  0.00e+00   -1.000000000e+00  -1.139116882e+02  1.0e+01  0.00  \n",
      "1   7.3e+00  1.1e+00  1.3e+02  -2.03e-01  -4.478338304e-01  -5.587518444e+01  3.5e+00  0.01  \n",
      "2   9.7e-01  1.5e-01  1.7e+01  1.28e+00   4.772484839e-02   -5.861213626e+00  4.6e-01  0.01  \n",
      "3   1.2e-01  1.9e-02  2.1e+00  9.80e-01   2.574847979e-02   -7.378271002e-01  5.9e-02  0.01  \n",
      "4   3.4e-03  2.9e-03  2.8e-01  9.95e-01   -1.011170650e-01  -2.030725045e-01  8.6e-03  0.01  \n",
      "5   1.5e-04  1.1e-05  3.9e-03  9.93e-01   -1.248624692e-01  -1.262637235e-01  6.6e-05  0.01  \n",
      "6   1.6e-08  1.1e-09  4.0e-07  1.00e+00   -1.249999856e-01  -1.250001289e-01  6.8e-09  0.01  \n",
      "7   1.6e-12  1.1e-13  4.0e-11  1.00e+00   -1.250000000e-01  -1.250000000e-01  6.8e-13  0.01  \n",
      "Optimizer terminated. Time: 0.03    \n",
      "\n",
      "Open file 'mosek_sol.json'\n",
      "\n",
      "Interior-point solution summary\n",
      "  Problem status  : PRIMAL_AND_DUAL_FEASIBLE\n",
      "  Solution status : OPTIMAL\n",
      "  Primal.  obj: -1.2500000000e-01   nrm: 1e+00    Viol.  con: 4e-13    var: 0e+00  \n",
      "  Dual.    obj: -1.2500000002e-01   nrm: 6e-02    Viol.  con: 7e-18    var: 0e+00  \n",
      "Problem status: prosta.prim_and_dual_feasSolution status: solsta.optimal"
     ]
    }
   ],
   "source": [
    "import compileall\n",
    "import sys\n",
    "compileall.compile_file(\"lib\\\\moseklp.py\",force=True)\n",
    "from lib.moseklp import InfeasibilityCertificate\n",
    "importlib.reload(sys.modules['lib.moseklp'])\n",
    "Sol=InfeasibilityCertificate(\n",
    "    SparseInflationMatrix,\n",
    "    MarginalVector)"
   ]
  },
  {
   "cell_type": "code",
   "execution_count": 27,
   "metadata": {},
   "outputs": [
    {
     "name": "stdout",
     "output_type": "stream",
     "text": [
      "Compiling 'lib\\\\certificate.py'...\n",
      "Distribution Compatibility Status: INCOMPATIBLE\n",
      "Writing to file: 'inequality_output.json'\n"
     ]
    }
   ],
   "source": [
    "import compileall\n",
    "import sys\n",
    "from lib.certificate import Inequality\n",
    "compileall.compile_file(\"lib\\\\certificate.py\",force=True)\n",
    "importlib.reload(sys.modules['lib.certificate'])\n",
    "solveroutputcleanedup=Inequality(Graph,inflation_order,card,\n",
    "           SparseInflationMatrix,MarginalVector,Sol)"
   ]
  },
  {
   "cell_type": "code",
   "execution_count": 28,
   "metadata": {},
   "outputs": [
    {
     "data": {
      "text/plain": [
       "dict_keys(['Order of variables', 'Raw rolver output', 'Inequality as string', 'Coefficients grouped by index', 'Coefficients grouped by symbol', 'Clean solver output', 'Symolic association'])"
      ]
     },
     "execution_count": 28,
     "metadata": {},
     "output_type": "execute_result"
    }
   ],
   "source": [
    "solveroutputcleanedup.keys()"
   ]
  },
  {
   "cell_type": "code",
   "execution_count": 29,
   "metadata": {},
   "outputs": [
    {
     "data": {
      "text/plain": [
       "['X', 'A', 'B']"
      ]
     },
     "execution_count": 29,
     "metadata": {},
     "output_type": "execute_result"
    }
   ],
   "source": [
    "solveroutputcleanedup['Order of variables']"
   ]
  },
  {
   "cell_type": "code",
   "execution_count": 30,
   "metadata": {},
   "outputs": [
    {
     "data": {
      "text/plain": [
       "defaultdict(list,\n",
       "            {'-1': ['P(000)P(101)'],\n",
       "             '1': ['P(001)P(100)',\n",
       "              'P(001)P(110)',\n",
       "              'P(001)P(111)',\n",
       "              'P(010)P(100)',\n",
       "              'P(010)P(110)',\n",
       "              'P(010)P(111)',\n",
       "              'P(011)P(100)',\n",
       "              'P(011)P(110)',\n",
       "              'P(011)P(111)']})"
      ]
     },
     "execution_count": 30,
     "metadata": {},
     "output_type": "execute_result"
    }
   ],
   "source": [
    "solveroutputcleanedup['Coefficients grouped by symbol']"
   ]
  },
  {
   "cell_type": "code",
   "execution_count": 31,
   "metadata": {},
   "outputs": [
    {
     "data": {
      "text/plain": [
       "[6.636913241209186e-13,\n",
       " 0.22682586044096542,\n",
       " 0.22682586044096542,\n",
       " 0.22682586044096542,\n",
       " 0.1504454788185834,\n",
       " -0.49999999999556133,\n",
       " 0.1504454788185825,\n",
       " 0.1504454788185825,\n",
       " 0.11341293022048271,\n",
       " 0.22682586044096542,\n",
       " 0.22682586044096542,\n",
       " 0.4999999999966551,\n",
       " 0.15044547881858206,\n",
       " 0.4999999999996523,\n",
       " 0.4999999999996523,\n",
       " 0.11341293022048271,\n",
       " 0.22682586044096542,\n",
       " 0.4999999999996523,\n",
       " 0.15044547881858295,\n",
       " 0.4999999999996523,\n",
       " 0.4999999999966551,\n",
       " 0.11341293022048271,\n",
       " 0.4999999999996523,\n",
       " 0.15044547881858206,\n",
       " 0.4999999999966551,\n",
       " 0.4999999999996523,\n",
       " 0.11341293022048271,\n",
       " 0.22682586044096542,\n",
       " 0.22682586044096542,\n",
       " 0.22682586044096542,\n",
       " 6.636913241209186e-13,\n",
       " 0.22682586044096542,\n",
       " 0.22682586044096542,\n",
       " 0.11341293022048271,\n",
       " 0.22682586044096542,\n",
       " 0.11341293022048271]"
      ]
     },
     "execution_count": 31,
     "metadata": {},
     "output_type": "execute_result"
    }
   ],
   "source": [
    "solveroutputcleanedup['Raw rolver output']"
   ]
  },
  {
   "cell_type": "code",
   "execution_count": 2,
   "metadata": {},
   "outputs": [],
   "source": [
    "test=[2,1,1,6,4,5,4]\n",
    "u,inv,idx=np.unique(test,return_index=True,return_inverse=True)"
   ]
  },
  {
   "cell_type": "code",
   "execution_count": 6,
   "metadata": {},
   "outputs": [
    {
     "data": {
      "text/plain": [
       "array([0, 1, 1, 3, 4, 5, 4], dtype=int64)"
      ]
     },
     "execution_count": 6,
     "metadata": {},
     "output_type": "execute_result"
    }
   ],
   "source": [
    "np.take(inv,idx)"
   ]
  },
  {
   "cell_type": "code",
   "execution_count": 7,
   "metadata": {},
   "outputs": [
    {
     "data": {
      "text/plain": [
       "array([0, 1, 1, 3, 4, 5, 4], dtype=int64)"
      ]
     },
     "execution_count": 7,
     "metadata": {},
     "output_type": "execute_result"
    }
   ],
   "source": [
    "inv.take(idx)"
   ]
  },
  {
   "cell_type": "code",
   "execution_count": 5,
   "metadata": {},
   "outputs": [
    {
     "data": {
      "text/plain": [
       "array([1, 0, 4, 5, 3], dtype=int64)"
      ]
     },
     "execution_count": 5,
     "metadata": {},
     "output_type": "execute_result"
    }
   ],
   "source": [
    "inv"
   ]
  },
  {
   "cell_type": "code",
   "execution_count": null,
   "metadata": {},
   "outputs": [],
   "source": []
  }
 ],
 "metadata": {
  "kernelspec": {
   "display_name": "idp",
   "language": "python",
   "name": "idp"
  },
  "language_info": {
   "codemirror_mode": {
    "name": "ipython",
    "version": 3
   },
   "file_extension": ".py",
   "mimetype": "text/x-python",
   "name": "python",
   "nbconvert_exporter": "python",
   "pygments_lexer": "ipython3",
   "version": "3.7.9"
  }
 },
 "nbformat": 4,
 "nbformat_minor": 4
}
