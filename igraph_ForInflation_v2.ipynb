{
 "cells": [
  {
   "cell_type": "markdown",
   "metadata": {},
   "source": [
    "[![Open In Colab](https://colab.research.google.com/assets/colab-badge.svg)](https://colab.research.google.com/github/eliewolfe/d-separation/blob/main/igraph_playground.ipynb)"
   ]
  },
  {
   "cell_type": "code",
   "execution_count": 1,
   "metadata": {},
   "outputs": [],
   "source": [
    "import numpy as np\n",
    "from scipy import sparse\n",
    "from igraph import *"
   ]
  },
  {
   "cell_type": "code",
   "execution_count": 2,
   "metadata": {},
   "outputs": [],
   "source": [
    "#import pip\n",
    "#pip.main(['install','--upgrade','python-igraph'])"
   ]
  },
  {
   "cell_type": "code",
   "execution_count": 3,
   "metadata": {},
   "outputs": [],
   "source": [
    "#Here are some useful igraph commands:\n",
    "#get_inclist: can be used to obtain a vertex's parents or children\n",
    "#subcomponent: can be used to obtain a vertex's ancestors or descendants\n",
    "#all_st_mincuts: find screen off sets\n",
    "#all_minimal_st_separators()  find screen off sets, made not be useful output\n",
    "#minimum_size_separators() not sure what the difference is with previous, only works on undirected\n",
    "\n",
    "#TOWARD IMPLEMENTING D-SEPERATION TEST\n",
    "#induced_subgraph\n",
    "#is_connected('WEAK')\n",
    "#as_undirected()\n",
    "#subcomponent(v,'ALL') #for a node\n",
    "#get_subisomorphisms_vf2\n",
    "#get_subisomorphisms_lad"
   ]
  },
  {
   "cell_type": "code",
   "execution_count": 4,
   "metadata": {},
   "outputs": [],
   "source": [
    "#it may be much easier to use graph-tools https://graph-tool.skewed.de/static/doc/index.html, not on Windows\n",
    "#or networkx"
   ]
  },
  {
   "cell_type": "code",
   "execution_count": 5,
   "metadata": {},
   "outputs": [],
   "source": [
    "#Graph([(0,1), (0,2), (2,3), (3,4), (4,2), (2,5), (5,0), (6,3), (5,6)])"
   ]
  },
  {
   "cell_type": "code",
   "execution_count": 6,
   "metadata": {},
   "outputs": [],
   "source": [
    "def ToTopologicalOrdering(g):\n",
    "    return g.permute_vertices(np.argsort(g.topological_sorting('out')).tolist())\n",
    "\n",
    "def ToCanonicalOrdering(g):\n",
    "    canonical_ordering=np.argsort(np.flip(np.argsort(g.canonical_permutation()))).tolist() #argsorted and flipped and argsorted to maintain topological ordering. Not critical, but why not.\n",
    "    return g.permute_vertices(canonical_ordering)\n",
    "\n",
    "def ToSparseRepresentation(g):\n",
    "    return sparse.lil_matrix(g.get_adjacency_sparse())"
   ]
  },
  {
   "cell_type": "code",
   "execution_count": 7,
   "metadata": {},
   "outputs": [],
   "source": [
    "def LearnParametersFromGraph(origgraph):\n",
    "    g=ToTopologicalOrdering(origgraph)\n",
    "    verts=g.vs\n",
    "    verts[\"parents\"]=g.get_adjlist('in');\n",
    "    verts[\"children\"]=g.get_adjlist('out');\n",
    "    verts[\"ancestors\"]=[g.subcomponent(i,'in') for i in g.vs]\n",
    "    verts[\"descendants\"]=[g.subcomponent(i,'out') for i in g.vs]\n",
    "    verts[\"indegree\"]=g.indegree()\n",
    "    verts[\"outdegree\"]=g.outdegree() #Not needed\n",
    "    verts[\"grandparents\"]=g.neighborhood(None, order=2, mode='in', mindist=2)\n",
    "    verts[\"parents_inclusive\"]=g.neighborhood(None, order=1, mode='in', mindist=0) #Not needed\n",
    "    has_grandparents=[idx for idx,v in enumerate(g.vs[\"grandparents\"]) if len(v)>=1]\n",
    "    verts[\"isroot\"]=[0==i for i in g.vs[\"indegree\"]]\n",
    "    root_vertices=verts.select(isroot = True).indices\n",
    "    nonroot_vertices=verts.select(isroot = False).indices\n",
    "    latent_count=len(root_vertices) #Not needed\n",
    "    verts[\"roots_of\"]=[np.intersect1d(anc,root_vertices).tolist() for anc in g.vs[\"ancestors\"]]\n",
    "    def FindScreeningOffSet(root,observed):\n",
    "        screeningset=np.intersect1d(root[\"descendants\"],observed[\"parents\"]).tolist()\n",
    "        screeningset.append(observed.index)\n",
    "        return screeningset\n",
    "    determinism_checks=[(root,FindScreeningOffSet(verts[root],v)) for v in g.vs[has_grandparents] for root in np.setdiff1d(v[\"roots_of\"],v[\"parents\"])]\n",
    "    return verts[\"name\"],verts[\"parents\"],verts[\"roots_of\"],determinism_checks"
   ]
  },
  {
   "cell_type": "code",
   "execution_count": 8,
   "metadata": {},
   "outputs": [
    {
     "name": "stdout",
     "output_type": "stream",
     "text": [
      "['U3', 'U2', 'U1', 'A', 'B', 'C', 'D']\n"
     ]
    },
    {
     "data": {
      "text/plain": [
       "[[[], [], [], [0, 2], [1, 2], [0, 1, 3], [0, 1, 4]],\n",
       " [[0], [1], [2], [0, 2], [1, 2], [0, 1, 2], [0, 1, 2]],\n",
       " [(2, [3, 5]), (2, [4, 6])]]"
      ]
     },
     "execution_count": 8,
     "metadata": {},
     "output_type": "execute_result"
    }
   ],
   "source": [
    "g=Graph.Formula(\"U3->A:C:D,U2->B:C:D,U1->A:B,A->C,B->D\")\n",
    "names,parents_of,roots_of,determinism_checks = LearnParametersFromGraph(g)\n",
    "print(names)\n",
    "[parents_of,roots_of,determinism_checks]"
   ]
  },
  {
   "cell_type": "code",
   "execution_count": 9,
   "metadata": {},
   "outputs": [
    {
     "data": {
      "text/plain": [
       "[[0, 1, 2, 3, 4, 5, 6], [4, 5, 3, 2, 0, 1, 6]]"
      ]
     },
     "execution_count": 9,
     "metadata": {},
     "output_type": "execute_result"
    }
   ],
   "source": [
    "g.get_isomorphisms_vf2()"
   ]
  },
  {
   "cell_type": "code",
   "execution_count": 12,
   "metadata": {},
   "outputs": [
    {
     "name": "stdout",
     "output_type": "stream",
     "text": [
      "IGRAPH DN-- 7 10 -- \n",
      "+ attr: name (v)\n",
      "+ edges (vertex names):\n",
      "U3->A, U3->C, U3->D, A->C, U2->C, U2->D, U2->B, B->D, U1->A, U1->B\n"
     ]
    }
   ],
   "source": [
    "print(g.summary(1))"
   ]
  },
  {
   "cell_type": "code",
   "execution_count": 13,
   "metadata": {},
   "outputs": [
    {
     "data": {
      "text/plain": [
       "True"
      ]
     },
     "execution_count": 13,
     "metadata": {},
     "output_type": "execute_result"
    }
   ],
   "source": [
    "~np.any(sparse.csr_matrix.toarray(ToSparseRepresentation(ToTopologicalOrdering(g))!=ToSparseRepresentation(ToCanonicalOrdering(g))))"
   ]
  },
  {
   "cell_type": "code",
   "execution_count": 14,
   "metadata": {},
   "outputs": [
    {
     "data": {
      "text/plain": [
       "array([[0, 0, 0, 1, 0, 1, 1],\n",
       "       [0, 0, 0, 0, 1, 1, 1],\n",
       "       [0, 0, 0, 1, 1, 0, 0],\n",
       "       [0, 0, 0, 0, 0, 1, 0],\n",
       "       [0, 0, 0, 0, 0, 0, 1],\n",
       "       [0, 0, 0, 0, 0, 0, 0],\n",
       "       [0, 0, 0, 0, 0, 0, 0]], dtype=int32)"
      ]
     },
     "execution_count": 14,
     "metadata": {},
     "output_type": "execute_result"
    }
   ],
   "source": [
    "ToSparseRepresentation(ToCanonicalOrdering(g)).toarray()"
   ]
  },
  {
   "cell_type": "code",
   "execution_count": 15,
   "metadata": {},
   "outputs": [
    {
     "name": "stdout",
     "output_type": "stream",
     "text": [
      "['U1', 'U2', 'X', 'A', 'B']\n"
     ]
    },
    {
     "data": {
      "text/plain": [
       "[[[], [], [0], [1, 2], [1, 3]],\n",
       " [[0], [1], [0], [0, 1], [0, 1]],\n",
       " [(0, [2, 3]), (0, [3, 4])]]"
      ]
     },
     "execution_count": 15,
     "metadata": {},
     "output_type": "execute_result"
    }
   ],
   "source": [
    "g=Graph.Formula(\"U1->X,X->A,A->B,U2->A:B\")\n",
    "names,parents_of,roots_of,determinism_checks = LearnParametersFromGraph(g)\n",
    "print(names)\n",
    "[parents_of,roots_of,determinism_checks]"
   ]
  },
  {
   "cell_type": "code",
   "execution_count": 16,
   "metadata": {},
   "outputs": [
    {
     "name": "stdout",
     "output_type": "stream",
     "text": [
      "['U1', 'U2', 'U3', 'C', 'A', 'B', 'D']\n"
     ]
    },
    {
     "data": {
      "text/plain": [
       "[[[], [], [], [0], [0, 2], [4], [2, 5]],\n",
       " [[0], [1], [2], [0], [0, 2], [0, 2], [0, 2]],\n",
       " [(0, [4, 5]), (2, [4, 5]), (0, [5, 6])]]"
      ]
     },
     "execution_count": 16,
     "metadata": {},
     "output_type": "execute_result"
    }
   ],
   "source": [
    "g=Graph.Formula(\"U1->A:C,U2:B:C:D,U3->A:D,A->B,B-->D\")\n",
    "names,parents_of,roots_of,determinism_checks = LearnParametersFromGraph(g)\n",
    "print(names)\n",
    "[parents_of,roots_of,determinism_checks]"
   ]
  },
  {
   "cell_type": "code",
   "execution_count": 17,
   "metadata": {},
   "outputs": [
    {
     "name": "stdout",
     "output_type": "stream",
     "text": [
      "['U1', 'U2', 'U3', 'A', 'B', 'C', 'D']\n",
      "[(0, 1), (0, 2), (1, 4), (2, 5), (4, 2), (6, 1), (6, 5)]\n"
     ]
    },
    {
     "data": {
      "text/plain": [
       "[[[], [], [], [0, 2], [3], [0, 4], [2, 5]],\n",
       " [[0], [1], [2], [0, 2], [0, 2], [0, 2], [0, 2]],\n",
       " [(0, [3, 4]), (2, [3, 4]), (2, [4, 5]), (0, [5, 6])]]"
      ]
     },
     "execution_count": 17,
     "metadata": {},
     "output_type": "execute_result"
    }
   ],
   "source": [
    "g=Graph.Formula(\"U1->A:C,U2:B:D,U3->A:D,A->B->C->D\")\n",
    "names,parents_of,roots_of,determinism_checks = LearnParametersFromGraph(g)\n",
    "print(names)\n",
    "print(g.get_edgelist())\n",
    "[parents_of,roots_of,determinism_checks]"
   ]
  },
  {
   "cell_type": "code",
   "execution_count": 18,
   "metadata": {},
   "outputs": [
    {
     "name": "stdout",
     "output_type": "stream",
     "text": [
      "[['U1', 'A'], ['U1', 'C'], ['A', 'B'], ['C', 'D'], ['B', 'C'], ['U3', 'A'], ['U3', 'D']]\n"
     ]
    }
   ],
   "source": [
    "lst=[v[\"name\"] for e in g.es for v in [*e.vertex_tuple]]\n",
    "print([lst[i:(i+2)] for i in range(0, len(lst), 2)])"
   ]
  },
  {
   "cell_type": "code",
   "execution_count": 19,
   "metadata": {},
   "outputs": [
    {
     "data": {
      "text/plain": [
       "'U1->A, U1->C, A->B, C->D, B->C, U3->A, U3->D'"
      ]
     },
     "execution_count": 19,
     "metadata": {},
     "output_type": "execute_result"
    }
   ],
   "source": [
    "g.summary(1).splitlines()[-1]"
   ]
  }
 ],
 "metadata": {
  "kernelspec": {
   "display_name": "idp",
   "language": "python",
   "name": "idp"
  },
  "language_info": {
   "codemirror_mode": {
    "name": "ipython",
    "version": 3
   },
   "file_extension": ".py",
   "mimetype": "text/x-python",
   "name": "python",
   "nbconvert_exporter": "python",
   "pygments_lexer": "ipython3",
   "version": "3.7.9"
  }
 },
 "nbformat": 4,
 "nbformat_minor": 4
}
