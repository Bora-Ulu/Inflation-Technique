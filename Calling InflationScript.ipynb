{
 "cells": [
  {
   "cell_type": "code",
   "execution_count": 24,
   "metadata": {},
   "outputs": [],
   "source": [
    "import importlib\n",
    "from igraph import *\n",
    "import numpy as np\n",
    "import time"
   ]
  },
  {
   "cell_type": "code",
   "execution_count": 25,
   "metadata": {},
   "outputs": [],
   "source": [
    "TriangleData=[0.12199995751046305, 0.0022969343799089472, 0.001748319476328954, 3.999015242496535e-05, 0.028907881434196828, 0.0005736087488455967, 0.0003924033706699725, 1.1247230369521505e-05, 0.0030142577390317635, 0.09234476010282468, 4.373922921480586e-05, 0.0014533921021948346, 0.0007798079722868244, 0.024091567451515063, 1.1247230369521505e-05, 0.0003849052170902915, 0.020774884184769502, 0.000396152447459813, 0.0003049249122403608, 4.998769053120669e-06, 0.10820335492385, 0.0020794879260981982, 0.0015546171755205281, 2.4993845265603346e-05, 0.0006260958239033638, 0.020273757587194154, 7.498153579681003e-06, 0.0003374169110856452, 0.0028942872817568676, 0.08976414557915113, 2.624353752888351e-05, 0.0012984302615480939, 0.002370666223442477, 4.7488306004646356e-05, 0.0999928767540993, 0.001957018084296742, 0.0006198473625869629, 8.747845842961171e-06, 0.02636975644747481, 0.0005198719815245496, 1.4996307159362007e-05, 0.000403650601039494, 0.0005498645958432735, 0.017359475229224805, 7.123245900696953e-05, 0.002346922070440154, 0.0033754188031197316, 0.10295964618712641, 0.00038740460161685187, 7.498153579681003e-06, 0.01608353942841575, 0.000306174604503641, 0.0021319750011559654, 4.248953695152569e-05, 0.09107007399427891, 0.001860791780024169, 5.998522863744803e-05, 0.0018395470115484063, 0.002570616985567304, 0.0766411271224461, 1.874538394920251e-05, 0.00048238121362614454, 0.0006410921310627258, 0.020223769896662948]\n",
    "\n",
    "inflation_order=2\n",
    "card=2\n",
    "TriangleGraph=Graph.Formula(\"X->A:C,Y->A:B,Z->B:C\")\n",
    "EvansGraph=Graph.Formula(\"U3->A:C:D,U2->B:C:D,U1->A:B,A->C,B->D\")\n",
    "g=EvansGraph"
   ]
  },
  {
   "cell_type": "code",
   "execution_count": 44,
   "metadata": {},
   "outputs": [],
   "source": [
    "try:\n",
    "    importlib.reload(inflation)\n",
    "except NameError:\n",
    "    import InitializeInflation as inflation"
   ]
  },
  {
   "cell_type": "code",
   "execution_count": 45,
   "metadata": {},
   "outputs": [
    {
     "name": "stdout",
     "output_type": "stream",
     "text": [
      "['A', 'B', 'C', 'D']\n",
      "It took 2.8089964389801025 seconds.\n",
      "(8, 322512)\n"
     ]
    }
   ],
   "source": [
    "start = time.time()\n",
    "EncodedA = inflation.InflationMatrixFromGraph(EvansGraph,2,2)\n",
    "print('It took', time.time()-start, 'seconds.')\n",
    "print(EncodedA.shape)"
   ]
  },
  {
   "cell_type": "code",
   "execution_count": 46,
   "metadata": {},
   "outputs": [
    {
     "name": "stdout",
     "output_type": "stream",
     "text": [
      "['A', 'B', 'C', 'D']\n",
      "It took 0.8389983177185059 seconds.\n",
      "(8, 322512)\n"
     ]
    }
   ],
   "source": [
    "start = time.time()\n",
    "valid_column_orbits = inflation.ValidColumnOrbitsFromGraph(EvansGraph,2,2)\n",
    "print('It took', time.time()-start, 'seconds.')\n",
    "print(valid_column_orbits.shape)"
   ]
  },
  {
   "cell_type": "code",
   "execution_count": 43,
   "metadata": {},
   "outputs": [
    {
     "name": "stdout",
     "output_type": "stream",
     "text": [
      "['A', 'C', 'B']\n",
      "It took 1.2579984664916992 seconds.\n",
      "(8, 2123776)\n"
     ]
    }
   ],
   "source": [
    "start = time.time()\n",
    "EncodedA = inflation.InflationMatrixFromGraph(TriangleGraph,2,4)\n",
    "print('It took', time.time()-start, 'seconds.')\n",
    "print(EncodedA.shape)"
   ]
  },
  {
   "cell_type": "code",
   "execution_count": 47,
   "metadata": {},
   "outputs": [
    {
     "name": "stdout",
     "output_type": "stream",
     "text": [
      "['A', 'C', 'B']\n",
      "It took 0.8180005550384521 seconds.\n",
      "(8, 322512)\n"
     ]
    }
   ],
   "source": [
    "start = time.time()\n",
    "valid_column_orbits = inflation.ValidColumnOrbitsFromGraph(TriangleGraph,2,4)\n",
    "print('It took', time.time()-start, 'seconds.')\n",
    "print(EncodedA.shape)"
   ]
  },
  {
   "cell_type": "code",
   "execution_count": null,
   "metadata": {},
   "outputs": [],
   "source": []
  }
 ],
 "metadata": {
  "kernelspec": {
   "display_name": "idp",
   "language": "python",
   "name": "idp"
  },
  "language_info": {
   "codemirror_mode": {
    "name": "ipython",
    "version": 3
   },
   "file_extension": ".py",
   "mimetype": "text/x-python",
   "name": "python",
   "nbconvert_exporter": "python",
   "pygments_lexer": "ipython3",
   "version": "3.7.9"
  }
 },
 "nbformat": 4,
 "nbformat_minor": 4
}
