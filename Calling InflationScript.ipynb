{
 "cells": [
  {
   "cell_type": "code",
   "execution_count": 1,
   "metadata": {},
   "outputs": [],
   "source": [
    "import importlib\n",
    "from igraph import *\n",
    "import numpy as np\n",
    "import time\n",
    "from numba import njit\n",
    "from scipy.sparse import coo_matrix"
   ]
  },
  {
   "cell_type": "code",
   "execution_count": 2,
   "metadata": {},
   "outputs": [],
   "source": [
    "TriangleData=[0.12199995751046305, 0.0022969343799089472, 0.001748319476328954, 3.999015242496535e-05, 0.028907881434196828, 0.0005736087488455967, 0.0003924033706699725, 1.1247230369521505e-05, 0.0030142577390317635, 0.09234476010282468, 4.373922921480586e-05, 0.0014533921021948346, 0.0007798079722868244, 0.024091567451515063, 1.1247230369521505e-05, 0.0003849052170902915, 0.020774884184769502, 0.000396152447459813, 0.0003049249122403608, 4.998769053120669e-06, 0.10820335492385, 0.0020794879260981982, 0.0015546171755205281, 2.4993845265603346e-05, 0.0006260958239033638, 0.020273757587194154, 7.498153579681003e-06, 0.0003374169110856452, 0.0028942872817568676, 0.08976414557915113, 2.624353752888351e-05, 0.0012984302615480939, 0.002370666223442477, 4.7488306004646356e-05, 0.0999928767540993, 0.001957018084296742, 0.0006198473625869629, 8.747845842961171e-06, 0.02636975644747481, 0.0005198719815245496, 1.4996307159362007e-05, 0.000403650601039494, 0.0005498645958432735, 0.017359475229224805, 7.123245900696953e-05, 0.002346922070440154, 0.0033754188031197316, 0.10295964618712641, 0.00038740460161685187, 7.498153579681003e-06, 0.01608353942841575, 0.000306174604503641, 0.0021319750011559654, 4.248953695152569e-05, 0.09107007399427891, 0.001860791780024169, 5.998522863744803e-05, 0.0018395470115484063, 0.002570616985567304, 0.0766411271224461, 1.874538394920251e-05, 0.00048238121362614454, 0.0006410921310627258, 0.020223769896662948]\n",
    "\n",
    "inflation_order=2\n",
    "card=2\n",
    "TriangleGraph=Graph.Formula(\"X->A,Y->A:B,Z->B:C,X->C\")\n",
    "EvansGraph=Graph.Formula(\"U3->A:C:D,U2->B:C:D,U1->A:B,A->C,B->D\")\n",
    "InstrumentalGraph=Graph.Formula(\"U1->X->A->B,U2->A:B\")\n",
    "#We are going to need to get some code to work with variable ordering."
   ]
  },
  {
   "cell_type": "code",
   "execution_count": 3,
   "metadata": {},
   "outputs": [],
   "source": [
    "try:\n",
    "    importlib.reload(inflation)\n",
    "except NameError:\n",
    "    import InitializeInflation as inflation"
   ]
  },
  {
   "cell_type": "code",
   "execution_count": 4,
   "metadata": {},
   "outputs": [
    {
     "name": "stdout",
     "output_type": "stream",
     "text": [
      "['A', 'B', 'C', 'D']\n",
      "It took 5.44100022315979 seconds.\n",
      "(136, 322512)\n"
     ]
    }
   ],
   "source": [
    "start = time.time()\n",
    "EvansSparseInflationMatrix = inflation.InflationMatrixFromGraph(EvansGraph,2,2)\n",
    "print('It took', time.time()-start, 'seconds.')\n",
    "print(EvansSparseInflationMatrix.shape)"
   ]
  },
  {
   "cell_type": "code",
   "execution_count": 5,
   "metadata": {},
   "outputs": [
    {
     "name": "stdout",
     "output_type": "stream",
     "text": [
      "['A', 'B', 'C', 'D']\n",
      "It took 0.8419997692108154 seconds.\n",
      "(8, 322512)\n"
     ]
    }
   ],
   "source": [
    "start = time.time()\n",
    "valid_column_orbits = inflation.ValidColumnOrbitsFromGraph(EvansGraph,2,2)\n",
    "print('It took', time.time()-start, 'seconds.')\n",
    "print(valid_column_orbits.shape)"
   ]
  },
  {
   "cell_type": "code",
   "execution_count": 6,
   "metadata": {},
   "outputs": [
    {
     "name": "stdout",
     "output_type": "stream",
     "text": [
      "['A', 'B', 'C']\n",
      "It took 0.8799989223480225 seconds.\n",
      "(8, 2123776)\n"
     ]
    }
   ],
   "source": [
    "start = time.time()\n",
    "valid_column_orbits = inflation.ValidColumnOrbitsFromGraph(TriangleGraph,2,4)\n",
    "print('It took', time.time()-start, 'seconds.')\n",
    "print(valid_column_orbits.shape)"
   ]
  },
  {
   "cell_type": "code",
   "execution_count": 7,
   "metadata": {},
   "outputs": [
    {
     "name": "stdout",
     "output_type": "stream",
     "text": [
      "['A', 'B', 'C']\n"
     ]
    },
    {
     "data": {
      "text/plain": [
       "(2080, 2123776)"
      ]
     },
     "execution_count": 7,
     "metadata": {},
     "output_type": "execute_result"
    }
   ],
   "source": [
    "TriangleSparseInflationMatrix = inflation.InflationMatrixFromGraph(TriangleGraph,2,4)\n",
    "b=inflation.FindB(TriangleData,2)\n",
    "TriangleSparseInflationMatrix.shape"
   ]
  },
  {
   "cell_type": "code",
   "execution_count": 8,
   "metadata": {},
   "outputs": [],
   "source": [
    "TriangleSparseInflationMatrix2 = inflation.optimize_inflation_matrix(TriangleSparseInflationMatrix)"
   ]
  },
  {
   "cell_type": "code",
   "execution_count": 9,
   "metadata": {},
   "outputs": [
    {
     "name": "stdout",
     "output_type": "stream",
     "text": [
      "Preprocessing LP for efficiency boost...\n",
      "Initiating LP\n",
      "Problem\n",
      "  Name                   :                 \n",
      "  Objective sense        : min             \n",
      "  Type                   : LO (linear optimization problem)\n",
      "  Constraints            : 2123777         \n",
      "  Cones                  : 0               \n",
      "  Scalar variables       : 2080            \n",
      "  Matrix variables       : 0               \n",
      "  Integer variables      : 0               \n",
      "\n",
      "Optimizer started.\n",
      "Problem\n",
      "  Name                   :                 \n",
      "  Objective sense        : min             \n",
      "  Type                   : LO (linear optimization problem)\n",
      "  Constraints            : 2123777         \n",
      "  Cones                  : 0               \n",
      "  Scalar variables       : 2080            \n",
      "  Matrix variables       : 0               \n",
      "  Integer variables      : 0               \n",
      "\n",
      "Optimizer  - threads                : 6               \n",
      "Optimizer  - solved problem         : the dual        \n",
      "Optimizer  - Constraints            : 2080\n",
      "Optimizer  - Cones                  : 0\n",
      "Optimizer  - Scalar variables       : 2123778           conic                  : 0               \n",
      "Optimizer  - Semi-definite variables: 0                 scalarized             : 0               \n",
      "Factor     - setup time             : 1.05              dense det. time        : 0.00            \n",
      "Factor     - ML order time          : 0.11              GP order time          : 0.00            \n",
      "Factor     - nonzeros before factor : 2.16e+06          after factor           : 2.16e+06        \n",
      "Factor     - dense dim.             : 0                 flops                  : 3.05e+09        \n",
      "ITE PFEAS    DFEAS    GFEAS    PRSTATUS   POBJ              DOBJ              MU       TIME  \n",
      "0   3.5e+00  5.1e+03  1.7e+00  0.00e+00   0.000000000e+00   0.000000000e+00   3.0e+00  2.17  \n",
      "1   3.5e+00  5.0e+03  1.7e+00  2.68e+02   1.037914164e-04   8.711891665e-01   3.0e+00  2.61  \n",
      "2   3.7e-01  5.4e+02  1.9e-01  1.74e+02   4.849015321e-04   4.076029626e+00   3.2e-01  2.98  \n",
      "3   2.8e-01  4.0e+02  1.4e-01  1.10e+00   4.798417958e-04   2.921507446e+00   2.4e-01  3.27  \n",
      "4   3.3e-03  4.8e+00  1.6e-03  1.08e+00   4.614080391e-04   3.221907806e-02   2.9e-03  3.64  \n",
      "5   3.9e-04  5.7e-01  2.0e-04  1.00e+00   1.129634813e-04   3.348277055e-03   3.4e-04  4.70  \n",
      "6   6.3e-05  9.2e-02  3.2e-05  9.99e-01   4.394263386e-05   3.436073712e-04   5.5e-05  5.78  \n",
      "7   4.3e-05  6.2e-02  2.1e-05  9.99e-01   1.818271062e-05   2.116695898e-04   3.7e-05  6.50  \n",
      "8   3.9e-05  5.6e-02  2.0e-05  1.00e+00   1.314577710e-05   1.866436131e-04   3.4e-05  6.86  \n",
      "9   1.0e-05  1.5e-02  1.0e-05  1.00e+00   -2.013318235e-05  1.234657563e-05   8.9e-06  8.02  \n",
      "10  7.5e-06  1.1e-02  1.2e-05  1.00e+00   -2.811195912e-05  -5.217788205e-06  6.5e-06  8.73  \n",
      "11  5.3e-06  7.8e-03  4.5e-05  1.00e+00   -3.531419762e-05  -1.945007229e-05  4.6e-06  9.47  \n",
      "12  4.0e-06  5.8e-03  5.9e-05  1.01e+00   -4.060520349e-05  -2.903504268e-05  3.5e-06  10.02 \n",
      "13  3.4e-06  4.9e-03  4.7e-05  1.01e+00   -4.342040625e-05  -3.385993283e-05  2.9e-06  10.39 \n",
      "14  3.3e-06  4.9e-03  4.5e-05  1.01e+00   -4.354748533e-05  -3.408460061e-05  2.9e-06  10.75 \n",
      "15  3.0e-06  4.4e-03  4.1e-05  1.01e+00   -4.510921498e-05  -3.665477046e-05  2.6e-06  11.13 \n",
      "16  2.5e-06  3.7e-03  3.0e-05  1.01e+00   -4.746143242e-05  -4.052783928e-05  2.2e-06  11.59 \n",
      "17  2.3e-06  3.4e-03  1.7e-05  1.01e+00   -4.840333579e-05  -4.207958277e-05  2.0e-06  11.97 \n",
      "18  1.7e-06  2.5e-03  3.4e-06  1.01e+00   -5.142232673e-05  -4.692336831e-05  1.5e-06  12.58 \n",
      "19  1.4e-06  2.0e-03  4.8e-06  1.00e+00   -5.352078654e-05  -5.010510040e-05  1.2e-06  13.03 \n",
      "20  9.6e-07  1.4e-03  1.0e-05  1.00e+00   -5.573427917e-05  -5.337691957e-05  8.4e-07  13.39 \n",
      "21  9.6e-07  1.4e-03  1.0e-05  1.00e+00   -5.573427917e-05  -5.337691957e-05  8.4e-07  14.05 \n",
      "22  1.3e-07  1.4e-04  9.9e-07  1.00e+00   -6.087416044e-05  -6.085866175e-05  8.2e-08  17.09 \n",
      "23  2.8e-08  3.0e-05  2.2e-07  1.00e+00   -6.152730274e-05  -6.152449308e-05  1.8e-08  19.98 \n",
      "24  1.8e-08  1.9e-05  1.4e-07  1.00e+00   -6.159912875e-05  -6.159742458e-05  1.1e-08  21.56 \n",
      "25  1.3e-08  1.3e-05  9.6e-08  1.00e+00   -6.163647136e-05  -6.163531736e-05  8.0e-09  23.67 \n",
      "26  3.3e-09  3.5e-06  4.5e-08  9.99e-01   -6.170103312e-05  -6.170072992e-05  2.1e-09  25.19 \n",
      "27  1.4e-09  1.5e-06  1.9e-08  1.00e+00   -6.171440475e-05  -6.171428644e-05  8.6e-10  27.39 \n",
      "28  2.5e-10  2.7e-07  3.3e-09  1.00e+00   -6.172237749e-05  -6.172236087e-05  1.6e-10  28.84 \n",
      "29  1.4e-10  1.4e-07  1.8e-09  1.00e+00   -6.172322682e-05  -6.172321816e-05  8.5e-11  30.44 \n",
      "Basis identification started.\n",
      "Primal basis identification phase started.\n",
      "Primal basis identification phase terminated. Time: 34.95\n",
      "Dual basis identification phase started.\n",
      "Dual basis identification phase terminated. Time: 0.03\n",
      "Simplex reoptimization started.\n",
      "Primal simplex reoptimization started.\n",
      "ITER      DEGITER(%)  PFEAS       DFEAS       POBJ                  DOBJ                  TIME\n",
      "0         0.00        NA          3.02e-02    NA                    -6.172421192247e-05   0.09    \n",
      "2500      1.00        NA          0.00e+00    NA                    -7.156817245258e-05   1.05    \n",
      "5000      1.50        NA          0.00e+00    NA                    -6.648147342488e-05   1.69    \n",
      "7500      2.04        NA          0.00e+00    NA                    -6.485192553191e-05   2.30    \n",
      "10000     2.38        NA          0.00e+00    NA                    -6.404268174419e-05   2.89    \n",
      "12500     2.59        NA          0.00e+00    NA                    -6.323753191780e-05   3.48    \n",
      "15000     2.59        NA          0.00e+00    NA                    -6.273186489981e-05   4.09    \n",
      "17500     2.57        NA          0.00e+00    NA                    -6.222077905351e-05   4.70    \n",
      "20000     2.47        NA          0.00e+00    NA                    -6.179107899603e-05   5.44    \n",
      "20530     2.46        NA          0.00e+00    NA                    -6.172313592145e-05   5.80    \n",
      "Primal simplex reoptimization terminated. Time: 5.80    \n",
      "Simplex reoptimization terminated. Time: 5.91    \n",
      "Basis identification terminated. Time: 41.47\n",
      "Optimizer terminated. Time: 72.22   \n",
      "\n",
      "\n",
      "Interior-point solution summary\n",
      "  Problem status  : PRIMAL_AND_DUAL_FEASIBLE\n",
      "  Solution status : OPTIMAL\n",
      "  Primal.  obj: -6.1723226816e-05   nrm: 1e+00    Viol.  con: 2e-13    var: 0e+00  \n",
      "  Dual.    obj: -6.1723218163e-05   nrm: 3e-03    Viol.  con: 0e+00    var: 0e+00  \n",
      "\n",
      "Basic solution summary\n",
      "  Problem status  : PRIMAL_AND_DUAL_FEASIBLE\n",
      "  Solution status : OPTIMAL\n",
      "  Primal.  obj: -6.1724215822e-05   nrm: 1e+00    Viol.  con: 2e-08    var: 0e+00  \n",
      "  Dual.    obj: -6.1723135921e-05   nrm: 5e-03    Viol.  con: 5e-16    var: 2e-06  \n"
     ]
    }
   ],
   "source": [
    "Sol,epsilon=inflation.InflationLP(TriangleSparseInflationMatrix,b)"
   ]
  },
  {
   "cell_type": "code",
   "execution_count": 14,
   "metadata": {},
   "outputs": [
    {
     "data": {
      "text/plain": [
       "array([-2, -1,  0,  1,  2,  3,  4])"
      ]
     },
     "execution_count": 14,
     "metadata": {},
     "output_type": "execute_result"
    }
   ],
   "source": [
    "y=np.array(Sol);\n",
    "y[np.abs(y) < np.max(np.abs(y))/1000] = 0;\n",
    "y2=y/np.unique(np.abs(y))[1];\n",
    "y3=np.rint(y2).astype(np.int);\n",
    "y4=coo_matrix(y3.astype(np.int))\n",
    "np.unique(y3)"
   ]
  },
  {
   "cell_type": "code",
   "execution_count": 15,
   "metadata": {},
   "outputs": [
    {
     "data": {
      "text/plain": [
       "<2080x1 sparse matrix of type '<class 'numpy.int32'>'\n",
       "\twith 430 stored elements in COOrdinate format>"
      ]
     },
     "execution_count": 15,
     "metadata": {},
     "output_type": "execute_result"
    }
   ],
   "source": [
    "y4"
   ]
  },
  {
   "cell_type": "code",
   "execution_count": 16,
   "metadata": {},
   "outputs": [
    {
     "data": {
      "text/plain": [
       "0"
      ]
     },
     "execution_count": 16,
     "metadata": {},
     "output_type": "execute_result"
    }
   ],
   "source": [
    "\"Validation:\";\n",
    "(y4.T * TriangleSparseInflationMatrix).min()"
   ]
  },
  {
   "cell_type": "code",
   "execution_count": 17,
   "metadata": {},
   "outputs": [
    {
     "name": "stdout",
     "output_type": "stream",
     "text": [
      "{-2: array([  47,   59, 1117], dtype=int32)}\n",
      "{-1: array([ 63, 293], dtype=int32)}\n",
      "{1: array([  11,   15,   27,   31,   35,   39,  101,  113,  138,  343,  347,\n",
      "        355,  363,  376,  508,  509,  510,  512,  513,  514,  515,  523,\n",
      "        563,  564,  566,  567,  568,  569,  570,  617,  618,  619,  620,\n",
      "        621,  622,  623,  624,  671,  672,  673,  675,  676,  677,  737,\n",
      "        759,  763,  783,  787,  799,  803,  947, 1105, 1109, 1113, 1275,\n",
      "       1283, 1309, 1418, 1419, 1420, 1433, 1434, 1435, 1436, 1453, 1454,\n",
      "       1456, 1469, 1470, 1471, 1472, 1487, 1488, 1489, 1490, 1503, 1504,\n",
      "       1505, 1506, 1521, 1522, 1523, 1537, 1538, 1539, 1567, 1579, 1736,\n",
      "       1752, 1895, 1928, 1955, 1986], dtype=int32)}\n",
      "{2: array([   3,    7,   19,   23,  190,  194,  198,  202,  206,  210,  214,\n",
      "        218,  222,  226,  230,  234,  238,  242,  246,  253,  257,  265,\n",
      "        269,  273,  281,  285,  289,  428,  432,  436,  440,  444,  448,\n",
      "        452,  456,  460,  464,  468,  472,  476,  480,  487,  491,  495,\n",
      "        499,  503,  507,  511,  519,  524,  525,  526,  527,  579,  580,\n",
      "        581,  582,  633,  634,  635,  636,  650,  654,  658,  662,  666,\n",
      "        670,  674,  678,  682,  686,  687,  688,  689,  690,  694,  698,\n",
      "        705,  709,  713,  717,  721,  722,  723,  724,  725,  729,  733,\n",
      "        741,  742,  743,  744,  745,  773,  774,  775,  776,  793,  794,\n",
      "        796,  823,  824,  825,  826,  843,  844,  845,  846,  856,  864,\n",
      "        868,  872,  873,  874,  875,  876,  880,  884,  888,  892,  893,\n",
      "        894,  895,  896,  900,  907,  911,  915,  919,  923,  927,  931,\n",
      "        939,  943,  951, 1046, 1050, 1054, 1058, 1062, 1066, 1070, 1074,\n",
      "       1078, 1082, 1086, 1093, 1097, 1121, 1125, 1220, 1224, 1228, 1232,\n",
      "       1236, 1240, 1244, 1248, 1252, 1256, 1263, 1267, 1268, 1269, 1270,\n",
      "       1271, 1272, 1273, 1274, 1279, 1284, 1285, 1286, 1287, 1291, 1295,\n",
      "       1299, 1307, 1308, 1310, 1311, 1312, 1313, 1314, 1323, 1324, 1325,\n",
      "       1326, 1345, 1346, 1347, 1348, 1349, 1350, 1351, 1352, 1361, 1362,\n",
      "       1363, 1364, 1378, 1382, 1383, 1384, 1385, 1386, 1387, 1388, 1389,\n",
      "       1390, 1394, 1398, 1399, 1400, 1401, 1402, 1406, 1410, 1417, 1421,\n",
      "       1422, 1423, 1424, 1425, 1429, 1437, 1441, 1445, 1449, 1457, 1458,\n",
      "       1459, 1460, 1491, 1492, 1493, 1494, 1520, 1524, 1525, 1526, 1527,\n",
      "       1528, 1532, 1536, 1544, 1548, 1555, 1559, 1563, 1571, 1575, 1583,\n",
      "       1646, 1650, 1654, 1658, 1662, 1666, 1670, 1677, 1681, 1689, 1693,\n",
      "       1697, 1756, 1760, 1764, 1768, 1772, 1776, 1783, 1787, 1791, 1795,\n",
      "       1799, 1803, 1850, 1854, 1858, 1862, 1866, 1873, 1877, 1881, 1885,\n",
      "       1889, 1936, 1940, 1947, 1951, 1959, 1990, 1994, 1998, 2005, 2009,\n",
      "       2036, 2040, 2047, 2051, 2066, 2073], dtype=int32)}\n",
      "{3: array([726, 727, 728, 738, 739, 740, 777, 778, 780, 789, 790, 792, 795,\n",
      "       827, 828, 829, 830, 839, 840, 841, 842, 877, 878, 879, 889, 890,\n",
      "       891], dtype=int32)}\n",
      "{4: array([779, 791], dtype=int32)}\n"
     ]
    }
   ],
   "source": [
    "from collections import defaultdict\n",
    "tally=defaultdict(list)\n",
    "[tally[item].append(y4.row[i]) for i,item in enumerate(y4.data)]\n",
    "for coefficient in np.unique(y4.data):\n",
    "    print({coefficient:np.array(tally[coefficient])})"
   ]
  },
  {
   "cell_type": "code",
   "execution_count": null,
   "metadata": {},
   "outputs": [],
   "source": []
  }
 ],
 "metadata": {
  "kernelspec": {
   "display_name": "idp",
   "language": "python",
   "name": "idp"
  },
  "language_info": {
   "codemirror_mode": {
    "name": "ipython",
    "version": 3
   },
   "file_extension": ".py",
   "mimetype": "text/x-python",
   "name": "python",
   "nbconvert_exporter": "python",
   "pygments_lexer": "ipython3",
   "version": "3.7.9"
  }
 },
 "nbformat": 4,
 "nbformat_minor": 4
}
