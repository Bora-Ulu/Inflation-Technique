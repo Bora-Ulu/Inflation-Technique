{
 "cells": [
  {
   "cell_type": "code",
   "execution_count": 1,
   "metadata": {},
   "outputs": [],
   "source": [
    "import importlib\n",
    "from igraph import *\n",
    "import numpy as np\n",
    "import time\n",
    "from numba import njit\n",
    "from scipy.sparse import coo_matrix"
   ]
  },
  {
   "cell_type": "code",
   "execution_count": 2,
   "metadata": {},
   "outputs": [],
   "source": [
    "TriangleData=[0.12199995751046305, 0.0022969343799089472, 0.001748319476328954, 3.999015242496535e-05, 0.028907881434196828, 0.0005736087488455967, 0.0003924033706699725, 1.1247230369521505e-05, 0.0030142577390317635, 0.09234476010282468, 4.373922921480586e-05, 0.0014533921021948346, 0.0007798079722868244, 0.024091567451515063, 1.1247230369521505e-05, 0.0003849052170902915, 0.020774884184769502, 0.000396152447459813, 0.0003049249122403608, 4.998769053120669e-06, 0.10820335492385, 0.0020794879260981982, 0.0015546171755205281, 2.4993845265603346e-05, 0.0006260958239033638, 0.020273757587194154, 7.498153579681003e-06, 0.0003374169110856452, 0.0028942872817568676, 0.08976414557915113, 2.624353752888351e-05, 0.0012984302615480939, 0.002370666223442477, 4.7488306004646356e-05, 0.0999928767540993, 0.001957018084296742, 0.0006198473625869629, 8.747845842961171e-06, 0.02636975644747481, 0.0005198719815245496, 1.4996307159362007e-05, 0.000403650601039494, 0.0005498645958432735, 0.017359475229224805, 7.123245900696953e-05, 0.002346922070440154, 0.0033754188031197316, 0.10295964618712641, 0.00038740460161685187, 7.498153579681003e-06, 0.01608353942841575, 0.000306174604503641, 0.0021319750011559654, 4.248953695152569e-05, 0.09107007399427891, 0.001860791780024169, 5.998522863744803e-05, 0.0018395470115484063, 0.002570616985567304, 0.0766411271224461, 1.874538394920251e-05, 0.00048238121362614454, 0.0006410921310627258, 0.020223769896662948]\n",
    "\n",
    "inflation_order=2\n",
    "card=2\n",
    "TriangleGraph=Graph.Formula(\"X->A:C,Y->A:B,Z->B:C\")\n",
    "EvansGraph=Graph.Formula(\"U3->A:C:D,U2->B:C:D,U1->A:B,A->C,B->D\")\n",
    "InstrumentalGraph=Graph.Formula(\"U1->X->A->B,U2->A:B\")\n"
   ]
  },
  {
   "cell_type": "code",
   "execution_count": 6,
   "metadata": {},
   "outputs": [],
   "source": [
    "try:\n",
    "    importlib.reload(inflation)\n",
    "except NameError:\n",
    "    import InitializeInflation as inflation"
   ]
  },
  {
   "cell_type": "code",
   "execution_count": 4,
   "metadata": {},
   "outputs": [
    {
     "name": "stdout",
     "output_type": "stream",
     "text": [
      "['A', 'B', 'C', 'D']\n",
      "It took 5.283998727798462 seconds.\n",
      "(8, 322512)\n"
     ]
    }
   ],
   "source": [
    "start = time.time()\n",
    "EncodedA = inflation.InflationMatrixFromGraph(EvansGraph,2,2)\n",
    "print('It took', time.time()-start, 'seconds.')\n",
    "print(EncodedA.shape)"
   ]
  },
  {
   "cell_type": "code",
   "execution_count": 5,
   "metadata": {},
   "outputs": [
    {
     "name": "stdout",
     "output_type": "stream",
     "text": [
      "['A', 'B', 'C', 'D']\n",
      "It took 0.8739967346191406 seconds.\n",
      "(8, 322512)\n"
     ]
    }
   ],
   "source": [
    "start = time.time()\n",
    "valid_column_orbits = inflation.ValidColumnOrbitsFromGraph(EvansGraph,2,2)\n",
    "print('It took', time.time()-start, 'seconds.')\n",
    "print(valid_column_orbits.shape)"
   ]
  },
  {
   "cell_type": "code",
   "execution_count": 9,
   "metadata": {},
   "outputs": [
    {
     "data": {
      "text/plain": [
       "<2080x2123776 sparse matrix of type '<class 'numpy.uint32'>'\n",
       "\twith 16990208 stored elements in COOrdinate format>"
      ]
     },
     "execution_count": 9,
     "metadata": {},
     "output_type": "execute_result"
    }
   ],
   "source": [
    "SciPyMat=inflation.SciPyArrayFromOnesPositions(EncodedA)\n",
    "SciPyMat"
   ]
  },
  {
   "cell_type": "code",
   "execution_count": 7,
   "metadata": {},
   "outputs": [
    {
     "name": "stdout",
     "output_type": "stream",
     "text": [
      "['A', 'C', 'B']\n",
      "Preprocessing LP for efficiency boost...\n",
      "Initiating LP\n",
      "Problem\n",
      "  Name                   :                 \n",
      "  Objective sense        : min             \n",
      "  Type                   : LO (linear optimization problem)\n",
      "  Constraints            : 2123777         \n",
      "  Cones                  : 0               \n",
      "  Scalar variables       : 2080            \n",
      "  Matrix variables       : 0               \n",
      "  Integer variables      : 0               \n",
      "\n",
      "Optimizer started.\n",
      "Problem\n",
      "  Name                   :                 \n",
      "  Objective sense        : min             \n",
      "  Type                   : LO (linear optimization problem)\n",
      "  Constraints            : 2123777         \n",
      "  Cones                  : 0               \n",
      "  Scalar variables       : 2080            \n",
      "  Matrix variables       : 0               \n",
      "  Integer variables      : 0               \n",
      "\n",
      "Optimizer  - threads                : 6               \n",
      "Optimizer  - solved problem         : the dual        \n",
      "Optimizer  - Constraints            : 2080\n",
      "Optimizer  - Cones                  : 0\n",
      "Optimizer  - Scalar variables       : 2123778           conic                  : 0               \n",
      "Optimizer  - Semi-definite variables: 0                 scalarized             : 0               \n",
      "Factor     - setup time             : 1.05              dense det. time        : 0.00            \n",
      "Factor     - ML order time          : 0.11              GP order time          : 0.00            \n",
      "Factor     - nonzeros before factor : 2.16e+06          after factor           : 2.16e+06        \n",
      "Factor     - dense dim.             : 0                 flops                  : 3.05e+09        \n",
      "ITE PFEAS    DFEAS    GFEAS    PRSTATUS   POBJ              DOBJ              MU       TIME  \n",
      "0   3.5e+00  5.1e+03  1.7e+00  0.00e+00   0.000000000e+00   0.000000000e+00   3.0e+00  2.09  \n",
      "1   3.5e+00  5.0e+03  1.7e+00  2.68e+02   1.037914164e-04   8.711891665e-01   3.0e+00  2.58  \n",
      "2   3.7e-01  5.4e+02  1.9e-01  1.74e+02   4.849015321e-04   4.076029626e+00   3.2e-01  2.94  \n",
      "3   2.8e-01  4.0e+02  1.4e-01  1.10e+00   4.798417958e-04   2.921507446e+00   2.4e-01  3.23  \n",
      "4   3.3e-03  4.8e+00  1.6e-03  1.08e+00   4.614080391e-04   3.221907771e-02   2.9e-03  3.63  \n",
      "5   3.9e-04  5.7e-01  2.0e-04  1.00e+00   1.129634587e-04   3.348275767e-03   3.4e-04  4.72  \n",
      "6   6.3e-05  9.2e-02  3.1e-05  9.99e-01   4.394257585e-05   3.436111450e-04   5.5e-05  5.83  \n",
      "7   4.3e-05  6.2e-02  2.3e-05  9.99e-01   1.818344263e-05   2.116690129e-04   3.7e-05  6.55  \n",
      "8   3.9e-05  5.6e-02  2.1e-05  1.00e+00   1.314615817e-05   1.866453505e-04   3.4e-05  6.92  \n",
      "9   1.0e-05  1.5e-02  1.1e-05  1.00e+00   -2.013540885e-05  1.232945477e-05   8.9e-06  8.05  \n",
      "10  7.5e-06  1.1e-02  1.2e-06  1.00e+00   -2.811440638e-05  -5.274410000e-06  6.5e-06  8.78  \n",
      "11  5.3e-06  7.8e-03  4.4e-05  1.00e+00   -3.531494638e-05  -1.946004152e-05  4.6e-06  9.55  \n",
      "12  4.0e-06  5.8e-03  2.7e-05  1.01e+00   -4.059667443e-05  -2.913129548e-05  3.5e-06  10.08 \n",
      "13  3.4e-06  4.9e-03  5.6e-05  1.01e+00   -4.342569148e-05  -3.384116875e-05  2.9e-06  10.47 \n",
      "14  3.3e-06  4.9e-03  5.5e-05  1.01e+00   -4.355146932e-05  -3.406005423e-05  2.9e-06  10.83 \n",
      "15  3.0e-06  4.4e-03  7.0e-05  1.01e+00   -4.510949023e-05  -3.656024908e-05  2.6e-06  11.22 \n",
      "16  2.5e-06  3.7e-03  5.7e-05  1.01e+00   -4.751625751e-05  -4.052792704e-05  2.2e-06  11.75 \n",
      "17  2.0e-06  2.9e-03  9.2e-05  1.00e+00   -5.018211238e-05  -4.466819983e-05  1.7e-06  12.47 \n",
      "18  1.8e-06  2.6e-03  7.6e-05  1.00e+00   -5.130068819e-05  -4.647034187e-05  1.5e-06  12.83 \n",
      "19  4.5e-07  6.3e-04  9.3e-05  1.00e+00   -5.846766012e-05  -5.796270881e-05  3.9e-07  13.92 \n",
      "20  2.5e-07  3.9e-04  6.9e-05  1.00e+00   -5.985581419e-05  -5.918783433e-05  2.2e-07  14.30 \n",
      "21  2.3e-07  3.5e-04  3.7e-05  1.01e+00   -6.000028027e-05  -5.947673201e-05  2.0e-07  14.70 \n",
      "22  1.8e-07  2.8e-04  3.4e-05  1.00e+00   -6.035309221e-05  -5.993389107e-05  1.6e-07  15.22 \n",
      "23  1.8e-07  2.8e-04  3.4e-05  1.01e+00   -6.035309221e-05  -5.993389107e-05  1.6e-07  15.67 \n",
      "24  1.1e-07  1.6e-04  2.0e-05  1.00e+00   -6.091497683e-05  -6.068209044e-05  9.3e-08  16.88 \n",
      "25  2.3e-08  3.0e-05  3.6e-06  1.00e+00   -6.155139630e-05  -6.152265994e-05  1.7e-08  18.30 \n",
      "26  2.2e-09  2.6e-06  3.2e-07  1.00e+00   -6.170798298e-05  -6.170635607e-05  1.5e-09  21.53 \n",
      "27  6.9e-10  8.0e-07  9.7e-08  1.00e+00   -6.171920348e-05  -6.171872261e-05  4.5e-10  23.86 \n",
      "28  4.2e-10  4.8e-07  5.9e-08  1.00e+00   -6.172115969e-05  -6.172087235e-05  2.8e-10  24.83 \n",
      "29  2.6e-10  3.0e-07  3.8e-08  1.00e+00   -6.172228521e-05  -6.172210633e-05  1.7e-10  26.80 \n",
      "30  2.2e-11  2.5e-08  3.1e-09  1.00e+00   -6.172404523e-05  -6.172403465e-05  1.4e-11  28.41 \n",
      "31  2.2e-11  2.5e-08  3.1e-09  1.00e+00   -6.172404523e-05  -6.172403465e-05  1.4e-11  29.52 \n",
      "32  2.1e-11  2.2e-08  2.7e-09  1.00e+00   -6.172406423e-05  -6.172405489e-05  1.3e-11  30.16 \n",
      "Basis identification started.\n",
      "Primal basis identification phase started.\n",
      "Primal basis identification phase terminated. Time: 32.28\n",
      "Dual basis identification phase started.\n",
      "Dual basis identification phase terminated. Time: 0.02\n",
      "Simplex reoptimization started.\n",
      "Primal simplex reoptimization started.\n",
      "ITER      DEGITER(%)  PFEAS       DFEAS       POBJ                  DOBJ                  TIME\n",
      "0         0.00        NA          1.46e-02    NA                    -6.172421730444e-05   0.09    \n",
      "2500      0.88        NA          0.00e+00    NA                    -7.130408185612e-05   1.00    \n",
      "5000      1.40        NA          0.00e+00    NA                    -6.619865701364e-05   1.63    \n",
      "7500      1.77        NA          0.00e+00    NA                    -6.483999248199e-05   2.23    \n",
      "10000     1.93        NA          0.00e+00    NA                    -6.384232640625e-05   2.84    \n",
      "12500     2.34        NA          0.00e+00    NA                    -6.305809909323e-05   3.45    \n",
      "15000     2.29        NA          0.00e+00    NA                    -6.252199688828e-05   4.11    \n",
      "17500     2.26        NA          0.00e+00    NA                    -6.210175137941e-05   4.73    \n",
      "20000     2.25        NA          0.00e+00    NA                    -6.174899245717e-05   5.42    \n",
      "20293     2.24        NA          0.00e+00    NA                    -6.172195708320e-05   5.83    \n",
      "Primal simplex reoptimization terminated. Time: 5.83    \n",
      "Simplex reoptimization terminated. Time: 5.94    \n",
      "Basis identification terminated. Time: 38.78\n",
      "Optimizer terminated. Time: 69.28   \n",
      "\n",
      "\n",
      "Interior-point solution summary\n",
      "  Problem status  : PRIMAL_AND_DUAL_FEASIBLE\n",
      "  Solution status : OPTIMAL\n",
      "  Primal.  obj: -6.1724064234e-05   nrm: 1e+00    Viol.  con: 5e-14    var: 0e+00  \n",
      "  Dual.    obj: -6.1724054887e-05   nrm: 3e-03    Viol.  con: 0e+00    var: 0e+00  \n",
      "\n",
      "Basic solution summary\n",
      "  Problem status  : PRIMAL_AND_DUAL_FEASIBLE\n",
      "  Solution status : OPTIMAL\n",
      "  Primal.  obj: -6.1724216828e-05   nrm: 1e+00    Viol.  con: 1e-12    var: 0e+00  \n",
      "  Dual.    obj: -6.1721957083e-05   nrm: 5e-03    Viol.  con: 5e-09    var: 3e-06  \n"
     ]
    }
   ],
   "source": [
    "EncodedA = inflation.InflationMatrixFromGraph(TriangleGraph,2,4)\n",
    "b=inflation.FindB(TriangleData,2)\n",
    "\n",
    "Sol,epsilon=inflation.InflationLP(EncodedA,b)"
   ]
  },
  {
   "cell_type": "code",
   "execution_count": 8,
   "metadata": {},
   "outputs": [
    {
     "data": {
      "text/plain": [
       "array([-2., -2., -2., -1., -1.,  0.,  1.,  1.,  1.,  1.,  1.,  1.,  1.,\n",
       "        1.,  1.,  1.,  1.,  1.,  1.,  1.,  1.,  1.,  1.,  1.,  1.,  1.,\n",
       "        1.,  1.,  1.,  1.,  1.,  1.,  1.,  1.,  1.,  1.,  1.,  1.,  1.,\n",
       "        1.,  1.,  1.,  1.,  1.,  1.,  1.,  1.,  1.,  1.,  1.,  1.,  1.,\n",
       "        1.,  1.,  1.,  1.,  1.,  1.,  1.,  1.,  1.,  1.,  1.,  1.,  1.,\n",
       "        1.,  1.,  1.,  1.,  1.,  1.,  1.,  1.,  1.,  1.,  1.,  1.,  1.,\n",
       "        1.,  1.,  1.,  1.,  1.,  1.,  1.,  1.,  1.,  1.,  1.,  1.,  1.,\n",
       "        1.,  1.,  1.,  1.,  1.,  1.,  2.,  2.,  2.,  2.,  2.,  2.,  2.,\n",
       "        2.,  2.,  2.,  2.,  2.,  2.,  2.,  2.,  2.,  2.,  2.,  2.,  2.,\n",
       "        2.,  2.,  2.,  2.,  2.,  2.,  2.,  2.,  2.,  2.,  2.,  2.,  2.,\n",
       "        2.,  2.,  2.,  2.,  2.,  2.,  2.,  2.,  2.,  2.,  2.,  2.,  2.,\n",
       "        2.,  2.,  2.,  2.,  2.,  2.,  2.,  2.,  2.,  2.,  2.,  2.,  2.,\n",
       "        2.,  2.,  2.,  2.,  2.,  2.,  2.,  2.,  2.,  2.,  2.,  2.,  2.,\n",
       "        2.,  2.,  2.,  2.,  2.,  2.,  2.,  2.,  2.,  2.,  2.,  2.,  2.,\n",
       "        2.,  2.,  2.,  2.,  2.,  2.,  2.,  2.,  2.,  2.,  2.,  2.,  2.,\n",
       "        2.,  2.,  2.,  2.,  2.,  2.,  2.,  2.,  2.,  2.,  2.,  2.,  2.,\n",
       "        2.,  2.,  2.,  2.,  2.,  2.,  2.,  2.,  2.,  2.,  2.,  2.,  2.,\n",
       "        2.,  2.,  2.,  2.,  2.,  2.,  2.,  2.,  2.,  2.,  2.,  2.,  2.,\n",
       "        2.,  2.,  2.,  2.,  2.,  2.,  2.,  2.,  2.,  2.,  2.,  2.,  2.,\n",
       "        2.,  2.,  2.,  2.,  2.,  2.,  2.,  2.,  2.,  2.,  2.,  2.,  2.,\n",
       "        2.,  2.,  2.,  2.,  2.,  2.,  2.,  2.,  2.,  2.,  2.,  2.,  2.,\n",
       "        2.,  2.,  2.,  2.,  2.,  2.,  2.,  2.,  2.,  2.,  2.,  2.,  2.,\n",
       "        2.,  2.,  2.,  2.,  3.,  3.,  3.,  3.,  3.,  3.,  3.,  3.,  3.,\n",
       "        3.,  3.,  3.,  3.,  3.,  3.,  3.,  3.,  3.,  3.,  3.,  3.,  3.,\n",
       "        3.,  3.,  3.,  3.,  3.,  4.,  4.])"
      ]
     },
     "execution_count": 8,
     "metadata": {},
     "output_type": "execute_result"
    }
   ],
   "source": [
    "y=np.array(Sol);\n",
    "y[np.abs(y) < np.max(np.abs(y))/1000] = 0;\n",
    "y2=y/np.unique(np.abs(y))[1];\n",
    "np.unique(y2)"
   ]
  },
  {
   "cell_type": "code",
   "execution_count": 9,
   "metadata": {},
   "outputs": [],
   "source": [
    "y3=coo_matrix(y2.astype(np.int))"
   ]
  },
  {
   "cell_type": "code",
   "execution_count": 10,
   "metadata": {},
   "outputs": [
    {
     "name": "stdout",
     "output_type": "stream",
     "text": [
      "{-2: array([  47,   59, 1117], dtype=int32)}\n",
      "{-1: array([ 63, 293], dtype=int32)}\n",
      "{1: array([  11,   15,   27,   31,   35,   39,  101,  113,  138,  343,  347,\n",
      "        355,  363,  376,  508,  509,  510,  512,  513,  514,  515,  523,\n",
      "        563,  564,  566,  567,  568,  569,  570,  617,  618,  619,  620,\n",
      "        621,  622,  623,  624,  671,  672,  673,  675,  676,  677,  737,\n",
      "        759,  763,  783,  787,  799,  803,  947, 1105, 1109, 1113, 1275,\n",
      "       1283, 1309, 1418, 1419, 1420, 1433, 1434, 1435, 1436, 1453, 1454,\n",
      "       1456, 1469, 1470, 1471, 1472, 1487, 1488, 1489, 1490, 1503, 1504,\n",
      "       1505, 1506, 1521, 1522, 1523, 1537, 1538, 1539, 1567, 1579, 1736,\n",
      "       1752, 1895, 1928, 1955, 1986], dtype=int32)}\n",
      "{2: array([   3,    7,   19,   23,  190,  194,  198,  202,  206,  210,  214,\n",
      "        218,  222,  226,  230,  234,  238,  242,  246,  253,  257,  265,\n",
      "        269,  273,  281,  285,  289,  428,  432,  436,  440,  444,  448,\n",
      "        452,  456,  460,  464,  468,  472,  476,  480,  487,  491,  495,\n",
      "        499,  503,  507,  511,  519,  524,  525,  526,  527,  579,  580,\n",
      "        581,  582,  633,  634,  635,  636,  650,  654,  658,  662,  666,\n",
      "        670,  674,  678,  682,  686,  687,  688,  689,  690,  694,  698,\n",
      "        705,  709,  713,  717,  721,  722,  723,  724,  725,  729,  733,\n",
      "        741,  742,  743,  744,  745,  773,  774,  775,  776,  793,  794,\n",
      "        796,  823,  824,  825,  826,  843,  844,  845,  846,  856,  864,\n",
      "        868,  872,  873,  874,  875,  876,  880,  884,  888,  892,  893,\n",
      "        894,  895,  896,  900,  907,  911,  915,  919,  923,  927,  931,\n",
      "        939,  943,  951, 1046, 1050, 1054, 1058, 1062, 1066, 1070, 1074,\n",
      "       1078, 1082, 1086, 1093, 1097, 1121, 1125, 1220, 1224, 1228, 1232,\n",
      "       1236, 1240, 1244, 1248, 1252, 1256, 1263, 1267, 1268, 1269, 1270,\n",
      "       1271, 1272, 1273, 1274, 1279, 1284, 1285, 1286, 1287, 1291, 1295,\n",
      "       1299, 1307, 1308, 1310, 1311, 1312, 1313, 1314, 1323, 1324, 1325,\n",
      "       1326, 1345, 1346, 1347, 1348, 1349, 1350, 1351, 1352, 1361, 1362,\n",
      "       1363, 1364, 1378, 1382, 1383, 1384, 1385, 1386, 1387, 1388, 1389,\n",
      "       1390, 1394, 1398, 1399, 1400, 1401, 1402, 1406, 1410, 1417, 1421,\n",
      "       1422, 1423, 1424, 1425, 1429, 1437, 1441, 1445, 1449, 1457, 1458,\n",
      "       1459, 1460, 1491, 1492, 1493, 1494, 1520, 1524, 1525, 1526, 1527,\n",
      "       1528, 1532, 1536, 1544, 1548, 1555, 1559, 1563, 1571, 1575, 1583,\n",
      "       1646, 1650, 1654, 1658, 1662, 1666, 1670, 1677, 1681, 1689, 1693,\n",
      "       1697, 1756, 1760, 1764, 1768, 1772, 1776, 1783, 1787, 1791, 1795,\n",
      "       1799, 1803, 1850, 1854, 1858, 1862, 1866, 1873, 1877, 1881, 1885,\n",
      "       1889, 1936, 1940, 1947, 1951, 1959, 1990, 1994, 1998, 2005, 2009,\n",
      "       2036, 2040, 2047, 2051, 2066, 2073], dtype=int32)}\n",
      "{3: array([726, 727, 728, 738, 739, 740, 777, 778, 780, 789, 790, 792, 795,\n",
      "       827, 828, 829, 830, 839, 840, 841, 842, 877, 878, 879, 889, 890,\n",
      "       891], dtype=int32)}\n",
      "{4: array([779, 791], dtype=int32)}\n"
     ]
    }
   ],
   "source": [
    "from collections import defaultdict\n",
    "tally=defaultdict(list)\n",
    "[tally[item].append(y3.row[i]) for i,item in enumerate(y3.data)]\n",
    "for coefficient in np.unique(y3.data):\n",
    "    print({coefficient:np.array(tally[coefficient])})"
   ]
  },
  {
   "cell_type": "code",
   "execution_count": 11,
   "metadata": {},
   "outputs": [
    {
     "data": {
      "text/plain": [
       "{'show_progress': True,\n",
       " 'mosek': {log: 10,\n",
       "  presolve_use: off,\n",
       "  presolve_lindep_use: off,\n",
       "  optimizer: free,\n",
       "  presolve_max_num_reductions: 0,\n",
       "  intpnt_solve_form: free,\n",
       "  sim_solve_form: free,\n",
       "  bi_clean_optimizer: primal_simplex,\n",
       "  intpnt_basis: always,\n",
       "  bi_max_iterations: 1000000}}"
      ]
     },
     "execution_count": 11,
     "metadata": {},
     "output_type": "execute_result"
    }
   ],
   "source": [
    "from cvxopt import solvers\n",
    "import mosek\n",
    "solvers.options"
   ]
  },
  {
   "cell_type": "code",
   "execution_count": null,
   "metadata": {},
   "outputs": [],
   "source": []
  }
 ],
 "metadata": {
  "kernelspec": {
   "display_name": "idp",
   "language": "python",
   "name": "idp"
  },
  "language_info": {
   "codemirror_mode": {
    "name": "ipython",
    "version": 3
   },
   "file_extension": ".py",
   "mimetype": "text/x-python",
   "name": "python",
   "nbconvert_exporter": "python",
   "pygments_lexer": "ipython3",
   "version": "3.7.9"
  }
 },
 "nbformat": 4,
 "nbformat_minor": 4
}
