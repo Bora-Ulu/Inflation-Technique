{
 "cells": [
  {
   "cell_type": "markdown",
   "metadata": {
    "colab_type": "text",
    "id": "view-in-github"
   },
   "source": [
    "<a href=\"https://colab.research.google.com/github/Bora-Ulu/Inflation-Technique/blob/main/Inflation_Technique.ipynb\" target=\"_parent\"><img src=\"https://colab.research.google.com/assets/colab-badge.svg\" alt=\"Open In Colab\"/></a>"
   ]
  },
  {
   "cell_type": "code",
   "execution_count": 1,
   "metadata": {
    "id": "26ylEW1UCWEr"
   },
   "outputs": [],
   "source": [
    "import numpy as np\n",
    "from itertools import *\n",
    "import time\n",
    "from scipy.sparse import coo_matrix\n",
    "from scipy.sparse import csc_matrix\n",
    "from scipy.sparse import csr_matrix\n",
    "from cvxopt import matrix, solvers, sparse, spmatrix\n",
    "from numba import njit\n",
    "\n",
    "\"\"\"\n",
    "@njit\n",
    "def PrepForIntToArray32(ar):# Takes a huge column vector as input\n",
    "                     # Returns a matrix where the rows are the base-4 binary expansions of each element of the input array\n",
    "    #return transpose(atleast_2d(ravel(ar.astype(uint32)))).view(uint8)\n",
    "    return np.reshape(ar.astype(np.uint32).view(np.uint8),(-1,4))\n",
    "\n",
    "\n",
    "def IntToArray32(ar):\n",
    "    return np.unpackbits(PrepForIntToArray32(ar),axis=1, bitorder='little').view(np.bool_)\n",
    "\n",
    "\n",
    "def ArrayToInt32(bitarray):\n",
    "    return np.packbits(bitarray, bitorder='little').view(np.uint32)\n",
    "\n",
    "@njit\n",
    "def ExtractBitsFromBitArray(bitarray,bitstoextract): #bitstoextract must be numpy array\n",
    "    tempbitarray=np.zeros_like(bitarray)\n",
    "    tempbitarray[:,:len(bitstoextract)]=bitarray[:,np.subtract(np.amax(bitstoextract),bitstoextract)]\n",
    "    return tempbitarray\n",
    "\n",
    "def ExtractBitsFromInts(intarray,bitstoextract): #bitstoextract need not be a numpy array\n",
    "\n",
    "    return ArrayToInt32(ExtractBitsFromBitArray(IntToArray32(intarray),np.array(bitstoextract,np.uint16)))\n",
    "\"\"\";\n",
    "\n",
    "@njit\n",
    "def PositionIndex(arraywithduplicates):\n",
    "    arraycopy=np.zeros_like(arraywithduplicates)\n",
    "    u=np.unique(arraywithduplicates)\n",
    "    arraycopy[u]=np.arange(len(u))\n",
    "    return arraycopy[arraywithduplicates]"
   ]
  },
  {
   "cell_type": "code",
   "execution_count": 2,
   "metadata": {},
   "outputs": [],
   "source": [
    "card=4\n",
    "num_var=12\n",
    "X=np.array([[0,1,8,10],[2,3,9,11]])\n",
    "Y=np.array([[0,2,4,5],[1,3,6,7]])\n",
    "Z=np.array([[4,6,8,9],[5,7,10,11]])\n",
    "inflation_order=2\n",
    "\n",
    "anc_con=np.array([X,Y,Z])\n"
   ]
  },
  {
   "cell_type": "code",
   "execution_count": 3,
   "metadata": {},
   "outputs": [
    {
     "data": {
      "text/plain": [
       "array([[ 0,  1,  2,  3,  4,  5,  6,  7,  8,  9, 10, 11],\n",
       "       [ 2,  3,  0,  1,  4,  5,  6,  7,  9,  8, 11, 10],\n",
       "       [ 1,  0,  3,  2,  6,  7,  4,  5,  8,  9, 10, 11],\n",
       "       [ 0,  1,  2,  3,  5,  4,  7,  6, 10, 11,  8,  9],\n",
       "       [ 3,  2,  1,  0,  6,  7,  4,  5,  9,  8, 11, 10],\n",
       "       [ 2,  3,  0,  1,  5,  4,  7,  6, 11, 10,  9,  8],\n",
       "       [ 1,  0,  3,  2,  7,  6,  5,  4, 10, 11,  8,  9],\n",
       "       [ 3,  2,  1,  0,  7,  6,  5,  4, 11, 10,  9,  8]])"
      ]
     },
     "execution_count": 3,
     "metadata": {},
     "output_type": "execute_result"
    }
   ],
   "source": [
    "def swapcols(swap,l):  \n",
    "    pregen=np.arange(l)\n",
    "    #smartswap=np.reshape(swap,(2,-1))\n",
    "    pregen[swap] = pregen[np.array([swap[1],swap[0]])]\n",
    "    return pregen\n",
    "\n",
    "    \n",
    "def GroupGeneratorsFromSwaps(anc_con):\n",
    "    #return np.apply_along_axis(swapcols,-1,np.reshape(anc_con,(len(anc_con),-1)))\n",
    "    #return np.apply_along_axis(swapcols,-1,anc_con)\n",
    "    l=np.amax(anc_con)+1\n",
    "    return np.array(list(swapcols(swap,l) for swap in anc_con))\n",
    "    #    yield swapcols(swap)\n",
    "group_gens=GroupGeneratorsFromSwaps(anc_con)\n",
    "\n",
    "\n",
    "def subsets(s):\n",
    "    return tuple(np.array(list(combinations(list(s), cardinality))) for cardinality in range(2,len(s)+1))\n",
    "\n",
    "#@njit\n",
    "import functools\n",
    "def reindex(repeatedindexing):\n",
    "    #final=repeatedindexing[0]\n",
    "    #for i in range(len(repeatedindexing[1:])):\n",
    "    #    final=final[repeatedindexing[i]]\n",
    "    return functools.reduce(lambda x, y: x[y], repeatedindexing)\n",
    "\n",
    "#print(np.array(list(reindex(elem) for elem in subsets(group_gens)[0])))\n",
    "\n",
    "def GroupElementsFromGenerators(group_gens):\n",
    "    return np.vstack((np.arange(np.shape(group_gens)[-1]),group_gens,np.vstack(list(np.array(list(reindex(elem) for elem in combos)) for combos in subsets(group_gens)))))\n",
    "\n",
    "group_elem=GroupElementsFromGenerators(group_gens)\n",
    "\n",
    "group_elem"
   ]
  },
  {
   "cell_type": "code",
   "execution_count": 4,
   "metadata": {},
   "outputs": [],
   "source": [
    "def GenerateAMatrix(card, num_var, anc_con):\n",
    "\n",
    "    AMatrix=np.vstack(tuple(\n",
    "        np.ravel(np.transpose(\n",
    "            np.reshape(np.arange(0,card**num_var,1,np.uint32),tuple(np.multiply(card,np.ones(num_var,np.uint8)))),tuple(elem)\n",
    "        )) for elem in GroupElementsFromGenerators(GroupGeneratorsFromSwaps(anc_con))\n",
    "    ))\n",
    "    print(AMatrix.shape)\n",
    "    AMatrix=AMatrix[:,np.unique(np.amin(AMatrix,axis=0))]\n",
    "    print(AMatrix.shape)\n",
    "    return AMatrix"
   ]
  },
  {
   "cell_type": "code",
   "execution_count": 5,
   "metadata": {
    "id": "YHhZ0BbTF_4S"
   },
   "outputs": [],
   "source": [
    "def MergeMonomials(bvector,encoding):\n",
    "    return np.ravel(coo_matrix((bvector, (np.zeros(len(bvector),np.uint8), encoding)),(1, np.amax(encoding)+1)).toarray())"
   ]
  },
  {
   "cell_type": "code",
   "execution_count": 6,
   "metadata": {},
   "outputs": [
    {
     "data": {
      "text/plain": [
       "2079"
      ]
     },
     "execution_count": 6,
     "metadata": {},
     "output_type": "execute_result"
    }
   ],
   "source": [
    "def GenerateEncodingMonomialToRow(original_cardinality_product,inflation_order):\n",
    "    return PositionIndex(np.amin(\n",
    "    np.vstack(tuple(\n",
    "        np.ravel(np.transpose(np.reshape(np.arange(original_cardinality_product**inflation_order),tuple(np.multiply(original_cardinality_product,np.ones(inflation_order,np.uint8)))),elem\n",
    "                              )) for elem in list(permutations(np.arange(inflation_order)))\n",
    ")),axis=0))\n",
    "    \n",
    "original_cardinality_product=4**3\n",
    "inflation_order=2\n",
    "EncodingMonomialToRow=GenerateEncodingMonomialToRow(original_cardinality_product,inflation_order)\n",
    "np.amax(EncodingMonomialToRow)"
   ]
  },
  {
   "cell_type": "code",
   "execution_count": 7,
   "metadata": {},
   "outputs": [
    {
     "data": {
      "text/plain": [
       "4095"
      ]
     },
     "execution_count": 7,
     "metadata": {},
     "output_type": "execute_result"
    }
   ],
   "source": [
    "def GenerateEncodingColumnToMonomial(card,num_var,ai_naturalorder):\n",
    "    ColumnIntegers=np.reshape(np.arange(0,card**num_var,1,np.uint32),tuple(np.multiply(card,np.ones(num_var,np.uint8))))\n",
    "    ai_everythingelse=np.arange(num_var)[~np.array([(i in ai_naturalorder) for i in np.arange(num_var)])]\n",
    "    ColumnIntegersRearranged=np.transpose(ColumnIntegers,tuple(np.hstack((ai_everythingelse,ai_naturalorder))));\n",
    "    ColumnIntegersRearranged=np.reshape(ColumnIntegersRearranged,(-1,card**len(ai_naturalorder)))\n",
    "    EncodingColumnToMonomial=np.zeros(card**num_var,np.uint32)\n",
    "    EncodingColumnToMonomial[ColumnIntegersRearranged]=np.arange(card**len(ai_naturalorder))\n",
    "    #for i in np.arange(card**len(ai_naturalorder)):   \n",
    "    #    EncodingColumnToMonomial[ColumnIntegersRearranged[:,i]]=i\n",
    "    return EncodingColumnToMonomial\n",
    "\n",
    "ai_naturalorder=np.array([1,5,9,4,8,12])-1\n",
    "EncodingColumnToMonomial=GenerateEncodingColumnToMonomial(card,num_var,ai_naturalorder)\n",
    "np.amax(EncodingColumnToMonomial)"
   ]
  },
  {
   "cell_type": "code",
   "execution_count": 8,
   "metadata": {},
   "outputs": [],
   "source": [
    "def MergeMonomials(bvector,encoding):\n",
    "    return np.ravel(coo_matrix((bvector, (np.zeros(len(bvector),np.uint8), encoding)),(1, np.amax(encoding)+1)).toarray())"
   ]
  },
  {
   "cell_type": "code",
   "execution_count": 9,
   "metadata": {
    "id": "CHTlviKhDTEq"
   },
   "outputs": [],
   "source": [
    "def EncodeA_FindB(card, num_var, anc_con, ai_naturalorder, Data, inflation_order):\n",
    "    \n",
    "    EncodingMonomialToRow=GenerateEncodingMonomialToRow(len(Data),inflation_order)\n",
    "    \n",
    "    EncodingColumnToMonomial=GenerateEncodingColumnToMonomial(card,num_var,ai_naturalorder)\n",
    "    #EncodingColumnToMonomial=ArrayToInt32(ExtractBitsFromBitArray(ColumnIntegersAsBits,np.array(ai_naturalbitorder,np.uint16)))\n",
    "    \n",
    "    EncodedA=EncodingMonomialToRow[EncodingColumnToMonomial][GenerateAMatrix(card, num_var, anc_con)]\n",
    "    \n",
    "    preb=np.array(Data)\n",
    "    b=preb\n",
    "    for i in range(1,inflation_order):\n",
    "        b=np.kron(preb,b)\n",
    "\n",
    "    b=MergeMonomials(b,EncodingMonomialToRow)\n",
    "\n",
    "    return EncodedA,b"
   ]
  },
  {
   "cell_type": "code",
   "execution_count": 10,
   "metadata": {
    "id": "MTOaAM63DWjk"
   },
   "outputs": [],
   "source": [
    "def FormCVXOPTArrayFromOnesPositions(OnesPositions):\n",
    "    columncount=OnesPositions.shape[-1]\n",
    "    columnspec=np.ravel(np.broadcast_to(np.arange(columncount), (len(OnesPositions), columncount)))\n",
    "    return spmatrix(np.ones(OnesPositions.size), np.ravel(OnesPositions).tolist(), columnspec.tolist(),(np.amax(OnesPositions)+1, columncount))"
   ]
  },
  {
   "cell_type": "code",
   "execution_count": 11,
   "metadata": {
    "colab": {
     "base_uri": "https://localhost:8080/"
    },
    "id": "M1V_jyvxDaH9",
    "outputId": "1883a45a-98fd-42a8-f6d2-224be3388e6a"
   },
   "outputs": [
    {
     "name": "stdout",
     "output_type": "stream",
     "text": [
      "(8, 16777216)\n",
      "(8, 2123776)\n",
      "It took 3.5379981994628906 seconds.\n",
      "(2123776, 2080)\n"
     ]
    }
   ],
   "source": [
    "Data=[0.12199995751046305, 0.0022969343799089472, 0.001748319476328954, 3.999015242496535e-05, 0.028907881434196828, 0.0005736087488455967, 0.0003924033706699725, 1.1247230369521505e-05, 0.0030142577390317635, 0.09234476010282468, 4.373922921480586e-05, 0.0014533921021948346, 0.0007798079722868244, 0.024091567451515063, 1.1247230369521505e-05, 0.0003849052170902915, 0.020774884184769502, 0.000396152447459813, 0.0003049249122403608, 4.998769053120669e-06, 0.10820335492385, 0.0020794879260981982, 0.0015546171755205281, 2.4993845265603346e-05, 0.0006260958239033638, 0.020273757587194154, 7.498153579681003e-06, 0.0003374169110856452, 0.0028942872817568676, 0.08976414557915113, 2.624353752888351e-05, 0.0012984302615480939, 0.002370666223442477, 4.7488306004646356e-05, 0.0999928767540993, 0.001957018084296742, 0.0006198473625869629, 8.747845842961171e-06, 0.02636975644747481, 0.0005198719815245496, 1.4996307159362007e-05, 0.000403650601039494, 0.0005498645958432735, 0.017359475229224805, 7.123245900696953e-05, 0.002346922070440154, 0.0033754188031197316, 0.10295964618712641, 0.00038740460161685187, 7.498153579681003e-06, 0.01608353942841575, 0.000306174604503641, 0.0021319750011559654, 4.248953695152569e-05, 0.09107007399427891, 0.001860791780024169, 5.998522863744803e-05, 0.0018395470115484063, 0.002570616985567304, 0.0766411271224461, 1.874538394920251e-05, 0.00048238121362614454, 0.0006410921310627258, 0.020223769896662948]\n",
    "inflation_order=2;\n",
    "#ai_naturalbitorder=[0,1,8,9,16,17,6,7,14,15,22,23]\n",
    "#ai_naturalbitorder=UpgradeToBits(ai_naturalorder,2)\n",
    "start = time.time()\n",
    "EncodedA,b=EncodeA_FindB(card, num_var, anc_con, ai_naturalorder,Data,inflation_order)\n",
    "MCVXOPT=FormCVXOPTArrayFromOnesPositions(EncodedA).T #This far the code is generalized\n",
    "print('It took', time.time()-start, 'seconds.')\n",
    "print(MCVXOPT.size)"
   ]
  },
  {
   "cell_type": "code",
   "execution_count": null,
   "metadata": {
    "colab": {
     "base_uri": "https://localhost:8080/"
    },
    "id": "BStEV_p3FGQ5",
    "outputId": "e6c4cb7a-eb2f-48a7-f4a2-b4ed7053092d"
   },
   "outputs": [
    {
     "name": "stdout",
     "output_type": "stream",
     "text": [
      "Problem\n",
      "  Name                   :                 \n",
      "  Objective sense        : min             \n",
      "  Type                   : LO (linear optimization problem)\n",
      "  Constraints            : 2123777         \n",
      "  Cones                  : 0               \n",
      "  Scalar variables       : 2080            \n",
      "  Matrix variables       : 0               \n",
      "  Integer variables      : 0               \n",
      "\n",
      "Optimizer started.\n",
      "Presolve started.\n",
      "Linear dependency checker started.\n",
      "Linear dependency checker terminated.\n",
      "Eliminator started.\n",
      "Freed constraints in eliminator : 0\n",
      "Eliminator terminated.\n",
      "Eliminator - tries                  : 1                 time                   : 0.00            \n",
      "Lin. dep.  - tries                  : 1                 time                   : 0.25            \n",
      "Lin. dep.  - number                 : 0               \n",
      "Presolve terminated. Time: 1.33    \n",
      "Problem\n",
      "  Name                   :                 \n",
      "  Objective sense        : min             \n",
      "  Type                   : LO (linear optimization problem)\n",
      "  Constraints            : 2123777         \n",
      "  Cones                  : 0               \n",
      "  Scalar variables       : 2080            \n",
      "  Matrix variables       : 0               \n",
      "  Integer variables      : 0               \n",
      "\n",
      "Optimizer  - threads                : 6               \n",
      "Optimizer  - solved problem         : the dual        \n",
      "Optimizer  - Constraints            : 2016\n",
      "Optimizer  - Cones                  : 0\n",
      "Optimizer  - Scalar variables       : 1682065           conic                  : 0               \n",
      "Optimizer  - Semi-definite variables: 0                 scalarized             : 0               \n",
      "Factor     - setup time             : 0.84              dense det. time        : 0.00            \n",
      "Factor     - ML order time          : 0.09              GP order time          : 0.00            \n",
      "Factor     - nonzeros before factor : 2.03e+06          after factor           : 2.03e+06        \n",
      "Factor     - dense dim.             : 0                 flops                  : 2.77e+09        \n",
      "ITE PFEAS    DFEAS    GFEAS    PRSTATUS   POBJ              DOBJ              MU       TIME  \n",
      "0   1.6e+00  4.3e+03  3.8e+00  0.00e+00   2.498769262e-11   -1.414213562e+00  2.4e+00  3.00  \n",
      "1   1.5e-01  4.2e+02  3.7e-01  2.75e+02   6.431818278e-06   -1.207742102e-08  2.4e-01  3.53  \n",
      "2   2.4e-02  6.8e+01  5.9e-02  1.36e+00   5.718292857e-06   -2.753572917e-08  3.8e-02  4.25  \n",
      "3   8.7e-03  2.4e+01  2.1e-02  8.86e-01   1.795957482e-06   -5.879609271e-09  1.4e-02  5.13  \n",
      "4   3.8e-03  1.0e+01  9.1e-03  8.75e-01   8.343912478e-07   -2.219917127e-09  5.9e-03  5.97  \n",
      "5   3.4e-04  9.5e-01  8.3e-04  4.43e-01   1.927444729e-07   -1.793902817e-09  5.3e-04  6.89  \n",
      "6   2.6e-05  7.2e-02  6.3e-05  -8.48e-01  7.784692744e-08   -5.887360404e-08  4.1e-05  7.31  \n",
      "7   2.2e-05  6.0e-02  5.3e-05  2.38e-01   -4.995919380e-06  -5.111378705e-06  3.4e-05  7.69  \n",
      "8   1.3e-05  3.6e-02  3.1e-05  9.29e-01   -1.510055283e-05  -1.517286401e-05  2.0e-05  8.47  \n",
      "9   6.7e-06  1.9e-02  1.6e-05  9.09e-01   -2.613984335e-05  -2.617993037e-05  1.1e-05  9.06  \n",
      "10  5.2e-06  1.4e-02  1.3e-05  8.97e-01   -3.122037498e-05  -3.125210042e-05  8.1e-06  9.47  \n",
      "11  4.1e-06  1.1e-02  9.8e-06  9.04e-01   -3.569591456e-05  -3.572125976e-05  6.4e-06  9.81  \n",
      "12  3.3e-06  9.1e-03  7.9e-06  9.17e-01   -3.926855123e-05  -3.928933416e-05  5.1e-06  10.20 \n",
      "13  2.3e-06  6.3e-03  5.5e-06  9.31e-01   -4.414596472e-05  -4.416087779e-05  3.6e-06  10.63 \n",
      "14  1.9e-06  5.1e-03  4.5e-06  9.52e-01   -4.677623114e-05  -4.678842737e-05  2.9e-06  11.02 \n",
      "15  1.7e-06  4.7e-03  4.1e-06  9.62e-01   -4.779987283e-05  -4.781110282e-05  2.7e-06  11.33 \n",
      "16  1.4e-06  3.9e-03  3.4e-06  9.65e-01   -4.965477824e-05  -4.966429293e-05  2.2e-06  11.80 \n",
      "17  1.2e-06  3.2e-03  2.8e-06  9.70e-01   -5.148853348e-05  -5.149640328e-05  1.8e-06  12.38 \n",
      "18  7.6e-07  2.1e-03  1.8e-06  9.76e-01   -5.461650016e-05  -5.462173491e-05  1.2e-06  12.83 \n",
      "19  1.7e-07  4.8e-04  4.2e-07  9.83e-01   -5.975545530e-05  -5.975676412e-05  2.7e-07  13.47 \n",
      "20  1.6e-07  4.3e-04  3.7e-07  9.96e-01   -5.996370451e-05  -5.996487382e-05  2.4e-07  13.86 \n",
      "21  9.9e-08  2.7e-04  2.4e-07  9.96e-01   -6.059852962e-05  -6.059927599e-05  1.5e-07  14.19 \n",
      "22  7.5e-08  2.1e-04  1.8e-07  9.98e-01   -6.086340580e-05  -6.086397389e-05  1.2e-07  14.50 \n",
      "23  5.5e-08  1.5e-04  1.3e-07  9.98e-01   -6.107998431e-05  -6.108040692e-05  8.6e-08  14.80 \n",
      "24  4.4e-09  1.2e-05  1.1e-08  9.99e-01   -6.165650616e-05  -6.165654452e-05  6.9e-09  15.42 \n",
      "25  5.8e-10  1.6e-06  1.7e-09  1.00e+00   -6.171540896e-05  -6.171541494e-05  9.1e-10  16.33 \n",
      "26  5.6e-10  1.5e-06  1.6e-09  1.00e+00   -6.171579862e-05  -6.171580427e-05  8.7e-10  16.63 \n",
      "27  4.3e-10  1.2e-06  1.2e-09  1.00e+00   -6.171762929e-05  -6.171763364e-05  6.8e-10  17.00 \n",
      "28  2.4e-10  6.7e-07  6.7e-10  1.00e+00   -6.172052814e-05  -6.172053053e-05  3.8e-10  17.45 \n",
      "29  1.7e-11  4.6e-08  2.8e-10  1.00e+00   -6.172395801e-05  -6.172395903e-05  2.6e-11  18.13 \n",
      "30  1.7e-11  4.6e-08  2.8e-10  1.00e+00   -6.172395801e-05  -6.172395903e-05  2.6e-11  18.91 \n",
      "Basis identification started.\n",
      "Primal basis identification phase started.\n"
     ]
    }
   ],
   "source": [
    "rowcount=MCVXOPT.size[0];\n",
    "colcount=MCVXOPT.size[1];\n",
    "CVXOPTb=matrix(np.atleast_2d(b).T)\n",
    "CVXOPTh=matrix(np.zeros((rowcount,1)))\n",
    "CVXOPTA=matrix(np.ones((1,colcount)))\n",
    "solvers.lp(CVXOPTb,-MCVXOPT,CVXOPTh,CVXOPTA,matrix(np.ones((1,1))),solver='mosek')"
   ]
  },
  {
   "cell_type": "code",
   "execution_count": null,
   "metadata": {
    "id": "Mc5B6pQEWeqX"
   },
   "outputs": [],
   "source": [
    "#A1 A2 A3 A4 B1 B2 B3 B4 C1 C2 C3 C4\n",
    "#0. 1. 2. 3. 4. 5. 6. 7. 8. 9. 10 11\n",
    "\n",
    "#A1. A2. A3. A4. B1. B2.   B3.   B4.   C1.   C2.   C3.   C4\n",
    "#0,1 2,3 4,5 6,7 8,9 10,11 12,13 14,15 16,17 18,19 20,21 22,23\n",
    "\n",
    "#A1 A4 B1 B4 C1 C4\n",
    "#0. 1. 2. 3. 4. 5"
   ]
  }
 ],
 "metadata": {
  "colab": {
   "collapsed_sections": [],
   "include_colab_link": true,
   "name": "Inflation Technique.ipynb",
   "provenance": []
  },
  "kernelspec": {
   "display_name": "idp",
   "language": "python",
   "name": "idp"
  },
  "language_info": {
   "codemirror_mode": {
    "name": "ipython",
    "version": 3
   },
   "file_extension": ".py",
   "mimetype": "text/x-python",
   "name": "python",
   "nbconvert_exporter": "python",
   "pygments_lexer": "ipython3",
   "version": "3.7.7"
  }
 },
 "nbformat": 4,
 "nbformat_minor": 4
}
