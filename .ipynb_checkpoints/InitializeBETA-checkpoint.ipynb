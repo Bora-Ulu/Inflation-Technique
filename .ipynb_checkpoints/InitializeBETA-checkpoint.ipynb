{
 "cells": [
  {
   "cell_type": "markdown",
   "metadata": {},
   "source": [
    "### An attempt to populate symmetries and expressible sets from graph description and inflation order.\n",
    "#### [![Open In Colab](https://colab.research.google.com/assets/colab-badge.svg)](https://colab.research.google.com/github/Bora-Ulu/Inflation-Technique/blob/main/Inflation_Technique.ipynb)\n",
    "#### [![Binder](https://binder.pangeo.io/badge_logo.svg)](https://binder.pangeo.io/v2/gh/Bora-Ulu/Inflation-Technique/main?filepath=Inflation_Technique.ipynb)"
   ]
  },
  {
   "cell_type": "code",
   "execution_count": 1,
   "metadata": {},
   "outputs": [],
   "source": [
    "import numpy as np\n",
    "from itertools import permutations, combinations, chain\n",
    "import time\n",
    "from scipy.sparse import coo_matrix, csc_matrix, csr_matrix\n",
    "from cvxopt import matrix, solvers, sparse, spmatrix\n",
    "from numba import njit\n",
    "import functools "
   ]
  },
  {
   "cell_type": "code",
   "execution_count": 2,
   "metadata": {},
   "outputs": [],
   "source": [
    "def compose(*functions):\n",
    "    return functools.reduce(lambda f, g: lambda x: f(g(x)), functions, lambda x: x)"
   ]
  },
  {
   "cell_type": "code",
   "execution_count": 65,
   "metadata": {},
   "outputs": [],
   "source": [
    "card=3\n",
    "latent_count=2\n",
    "#we accept a list of lists. The position in the outer list defines the orignial node, the list at that position indicates parents.\n",
    "graph_structure=[[0],[1,2],[1,3],[0,3]];\n",
    "obs_count=len(graph_structure)"
   ]
  },
  {
   "cell_type": "code",
   "execution_count": 4,
   "metadata": {},
   "outputs": [
    {
     "data": {
      "text/plain": [
       "[[0], [0, 1], [0, 1], [0, 1]]"
      ]
     },
     "execution_count": 4,
     "metadata": {},
     "output_type": "execute_result"
    }
   ],
   "source": [
    "root_structure=graph_structure.copy()\n",
    "highest_parent_val=max(list(map(max,root_structure)))\n",
    "while highest_parent_val>=latent_count:\n",
    "    subst=graph_structure[highest_parent_val-latent_count]\n",
    "    for idx,elem in enumerate(root_structure):\n",
    "        try:\n",
    "            elem.remove(highest_parent_val)\n",
    "            elem.extend(subst)\n",
    "            root_structure[idx]=np.unique(elem).tolist()\n",
    "            #root_structure[idx]=list(set(elem))\n",
    "        except ValueError:\n",
    "            pass\n",
    "    #root_structure=list(map(compose(list,np.unique),root_structure))\n",
    "    highest_parent_val=max(list(map(max,root_structure)))\n",
    "root_structure "
   ]
  },
  {
   "cell_type": "code",
   "execution_count": 60,
   "metadata": {},
   "outputs": [
    {
     "data": {
      "text/plain": [
       "array([1, 2, 2, 2])"
      ]
     },
     "execution_count": 60,
     "metadata": {},
     "output_type": "execute_result"
    }
   ],
   "source": [
    "inflation_depths=np.array(list(map(len,root_structure)))\n",
    "inflation_depths"
   ]
  },
  {
   "cell_type": "code",
   "execution_count": 61,
   "metadata": {},
   "outputs": [
    {
     "data": {
      "text/plain": [
       "array([2, 4, 4, 4], dtype=int32)"
      ]
     },
     "execution_count": 61,
     "metadata": {},
     "output_type": "execute_result"
    }
   ],
   "source": [
    "inflation_order=2\n",
    "inflationcopies=inflation_order**inflation_depths\n",
    "inflationcopies"
   ]
  },
  {
   "cell_type": "code",
   "execution_count": 62,
   "metadata": {},
   "outputs": [
    {
     "data": {
      "text/plain": [
       "14"
      ]
     },
     "execution_count": 62,
     "metadata": {},
     "output_type": "execute_result"
    }
   ],
   "source": [
    "num_vars=inflationcopies.sum()\n",
    "var_count=num_vars\n",
    "num_vars"
   ]
  },
  {
   "cell_type": "markdown",
   "metadata": {},
   "source": [
    "#### Code to extract expressible set (for any inflation order)"
   ]
  },
  {
   "cell_type": "code",
   "execution_count": 64,
   "metadata": {},
   "outputs": [
    {
     "data": {
      "text/plain": [
       "array([ 0,  2,  6, 10,  1,  5,  9, 13], dtype=int64)"
      ]
     },
     "execution_count": 64,
     "metadata": {},
     "output_type": "execute_result"
    }
   ],
   "source": [
    "diagonal_positions=np.array(list(np.ravel_multi_index(np.diag_indices(inflation_order, depth),tuple(np.full(depth,inflation_order))) for depth in inflation_depths))\n",
    "accumulated=np.add.accumulate(inflationcopies)\n",
    "offsets = np.hstack(([0],accumulated[:-1]))\n",
    "exp_set=np.ravel(diagonal_positions.T+offsets)\n",
    "exp_set"
   ]
  },
  {
   "cell_type": "markdown",
   "metadata": {},
   "source": [
    "#### Code to identify the generating symmetries"
   ]
  },
  {
   "cell_type": "code",
   "execution_count": 75,
   "metadata": {},
   "outputs": [
    {
     "data": {
      "text/plain": [
       "[array([0, 1]),\n",
       " array([2, 3, 4, 5]),\n",
       " array([6, 7, 8, 9]),\n",
       " array([10, 11, 12, 13])]"
      ]
     },
     "execution_count": 75,
     "metadata": {},
     "output_type": "execute_result"
    }
   ],
   "source": [
    "globalstrategyflat=list(np.add(*stuff) for stuff in zip(list(map(np.arange,inflationcopies.tolist())),offsets))\n",
    "globalstrategyflat"
   ]
  },
  {
   "cell_type": "code",
   "execution_count": 76,
   "metadata": {},
   "outputs": [
    {
     "data": {
      "text/plain": [
       "[(2, 1), (2, 2), (2, 2), (2, 2)]"
      ]
     },
     "execution_count": 76,
     "metadata": {},
     "output_type": "execute_result"
    }
   ],
   "source": [
    "reshapings=np.ones(inflation_order*obs_count,np.uint8).reshape((obs_count,inflation_order))\n",
    "for idx,elem in enumerate(root_structure):\n",
    "    reshapings[idx][elem]=inflation_order\n",
    "reshapings=list(map(tuple,reshapings))\n",
    "reshapings"
   ]
  },
  {
   "cell_type": "code",
   "execution_count": 78,
   "metadata": {},
   "outputs": [
    {
     "data": {
      "text/plain": [
       "[array([[0],\n",
       "        [1]]), array([[2, 3],\n",
       "        [4, 5]]), array([[6, 7],\n",
       "        [8, 9]]), array([[10, 11],\n",
       "        [12, 13]])]"
      ]
     },
     "execution_count": 78,
     "metadata": {},
     "output_type": "execute_result"
    }
   ],
   "source": [
    "globalstrategyshaped=list(np.reshape(*stuff) for stuff in zip(globalstrategyflat,reshapings))\n",
    "globalstrategyshaped"
   ]
  },
  {
   "cell_type": "code",
   "execution_count": 92,
   "metadata": {},
   "outputs": [
    {
     "data": {
      "text/plain": [
       "(2, 2)"
      ]
     },
     "execution_count": 92,
     "metadata": {},
     "output_type": "execute_result"
    }
   ],
   "source": [
    "#I'm thinking we broadcast, take permutations, and thread.\n",
    "fullshape=tuple(np.full(latent_count,inflation_order))\n",
    "fullshape"
   ]
  },
  {
   "cell_type": "code",
   "execution_count": 111,
   "metadata": {},
   "outputs": [],
   "source": [
    "#@njit\n",
    "def Deduplicate(ar): #Alternatives include unique_everseen and panda.unique, see https://stackoverflow.com/a/15637512 and https://stackoverflow.com/a/41577279\n",
    "    (vals,idx)=np.unique(ar,return_index=True)\n",
    "    return vals[np.argsort(idx)]\n",
    "\n",
    "\n",
    "@njit\n",
    "def MoveToFront(num_var,ar):\n",
    "    return np.hstack((ar,np.delete(np.arange(num_var),ar)))"
   ]
  },
  {
   "cell_type": "code",
   "execution_count": 124,
   "metadata": {},
   "outputs": [
    {
     "data": {
      "text/plain": [
       "array([[ 1,  0,  4,  5,  2,  3,  8,  9,  6,  7, 12, 13, 10, 11],\n",
       "       [ 0,  1,  3,  2,  5,  4,  7,  6,  9,  8, 11, 10, 13, 12]],\n",
       "      dtype=uint32)"
      ]
     },
     "execution_count": 124,
     "metadata": {},
     "output_type": "execute_result"
    }
   ],
   "source": [
    "inflation_order_gen_count=np.math.factorial(inflation_order)-1\n",
    "initmatrix=np.zeros((latent_count,inflation_order_gen_count,num_vars),np.uint)\n",
    "for latent_to_explore in np.arange(latent_count):\n",
    "    initialtranspose=MoveToFront(latent_count,np.array([latent_to_explore]))\n",
    "    inversetranspose=np.hstack((np.array([1,0]),2+np.argsort(initialtranspose)))\n",
    "    afterpermutationcalc=np.array(list(list(permutations(np.broadcast_to(elem,fullshape).transpose(tuple(initialtranspose))))[1:] for elem in globalstrategyshaped))\n",
    "    afterpermutationcalc=np.transpose(afterpermutationcalc,tuple(inversetranspose))\n",
    "    afterpermutationcalc=np.reshape(afterpermutationcalc,(afterpermutationcalc.shape[0],-1))\n",
    "    initmatrix[latent_to_explore]=np.array(list(map(Deduplicate,afterpermutationcalc)))\n",
    "group_generators=initmatrix.reshape((latent_count*inflation_order_gen_count,num_vars))\n",
    "group_generators"
   ]
  },
  {
   "cell_type": "markdown",
   "metadata": {},
   "source": [
    "#### ToDo: Add code to identify determinism assumptions"
   ]
  }
 ],
 "metadata": {
  "kernelspec": {
   "display_name": "idp",
   "language": "python",
   "name": "idp"
  },
  "language_info": {
   "codemirror_mode": {
    "name": "ipython",
    "version": 3
   },
   "file_extension": ".py",
   "mimetype": "text/x-python",
   "name": "python",
   "nbconvert_exporter": "python",
   "pygments_lexer": "ipython3",
   "version": "3.7.9"
  }
 },
 "nbformat": 4,
 "nbformat_minor": 4
}
