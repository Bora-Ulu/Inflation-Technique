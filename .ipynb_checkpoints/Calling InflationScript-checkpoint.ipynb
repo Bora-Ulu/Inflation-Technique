{
 "cells": [
  {
   "cell_type": "code",
   "execution_count": 233,
   "metadata": {},
   "outputs": [],
   "source": [
    "import importlib\n",
    "from igraph import *\n",
    "import numpy as np\n",
    "import time\n",
    "from numba import njit\n",
    "from scipy.sparse import coo_matrix"
   ]
  },
  {
   "cell_type": "code",
   "execution_count": 5,
   "metadata": {},
   "outputs": [],
   "source": [
    "TriangleData=[0.12199995751046305, 0.0022969343799089472, 0.001748319476328954, 3.999015242496535e-05, 0.028907881434196828, 0.0005736087488455967, 0.0003924033706699725, 1.1247230369521505e-05, 0.0030142577390317635, 0.09234476010282468, 4.373922921480586e-05, 0.0014533921021948346, 0.0007798079722868244, 0.024091567451515063, 1.1247230369521505e-05, 0.0003849052170902915, 0.020774884184769502, 0.000396152447459813, 0.0003049249122403608, 4.998769053120669e-06, 0.10820335492385, 0.0020794879260981982, 0.0015546171755205281, 2.4993845265603346e-05, 0.0006260958239033638, 0.020273757587194154, 7.498153579681003e-06, 0.0003374169110856452, 0.0028942872817568676, 0.08976414557915113, 2.624353752888351e-05, 0.0012984302615480939, 0.002370666223442477, 4.7488306004646356e-05, 0.0999928767540993, 0.001957018084296742, 0.0006198473625869629, 8.747845842961171e-06, 0.02636975644747481, 0.0005198719815245496, 1.4996307159362007e-05, 0.000403650601039494, 0.0005498645958432735, 0.017359475229224805, 7.123245900696953e-05, 0.002346922070440154, 0.0033754188031197316, 0.10295964618712641, 0.00038740460161685187, 7.498153579681003e-06, 0.01608353942841575, 0.000306174604503641, 0.0021319750011559654, 4.248953695152569e-05, 0.09107007399427891, 0.001860791780024169, 5.998522863744803e-05, 0.0018395470115484063, 0.002570616985567304, 0.0766411271224461, 1.874538394920251e-05, 0.00048238121362614454, 0.0006410921310627258, 0.020223769896662948]\n",
    "\n",
    "inflation_order=2\n",
    "card=2\n",
    "TriangleGraph=Graph.Formula(\"X->A:C,Y->A:B,Z->B:C\")\n",
    "EvansGraph=Graph.Formula(\"U3->A:C:D,U2->B:C:D,U1->A:B,A->C,B->D\")\n",
    "InstrumentalGraph=Graph.Formula(\"U1->X->A->B,U2->A:B\")\n"
   ]
  },
  {
   "cell_type": "code",
   "execution_count": 204,
   "metadata": {},
   "outputs": [],
   "source": [
    "try:\n",
    "    importlib.reload(inflation)\n",
    "except NameError:\n",
    "    import InitializeInflation as inflation"
   ]
  },
  {
   "cell_type": "code",
   "execution_count": 4,
   "metadata": {},
   "outputs": [
    {
     "name": "stdout",
     "output_type": "stream",
     "text": [
      "['A', 'B', 'C', 'D']\n",
      "It took 5.364835977554321 seconds.\n",
      "(8, 322512)\n"
     ]
    }
   ],
   "source": [
    "start = time.time()\n",
    "EncodedA = inflation.InflationMatrixFromGraph(EvansGraph,2,2)\n",
    "print('It took', time.time()-start, 'seconds.')\n",
    "print(EncodedA.shape)"
   ]
  },
  {
   "cell_type": "code",
   "execution_count": 5,
   "metadata": {},
   "outputs": [
    {
     "name": "stdout",
     "output_type": "stream",
     "text": [
      "['A', 'B', 'C', 'D']\n",
      "It took 0.8599979877471924 seconds.\n",
      "(8, 322512)\n"
     ]
    }
   ],
   "source": [
    "start = time.time()\n",
    "valid_column_orbits = inflation.ValidColumnOrbitsFromGraph(EvansGraph,2,2)\n",
    "print('It took', time.time()-start, 'seconds.')\n",
    "print(valid_column_orbits.shape)"
   ]
  },
  {
   "cell_type": "code",
   "execution_count": 7,
   "metadata": {},
   "outputs": [
    {
     "name": "stdout",
     "output_type": "stream",
     "text": [
      "['A', 'C', 'B']\n",
      "It took 4.543001174926758 seconds.\n",
      "(8, 2123776)\n"
     ]
    }
   ],
   "source": [
    "start = time.time()\n",
    "EncodedA = inflation.InflationMatrixFromGraph(TriangleGraph,2,4)\n",
    "print('It took', time.time()-start, 'seconds.')\n",
    "print(EncodedA.shape)"
   ]
  },
  {
   "cell_type": "code",
   "execution_count": 7,
   "metadata": {},
   "outputs": [
    {
     "name": "stdout",
     "output_type": "stream",
     "text": [
      "['A', 'C', 'B']\n",
      "It took 0.6979997158050537 seconds.\n",
      "(8, 2123776)\n"
     ]
    }
   ],
   "source": [
    "start = time.time()\n",
    "valid_column_orbits = inflation.ValidColumnOrbitsFromGraph(TriangleGraph,2,4)\n",
    "print('It took', time.time()-start, 'seconds.')\n",
    "print(valid_column_orbits.shape)"
   ]
  },
  {
   "cell_type": "code",
   "execution_count": 192,
   "metadata": {},
   "outputs": [
    {
     "data": {
      "text/plain": [
       "<2080x2123776 sparse matrix of type '<class 'numpy.uint32'>'\n",
       "\twith 16990208 stored elements in COOrdinate format>"
      ]
     },
     "execution_count": 192,
     "metadata": {},
     "output_type": "execute_result"
    }
   ],
   "source": [
    "SciPyMat=inflation.FormSciPyArrayFromOnesPositions(EncodedA)\n",
    "SciPyMat"
   ]
  },
  {
   "cell_type": "code",
   "execution_count": 205,
   "metadata": {},
   "outputs": [
    {
     "data": {
      "text/plain": [
       "<2123776x2080 sparse matrix, tc='d', nnz=8382016>"
      ]
     },
     "execution_count": 205,
     "metadata": {},
     "output_type": "execute_result"
    }
   ],
   "source": [
    "inflation.scipy_sparse_to_row_optimized_spmatrix_transpose(SciPyMat)"
   ]
  },
  {
   "cell_type": "code",
   "execution_count": 206,
   "metadata": {},
   "outputs": [
    {
     "name": "stdout",
     "output_type": "stream",
     "text": [
      "['A', 'C', 'B']\n",
      "Problem\n",
      "  Name                   :                 \n",
      "  Objective sense        : min             \n",
      "  Type                   : LO (linear optimization problem)\n",
      "  Constraints            : 2123777         \n",
      "  Cones                  : 0               \n",
      "  Scalar variables       : 2080            \n",
      "  Matrix variables       : 0               \n",
      "  Integer variables      : 0               \n",
      "\n",
      "Optimizer started.\n",
      "Presolve started.\n",
      "Linear dependency checker started.\n",
      "Linear dependency checker terminated.\n",
      "Eliminator started.\n",
      "Freed constraints in eliminator : 0\n",
      "Eliminator terminated.\n",
      "Eliminator - tries                  : 1                 time                   : 0.00            \n",
      "Lin. dep.  - tries                  : 1                 time                   : 0.28            \n",
      "Lin. dep.  - number                 : 0               \n",
      "Presolve terminated. Time: 1.80    \n",
      "Problem\n",
      "  Name                   :                 \n",
      "  Objective sense        : min             \n",
      "  Type                   : LO (linear optimization problem)\n",
      "  Constraints            : 2123777         \n",
      "  Cones                  : 0               \n",
      "  Scalar variables       : 2080            \n",
      "  Matrix variables       : 0               \n",
      "  Integer variables      : 0               \n",
      "\n",
      "Optimizer  - threads                : 6               \n",
      "Optimizer  - solved problem         : the dual        \n",
      "Optimizer  - Constraints            : 2016\n",
      "Optimizer  - Cones                  : 0\n",
      "Optimizer  - Scalar variables       : 1682065           conic                  : 0               \n",
      "Optimizer  - Semi-definite variables: 0                 scalarized             : 0               \n",
      "Factor     - setup time             : 1.22              dense det. time        : 0.00            \n",
      "Factor     - ML order time          : 0.09              GP order time          : 0.00            \n",
      "Factor     - nonzeros before factor : 2.03e+06          after factor           : 2.03e+06        \n",
      "Factor     - dense dim.             : 0                 flops                  : 2.77e+09        \n",
      "ITE PFEAS    DFEAS    GFEAS    PRSTATUS   POBJ              DOBJ              MU       TIME  \n",
      "0   1.6e+00  4.3e+03  3.8e+00  0.00e+00   2.498769262e-11   -1.414213562e+00  2.4e+00  4.23  \n",
      "1   1.5e-01  4.2e+02  3.7e-01  2.75e+02   6.431818278e-06   -1.207742102e-08  2.4e-01  4.63  \n",
      "2   2.4e-02  6.8e+01  5.9e-02  1.36e+00   5.718292857e-06   -2.753572916e-08  3.8e-02  5.11  \n",
      "3   8.7e-03  2.4e+01  2.1e-02  8.86e-01   1.795957482e-06   -5.879609271e-09  1.4e-02  6.00  \n",
      "4   3.8e-03  1.0e+01  9.1e-03  8.75e-01   8.343912477e-07   -2.219917127e-09  5.9e-03  6.70  \n",
      "5   3.4e-04  9.5e-01  8.3e-04  4.43e-01   1.927444736e-07   -1.793902819e-09  5.3e-04  7.58  \n",
      "6   2.6e-05  7.2e-02  6.3e-05  -8.48e-01  7.784692875e-08   -5.887360077e-08  4.1e-05  8.02  \n",
      "7   2.2e-05  6.0e-02  5.3e-05  2.38e-01   -4.995919435e-06  -5.111378758e-06  3.4e-05  8.42  \n",
      "8   1.3e-05  3.6e-02  3.1e-05  9.29e-01   -1.510055290e-05  -1.517286407e-05  2.0e-05  9.22  \n",
      "9   6.7e-06  1.9e-02  1.6e-05  9.09e-01   -2.613984431e-05  -2.617993132e-05  1.1e-05  9.84  \n",
      "10  5.2e-06  1.4e-02  1.3e-05  8.97e-01   -3.122037651e-05  -3.125210195e-05  8.1e-06  10.23 \n",
      "11  4.1e-06  1.1e-02  9.8e-06  9.04e-01   -3.569591441e-05  -3.572125961e-05  6.4e-06  10.63 \n",
      "12  3.3e-06  9.1e-03  7.9e-06  9.17e-01   -3.926855110e-05  -3.928933402e-05  5.1e-06  11.03 \n",
      "13  2.3e-06  6.3e-03  5.5e-06  9.31e-01   -4.414597149e-05  -4.416088455e-05  3.6e-06  11.52 \n",
      "14  1.9e-06  5.1e-03  4.5e-06  9.52e-01   -4.677623411e-05  -4.678843033e-05  2.9e-06  12.00 \n",
      "15  1.7e-06  4.7e-03  4.1e-06  9.62e-01   -4.779987140e-05  -4.781110140e-05  2.7e-06  12.45 \n",
      "16  1.4e-06  3.9e-03  3.4e-06  9.65e-01   -4.965477198e-05  -4.966428667e-05  2.2e-06  12.98 \n",
      "17  1.2e-06  3.2e-03  2.8e-06  9.70e-01   -5.148855610e-05  -5.149642588e-05  1.8e-06  13.59 \n",
      "18  7.6e-07  2.1e-03  1.8e-06  9.76e-01   -5.461650269e-05  -5.462173743e-05  1.2e-06  14.03 \n",
      "19  1.7e-07  4.8e-04  4.2e-07  9.83e-01   -5.975545230e-05  -5.975676111e-05  2.7e-07  14.67 \n",
      "20  1.6e-07  4.3e-04  3.7e-07  9.96e-01   -5.996371844e-05  -5.996488774e-05  2.4e-07  15.05 \n",
      "21  9.9e-08  2.7e-04  2.4e-07  9.96e-01   -6.059852433e-05  -6.059927069e-05  1.5e-07  15.36 \n",
      "22  7.5e-08  2.1e-04  1.8e-07  9.98e-01   -6.086340254e-05  -6.086397063e-05  1.2e-07  15.67 \n",
      "23  5.5e-08  1.5e-04  1.3e-07  9.98e-01   -6.107998283e-05  -6.108040544e-05  8.6e-08  16.02 \n",
      "24  4.4e-09  1.2e-05  1.1e-08  9.99e-01   -6.165650598e-05  -6.165654435e-05  6.9e-09  16.63 \n",
      "25  5.8e-10  1.6e-06  1.5e-09  1.00e+00   -6.171540696e-05  -6.171541221e-05  9.1e-10  17.55 \n",
      "26  5.6e-10  1.5e-06  1.4e-09  1.00e+00   -6.171579839e-05  -6.171580337e-05  8.7e-10  17.84 \n",
      "27  4.3e-10  1.2e-06  1.1e-09  1.00e+00   -6.171762792e-05  -6.171763186e-05  6.8e-10  18.23 \n",
      "28  2.4e-10  6.7e-07  6.9e-10  1.00e+00   -6.172052638e-05  -6.172052885e-05  3.8e-10  18.67 \n",
      "29  2.4e-10  6.7e-07  6.9e-10  1.00e+00   -6.172052638e-05  -6.172052885e-05  3.8e-10  19.42 \n",
      "Basis identification started.\n",
      "Primal basis identification phase started.\n",
      "Primal basis identification phase terminated. Time: 43.39\n",
      "Dual basis identification phase started.\n",
      "Dual basis identification phase terminated. Time: 0.03\n",
      "Basis identification terminated. Time: 44.14\n",
      "Optimizer terminated. Time: 63.97   \n",
      "\n",
      "\n",
      "Interior-point solution summary\n",
      "  Problem status  : PRIMAL_AND_DUAL_FEASIBLE\n",
      "  Solution status : OPTIMAL\n",
      "  Primal.  obj: -6.1720526382e-05   nrm: 1e+00    Viol.  con: 9e-13    var: 0e+00  \n",
      "  Dual.    obj: -6.1720528846e-05   nrm: 4e-03    Viol.  con: 0e+00    var: 5e-20  \n",
      "\n",
      "Basic solution summary\n",
      "  Problem status  : PRIMAL_AND_DUAL_FEASIBLE\n",
      "  Solution status : OPTIMAL\n",
      "  Primal.  obj: -6.1724211922e-05   nrm: 1e+00    Viol.  con: 3e-15    var: 0e+00  \n",
      "  Dual.    obj: -6.1724211922e-05   nrm: 4e-03    Viol.  con: 1e-06    var: 2e-06  \n"
     ]
    }
   ],
   "source": [
    "EncodedA = inflation.InflationMatrixFromGraph(TriangleGraph,2,4)\n",
    "b=inflation.FindB(TriangleData,2)\n",
    "\n",
    "Sol,epsilon=inflation.InflationLP(EncodedA,b)"
   ]
  },
  {
   "cell_type": "code",
   "execution_count": 219,
   "metadata": {},
   "outputs": [
    {
     "data": {
      "text/plain": [
       "array([-2., -2., -1., -1.,  0.,  1.,  1.,  1.,  1.,  1.,  1.,  1.,  1.,\n",
       "        1.,  1.,  1.,  1.,  1.,  1.,  1.,  1.,  1.,  1.,  1.,  1.,  1.,\n",
       "        1.,  1.,  1.,  1.,  1.,  1.,  1.,  1.,  1.,  2.,  2.,  2.,  2.,\n",
       "        2.,  2.,  2.,  2.,  2.,  2.,  2.,  2.,  2.,  2.,  2.,  2.,  3.,\n",
       "        3.,  3.,  3.,  3.,  3.,  3.,  3.,  3.,  3.,  3.,  3.,  4.,  4.])"
      ]
     },
     "execution_count": 219,
     "metadata": {},
     "output_type": "execute_result"
    }
   ],
   "source": [
    "y=np.array(Sol);\n",
    "y[np.abs(y) < np.max(np.abs(y))/1000] = 0;\n",
    "y2=y/np.unique(np.abs(y))[1];\n",
    "np.unique(y2)"
   ]
  },
  {
   "cell_type": "code",
   "execution_count": 235,
   "metadata": {},
   "outputs": [],
   "source": [
    "y3=coo_matrix(y2.astype(np.int))"
   ]
  },
  {
   "cell_type": "code",
   "execution_count": 262,
   "metadata": {},
   "outputs": [
    {
     "name": "stdout",
     "output_type": "stream",
     "text": [
      "{-2: array([  47,   59, 1117], dtype=int32)}\n",
      "{-1: array([ 63, 293], dtype=int32)}\n",
      "{1: array([  11,   15,   27,   31,   35,   39,  101,  113,  138,  343,  347,\n",
      "        355,  363,  376,  508,  509,  510,  512,  513,  514,  515,  523,\n",
      "        563,  564,  566,  567,  568,  569,  570,  617,  618,  619,  620,\n",
      "        621,  623,  624,  671,  672,  673,  675,  676,  677,  737,  759,\n",
      "        763,  783,  787,  799,  803,  947, 1105, 1109, 1113, 1275, 1283,\n",
      "       1309, 1418, 1419, 1420, 1433, 1434, 1435, 1436, 1453, 1454, 1456,\n",
      "       1469, 1470, 1471, 1472, 1487, 1488, 1489, 1490, 1503, 1505, 1506,\n",
      "       1521, 1522, 1523, 1537, 1538, 1539, 1567, 1579, 1736, 1752, 1895,\n",
      "       1928, 1955, 1986], dtype=int32)}\n",
      "{2: array([   3,    7,   19,   23,  190,  194,  198,  202,  206,  210,  214,\n",
      "        218,  222,  226,  230,  234,  238,  242,  246,  253,  257,  265,\n",
      "        269,  273,  281,  285,  289,  428,  432,  436,  440,  444,  448,\n",
      "        452,  456,  460,  464,  468,  472,  476,  480,  487,  491,  495,\n",
      "        499,  503,  507,  511,  519,  524,  525,  526,  527,  579,  580,\n",
      "        581,  582,  633,  634,  635,  636,  650,  654,  658,  662,  666,\n",
      "        670,  674,  678,  682,  686,  687,  688,  689,  690,  694,  698,\n",
      "        705,  709,  713,  717,  721,  722,  723,  724,  725,  729,  733,\n",
      "        741,  742,  743,  744,  745,  773,  774,  775,  776,  793,  794,\n",
      "        796,  823,  824,  825,  826,  843,  844,  845,  846,  856,  864,\n",
      "        868,  872,  873,  874,  875,  876,  880,  884,  888,  892,  893,\n",
      "        894,  895,  896,  900,  907,  911,  915,  919,  923,  927,  931,\n",
      "        939,  943,  951, 1046, 1050, 1054, 1058, 1062, 1066, 1070, 1074,\n",
      "       1078, 1082, 1086, 1093, 1097, 1121, 1125, 1220, 1224, 1228, 1232,\n",
      "       1236, 1240, 1244, 1248, 1252, 1256, 1263, 1267, 1268, 1269, 1270,\n",
      "       1271, 1272, 1273, 1274, 1279, 1284, 1285, 1286, 1287, 1291, 1295,\n",
      "       1299, 1307, 1308, 1310, 1311, 1312, 1313, 1314, 1323, 1324, 1325,\n",
      "       1326, 1345, 1346, 1347, 1348, 1349, 1351, 1352, 1361, 1362, 1363,\n",
      "       1364, 1378, 1382, 1383, 1384, 1385, 1386, 1387, 1388, 1389, 1390,\n",
      "       1394, 1398, 1399, 1400, 1401, 1402, 1406, 1410, 1417, 1421, 1422,\n",
      "       1423, 1424, 1425, 1429, 1437, 1441, 1445, 1449, 1457, 1458, 1459,\n",
      "       1460, 1491, 1492, 1493, 1494, 1504, 1508, 1520, 1524, 1525, 1526,\n",
      "       1527, 1528, 1532, 1536, 1544, 1548, 1555, 1559, 1563, 1571, 1575,\n",
      "       1583, 1646, 1650, 1654, 1658, 1662, 1666, 1670, 1677, 1681, 1689,\n",
      "       1693, 1697, 1756, 1760, 1764, 1768, 1772, 1776, 1783, 1787, 1791,\n",
      "       1795, 1799, 1803, 1850, 1854, 1858, 1862, 1866, 1873, 1877, 1881,\n",
      "       1885, 1889, 1936, 1940, 1947, 1951, 1959, 1990, 1994, 1998, 2005,\n",
      "       2009, 2036, 2040, 2047, 2051, 2066, 2073], dtype=int32)}\n",
      "{3: array([726, 727, 728, 738, 739, 740, 777, 778, 780, 789, 790, 792, 795,\n",
      "       827, 828, 829, 830, 839, 840, 841, 842, 877, 878, 879, 889, 890,\n",
      "       891], dtype=int32)}\n",
      "{4: array([779, 791], dtype=int32)}\n"
     ]
    }
   ],
   "source": [
    "from collections import defaultdict\n",
    "tally=defaultdict(list)\n",
    "[tally[item].append(y3.row[i]) for i,item in enumerate(y3.data)]\n",
    "for coefficient in np.unique(y3.data):\n",
    "    print({coefficient:np.array(tally[coefficient])})"
   ]
  }
 ],
 "metadata": {
  "kernelspec": {
   "display_name": "idp",
   "language": "python",
   "name": "idp"
  },
  "language_info": {
   "codemirror_mode": {
    "name": "ipython",
    "version": 3
   },
   "file_extension": ".py",
   "mimetype": "text/x-python",
   "name": "python",
   "nbconvert_exporter": "python",
   "pygments_lexer": "ipython3",
   "version": "3.7.9"
  }
 },
 "nbformat": 4,
 "nbformat_minor": 4
}
