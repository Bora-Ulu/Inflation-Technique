{
 "cells": [
  {
   "cell_type": "markdown",
   "metadata": {},
   "source": [
    "[![Open In Colab](https://colab.research.google.com/assets/colab-badge.svg)](https://colab.research.google.com/github/Bora-Ulu/Inflation-Technique/blob/main/Inflation_Technique.ipynb)"
   ]
  },
  {
   "cell_type": "markdown",
   "metadata": {},
   "source": [
    "[![Binder](https://binder.pangeo.io/badge_logo.svg)](https://binder.pangeo.io/v2/gh/Bora-Ulu/Inflation-Technique/main?filepath=Inflation_Technique.ipynb)"
   ]
  },
  {
   "cell_type": "code",
   "execution_count": 1,
   "metadata": {},
   "outputs": [],
   "source": [
    "import numpy as np\n",
    "from itertools import permutations, combinations\n",
    "import time\n",
    "from scipy.sparse import coo_matrix, csc_matrix, csr_matrix\n",
    "from cvxopt import matrix, solvers, sparse, spmatrix\n",
    "from numba import njit\n",
    "import functools "
   ]
  },
  {
   "cell_type": "markdown",
   "metadata": {},
   "source": [
    "#This is where the problem SETUP is given. As we add more utility functions, some of these inputs will eventually be computed automatically."
   ]
  },
  {
   "cell_type": "code",
   "execution_count": 2,
   "metadata": {},
   "outputs": [],
   "source": [
    "#Triangle version\n",
    "#A1 A2 A3 A4 B1 B2 B3 B4 C1 C2 C3 C4\n",
    "#0  1  2  3  4  5  6  7  8  9  10 11\n",
    "card=4\n",
    "num_var=12\n",
    "num_originalvar=3\n",
    "X=[[0,1,8,10],[2,3,9,11]]\n",
    "Y=[[0,2,4,5],[1,3,6,7]]\n",
    "Z=[[4,6,8,9],[5,7,10,11]]\n",
    "inflation_order=2\n",
    "anc_con=(X,Y,Z)\n",
    "expr_set=np.array([1,5,9,4,8,12])-1\n",
    "Data=[0.12199995751046305, 0.0022969343799089472, 0.001748319476328954, 3.999015242496535e-05, 0.028907881434196828, 0.0005736087488455967, 0.0003924033706699725, 1.1247230369521505e-05, 0.0030142577390317635, 0.09234476010282468, 4.373922921480586e-05, 0.0014533921021948346, 0.0007798079722868244, 0.024091567451515063, 1.1247230369521505e-05, 0.0003849052170902915, 0.020774884184769502, 0.000396152447459813, 0.0003049249122403608, 4.998769053120669e-06, 0.10820335492385, 0.0020794879260981982, 0.0015546171755205281, 2.4993845265603346e-05, 0.0006260958239033638, 0.020273757587194154, 7.498153579681003e-06, 0.0003374169110856452, 0.0028942872817568676, 0.08976414557915113, 2.624353752888351e-05, 0.0012984302615480939, 0.002370666223442477, 4.7488306004646356e-05, 0.0999928767540993, 0.001957018084296742, 0.0006198473625869629, 8.747845842961171e-06, 0.02636975644747481, 0.0005198719815245496, 1.4996307159362007e-05, 0.000403650601039494, 0.0005498645958432735, 0.017359475229224805, 7.123245900696953e-05, 0.002346922070440154, 0.0033754188031197316, 0.10295964618712641, 0.00038740460161685187, 7.498153579681003e-06, 0.01608353942841575, 0.000306174604503641, 0.0021319750011559654, 4.248953695152569e-05, 0.09107007399427891, 0.001860791780024169, 5.998522863744803e-05, 0.0018395470115484063, 0.002570616985567304, 0.0766411271224461, 1.874538394920251e-05, 0.00048238121362614454, 0.0006410921310627258, 0.020223769896662948]\n",
    "det_assumptions=[]\n"
   ]
  },
  {
   "cell_type": "code",
   "execution_count": 3,
   "metadata": {},
   "outputs": [],
   "source": [
    "\"\"\"#Instrumental\n",
    "#first index of A is X-copy, second is U-copy. Same for B.\n",
    "#X1 X2 A11 A12 A21 A22 B11 B12 B21 B22\n",
    "#0  1  2   3   4   5   6   7   8   9  \n",
    "card=2\n",
    "num_var=10\n",
    "num_originalvar=3\n",
    "ChangingX=[[0,2,3,6,7],[1,4,5,8,9]]\n",
    "ChangingU=[[2,4,6,8],[3,5,7,9]]\n",
    "inflation_order=2\n",
    "anc_con=[ChangingX,ChangingU]\n",
    "expr_set=[0,2,6,1,5,9]  #we may want to make this ai_setS plural.\n",
    "det_assumptions=[[[2],[4],6,8]] #a list of four element lists, of the format 1=2 implies 3=4\n",
    "Data=np.zeros((2,2,2))\n",
    "Data[([0,1],0,[0,1])]=0.5\n",
    "Data=0.9*Data+0.1/np.size(Data)\n",
    "Data=Data.ravel()\n",
    "Data\"\"\";"
   ]
  },
  {
   "cell_type": "code",
   "execution_count": 4,
   "metadata": {},
   "outputs": [
    {
     "data": {
      "text/plain": [
       "array([ 0,  4,  8,  3,  7, 11,  1,  2,  5,  6,  9, 10], dtype=int64)"
      ]
     },
     "execution_count": 4,
     "metadata": {},
     "output_type": "execute_result"
    }
   ],
   "source": [
    "#@njit\n",
    "#def Deduplicate(ar): #Alternatives include unique_everseen and panda.unique, see https://stackoverflow.com/a/15637512 and https://stackoverflow.com/a/41577279\n",
    "#    (vals,idx,inv)=np.unique(ar,return_index=True)\n",
    "#    return vals[np.argsort(idx)]\n",
    "# Deduplicate(np.hstack((expr_set,np.arange(num_var))))\n",
    "\n",
    "@njit\n",
    "def MoveToFront(num_var,ar):\n",
    "    return np.hstack((ar,np.delete(np.arange(num_var),ar)))\n",
    "\n",
    "@njit\n",
    "def MoveToBack(num_var,ar):\n",
    "    return np.hstack((np.delete(np.arange(num_var),ar),ar))\n",
    "\n",
    "MoveToFront(num_var,np.array(expr_set))"
   ]
  },
  {
   "cell_type": "code",
   "execution_count": 5,
   "metadata": {},
   "outputs": [],
   "source": [
    "#These functions can be nested inside GenerateAMatrix\n",
    "def GroupGeneratorsFromSwaps(num_var,anc_con):\n",
    "    def swapcols(swap):  \n",
    "        pregen=np.arange(0,num_var,1,np.uint8)\n",
    "        pregen[swap] = pregen[np.array([swap[1],swap[0]])]\n",
    "        return pregen\n",
    "    #return np.apply_along_axis(swapcols,-1,np.reshape(anc_con,(len(anc_con),-1)))\n",
    "    #return np.apply_along_axis(swapcols,-1,anc_con)\n",
    "    return np.array(list(swapcols(np.array(swap)) for swap in anc_con))\n",
    "#group_gens=GroupGeneratorsFromSwaps(num_var,anc_con)\n",
    "#print(group_gens)\n",
    "\n",
    "def GroupElementsFromGenerators(group_gens):\n",
    "    subsets = lambda s: tuple(np.array(list(combinations(list(s), cardinality))) for cardinality in range(2,len(s)+1))\n",
    "    reindex = lambda repeatedindexing : functools.reduce(lambda x, y: x[y], repeatedindexing)\n",
    "    return np.vstack((\n",
    "        np.arange(np.shape(group_gens)[-1]),\n",
    "        group_gens,\n",
    "        np.vstack(list(np.array(list(reindex(elem) for elem in combos)) for combos in subsets(group_gens)))))\n",
    "\n",
    "#group_elem=GroupElementsFromGenerators(group_gens)\n",
    "\n",
    "#group_elem"
   ]
  },
  {
   "cell_type": "code",
   "execution_count": 6,
   "metadata": {},
   "outputs": [],
   "source": [
    "@njit\n",
    "def GenShapedColumnIntegers(range_shape):    #Could by handy to memoize this.\n",
    "    return np.arange(0,np.prod(np.array(range_shape)),1,np.int32).reshape(range_shape)"
   ]
  },
  {
   "cell_type": "code",
   "execution_count": 7,
   "metadata": {},
   "outputs": [],
   "source": [
    "def MarkInvalidStrategies(card,num_var,det_assumptions):\n",
    "    initialshape=tuple(np.full(num_var,card,np.uint8))\n",
    "    ColumnIntegers=GenShapedColumnIntegers(initialshape)\n",
    "    for detrule in det_assumptions:\n",
    "        initialtranspose=MoveToFront(num_var,np.hstack(tuple(detrule)))\n",
    "        inversetranspose=np.argsort(initialtranspose)\n",
    "        parentsdimension=card**len(detrule[1])\n",
    "        intermediateshape=(parentsdimension,parentsdimension,card,card,-1);\n",
    "        ColumnIntegers=ColumnIntegers.transpose(tuple(initialtranspose)).reshape(intermediateshape)\n",
    "        for i in np.arange(parentsdimension):\n",
    "            for j in np.arange(card-1):\n",
    "                for k in np.arange(j+1,card):\n",
    "                    ColumnIntegers[i,i,j,k]=-1\n",
    "        ColumnIntegers=ColumnIntegers.reshape(initialshape).transpose(tuple(inversetranspose))\n",
    "    return ColumnIntegers"
   ]
  },
  {
   "cell_type": "code",
   "execution_count": 8,
   "metadata": {},
   "outputs": [],
   "source": [
    "def ValidColumnOrbits(card, num_var, anc_con,det_assumptions=[]):\n",
    "    ColumnIntegers=MarkInvalidStrategies(card,num_var,det_assumptions)\n",
    "    group_elements=GroupElementsFromGenerators(GroupGeneratorsFromSwaps(num_var,anc_con))\n",
    "    AMatrix=np.vstack(tuple(\n",
    "        np.ravel(np.transpose(ColumnIntegers,tuple(elem))) for elem in group_elements #probably could be made fractionally faster\n",
    "    ))\n",
    "    print(AMatrix.shape)\n",
    "    minima=np.amin(AMatrix,axis=0)\n",
    "    #validminima=test[0<=minima]\n",
    "    #validtest= minima==np.abs(minima)\n",
    "    #AMatrix=AMatrix[:,np.unique(minima)]\n",
    "    #AMatrix=AMatrix[:,minima==np.abs(minima)] #Now accounting for determinism test!\n",
    "    AMatrix=np.compress(minima==np.abs(AMatrix[0]), AMatrix, axis=1)\n",
    "    print(AMatrix.shape)\n",
    "    return AMatrix"
   ]
  },
  {
   "cell_type": "code",
   "execution_count": 9,
   "metadata": {},
   "outputs": [],
   "source": [
    "test=np.arange(64).reshape((8,8))\n",
    "symmetrizedrows=np.vstack((np.ravel(test),np.ravel(test.T)))\n",
    "#PositionIndex(np.min(symmetrizedrows,axis=0))"
   ]
  },
  {
   "cell_type": "code",
   "execution_count": 10,
   "metadata": {},
   "outputs": [],
   "source": [
    "#@njit #if we are only using this function once, it does not make sense to compile with numba, even though it can be compiled. \n",
    "#Look into pandas/unique alterantive implementation?\n",
    "def PositionIndex(arraywithduplicates):\n",
    "    arraycopy=np.zeros_like(arraywithduplicates)\n",
    "    u=np.unique(arraywithduplicates)\n",
    "    arraycopy[u]=np.arange(len(u))\n",
    "    return arraycopy[arraywithduplicates]\n",
    "\n",
    "\n",
    "@functools.lru_cache(maxsize=16)\n",
    "def GenerateEncodingMonomialToRow(original_cardinality_product,inflation_order): #I should make this recursive, as called by both A and b construction.\n",
    "    monomial_count=original_cardinality_product**inflation_order\n",
    "    MonomialIntegers=np.arange(0,monomial_count,1,np.uint)\n",
    "    new_shape=tuple(np.full(inflation_order,original_cardinality_product))\n",
    "    MonomialIntegers=MonomialIntegers.reshape(new_shape)\n",
    "    return PositionIndex(np.amin(\n",
    "    np.vstack(tuple(\n",
    "        np.ravel(np.transpose(MonomialIntegers,elem)) for elem in list(permutations(np.arange(inflation_order)))\n",
    "    )),axis=0))"
   ]
  },
  {
   "cell_type": "code",
   "execution_count": 11,
   "metadata": {
    "id": "YHhZ0BbTF_4S"
   },
   "outputs": [],
   "source": [
    "def MergeMonomials(bvector,encoding):\n",
    "    return np.ravel(coo_matrix((bvector, (np.zeros(len(bvector),np.uint8), encoding)),(1, np.amax(encoding)+1)).toarray())"
   ]
  },
  {
   "cell_type": "code",
   "execution_count": 12,
   "metadata": {},
   "outputs": [],
   "source": [
    "def GenerateEncodingColumnToMonomial(card,num_var,expr_set):\n",
    "    initialshape=tuple(np.full(num_var,card,np.uint8))\n",
    "    ColumnIntegers=GenShapedColumnIntegers(initialshape)\n",
    "    #transposetuple=tuple(MoveToBack(num_var,expr_set))\n",
    "    #reshapetuple=(-1,card**len(expr_set))\n",
    "    #print(transposetuple)\n",
    "    #print(reshapetuple)\n",
    "    ColumnIntegers=ColumnIntegers.transpose(tuple(MoveToBack(num_var,np.array(expr_set)))).reshape((-1,card**len(expr_set)))\n",
    "    EncodingColumnToMonomial=np.zeros(card**num_var,np.uint32)\n",
    "    EncodingColumnToMonomial[ColumnIntegers]=np.arange(card**len(expr_set))\n",
    "    #for i in np.arange(card**len(expr_set)):   \n",
    "    #    EncodingColumnToMonomial[ColumnIntegersRearranged[:,i]]=i\n",
    "    return EncodingColumnToMonomial\n",
    "\n",
    "\n",
    "#EncodingColumnToMonomial=GenerateEncodingColumnToMonomial(card,num_var,expr_set)\n",
    "#np.amax(EncodingColumnToMonomial)"
   ]
  },
  {
   "cell_type": "code",
   "execution_count": 13,
   "metadata": {},
   "outputs": [],
   "source": [
    "#ColumnIntegers=np.arange(0,2**3,1,np.uint).reshape((2,2,2))\n",
    "#almostencoded=(ColumnIntegers[0,:,0],ColumnIntegers[0,:,1],ColumnIntegers[1,:,0],ColumnIntegers[1,:,1])\n",
    "#print(almostencoded)\n",
    "#encoded=np.zeros(2**3,np.uint)\n",
    "#for i in range(4):\n",
    "#    encoded[almostencoded[i]]=i\n",
    "#encoded"
   ]
  },
  {
   "cell_type": "code",
   "execution_count": 14,
   "metadata": {},
   "outputs": [],
   "source": [
    "#ColumnIntegersv2=ColumnIntegers.transpose(tuple(MoveToBack(3,np.array([0,2])))).reshape((-1,2**2))\n",
    "#encoded=np.zeros(2**3,np.uint)\n",
    "#encoded[ColumnIntegersv2]=np.arange(4)\n",
    "#encoded"
   ]
  },
  {
   "cell_type": "code",
   "execution_count": 15,
   "metadata": {},
   "outputs": [],
   "source": [
    "def MergeMonomials(bvector,encoding):\n",
    "    return np.ravel(coo_matrix((bvector, (np.zeros(len(bvector),np.uint8), encoding)),(1, np.amax(encoding)+1)).toarray())"
   ]
  },
  {
   "cell_type": "code",
   "execution_count": 16,
   "metadata": {
    "id": "CHTlviKhDTEq"
   },
   "outputs": [],
   "source": [
    "def EncodeA(card, num_var, anc_con, expr_set, inflation_order):\n",
    "    original_product_cardinality=card**np.rint(len(expr_set)/inflation_order).astype(np.uint)\n",
    "    EncodingMonomialToRow=GenerateEncodingMonomialToRow(original_product_cardinality,inflation_order)\n",
    "    EncodingColumnToMonomial=GenerateEncodingColumnToMonomial(card,num_var,np.array(expr_set))\n",
    "    return EncodingMonomialToRow[EncodingColumnToMonomial][ValidColumnOrbits(card, num_var, anc_con,det_assumptions)]"
   ]
  },
  {
   "cell_type": "code",
   "execution_count": 17,
   "metadata": {},
   "outputs": [],
   "source": [
    "def FindB(Data, inflation_order):\n",
    "    EncodingMonomialToRow=GenerateEncodingMonomialToRow(len(Data),inflation_order)\n",
    "    preb=np.array(Data)\n",
    "    b=preb\n",
    "    for i in range(1,inflation_order):\n",
    "        b=np.kron(preb,b)\n",
    "    b=MergeMonomials(b,EncodingMonomialToRow)\n",
    "    return b"
   ]
  },
  {
   "cell_type": "code",
   "execution_count": 18,
   "metadata": {
    "id": "MTOaAM63DWjk"
   },
   "outputs": [],
   "source": [
    "def FormCVXOPTArrayFromOnesPositions(OnesPositions):\n",
    "    columncount=OnesPositions.shape[-1]\n",
    "    columnspec=np.ravel(np.broadcast_to(np.arange(columncount), (len(OnesPositions), columncount)))\n",
    "    return spmatrix(np.ones(OnesPositions.size), np.ravel(OnesPositions).tolist(), columnspec.tolist(),(np.amax(OnesPositions)+1, columncount))"
   ]
  },
  {
   "cell_type": "code",
   "execution_count": 19,
   "metadata": {},
   "outputs": [],
   "source": [
    "def InflationLP(EncodedA,b):\n",
    "    MCVXOPT=FormCVXOPTArrayFromOnesPositions(EncodedA).T\n",
    "    rowcount=MCVXOPT.size[0];\n",
    "    colcount=MCVXOPT.size[1];\n",
    "    CVXOPTb=matrix(np.atleast_2d(b).T)\n",
    "    CVXOPTh=matrix(np.zeros((rowcount,1)))\n",
    "    CVXOPTA=matrix(np.ones((1,colcount)))\n",
    "    return solvers.lp(CVXOPTb,-MCVXOPT,CVXOPTh,CVXOPTA,matrix(np.ones((1,1))),solver='mosek')"
   ]
  },
  {
   "cell_type": "code",
   "execution_count": 20,
   "metadata": {},
   "outputs": [
    {
     "name": "stdout",
     "output_type": "stream",
     "text": [
      "(8, 16777216)\n",
      "(8, 2123776)\n",
      "It took 3.3504462242126465 seconds.\n",
      "(8, 2123776)\n"
     ]
    }
   ],
   "source": [
    "start = time.time()\n",
    "EncodedA = EncodeA(card, num_var, anc_con, expr_set, inflation_order)\n",
    "print('It took', time.time()-start, 'seconds.')\n",
    "print(EncodedA.shape)"
   ]
  },
  {
   "cell_type": "code",
   "execution_count": 21,
   "metadata": {
    "colab": {
     "base_uri": "https://localhost:8080/"
    },
    "id": "M1V_jyvxDaH9",
    "outputId": "1883a45a-98fd-42a8-f6d2-224be3388e6a"
   },
   "outputs": [
    {
     "name": "stdout",
     "output_type": "stream",
     "text": [
      "It took 3.352543830871582 seconds.\n",
      "(2123776, 2080)\n"
     ]
    }
   ],
   "source": [
    "#Data=[0.12199995751046305, 0.0022969343799089472, 0.001748319476328954, 3.999015242496535e-05, 0.028907881434196828, 0.0005736087488455967, 0.0003924033706699725, 1.1247230369521505e-05, 0.0030142577390317635, 0.09234476010282468, 4.373922921480586e-05, 0.0014533921021948346, 0.0007798079722868244, 0.024091567451515063, 1.1247230369521505e-05, 0.0003849052170902915, 0.020774884184769502, 0.000396152447459813, 0.0003049249122403608, 4.998769053120669e-06, 0.10820335492385, 0.0020794879260981982, 0.0015546171755205281, 2.4993845265603346e-05, 0.0006260958239033638, 0.020273757587194154, 7.498153579681003e-06, 0.0003374169110856452, 0.0028942872817568676, 0.08976414557915113, 2.624353752888351e-05, 0.0012984302615480939, 0.002370666223442477, 4.7488306004646356e-05, 0.0999928767540993, 0.001957018084296742, 0.0006198473625869629, 8.747845842961171e-06, 0.02636975644747481, 0.0005198719815245496, 1.4996307159362007e-05, 0.000403650601039494, 0.0005498645958432735, 0.017359475229224805, 7.123245900696953e-05, 0.002346922070440154, 0.0033754188031197316, 0.10295964618712641, 0.00038740460161685187, 7.498153579681003e-06, 0.01608353942841575, 0.000306174604503641, 0.0021319750011559654, 4.248953695152569e-05, 0.09107007399427891, 0.001860791780024169, 5.998522863744803e-05, 0.0018395470115484063, 0.002570616985567304, 0.0766411271224461, 1.874538394920251e-05, 0.00048238121362614454, 0.0006410921310627258, 0.020223769896662948]\n",
    "#inflation_order=2;\n",
    "#ai_naturalbitorder=[0,1,8,9,16,17,6,7,14,15,22,23]\n",
    "#ai_naturalbitorder=UpgradeToBits(expr_set,2)\n",
    "start = time.time()\n",
    "b=FindB(Data,inflation_order)\n",
    "MCVXOPT=FormCVXOPTArrayFromOnesPositions(EncodedA).T #This far the code is generalized\n",
    "print('It took', time.time()-start, 'seconds.')\n",
    "print(MCVXOPT.size)"
   ]
  },
  {
   "cell_type": "code",
   "execution_count": 22,
   "metadata": {
    "colab": {
     "base_uri": "https://localhost:8080/"
    },
    "id": "BStEV_p3FGQ5",
    "outputId": "e6c4cb7a-eb2f-48a7-f4a2-b4ed7053092d"
   },
   "outputs": [],
   "source": [
    "#Commented out for now, as not critical to demonstration.\n",
    "#solverout=InflationLP(EncodedA,b)"
   ]
  },
  {
   "cell_type": "code",
   "execution_count": 23,
   "metadata": {
    "id": "Mc5B6pQEWeqX"
   },
   "outputs": [],
   "source": [
    "#evantually we'll need to figure out how to work with the solver output nicely\n",
    "#np.rint(2*np.array(solverout['x'])).astype(np.int)"
   ]
  }
 ],
 "metadata": {
  "colab": {
   "collapsed_sections": [],
   "include_colab_link": true,
   "name": "Inflation Technique.ipynb",
   "provenance": []
  },
  "kernelspec": {
   "display_name": "idp",
   "language": "python",
   "name": "idp"
  },
  "language_info": {
   "codemirror_mode": {
    "name": "ipython",
    "version": 3
   },
   "file_extension": ".py",
   "mimetype": "text/x-python",
   "name": "python",
   "nbconvert_exporter": "python",
   "pygments_lexer": "ipython3",
   "version": "3.7.9"
  }
 },
 "nbformat": 4,
 "nbformat_minor": 4
}
