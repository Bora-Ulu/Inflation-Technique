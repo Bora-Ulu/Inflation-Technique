{
 "cells": [
  {
   "cell_type": "markdown",
   "metadata": {},
   "source": [
    "[![Open In Colab](https://colab.research.google.com/assets/colab-badge.svg)](https://colab.research.google.com/github/eliewolfe/d-separation/blob/main/igraph_playground.ipynb)"
   ]
  },
  {
   "cell_type": "code",
   "execution_count": 1,
   "metadata": {},
   "outputs": [],
   "source": [
    "import numpy as np\n",
    "from igraph import *"
   ]
  },
  {
   "cell_type": "code",
   "execution_count": 2,
   "metadata": {},
   "outputs": [],
   "source": [
    "#import pip\n",
    "#pip.main(['install','--upgrade','python-igraph'])"
   ]
  },
  {
   "cell_type": "code",
   "execution_count": 3,
   "metadata": {},
   "outputs": [],
   "source": [
    "#Here are some useful igraph commands:\n",
    "#get_inclist: can be used to obtain a vertex's parents or children\n",
    "#subcomponent: can be used to obtain a vertex's ancestors or descendants\n",
    "#all_st_mincuts: find screen off sets\n",
    "#all_minimal_st_separators()  find screen off sets, made not be useful output\n",
    "#minimum_size_separators() not sure what the difference is with previous, only works on undirected\n",
    "\n",
    "#TOWARD IMPLEMENTING D-SEPERATION TEST\n",
    "#induced_subgraph\n",
    "#is_connected('WEAK')\n",
    "#as_undirected()\n",
    "#subcomponent(v,'ALL') #for a node\n",
    "#get_subisomorphisms_vf2\n",
    "#get_subisomorphisms_lad"
   ]
  },
  {
   "cell_type": "code",
   "execution_count": 4,
   "metadata": {},
   "outputs": [],
   "source": [
    "#it may be much easier to use graph-tools https://graph-tool.skewed.de/static/doc/index.html, not on Windows\n",
    "#or networkx"
   ]
  },
  {
   "cell_type": "code",
   "execution_count": 5,
   "metadata": {},
   "outputs": [],
   "source": [
    "#Graph([(0,1), (0,2), (2,3), (3,4), (4,2), (2,5), (5,0), (6,3), (5,6)])"
   ]
  },
  {
   "cell_type": "code",
   "execution_count": 6,
   "metadata": {},
   "outputs": [
    {
     "data": {
      "text/plain": [
       "['U', 'L', 'X', 'A', 'B']"
      ]
     },
     "execution_count": 6,
     "metadata": {},
     "output_type": "execute_result"
    }
   ],
   "source": [
    "g=Graph.TupleList([('U','X'),('X','A'),('A','B'),('L','A'),('L','B')],directed=True);\n",
    "reorder=g.topological_sorting('out')\n",
    "reorder=np.argsort(reorder).tolist()\n",
    "g=g.permute_vertices(reorder)\n",
    "g.vs['name']"
   ]
  },
  {
   "cell_type": "code",
   "execution_count": 7,
   "metadata": {},
   "outputs": [
    {
     "data": {
      "text/plain": [
       "[(0, 2), (2, 3), (3, 4), (1, 3), (1, 4)]"
      ]
     },
     "execution_count": 7,
     "metadata": {},
     "output_type": "execute_result"
    }
   ],
   "source": [
    "[e.tuple for e in g.es]"
   ]
  },
  {
   "cell_type": "code",
   "execution_count": 21,
   "metadata": {},
   "outputs": [
    {
     "data": {
      "text/plain": [
       "[[], [], [0], [1, 2], [1, 3]]"
      ]
     },
     "execution_count": 21,
     "metadata": {},
     "output_type": "execute_result"
    }
   ],
   "source": [
    "parentslist=g.get_adjlist('in')\n",
    "parentslist"
   ]
  },
  {
   "cell_type": "code",
   "execution_count": 74,
   "metadata": {},
   "outputs": [
    {
     "data": {
      "text/plain": [
       "[0, 1]"
      ]
     },
     "execution_count": 74,
     "metadata": {},
     "output_type": "execute_result"
    }
   ],
   "source": [
    "g.vs[\"parents\"]=g.get_adjlist('in');\n",
    "g.vs[\"indegree\"]=g.indegree()\n",
    "#g.vs[\"index\"]=g.vs.indices\n",
    "g.vs.select(indegree_le = 0).indices"
   ]
  },
  {
   "cell_type": "code",
   "execution_count": 147,
   "metadata": {},
   "outputs": [
    {
     "data": {
      "text/plain": [
       "[3, 4]"
      ]
     },
     "execution_count": 147,
     "metadata": {},
     "output_type": "execute_result"
    }
   ],
   "source": [
    "g.vs[\"grandparents\"]=g.neighborhood(None, order=2, mode='in', mindist=2)\n",
    "has_grandparents=[idx for idx,v in enumerate(g.vs[\"grandparents\"]) if len(v)>=1]\n",
    "has_grandparents"
   ]
  },
  {
   "cell_type": "code",
   "execution_count": 87,
   "metadata": {},
   "outputs": [
    {
     "data": {
      "text/plain": [
       "[[0], [1], [2, 0], [3, 1, 2, 0], [4, 1, 3, 2, 0]]"
      ]
     },
     "execution_count": 87,
     "metadata": {},
     "output_type": "execute_result"
    }
   ],
   "source": [
    "#ancestorstable=[g.subcomponent(i,'in') for i in g.vs]\n",
    "g.vs[\"ancestors\"]=[g.subcomponent(i,'in') for i in g.vs]\n",
    "g.vs[\"descendants\"]=[g.subcomponent(i,'out') for i in g.vs]\n",
    "g.vs[\"ancestors\"]"
   ]
  },
  {
   "cell_type": "code",
   "execution_count": 89,
   "metadata": {},
   "outputs": [
    {
     "data": {
      "text/plain": [
       "[0, 1]"
      ]
     },
     "execution_count": 89,
     "metadata": {},
     "output_type": "execute_result"
    }
   ],
   "source": [
    "g.vs[\"isroot\"]=[0==i for i in g.vs[\"indegree\"]]\n",
    "root_vertices=g.vs.select(isroot = True).indices\n",
    "nonroot_vertices=g.vs.select(isroot = False).indices\n",
    "latent_count=len(root_vertices)\n",
    "root_vertices"
   ]
  },
  {
   "cell_type": "code",
   "execution_count": 122,
   "metadata": {},
   "outputs": [
    {
     "data": {
      "text/plain": [
       "[array([0]), array([1]), array([0]), array([0, 1]), array([0, 1])]"
      ]
     },
     "execution_count": 122,
     "metadata": {},
     "output_type": "execute_result"
    }
   ],
   "source": [
    "g.vs[\"rootsof\"]=[np.intersect1d(anc,root_vertices) for anc in g.vs[\"ancestors\"]]\n",
    "g.vs[\"rootsof\"]"
   ]
  },
  {
   "cell_type": "code",
   "execution_count": 113,
   "metadata": {},
   "outputs": [
    {
     "data": {
      "text/plain": [
       "[0]"
      ]
     },
     "execution_count": 113,
     "metadata": {},
     "output_type": "execute_result"
    }
   ],
   "source": [
    "g.vs[[0]].select(index_notin = [3,1,2,3]).indices"
   ]
  },
  {
   "cell_type": "code",
   "execution_count": 159,
   "metadata": {},
   "outputs": [
    {
     "data": {
      "text/plain": [
       "[[0, 3], [0, 4]]"
      ]
     },
     "execution_count": 159,
     "metadata": {},
     "output_type": "execute_result"
    }
   ],
   "source": [
    "determinism_concerns=[[r.index,v.index] for v in g.vs[has_grandparents] for r in g.vs[v[\"rootsof\"].tolist()] if (r not in g.vs[v[\"parents\"]])]\n",
    "determinism_concerns"
   ]
  },
  {
   "cell_type": "code",
   "execution_count": 160,
   "metadata": {},
   "outputs": [
    {
     "data": {
      "text/plain": [
       "array([[0, 3],\n",
       "       [0, 4]])"
      ]
     },
     "execution_count": 160,
     "metadata": {},
     "output_type": "execute_result"
    }
   ],
   "source": [
    "determinism_concerns=np.array([[root,v.index] for v in g.vs[has_grandparents] for root in np.setdiff1d(v[\"rootsof\"],v[\"parents\"])])\n",
    "determinism_concerns"
   ]
  },
  {
   "cell_type": "code",
   "execution_count": 93,
   "metadata": {},
   "outputs": [
    {
     "data": {
      "text/plain": [
       "array([[0, 3],\n",
       "       [0, 4]])"
      ]
     },
     "execution_count": 93,
     "metadata": {},
     "output_type": "execute_result"
    }
   ],
   "source": [
    "determinism_concerns=np.array([[l,idx] for idx,setpair in enumerate(zip(g.vs[\"rootsof\"],g.vs[\"parents\"])) for l in np.setdiff1d(*setpair) if l!=idx])\n",
    "determinism_concerns"
   ]
  },
  {
   "cell_type": "code",
   "execution_count": 14,
   "metadata": {},
   "outputs": [
    {
     "data": {
      "text/plain": [
       "[[0, 2, 3, 4], [1, 3, 4]]"
      ]
     },
     "execution_count": 14,
     "metadata": {},
     "output_type": "execute_result"
    }
   ],
   "source": [
    "rootdecendantstable=[g.subcomponent(i,'out') for i in root_vertices]\n",
    "rootdecendantstable"
   ]
  },
  {
   "cell_type": "code",
   "execution_count": 15,
   "metadata": {},
   "outputs": [
    {
     "data": {
      "text/plain": [
       "[(0, None), (0, None)]"
      ]
     },
     "execution_count": 15,
     "metadata": {},
     "output_type": "execute_result"
    }
   ],
   "source": [
    "[(concern[0],np.intersect1d(rootdecendantstable[concern[0]],parentslist[concern[1]]).tolist().append(concern[1])) for concern in determinism_concerns]"
   ]
  },
  {
   "cell_type": "code",
   "execution_count": 16,
   "metadata": {},
   "outputs": [
    {
     "data": {
      "text/plain": [
       "[[2], [3]]"
      ]
     },
     "execution_count": 16,
     "metadata": {},
     "output_type": "execute_result"
    }
   ],
   "source": [
    "g.all_minimal_st_separators()"
   ]
  },
  {
   "cell_type": "code",
   "execution_count": 164,
   "metadata": {},
   "outputs": [
    {
     "data": {
      "text/plain": [
       "[(0, [2, 3]), (0, [3, 4])]"
      ]
     },
     "execution_count": 164,
     "metadata": {},
     "output_type": "execute_result"
    }
   ],
   "source": [
    "def FindScreenSet(concern):\n",
    "    L=concern[0];\n",
    "    V=concern[1];\n",
    "    #upcone_ofL=np.array(rootdecendantstable[L])\n",
    "    upcone_ofL=g.vs[L][\"descendants\"]\n",
    "    #downcone_ofV=np.array(parentslist[V])\n",
    "    downcone_ofV=g.vs[V][\"parents\"]\n",
    "    screeningset=np.intersect1d(upcone_ofL,downcone_ofV).tolist()\n",
    "    screeningset.append(V)\n",
    "    return screeningset\n",
    "[(concern[0],FindScreenSet(concern)) for concern in determinism_concerns]"
   ]
  }
 ],
 "metadata": {
  "kernelspec": {
   "display_name": "idp",
   "language": "python",
   "name": "idp"
  },
  "language_info": {
   "codemirror_mode": {
    "name": "ipython",
    "version": 3
   },
   "file_extension": ".py",
   "mimetype": "text/x-python",
   "name": "python",
   "nbconvert_exporter": "python",
   "pygments_lexer": "ipython3",
   "version": "3.7.9"
  }
 },
 "nbformat": 4,
 "nbformat_minor": 4
}
