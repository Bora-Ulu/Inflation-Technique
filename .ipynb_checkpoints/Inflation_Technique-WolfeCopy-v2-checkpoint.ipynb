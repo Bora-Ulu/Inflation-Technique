{
 "cells": [
  {
   "cell_type": "markdown",
   "metadata": {
    "colab_type": "text",
    "id": "view-in-github"
   },
   "source": [
    "<a href=\"https://colab.research.google.com/github/Bora-Ulu/Inflation-Technique/blob/main/Inflation_Technique.ipynb\" target=\"_parent\"><img src=\"https://colab.research.google.com/assets/colab-badge.svg\" alt=\"Open In Colab\"/></a>"
   ]
  },
  {
   "cell_type": "code",
   "execution_count": 1,
   "metadata": {
    "colab": {
     "base_uri": "https://localhost:8080/"
    },
    "id": "DFJJdFsS0RDX",
    "outputId": "ab46b54c-dfce-4e60-fb14-b7ca210f2bd0"
   },
   "outputs": [
    {
     "data": {
      "text/plain": [
       "[(16777216,), (16777216, 32)]"
      ]
     },
     "execution_count": 1,
     "metadata": {},
     "output_type": "execute_result"
    }
   ],
   "source": [
    "from numpy import *\n",
    "from itertools import *\n",
    "import time\n",
    "from scipy.sparse import coo_matrix\n",
    "from scipy.sparse import csc_matrix\n",
    "from scipy.sparse import csr_matrix\n",
    "from cvxopt import matrix, solvers, sparse, spmatrix\n",
    "from numba import njit\n",
    "\n",
    "@njit\n",
    "def PrepForIntToArray32(ar):# Takes a huge column vector as input\n",
    "                     # Returns a matrix where the rows are the base-4 binary expansions of each element of the input array\n",
    "    #return transpose(atleast_2d(ravel(ar.astype(uint32)))).view(uint8)\n",
    "    return reshape(ar.astype(uint32).view(uint8),(-1,4))\n",
    "\n",
    "\n",
    "def IntToArray32(ar):\n",
    "    return unpackbits(PrepForIntToArray32(ar),axis=1, bitorder='little').view(bool_)\n",
    "\n",
    "#@njit\n",
    "#def PrepForArrayToInt32(bitarray):\n",
    "#    as2mat=bitarray.reshape(-1, bitarray.shape[-1])\n",
    "#    temparray=zeros((len(as2mat),32),bool_)\n",
    "#    temparray[:,:bitarray.shape[-1]]=as2mat\n",
    "#    # return pad(bitarray.reshape(-1, bitarray.shape[-1]),[(0,0), (0, 32-bitarray.shape[-1])], mode='constant')\n",
    "#    return temparray\n",
    "\n",
    "\n",
    "def ArrayToInt32(bitarray):\n",
    "    return packbits(bitarray, bitorder='little').view(uint32)\n",
    "\n",
    "@njit\n",
    "def ExtractBitsFromBitArray(bitarray,bitstoextract): #bitstoextract must be numpy array\n",
    "    tempbitarray=zeros_like(bitarray)\n",
    "    tempbitarray[:,:len(bitstoextract)]=bitarray[:,subtract(amax(bitstoextract),bitstoextract)]\n",
    "    return tempbitarray\n",
    "\n",
    "def ExtractBitsFromInts(intarray,bitstoextract): #bitstoextract need not be a numpy array\n",
    "#    asbitarray=IntToArray32(intarray)\n",
    "#    tempbitarray=zeros_like(asbitarray)\n",
    "#    tempbitarray[:,:len(bitstoextract)]=asbitarray[:,subtract(amax(bitstoextract),array(bitstoextract))]\n",
    "    return ArrayToInt32(ExtractBitsFromBitArray(IntToArray32(intarray),array(bitstoextract,uint16)))\n",
    "\n",
    "\n",
    "ColumnIntegers=arange(0,4**12,1,uint32)\n",
    "ColumnIntegersAsBits=IntToArray32(ColumnIntegers)\n",
    "[ColumnIntegers.shape,ColumnIntegersAsBits.shape]"
   ]
  },
  {
   "cell_type": "code",
   "execution_count": 2,
   "metadata": {},
   "outputs": [
    {
     "data": {
      "text/plain": [
       "(80,)"
      ]
     },
     "execution_count": 2,
     "metadata": {},
     "output_type": "execute_result"
    }
   ],
   "source": [
    "arange(240,260).view(uint8).shape"
   ]
  },
  {
   "cell_type": "code",
   "execution_count": 3,
   "metadata": {},
   "outputs": [
    {
     "data": {
      "text/plain": [
       "array([0, 0, 1, 2, 4, 2, 1, 3, 5])"
      ]
     },
     "execution_count": 3,
     "metadata": {},
     "output_type": "execute_result"
    }
   ],
   "source": [
    "@njit\n",
    "def PositionIndex(arraywithduplicates):\n",
    "    arraycopy=zeros_like(arraywithduplicates)\n",
    "    u=unique(arraywithduplicates)\n",
    "    arraycopy[u]=arange(len(u))\n",
    "    return arraycopy[arraywithduplicates]\n",
    "\n",
    "PositionIndex(array([1,1,2,4,6,4,2,5,7],int32))"
   ]
  },
  {
   "cell_type": "code",
   "execution_count": 4,
   "metadata": {},
   "outputs": [
    {
     "name": "stdout",
     "output_type": "stream",
     "text": [
      "(4096,)\n"
     ]
    },
    {
     "data": {
      "text/plain": [
       "array([   0,    1,    2, ..., 2069, 2043, 2079], dtype=uint32)"
      ]
     },
     "execution_count": 4,
     "metadata": {},
     "output_type": "execute_result"
    }
   ],
   "source": [
    "RowIntegers=arange(0,4**6,1,uint32)\n",
    "EncodingMonomialToRow=PositionIndex(amin(vstack((RowIntegers,ExtractBitsFromInts(RowIntegers,[2,3,0,1,6,7,4,5,10,11,8,9]))),axis=0))\n",
    "print(EncodingMonomialToRow.shape)\n",
    "EncodingMonomialToRow"
   ]
  },
  {
   "cell_type": "code",
   "execution_count": 5,
   "metadata": {},
   "outputs": [
    {
     "name": "stdout",
     "output_type": "stream",
     "text": [
      "(16777216,)\n"
     ]
    },
    {
     "data": {
      "text/plain": [
       "array([   0, 2048, 1024, ..., 3071, 2047, 4095], dtype=uint32)"
      ]
     },
     "execution_count": 5,
     "metadata": {},
     "output_type": "execute_result"
    }
   ],
   "source": [
    "EncodingColumnToMonomial=ArrayToInt32(ExtractBitsFromBitArray(ColumnIntegersAsBits,array([0,1,6,7,8,9,14,15,16,17,22,23],uint16)))\n",
    "print(EncodingColumnToMonomial.shape)\n",
    "EncodingColumnToMonomial"
   ]
  },
  {
   "cell_type": "code",
   "execution_count": 6,
   "metadata": {},
   "outputs": [],
   "source": [
    "multiplier=hstack((2**arange(24),zeros(8,uint32)))\n",
    "SwapX1X2=arange(32);\n",
    "SwapX1X2[23-array([0,1,2,3,4,5,6,7,8,9,12,13,10,11,14,15])]=SwapX1X2[23-array([2,3,0,1,6,7,4,5,12,13,8,9,14,15,10,11])];\n",
    "SwapY1Y2=arange(32);\n",
    "SwapY1Y2[23-array([0,1,4,5,2,3,6,7,16,17,18,19,20,21,22,23])]=SwapY1Y2[23-array([4,5,0,1,6,7,2,3,18,19,16,17,22,23,20,21])];\n",
    "SwapZ1Z2=arange(32);\n",
    "SwapZ1Z2[23-array([8,9,10,11,12,13,14,15,16,17,20,21,18,19,22,23])]=SwapZ1Z2[23-array([10,11,8,9,14,15,12,13,20,21,16,17,22,23,18,19])]\n",
    "SymMultiplier=vstack((multiplier,\\\n",
    "     multiplier[SwapX1X2],\\\n",
    "     multiplier[SwapY1Y2], \\\n",
    "     multiplier[SwapZ1Z2], \\\n",
    "     multiplier[SwapX1X2[SwapY1Y2]], \\\n",
    "     multiplier[SwapX1X2[SwapZ1Z2]], \\\n",
    "     multiplier[SwapY1Y2[SwapZ1Z2]], \\\n",
    "     multiplier[SwapX1X2[SwapY1Y2[SwapZ1Z2]]],\\\n",
    "    ))"
   ]
  },
  {
   "cell_type": "code",
   "execution_count": 7,
   "metadata": {},
   "outputs": [
    {
     "name": "stdout",
     "output_type": "stream",
     "text": [
      "It took 3.777996778488159 seconds.\n"
     ]
    },
    {
     "data": {
      "text/plain": [
       "(8, 16777216)"
      ]
     },
     "execution_count": 7,
     "metadata": {},
     "output_type": "execute_result"
    }
   ],
   "source": [
    "#TIMING COMPARISONS: Trimmed matrix multiplication\n",
    "start = time.time()\n",
    "A=dot(SymMultiplier[:,:24],ColumnIntegersAsBits.T[:24,:]);\n",
    "print('It took', time.time()-start, 'seconds.')\n",
    "A.shape"
   ]
  },
  {
   "cell_type": "code",
   "execution_count": 8,
   "metadata": {},
   "outputs": [
    {
     "name": "stdout",
     "output_type": "stream",
     "text": [
      "It took 4.5289998054504395 seconds.\n"
     ]
    },
    {
     "data": {
      "text/plain": [
       "(8, 16777216)"
      ]
     },
     "execution_count": 8,
     "metadata": {},
     "output_type": "execute_result"
    }
   ],
   "source": [
    "#TIMING COMPARISONS: Untrimmed matrix multiplication\n",
    "start = time.time()\n",
    "A=dot(ColumnIntegersAsBits,SymMultiplier.T).T;\n",
    "print('It took', time.time()-start, 'seconds.')\n",
    "A.shape"
   ]
  },
  {
   "cell_type": "code",
   "execution_count": 9,
   "metadata": {},
   "outputs": [
    {
     "name": "stdout",
     "output_type": "stream",
     "text": [
      "It took 13.806999206542969 seconds.\n"
     ]
    },
    {
     "data": {
      "text/plain": [
       "(8, 16777216)"
      ]
     },
     "execution_count": 9,
     "metadata": {},
     "output_type": "execute_result"
    }
   ],
   "source": [
    "#TIMING COMPARISONS: Bit reshuffling and repacking\n",
    "start = time.time()\n",
    "A=vstack((ColumnIntegers,\\\n",
    "     packbits(ColumnIntegersAsBits[:,SwapX1X2], bitorder='little').view(uint32),\\\n",
    "     packbits(ColumnIntegersAsBits[:,SwapY1Y2], bitorder='little').view(uint32),\\\n",
    "     packbits(ColumnIntegersAsBits[:,SwapZ1Z2], bitorder='little').view(uint32),\\\n",
    "     packbits(ColumnIntegersAsBits[:,SwapX1X2[SwapY1Y2]], bitorder='little').view(uint32),\\\n",
    "     packbits(ColumnIntegersAsBits[:,SwapX1X2[SwapZ1Z2]], bitorder='little').view(uint32),\\\n",
    "     packbits(ColumnIntegersAsBits[:,SwapY1Y2[SwapZ1Z2]], bitorder='little').view(uint32),\\\n",
    "     packbits(ColumnIntegersAsBits[:,SwapX1X2[SwapY1Y2[SwapZ1Z2]]], bitorder='little').view(uint32),\\\n",
    "    ))\n",
    "print('It took', time.time()-start, 'seconds.')\n",
    "A.shape"
   ]
  },
  {
   "cell_type": "code",
   "execution_count": 10,
   "metadata": {},
   "outputs": [
    {
     "data": {
      "text/plain": [
       "(8, 2123776)"
      ]
     },
     "execution_count": 10,
     "metadata": {},
     "output_type": "execute_result"
    }
   ],
   "source": [
    "#Removing duplicate columns\n",
    "A=A[:,unique(amin(A,axis=0))]\n",
    "A.shape"
   ]
  },
  {
   "cell_type": "code",
   "execution_count": 11,
   "metadata": {},
   "outputs": [
    {
     "name": "stdout",
     "output_type": "stream",
     "text": [
      "2079\n"
     ]
    },
    {
     "data": {
      "text/plain": [
       "(8, 2123776)"
      ]
     },
     "execution_count": 11,
     "metadata": {},
     "output_type": "execute_result"
    }
   ],
   "source": [
    "EncodedA=EncodingMonomialToRow[EncodingColumnToMonomial][A]\n",
    "#EncodedA=EncodingColumnToMonomial[A]\n",
    "print(amax(EncodedA))\n",
    "EncodedA.shape"
   ]
  },
  {
   "cell_type": "markdown",
   "metadata": {},
   "source": [
    "EDITED UP TO THIS POINT. Next we need to construct the sparse matrix from this data, and generate the b vector from the distribution --- USING EncodingMonomialToRow !"
   ]
  },
  {
   "cell_type": "code",
   "execution_count": 12,
   "metadata": {},
   "outputs": [
    {
     "data": {
      "text/plain": [
       "array([[ 0,  4,  8, 12,  4,  8, 12,  8, 12, 12,  4,  8, 12,  0,  4,  8,\n",
       "        12,  0,  4,  8, 12,  0,  4,  8, 12,  8, 12,  4,  8, 12,  0,  4,\n",
       "         8, 12,  0,  4,  8, 12, 12,  4],\n",
       "       [ 0,  4,  8, 12,  4,  8, 12,  8, 12, 12,  4,  8, 12,  0,  4,  8,\n",
       "        12,  0,  4,  8, 12,  0,  4,  8, 12,  8, 12,  4,  8, 12,  0,  4,\n",
       "         8, 12,  0,  4,  8, 12, 12,  4],\n",
       "       [ 0,  0,  0,  0,  4,  4,  4,  8,  8, 12,  1,  1,  1,  5,  5,  5,\n",
       "         5,  9,  9,  9,  9, 13, 13, 13, 13,  2,  2,  6,  6,  6, 10, 10,\n",
       "        10, 10, 14, 14, 14, 14,  3,  7],\n",
       "       [ 0,  0,  0,  0,  1,  1,  1,  2,  2,  3,  4,  4,  4,  5,  5,  5,\n",
       "         5,  6,  6,  6,  6,  7,  7,  7,  7,  8,  8,  9,  9,  9, 10, 10,\n",
       "        10, 10, 11, 11, 11, 11, 12, 13],\n",
       "       [ 0,  0,  0,  0,  4,  4,  4,  8,  8, 12,  1,  1,  1,  5,  5,  5,\n",
       "         5,  9,  9,  9,  9, 13, 13, 13, 13,  2,  2,  6,  6,  6, 10, 10,\n",
       "        10, 10, 14, 14, 14, 14,  3,  7],\n",
       "       [ 0,  0,  0,  0,  1,  1,  1,  2,  2,  3,  4,  4,  4,  5,  5,  5,\n",
       "         5,  6,  6,  6,  6,  7,  7,  7,  7,  8,  8,  9,  9,  9, 10, 10,\n",
       "        10, 10, 11, 11, 11, 11, 12, 13],\n",
       "       [ 0,  1,  2,  3,  1,  2,  3,  2,  3,  3,  1,  2,  3,  0,  1,  2,\n",
       "         3,  0,  1,  2,  3,  0,  1,  2,  3,  2,  3,  1,  2,  3,  0,  1,\n",
       "         2,  3,  0,  1,  2,  3,  3,  1],\n",
       "       [ 0,  1,  2,  3,  1,  2,  3,  2,  3,  3,  1,  2,  3,  0,  1,  2,\n",
       "         3,  0,  1,  2,  3,  0,  1,  2,  3,  2,  3,  1,  2,  3,  0,  1,\n",
       "         2,  3,  0,  1,  2,  3,  3,  1]], dtype=uint32)"
      ]
     },
     "execution_count": 12,
     "metadata": {},
     "output_type": "execute_result"
    }
   ],
   "source": [
    "EncodedA[:,:40]"
   ]
  },
  {
   "cell_type": "code",
   "execution_count": 28,
   "metadata": {},
   "outputs": [
    {
     "data": {
      "text/plain": [
       "<2080x2123776 sparse matrix of type '<class 'numpy.uint8'>'\n",
       "\twith 16990208 stored elements in COOrdinate format>"
      ]
     },
     "execution_count": 28,
     "metadata": {},
     "output_type": "execute_result"
    }
   ],
   "source": [
    "#columncount=EncodedA.shape[-1]\n",
    "#columnspec=ravel(broadcast_to(arange(columncount), (8, columncount)))\n",
    "#rowspec=ravel(broadcast_to(arange(8), (columncount,8)).T)\n",
    "#rowspec\n",
    "#ravel(EncodedA)\n",
    "\n",
    "def FormSciPyArrayFromOnesPositions(OnesPositions):\n",
    "    columncount=OnesPositions.shape[-1]\n",
    "    columnspec=ravel(broadcast_to(arange(columncount), (8, columncount)))\n",
    "    return coo_matrix((ones(OnesPositions.size,uint8), (ravel(EncodedA), columnspec)),(amax(OnesPositions)+1, columncount),dtype=uint8)\n",
    "    \n",
    "MSciPy=FormSciPyArrayFromOnesPositions(EncodedA)\n",
    "MSciPy"
   ]
  },
  {
   "cell_type": "code",
   "execution_count": 51,
   "metadata": {},
   "outputs": [
    {
     "data": {
      "text/plain": [
       "<2123776x2080 sparse matrix, tc='d', nnz=16496028>"
      ]
     },
     "execution_count": 51,
     "metadata": {},
     "output_type": "execute_result"
    }
   ],
   "source": [
    "def FormCVXOPTArrayFromOnesPositions(OnesPositions):\n",
    "    columncount=OnesPositions.shape[-1]\n",
    "    columnspec=ravel(broadcast_to(arange(columncount), (8, columncount)))\n",
    "    return spmatrix(ones(OnesPositions.size), ravel(EncodedA).tolist(), columnspec.tolist(),(amax(OnesPositions)+1, columncount))\n",
    "\n",
    "MCVXOPT=FormCVXOPTArrayFromOnesPositions(EncodedA).T\n",
    "MCVXOPT"
   ]
  },
  {
   "cell_type": "code",
   "execution_count": 44,
   "metadata": {},
   "outputs": [
    {
     "data": {
      "text/plain": [
       "(2080,)"
      ]
     },
     "execution_count": 44,
     "metadata": {},
     "output_type": "execute_result"
    }
   ],
   "source": [
    "Data=[0.12199995751046305, 0.0022969343799089472, 0.001748319476328954, 3.999015242496535e-05, 0.028907881434196828, 0.0005736087488455967, 0.0003924033706699725, 1.1247230369521505e-05, 0.0030142577390317635, 0.09234476010282468, 4.373922921480586e-05, 0.0014533921021948346, 0.0007798079722868244, 0.024091567451515063, 1.1247230369521505e-05, 0.0003849052170902915, 0.020774884184769502, 0.000396152447459813, 0.0003049249122403608, 4.998769053120669e-06, 0.10820335492385, 0.0020794879260981982, 0.0015546171755205281, 2.4993845265603346e-05, 0.0006260958239033638, 0.020273757587194154, 7.498153579681003e-06, 0.0003374169110856452, 0.0028942872817568676, 0.08976414557915113, 2.624353752888351e-05, 0.0012984302615480939, 0.002370666223442477, 4.7488306004646356e-05, 0.0999928767540993, 0.001957018084296742, 0.0006198473625869629, 8.747845842961171e-06, 0.02636975644747481, 0.0005198719815245496, 1.4996307159362007e-05, 0.000403650601039494, 0.0005498645958432735, 0.017359475229224805, 7.123245900696953e-05, 0.002346922070440154, 0.0033754188031197316, 0.10295964618712641, 0.00038740460161685187, 7.498153579681003e-06, 0.01608353942841575, 0.000306174604503641, 0.0021319750011559654, 4.248953695152569e-05, 0.09107007399427891, 0.001860791780024169, 5.998522863744803e-05, 0.0018395470115484063, 0.002570616985567304, 0.0766411271224461, 1.874538394920251e-05, 0.00048238121362614454, 0.0006410921310627258, 0.020223769896662948]\n",
    "preb=array(Data)\n",
    "preb=kron(preb,preb)\n",
    "preb=ravel(transpose(reshape(preb,(4,4,4,4,4,4)),(0,3,1,4,2,5)))\n",
    "\n",
    "def MergeMonomials(bvector,encoding):\n",
    "    return ravel(coo_matrix((bvector, (zeros(len(bvector),uint8), encoding)),(1, amax(encoding)+1)).toarray())\n",
    "\n",
    "b=MergeMonomials(preb,EncodingMonomialToRow);\n",
    "b.shape"
   ]
  },
  {
   "cell_type": "code",
   "execution_count": 52,
   "metadata": {},
   "outputs": [
    {
     "data": {
      "text/plain": [
       "(2123776, 2080)"
      ]
     },
     "execution_count": 52,
     "metadata": {},
     "output_type": "execute_result"
    }
   ],
   "source": [
    "MCVXOPT.size"
   ]
  },
  {
   "cell_type": "code",
   "execution_count": 45,
   "metadata": {},
   "outputs": [
    {
     "name": "stdout",
     "output_type": "stream",
     "text": [
      "[-3.00e+00     0     -1.00e+00     0    ]\n",
      "[    0     -2.00e+00     0         0    ]\n",
      "[    0         0         0         0    ]\n",
      "[    0         0         0     -1.00e+00]\n",
      "\n"
     ]
    }
   ],
   "source": [
    "#Proof of concept that spmatrix also sums duplicate entries, no need to go via SciPy\n",
    "row  = array([0, 0, 1, 3, 1, 0, 0])\n",
    "col  = array([0, 2, 1, 3, 1, 0, 0])\n",
    "data = array([1, 1, 1, 1, 1, 1, 1])\n",
    "coo = spmatrix(data, row.tolist(), col.tolist(), (4, 4))\n",
    "print(-coo)"
   ]
  },
  {
   "cell_type": "code",
   "execution_count": null,
   "metadata": {},
   "outputs": [],
   "source": [
    "import mosek\n",
    "from cvxopt import msk\n",
    "rowcount=MCVXOPT.size[0];\n",
    "colcount=MCVXOPT.size[1];\n",
    "CVXOPTb=matrix(atleast_2d(b).T)\n",
    "CVXOPTh=matrix(zeros((rowcount,1)))\n",
    "CVXOPTA=matrix(ones((1,colcount)))\n",
    "solvers.lp(CVXOPTb,-MCVXOPT,CVXOPTh,CVXOPTA,matrix(ones((1,1))),solver='mosek')"
   ]
  },
  {
   "cell_type": "code",
   "execution_count": null,
   "metadata": {},
   "outputs": [],
   "source": []
  }
 ],
 "metadata": {
  "colab": {
   "collapsed_sections": [],
   "include_colab_link": true,
   "name": "Inflation Technique.ipynb",
   "provenance": []
  },
  "kernelspec": {
   "display_name": "Python 3",
   "language": "python",
   "name": "python3"
  },
  "language_info": {
   "codemirror_mode": {
    "name": "ipython",
    "version": 3
   },
   "file_extension": ".py",
   "mimetype": "text/x-python",
   "name": "python",
   "nbconvert_exporter": "python",
   "pygments_lexer": "ipython3",
   "version": "3.7.7"
  }
 },
 "nbformat": 4,
 "nbformat_minor": 4
}
