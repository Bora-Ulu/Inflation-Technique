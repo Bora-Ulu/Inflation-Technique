{
 "cells": [
  {
   "cell_type": "markdown",
   "metadata": {},
   "source": [
    "# Not Currently Functional"
   ]
  },
  {
   "cell_type": "code",
   "execution_count": 362,
   "metadata": {},
   "outputs": [],
   "source": [
    "import numpy as np\n",
    "from scipy import sparse\n",
    "from igraph import *\n",
    "from functools import reduce\n",
    "import copy"
   ]
  },
  {
   "cell_type": "code",
   "execution_count": 363,
   "metadata": {},
   "outputs": [],
   "source": [
    "#import pip\n",
    "#pip.main(['install','--upgrade','python-igraph'])"
   ]
  },
  {
   "cell_type": "code",
   "execution_count": 364,
   "metadata": {},
   "outputs": [
    {
     "data": {
      "text/plain": [
       "array([3, 6], dtype=uint32)"
      ]
     },
     "execution_count": 364,
     "metadata": {},
     "output_type": "execute_result"
    }
   ],
   "source": [
    "def FastIntesectingQ(ar1,ar2):\n",
    "    return np.array(np.intersect1d(ar1, ar2, assume_unique=True).size,np.bool).tolist()\n",
    "\n",
    "def Union(*args):\n",
    "    return reduce(np.union1d, args)\n",
    "\n",
    "def DeepUnion(*arrays):\n",
    "    actualarrays=tuple(np.array(ar,np.uint) for ar in tuple(arrays))\n",
    "    return np.unique(np.hstack(actualarrays).astype(np.uint))\n",
    "\n",
    "DeepUnion([3],[6],[])"
   ]
  },
  {
   "cell_type": "code",
   "execution_count": 396,
   "metadata": {},
   "outputs": [],
   "source": [
    "def UpgradeGraphForAnalysis(g):\n",
    "    sorting=np.array(g.topological_sorting('out'))\n",
    "    names=np.array(g.vs[\"name\"])\n",
    "    g.contract_vertices(np.argsort(sorting).tolist()); #MutableForm of permute\n",
    "    #print(names[sorting])\n",
    "    g.vs[\"name\"]=names[sorting].tolist()\n",
    "    g.vs[\"index\"]=range(g.vcount())\n",
    "    g.vs[\"parents\"]=g.get_adjlist('in');\n",
    "    g.vs[\"children\"]=g.get_adjlist('out');\n",
    "    g.vs[\"ancestors\"]=[g.subcomponent(i,'in') for i in g.vs]\n",
    "    g.vs[\"descendants\"]=[g.subcomponent(i,'out') for i in g.vs]\n",
    "    return \n",
    "    "
   ]
  },
  {
   "cell_type": "code",
   "execution_count": null,
   "metadata": {},
   "outputs": [],
   "source": []
  },
  {
   "cell_type": "code",
   "execution_count": 483,
   "metadata": {},
   "outputs": [],
   "source": [
    "def SetAncestors(g,*args):\n",
    "    predeepunion=tuple(g.subcomponent(i,'in') for i in DeepUnion(*args))\n",
    "    return DeepUnion(*predeepunion)\n",
    "\n",
    "#def SetAncestors(g,*args):\n",
    "#    return DeepUnion(g.vs[DeepUnion(args).tolist()][\"ancestors\"])\n",
    "\n",
    "def AncestralSubgraph(g,*args):\n",
    "    return g.induced_subgraph(SetAncestors(g,*args))\n",
    "\n",
    "def ConditionalGraph(g,x,y,z):\n",
    "    ancgraph=copy.deepcopy(g)\n",
    "    ancgraph.delete_edges(ancgraph.es.select(_source_notin = SetAncestors(g,x,y,z)))\n",
    "    #ancgraph=AncestralSubgraph(g,x,y,z);\n",
    "    flatz=np.atleast_1d(z)\n",
    "    print(flatz)\n",
    "    nodecount=g.vcount()\n",
    "    g.add_vertices(len(flatz))\n",
    "    print(ancgraph.summary(1).splitlines()[-1])\n",
    "    for i in flatz:\n",
    "        print(\"hello\")\n",
    "        edges_to_add=[(i+nodecount,p) for p in g.neighbors(i, mode='IN')]\n",
    "        edges_to_delete=[(p,i) for p in g.neighbors(i, mode='IN')]\n",
    "        ancgraph.add_edges(edges_to_add)\n",
    "        ancgraph.delete_edges(edges_to_delete)\n",
    "        edges_to_delete=[(i,c) for c in g.neighbors(i, mode='OUT')]\n",
    "        ancgraph.delete_edges(edges_to_delete)\n",
    "    print(ancgraph.summary(1).splitlines())\n",
    "    Graph.to_undirected(ancgraph)\n",
    "    print(ancgraph.summary(1).splitlines()[-1])\n",
    "    return ancgraph\n",
    "\n",
    "def DSeperated(g,X,Y,Z):\n",
    "    #g2=ConditionalGraph(g,X,Y,Z).as_undirected() #Doesn't really work. Maybe this messes up the indices?\n",
    "    g2=Graph.TupleList(ConditionalGraph(g,X,Y,Z).as_undirected().get_edgelist()) #So we are forced to manually compensate\n",
    "    print(g2.summary(1))\n",
    "    #g2=Graph.TupleList(ConditionalGraph(g,X,Y,Z).get_edgelist()) #So we are forced to manually compensate\n",
    "    print(g2.get_edgelist())\n",
    "    print(g2.vs.indices)\n",
    "    apparently_seperated = True\n",
    "    for x in np.atleast_1d(X).flat:\n",
    "        for y in np.atleast_1d(Y).flat:\n",
    "            if g2.are_connected(x,y):\n",
    "                apparently_seperated=False\n",
    "                return False\n",
    "    return apparently_seperated\n"
   ]
  },
  {
   "cell_type": "code",
   "execution_count": 485,
   "metadata": {},
   "outputs": [
    {
     "name": "stdout",
     "output_type": "stream",
     "text": [
      "[2]\n",
      "U3->A, U3->C, U3->D, A->C, U2->C, U2->D, U2->B, B->D, U1->A, U1->B\n",
      "hello\n",
      "['IGRAPH DN-- 7 8 -- ', '+ attr: ancestors (v), children (v), descendants (v), index (v), name (v), parents (v)', '+ edges (vertex names):', 'U3->A, U3->C, U3->D, A->C, U2->C, U2->D, U2->B, B->D']\n",
      " D -- U3, U2, B\n",
      "IGRAPH UN-- 6 8 -- \n",
      "+ attr: name (v)\n",
      "+ edges (vertex names):\n",
      "0 -- 3, 5, 6\n",
      "3 -- 0, 5\n",
      "1 -- 4, 5, 6\n",
      "4 -- 1, 6\n",
      "5 -- 0, 3, 1\n",
      "6 -- 0, 1, 4\n",
      "[(0, 1), (2, 3), (0, 4), (2, 4), (1, 4), (0, 5), (2, 5), (3, 5)]\n",
      "[0, 1, 2, 3, 4, 5]\n"
     ]
    },
    {
     "ename": "InternalError",
     "evalue": "Error at c:\\projects\\python-igraph-jst2e\\vendor\\build\\igraph\\igraph-0.8.3-msvc\\src\\basic_query.c:57: are connected, Invalid vertex id",
     "output_type": "error",
     "traceback": [
      "\u001b[1;31m---------------------------------------------------------------------------\u001b[0m",
      "\u001b[1;31mInternalError\u001b[0m                             Traceback (most recent call last)",
      "\u001b[1;32m<ipython-input-485-55e18578481f>\u001b[0m in \u001b[0;36m<module>\u001b[1;34m()\u001b[0m\n\u001b[0;32m      5\u001b[0m \u001b[1;31m#print(g.vs[\"name\"])\u001b[0m\u001b[1;33m\u001b[0m\u001b[1;33m\u001b[0m\u001b[1;33m\u001b[0m\u001b[0m\n\u001b[0;32m      6\u001b[0m \u001b[1;31m#print(g.topological_sorting('out'))\u001b[0m\u001b[1;33m\u001b[0m\u001b[1;33m\u001b[0m\u001b[1;33m\u001b[0m\u001b[0m\n\u001b[1;32m----> 7\u001b[1;33m \u001b[0mDSeperated\u001b[0m\u001b[1;33m(\u001b[0m\u001b[0mg\u001b[0m\u001b[1;33m,\u001b[0m\u001b[1;33m[\u001b[0m\u001b[1;36m3\u001b[0m\u001b[1;33m]\u001b[0m\u001b[1;33m,\u001b[0m\u001b[1;33m[\u001b[0m\u001b[1;36m6\u001b[0m\u001b[1;33m]\u001b[0m\u001b[1;33m,\u001b[0m\u001b[1;33m[\u001b[0m\u001b[1;36m2\u001b[0m\u001b[1;33m]\u001b[0m\u001b[1;33m)\u001b[0m\u001b[1;33m\u001b[0m\u001b[1;33m\u001b[0m\u001b[0m\n\u001b[0m",
      "\u001b[1;32m<ipython-input-483-d47243991a27>\u001b[0m in \u001b[0;36mDSeperated\u001b[1;34m(g, X, Y, Z)\u001b[0m\n\u001b[0;32m     41\u001b[0m     \u001b[1;32mfor\u001b[0m \u001b[0mx\u001b[0m \u001b[1;32min\u001b[0m \u001b[0mnp\u001b[0m\u001b[1;33m.\u001b[0m\u001b[0matleast_1d\u001b[0m\u001b[1;33m(\u001b[0m\u001b[0mX\u001b[0m\u001b[1;33m)\u001b[0m\u001b[1;33m.\u001b[0m\u001b[0mflat\u001b[0m\u001b[1;33m:\u001b[0m\u001b[1;33m\u001b[0m\u001b[1;33m\u001b[0m\u001b[0m\n\u001b[0;32m     42\u001b[0m         \u001b[1;32mfor\u001b[0m \u001b[0my\u001b[0m \u001b[1;32min\u001b[0m \u001b[0mnp\u001b[0m\u001b[1;33m.\u001b[0m\u001b[0matleast_1d\u001b[0m\u001b[1;33m(\u001b[0m\u001b[0mY\u001b[0m\u001b[1;33m)\u001b[0m\u001b[1;33m.\u001b[0m\u001b[0mflat\u001b[0m\u001b[1;33m:\u001b[0m\u001b[1;33m\u001b[0m\u001b[1;33m\u001b[0m\u001b[0m\n\u001b[1;32m---> 43\u001b[1;33m             \u001b[1;32mif\u001b[0m \u001b[0mg2\u001b[0m\u001b[1;33m.\u001b[0m\u001b[0mare_connected\u001b[0m\u001b[1;33m(\u001b[0m\u001b[0mx\u001b[0m\u001b[1;33m,\u001b[0m\u001b[0my\u001b[0m\u001b[1;33m)\u001b[0m\u001b[1;33m:\u001b[0m\u001b[1;33m\u001b[0m\u001b[1;33m\u001b[0m\u001b[0m\n\u001b[0m\u001b[0;32m     44\u001b[0m                 \u001b[0mapparently_seperated\u001b[0m\u001b[1;33m=\u001b[0m\u001b[1;32mFalse\u001b[0m\u001b[1;33m\u001b[0m\u001b[1;33m\u001b[0m\u001b[0m\n\u001b[0;32m     45\u001b[0m                 \u001b[1;32mreturn\u001b[0m \u001b[1;32mFalse\u001b[0m\u001b[1;33m\u001b[0m\u001b[1;33m\u001b[0m\u001b[0m\n",
      "\u001b[1;31mInternalError\u001b[0m: Error at c:\\projects\\python-igraph-jst2e\\vendor\\build\\igraph\\igraph-0.8.3-msvc\\src\\basic_query.c:57: are connected, Invalid vertex id"
     ]
    }
   ],
   "source": [
    "g=Graph.Formula(\"U3->A:C:D,U2->B:C:D,U1->A:B,A->C,B->D\");\n",
    "#print(g.vs[\"name\"])\n",
    "#print(g.topological_sorting('out'))\n",
    "UpgradeGraphForAnalysis(g);\n",
    "#print(g.vs[\"name\"])\n",
    "#print(g.topological_sorting('out'))\n",
    "DSeperated(g,[3],[6],[2])"
   ]
  },
  {
   "cell_type": "code",
   "execution_count": 451,
   "metadata": {},
   "outputs": [
    {
     "data": {
      "text/plain": [
       "True"
      ]
     },
     "execution_count": 451,
     "metadata": {},
     "output_type": "execute_result"
    }
   ],
   "source": [
    "Graph.TupleList([(0, 3), (2, 3), (1, 4), (2, 4), (0, 5), (1, 5), (3, 5), (0, 6), (1, 6), (4, 6)]).are_connected(3,6)"
   ]
  },
  {
   "cell_type": "code",
   "execution_count": 452,
   "metadata": {},
   "outputs": [
    {
     "name": "stdout",
     "output_type": "stream",
     "text": [
      "[]\n",
      "U3->A, U3->C, U3->D, A->C, U2->C, U2->D, U2->B, B->D, U1->A, U1->B\n",
      "['IGRAPH DN-- 7 10 -- ', '+ attr: ancestors (v), children (v), descendants (v), index (v), name (v), parents (v)', '+ edges (vertex names):', 'U3->A, U3->C, U3->D, A->C, U2->C, U2->D, U2->B, B->D, U1->A, U1->B']\n",
      " D -- U3, U2, B\n"
     ]
    },
    {
     "data": {
      "text/plain": [
       "<igraph.Graph at 0x19b4005e5e8>"
      ]
     },
     "execution_count": 452,
     "metadata": {},
     "output_type": "execute_result"
    }
   ],
   "source": [
    "Graph.Adjacency(sparse.lil_matrix(ConditionalGraph(g,[3],[6],[]).get_adjacency_sparse()).toarray().tolist(),mode='UNDIRECTED')"
   ]
  },
  {
   "cell_type": "code",
   "execution_count": 370,
   "metadata": {},
   "outputs": [],
   "source": [
    "#TOWARD IMPLEMENTING D-SEPERATION TEST\n",
    "#induced_subgraph\n",
    "#is_connected('WEAK')\n",
    "#as_undirected()\n",
    "#subcomponent(v,'ALL') #for a node\n",
    "#components('WEAK')\n",
    "#are_connected(v1,v2)\n",
    "#cohesive_blocks\n",
    "#get_automorphisms_vf2"
   ]
  }
 ],
 "metadata": {
  "kernelspec": {
   "display_name": "idp",
   "language": "python",
   "name": "idp"
  },
  "language_info": {
   "codemirror_mode": {
    "name": "ipython",
    "version": 3
   },
   "file_extension": ".py",
   "mimetype": "text/x-python",
   "name": "python",
   "nbconvert_exporter": "python",
   "pygments_lexer": "ipython3",
   "version": "3.7.9"
  }
 },
 "nbformat": 4,
 "nbformat_minor": 4
}
