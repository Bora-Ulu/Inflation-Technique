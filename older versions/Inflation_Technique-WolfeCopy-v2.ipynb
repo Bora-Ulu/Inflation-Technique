{
 "cells": [
  {
   "cell_type": "markdown",
   "metadata": {
    "colab_type": "text",
    "id": "view-in-github"
   },
   "source": [
    "<a href=\"https://colab.research.google.com/github/Bora-Ulu/Inflation-Technique/blob/main/Inflation_Technique.ipynb\" target=\"_parent\"><img src=\"https://colab.research.google.com/assets/colab-badge.svg\" alt=\"Open In Colab\"/></a>"
   ]
  },
  {
   "cell_type": "code",
   "execution_count": 1,
   "metadata": {
    "colab": {
     "base_uri": "https://localhost:8080/"
    },
    "id": "DFJJdFsS0RDX",
    "outputId": "ab46b54c-dfce-4e60-fb14-b7ca210f2bd0"
   },
   "outputs": [
    {
     "data": {
      "text/plain": [
       "[(16777216,), (16777216, 32)]"
      ]
     },
     "execution_count": 1,
     "metadata": {},
     "output_type": "execute_result"
    }
   ],
   "source": [
    "from numpy import *\n",
    "from itertools import *\n",
    "import time\n",
    "from scipy.sparse import coo_matrix\n",
    "from scipy.sparse import csc_matrix\n",
    "from scipy.sparse import csr_matrix\n",
    "from cvxopt import matrix, solvers, sparse, spmatrix\n",
    "from numba import njit\n",
    "\n",
    "@njit\n",
    "def PrepForIntToArray32(ar):# Takes a huge column vector as input\n",
    "                     # Returns a matrix where the rows are the base-4 binary expansions of each element of the input array\n",
    "    #return transpose(atleast_2d(ravel(ar.astype(uint32)))).view(uint8)\n",
    "    return reshape(ar.astype(uint32).view(uint8),(-1,4))\n",
    "\n",
    "\n",
    "def IntToArray32(ar):\n",
    "    return unpackbits(PrepForIntToArray32(ar),axis=1, bitorder='little').view(bool_)\n",
    "\n",
    "#@njit\n",
    "#def PrepForArrayToInt32(bitarray):\n",
    "#    as2mat=bitarray.reshape(-1, bitarray.shape[-1])\n",
    "#    temparray=zeros((len(as2mat),32),bool_)\n",
    "#    temparray[:,:bitarray.shape[-1]]=as2mat\n",
    "#    # return pad(bitarray.reshape(-1, bitarray.shape[-1]),[(0,0), (0, 32-bitarray.shape[-1])], mode='constant')\n",
    "#    return temparray\n",
    "\n",
    "\n",
    "def ArrayToInt32(bitarray):\n",
    "    return packbits(bitarray, bitorder='little').view(uint32)\n",
    "\n",
    "@njit\n",
    "def ExtractBitsFromBitArray(bitarray,bitstoextract): #bitstoextract must be numpy array\n",
    "    tempbitarray=zeros_like(bitarray)\n",
    "    tempbitarray[:,:len(bitstoextract)]=bitarray[:,subtract(amax(bitstoextract),bitstoextract)]\n",
    "    return tempbitarray\n",
    "\n",
    "def ExtractBitsFromInts(intarray,bitstoextract): #bitstoextract need not be a numpy array\n",
    "#    asbitarray=IntToArray32(intarray)\n",
    "#    tempbitarray=zeros_like(asbitarray)\n",
    "#    tempbitarray[:,:len(bitstoextract)]=asbitarray[:,subtract(amax(bitstoextract),array(bitstoextract))]\n",
    "    return ArrayToInt32(ExtractBitsFromBitArray(IntToArray32(intarray),array(bitstoextract,uint16)))\n",
    "\n",
    "\n",
    "ColumnIntegers=arange(0,4**12,1,uint32)\n",
    "ColumnIntegersAsBits=IntToArray32(ColumnIntegers)\n",
    "[ColumnIntegers.shape,ColumnIntegersAsBits.shape]"
   ]
  },
  {
   "cell_type": "code",
   "execution_count": 2,
   "metadata": {},
   "outputs": [
    {
     "data": {
      "text/plain": [
       "(80,)"
      ]
     },
     "execution_count": 2,
     "metadata": {},
     "output_type": "execute_result"
    }
   ],
   "source": [
    "arange(240,260).view(uint8).shape"
   ]
  },
  {
   "cell_type": "code",
   "execution_count": 3,
   "metadata": {},
   "outputs": [
    {
     "data": {
      "text/plain": [
       "array([0, 0, 1, 2, 4, 2, 1, 3, 5])"
      ]
     },
     "execution_count": 3,
     "metadata": {},
     "output_type": "execute_result"
    }
   ],
   "source": [
    "@njit\n",
    "def PositionIndex(arraywithduplicates):\n",
    "    arraycopy=zeros_like(arraywithduplicates)\n",
    "    u=unique(arraywithduplicates)\n",
    "    arraycopy[u]=arange(len(u))\n",
    "    return arraycopy[arraywithduplicates]\n",
    "\n",
    "PositionIndex(array([1,1,2,4,6,4,2,5,7],int32))"
   ]
  },
  {
   "cell_type": "code",
   "execution_count": 4,
   "metadata": {},
   "outputs": [
    {
     "name": "stdout",
     "output_type": "stream",
     "text": [
      "(4096,)\n"
     ]
    },
    {
     "data": {
      "text/plain": [
       "array([   0,    1,    2, ..., 2069, 2043, 2079], dtype=uint32)"
      ]
     },
     "execution_count": 4,
     "metadata": {},
     "output_type": "execute_result"
    }
   ],
   "source": [
    "RowIntegers=arange(0,4**6,1,uint32)\n",
    "EncodingMonomialToRow=PositionIndex(amin(vstack((RowIntegers,ExtractBitsFromInts(RowIntegers,[2,3,0,1,6,7,4,5,10,11,8,9]))),axis=0))\n",
    "print(EncodingMonomialToRow.shape)\n",
    "EncodingMonomialToRow"
   ]
  },
  {
   "cell_type": "code",
   "execution_count": 5,
   "metadata": {},
   "outputs": [
    {
     "name": "stdout",
     "output_type": "stream",
     "text": [
      "(16777216,)\n"
     ]
    },
    {
     "data": {
      "text/plain": [
       "array([   0, 2048, 1024, ..., 3071, 2047, 4095], dtype=uint32)"
      ]
     },
     "execution_count": 5,
     "metadata": {},
     "output_type": "execute_result"
    }
   ],
   "source": [
    "EncodingColumnToMonomial=ArrayToInt32(ExtractBitsFromBitArray(ColumnIntegersAsBits,array([0,1,6,7,8,9,14,15,16,17,22,23],uint16)))\n",
    "print(EncodingColumnToMonomial.shape)\n",
    "EncodingColumnToMonomial"
   ]
  },
  {
   "cell_type": "code",
   "execution_count": 6,
   "metadata": {},
   "outputs": [],
   "source": [
    "multiplier=hstack((2**arange(24),zeros(8,uint32)))\n",
    "SwapX1X2=arange(32);\n",
    "SwapX1X2[23-array([0,1,2,3,4,5,6,7,8,9,12,13,10,11,14,15])]=SwapX1X2[23-array([2,3,0,1,6,7,4,5,12,13,8,9,14,15,10,11])];\n",
    "SwapY1Y2=arange(32);\n",
    "SwapY1Y2[23-array([0,1,4,5,2,3,6,7,16,17,18,19,20,21,22,23])]=SwapY1Y2[23-array([4,5,0,1,6,7,2,3,18,19,16,17,22,23,20,21])];\n",
    "SwapZ1Z2=arange(32);\n",
    "SwapZ1Z2[23-array([8,9,10,11,12,13,14,15,16,17,20,21,18,19,22,23])]=SwapZ1Z2[23-array([10,11,8,9,14,15,12,13,20,21,16,17,22,23,18,19])]\n",
    "SymMultiplier=vstack((multiplier,\\\n",
    "     multiplier[SwapX1X2],\\\n",
    "     multiplier[SwapY1Y2], \\\n",
    "     multiplier[SwapZ1Z2], \\\n",
    "     multiplier[SwapX1X2[SwapY1Y2]], \\\n",
    "     multiplier[SwapX1X2[SwapZ1Z2]], \\\n",
    "     multiplier[SwapY1Y2[SwapZ1Z2]], \\\n",
    "     multiplier[SwapX1X2[SwapY1Y2[SwapZ1Z2]]],\\\n",
    "    ))"
   ]
  },
  {
   "cell_type": "code",
   "execution_count": 7,
   "metadata": {},
   "outputs": [
    {
     "name": "stdout",
     "output_type": "stream",
     "text": [
      "It took 3.7609951496124268 seconds.\n"
     ]
    },
    {
     "data": {
      "text/plain": [
       "(8, 16777216)"
      ]
     },
     "execution_count": 7,
     "metadata": {},
     "output_type": "execute_result"
    }
   ],
   "source": [
    "#TIMING COMPARISONS: Trimmed matrix multiplication\n",
    "start = time.time()\n",
    "A=dot(SymMultiplier[:,:24],ColumnIntegersAsBits.T[:24,:]);\n",
    "print('It took', time.time()-start, 'seconds.')\n",
    "A.shape"
   ]
  },
  {
   "cell_type": "code",
   "execution_count": 8,
   "metadata": {},
   "outputs": [],
   "source": [
    "#TIMING COMPARISONS: Untrimmed matrix multiplication\n",
    "# start = time.time()\n",
    "# A=dot(ColumnIntegersAsBits,SymMultiplier.T).T;\n",
    "# print('It took', time.time()-start, 'seconds.')\n",
    "# A.shape"
   ]
  },
  {
   "cell_type": "code",
   "execution_count": 9,
   "metadata": {},
   "outputs": [],
   "source": [
    "#TIMING COMPARISONS: Bit reshuffling and repacking\n",
    "# start = time.time()\n",
    "# A=vstack((ColumnIntegers,\\\n",
    "#     packbits(ColumnIntegersAsBits[:,SwapX1X2], bitorder='little').view(uint32),\\\n",
    "#     packbits(ColumnIntegersAsBits[:,SwapY1Y2], bitorder='little').view(uint32),\\\n",
    "#     packbits(ColumnIntegersAsBits[:,SwapZ1Z2], bitorder='little').view(uint32),\\\n",
    "#     packbits(ColumnIntegersAsBits[:,SwapX1X2[SwapY1Y2]], bitorder='little').view(uint32),\\\n",
    "#     packbits(ColumnIntegersAsBits[:,SwapX1X2[SwapZ1Z2]], bitorder='little').view(uint32),\\\n",
    "#     packbits(ColumnIntegersAsBits[:,SwapY1Y2[SwapZ1Z2]], bitorder='little').view(uint32),\\\n",
    "#     packbits(ColumnIntegersAsBits[:,SwapX1X2[SwapY1Y2[SwapZ1Z2]]], bitorder='little').view(uint32),\\\n",
    "#    ))\n",
    "#print('It took', time.time()-start, 'seconds.')\n",
    "#A.shape"
   ]
  },
  {
   "cell_type": "code",
   "execution_count": 10,
   "metadata": {},
   "outputs": [
    {
     "data": {
      "text/plain": [
       "(8, 2123776)"
      ]
     },
     "execution_count": 10,
     "metadata": {},
     "output_type": "execute_result"
    }
   ],
   "source": [
    "#Removing duplicate columns\n",
    "A=A[:,unique(amin(A,axis=0))]\n",
    "A.shape"
   ]
  },
  {
   "cell_type": "code",
   "execution_count": 11,
   "metadata": {},
   "outputs": [
    {
     "name": "stdout",
     "output_type": "stream",
     "text": [
      "2079\n"
     ]
    },
    {
     "data": {
      "text/plain": [
       "(8, 2123776)"
      ]
     },
     "execution_count": 11,
     "metadata": {},
     "output_type": "execute_result"
    }
   ],
   "source": [
    "EncodedA=EncodingMonomialToRow[EncodingColumnToMonomial][A]\n",
    "#EncodedA=EncodingColumnToMonomial[A]\n",
    "print(amax(EncodedA))\n",
    "EncodedA.shape"
   ]
  },
  {
   "cell_type": "markdown",
   "metadata": {},
   "source": [
    "EDITED UP TO THIS POINT. Next we need to construct the sparse matrix from this data, and generate the b vector from the distribution --- USING EncodingMonomialToRow !"
   ]
  },
  {
   "cell_type": "code",
   "execution_count": 12,
   "metadata": {},
   "outputs": [
    {
     "data": {
      "text/plain": [
       "array([[ 0,  4,  8, 12,  4,  8, 12,  8, 12, 12,  4,  8, 12,  0,  4,  8,\n",
       "        12,  0,  4,  8, 12,  0,  4,  8, 12,  8, 12,  4,  8, 12,  0,  4,\n",
       "         8, 12,  0,  4,  8, 12, 12,  4],\n",
       "       [ 0,  4,  8, 12,  4,  8, 12,  8, 12, 12,  4,  8, 12,  0,  4,  8,\n",
       "        12,  0,  4,  8, 12,  0,  4,  8, 12,  8, 12,  4,  8, 12,  0,  4,\n",
       "         8, 12,  0,  4,  8, 12, 12,  4],\n",
       "       [ 0,  0,  0,  0,  4,  4,  4,  8,  8, 12,  1,  1,  1,  5,  5,  5,\n",
       "         5,  9,  9,  9,  9, 13, 13, 13, 13,  2,  2,  6,  6,  6, 10, 10,\n",
       "        10, 10, 14, 14, 14, 14,  3,  7],\n",
       "       [ 0,  0,  0,  0,  1,  1,  1,  2,  2,  3,  4,  4,  4,  5,  5,  5,\n",
       "         5,  6,  6,  6,  6,  7,  7,  7,  7,  8,  8,  9,  9,  9, 10, 10,\n",
       "        10, 10, 11, 11, 11, 11, 12, 13],\n",
       "       [ 0,  0,  0,  0,  4,  4,  4,  8,  8, 12,  1,  1,  1,  5,  5,  5,\n",
       "         5,  9,  9,  9,  9, 13, 13, 13, 13,  2,  2,  6,  6,  6, 10, 10,\n",
       "        10, 10, 14, 14, 14, 14,  3,  7],\n",
       "       [ 0,  0,  0,  0,  1,  1,  1,  2,  2,  3,  4,  4,  4,  5,  5,  5,\n",
       "         5,  6,  6,  6,  6,  7,  7,  7,  7,  8,  8,  9,  9,  9, 10, 10,\n",
       "        10, 10, 11, 11, 11, 11, 12, 13],\n",
       "       [ 0,  1,  2,  3,  1,  2,  3,  2,  3,  3,  1,  2,  3,  0,  1,  2,\n",
       "         3,  0,  1,  2,  3,  0,  1,  2,  3,  2,  3,  1,  2,  3,  0,  1,\n",
       "         2,  3,  0,  1,  2,  3,  3,  1],\n",
       "       [ 0,  1,  2,  3,  1,  2,  3,  2,  3,  3,  1,  2,  3,  0,  1,  2,\n",
       "         3,  0,  1,  2,  3,  0,  1,  2,  3,  2,  3,  1,  2,  3,  0,  1,\n",
       "         2,  3,  0,  1,  2,  3,  3,  1]], dtype=uint32)"
      ]
     },
     "execution_count": 12,
     "metadata": {},
     "output_type": "execute_result"
    }
   ],
   "source": [
    "EncodedA[:,:40]"
   ]
  },
  {
   "cell_type": "code",
   "execution_count": 13,
   "metadata": {},
   "outputs": [
    {
     "data": {
      "text/plain": [
       "<2080x2123776 sparse matrix of type '<class 'numpy.uint8'>'\n",
       "\twith 16990208 stored elements in COOrdinate format>"
      ]
     },
     "execution_count": 13,
     "metadata": {},
     "output_type": "execute_result"
    }
   ],
   "source": [
    "#columncount=EncodedA.shape[-1]\n",
    "#columnspec=ravel(broadcast_to(arange(columncount), (8, columncount)))\n",
    "#rowspec=ravel(broadcast_to(arange(8), (columncount,8)).T)\n",
    "#rowspec\n",
    "#ravel(EncodedA)\n",
    "\n",
    "def FormSciPyArrayFromOnesPositions(OnesPositions):\n",
    "    columncount=OnesPositions.shape[-1]\n",
    "    columnspec=ravel(broadcast_to(arange(columncount), (8, columncount)))\n",
    "    return coo_matrix((ones(OnesPositions.size,uint8), (ravel(EncodedA), columnspec)),(amax(OnesPositions)+1, columncount),dtype=uint8)\n",
    "    \n",
    "MSciPy=FormSciPyArrayFromOnesPositions(EncodedA)\n",
    "MSciPy"
   ]
  },
  {
   "cell_type": "code",
   "execution_count": 14,
   "metadata": {},
   "outputs": [
    {
     "data": {
      "text/plain": [
       "<2123776x2080 sparse matrix, tc='d', nnz=16496028>"
      ]
     },
     "execution_count": 14,
     "metadata": {},
     "output_type": "execute_result"
    }
   ],
   "source": [
    "def FormCVXOPTArrayFromOnesPositions(OnesPositions):\n",
    "    columncount=OnesPositions.shape[-1]\n",
    "    columnspec=ravel(broadcast_to(arange(columncount), (8, columncount)))\n",
    "    return spmatrix(ones(OnesPositions.size), ravel(EncodedA).tolist(), columnspec.tolist(),(amax(OnesPositions)+1, columncount))\n",
    "\n",
    "MCVXOPT=FormCVXOPTArrayFromOnesPositions(EncodedA).T\n",
    "MCVXOPT"
   ]
  },
  {
   "cell_type": "code",
   "execution_count": 15,
   "metadata": {},
   "outputs": [
    {
     "data": {
      "text/plain": [
       "(2080,)"
      ]
     },
     "execution_count": 15,
     "metadata": {},
     "output_type": "execute_result"
    }
   ],
   "source": [
    "Data=[0.12199995751046305, 0.0022969343799089472, 0.001748319476328954, 3.999015242496535e-05, 0.028907881434196828, 0.0005736087488455967, 0.0003924033706699725, 1.1247230369521505e-05, 0.0030142577390317635, 0.09234476010282468, 4.373922921480586e-05, 0.0014533921021948346, 0.0007798079722868244, 0.024091567451515063, 1.1247230369521505e-05, 0.0003849052170902915, 0.020774884184769502, 0.000396152447459813, 0.0003049249122403608, 4.998769053120669e-06, 0.10820335492385, 0.0020794879260981982, 0.0015546171755205281, 2.4993845265603346e-05, 0.0006260958239033638, 0.020273757587194154, 7.498153579681003e-06, 0.0003374169110856452, 0.0028942872817568676, 0.08976414557915113, 2.624353752888351e-05, 0.0012984302615480939, 0.002370666223442477, 4.7488306004646356e-05, 0.0999928767540993, 0.001957018084296742, 0.0006198473625869629, 8.747845842961171e-06, 0.02636975644747481, 0.0005198719815245496, 1.4996307159362007e-05, 0.000403650601039494, 0.0005498645958432735, 0.017359475229224805, 7.123245900696953e-05, 0.002346922070440154, 0.0033754188031197316, 0.10295964618712641, 0.00038740460161685187, 7.498153579681003e-06, 0.01608353942841575, 0.000306174604503641, 0.0021319750011559654, 4.248953695152569e-05, 0.09107007399427891, 0.001860791780024169, 5.998522863744803e-05, 0.0018395470115484063, 0.002570616985567304, 0.0766411271224461, 1.874538394920251e-05, 0.00048238121362614454, 0.0006410921310627258, 0.020223769896662948]\n",
    "preb=array(Data)\n",
    "preb=kron(preb,preb)\n",
    "preb=ravel(transpose(reshape(preb,(4,4,4,4,4,4)),(0,3,1,4,2,5)))\n",
    "\n",
    "def MergeMonomials(bvector,encoding):\n",
    "    return ravel(coo_matrix((bvector, (zeros(len(bvector),uint8), encoding)),(1, amax(encoding)+1)).toarray())\n",
    "\n",
    "b=MergeMonomials(preb,EncodingMonomialToRow);\n",
    "b.shape"
   ]
  },
  {
   "cell_type": "code",
   "execution_count": 16,
   "metadata": {},
   "outputs": [
    {
     "data": {
      "text/plain": [
       "(2123776, 2080)"
      ]
     },
     "execution_count": 16,
     "metadata": {},
     "output_type": "execute_result"
    }
   ],
   "source": [
    "MCVXOPT.size"
   ]
  },
  {
   "cell_type": "code",
   "execution_count": 17,
   "metadata": {},
   "outputs": [
    {
     "name": "stdout",
     "output_type": "stream",
     "text": [
      "[-3.00e+00     0     -1.00e+00     0    ]\n",
      "[    0     -2.00e+00     0         0    ]\n",
      "[    0         0         0         0    ]\n",
      "[    0         0         0     -1.00e+00]\n",
      "\n"
     ]
    }
   ],
   "source": [
    "#Proof of concept that spmatrix also sums duplicate entries, no need to go via SciPy\n",
    "row  = array([0, 0, 1, 3, 1, 0, 0])\n",
    "col  = array([0, 2, 1, 3, 1, 0, 0])\n",
    "data = array([1, 1, 1, 1, 1, 1, 1])\n",
    "coo = spmatrix(data, row.tolist(), col.tolist(), (4, 4))\n",
    "print(-coo)"
   ]
  },
  {
   "cell_type": "code",
   "execution_count": 18,
   "metadata": {},
   "outputs": [
    {
     "name": "stdout",
     "output_type": "stream",
     "text": [
      "Problem\n",
      "  Name                   :                 \n",
      "  Objective sense        : min             \n",
      "  Type                   : LO (linear optimization problem)\n",
      "  Constraints            : 2123777         \n",
      "  Cones                  : 0               \n",
      "  Scalar variables       : 2080            \n",
      "  Matrix variables       : 0               \n",
      "  Integer variables      : 0               \n",
      "\n",
      "Optimizer started.\n",
      "Presolve started.\n",
      "Linear dependency checker started.\n",
      "Linear dependency checker terminated.\n",
      "Eliminator started.\n",
      "Freed constraints in eliminator : 0\n",
      "Eliminator terminated.\n",
      "Eliminator - tries                  : 1                 time                   : 0.00            \n",
      "Lin. dep.  - tries                  : 1                 time                   : 0.27            \n",
      "Lin. dep.  - number                 : 0               \n",
      "Presolve terminated. Time: 3.92    \n",
      "Problem\n",
      "  Name                   :                 \n",
      "  Objective sense        : min             \n",
      "  Type                   : LO (linear optimization problem)\n",
      "  Constraints            : 2123777         \n",
      "  Cones                  : 0               \n",
      "  Scalar variables       : 2080            \n",
      "  Matrix variables       : 0               \n",
      "  Integer variables      : 0               \n",
      "\n",
      "Optimizer  - threads                : 6               \n",
      "Optimizer  - solved problem         : the dual        \n",
      "Optimizer  - Constraints            : 1036\n",
      "Optimizer  - Cones                  : 0\n",
      "Optimizer  - Scalar variables       : 829565            conic                  : 0               \n",
      "Optimizer  - Semi-definite variables: 0                 scalarized             : 0               \n",
      "Factor     - setup time             : 0.41              dense det. time        : 0.00            \n",
      "Factor     - ML order time          : 0.01              GP order time          : 0.00            \n",
      "Factor     - nonzeros before factor : 5.37e+05          after factor           : 5.37e+05        \n",
      "Factor     - dense dim.             : 0                 flops                  : 3.89e+08        \n",
      "ITE PFEAS    DFEAS    GFEAS    PRSTATUS   POBJ              DOBJ              MU       TIME  \n",
      "0   1.4e+00  4.0e+03  2.8e+00  0.00e+00   6.887232624e-10   -9.999999993e-01  2.0e+00  4.91  \n",
      "1   1.4e-01  3.9e+02  2.8e-01  1.99e+02   7.475546882e-06   -9.433424362e-09  2.0e-01  5.11  \n",
      "2   3.5e-02  9.7e+01  6.9e-02  1.56e+00   3.648341580e-06   -1.116384159e-08  4.9e-02  5.42  \n",
      "3   1.7e-02  4.6e+01  3.3e-02  8.74e-01   2.622777019e-06   -6.371583256e-09  2.4e-02  5.80  \n",
      "4   7.7e-03  2.1e+01  1.5e-02  1.05e+00   9.581271368e-07   -1.136890971e-09  1.1e-02  6.25  \n",
      "5   3.9e-03  1.1e+01  7.8e-03  1.19e+00   4.784120938e-07   -1.428006148e-10  5.5e-03  6.47  \n",
      "6   2.8e-03  7.9e+00  5.7e-03  8.16e-01   3.786746087e-07   -1.452365355e-11  4.0e-03  6.64  \n",
      "7   7.0e-04  2.0e+00  1.4e-03  6.20e-01   1.434667471e-07   3.126305159e-10   1.0e-03  6.97  \n",
      "8   1.4e-04  4.0e-01  2.8e-04  -3.04e-01  9.118856165e-08   -5.644327803e-10  2.0e-04  7.27  \n",
      "9   2.2e-05  6.1e-02  4.3e-05  -8.04e-01  -2.575971961e-07  -8.929317240e-09  3.1e-05  7.41  \n",
      "10  2.2e-05  6.1e-02  4.3e-05  2.72e-01   -1.567475015e-06  -1.407790834e-06  3.1e-05  7.55  \n",
      "11  1.4e-05  3.9e-02  2.8e-05  -2.54e-02  -4.382384437e-06  -4.242821861e-06  2.0e-05  7.74  \n",
      "12  9.1e-06  2.5e-02  1.8e-05  8.30e-01   -7.368668499e-06  -7.284007317e-06  1.3e-05  8.08  \n",
      "13  6.7e-06  1.9e-02  1.3e-05  8.93e-01   -9.407555281e-06  -9.347187199e-06  9.5e-06  8.28  \n",
      "14  3.8e-06  1.1e-02  7.6e-06  9.11e-01   -1.207320482e-05  -1.204278461e-05  5.4e-06  8.59  \n",
      "15  3.0e-06  8.3e-03  5.9e-06  9.33e-01   -1.331261679e-05  -1.328981961e-05  4.2e-06  8.81  \n",
      "16  2.1e-06  5.9e-03  4.2e-06  9.44e-01   -1.472764860e-05  -1.471270185e-05  3.0e-06  9.05  \n",
      "17  1.5e-06  4.3e-03  3.1e-06  9.58e-01   -1.579041863e-05  -1.578021418e-05  2.2e-06  9.31  \n",
      "18  1.2e-06  3.4e-03  2.5e-06  9.70e-01   -1.647369998e-05  -1.646596192e-05  1.7e-06  9.48  \n",
      "19  1.2e-06  3.3e-03  2.4e-06  9.78e-01   -1.658442698e-05  -1.657708129e-05  1.7e-06  9.63  \n",
      "20  1.0e-06  2.9e-03  2.0e-06  9.79e-01   -1.692794877e-05  -1.692180410e-05  1.5e-06  9.86  \n",
      "21  8.8e-07  2.5e-03  1.8e-06  9.84e-01   -1.723257985e-05  -1.722749299e-05  1.2e-06  10.05 \n",
      "22  6.0e-07  1.7e-03  1.2e-06  9.86e-01   -1.789319193e-05  -1.789014525e-05  8.5e-07  10.31 \n",
      "23  2.8e-07  7.8e-04  5.6e-07  9.90e-01   -1.870273077e-05  -1.870160536e-05  4.0e-07  10.53 \n",
      "24  2.1e-07  5.9e-04  4.2e-07  9.95e-01   -1.889541355e-05  -1.889465518e-05  3.0e-07  10.73 \n",
      "25  1.9e-07  5.2e-04  3.7e-07  9.97e-01   -1.895847379e-05  -1.895782607e-05  2.7e-07  10.92 \n",
      "26  6.1e-08  1.7e-04  1.2e-07  9.98e-01   -1.930582696e-05  -1.930576027e-05  8.7e-08  11.19 \n",
      "27  1.3e-08  3.7e-05  2.7e-08  1.00e+00   -1.945935439e-05  -1.945937388e-05  1.9e-08  11.36 \n",
      "28  1.2e-09  3.5e-06  2.5e-09  1.00e+00   -1.950227769e-05  -1.950228031e-05  1.8e-09  11.53 \n",
      "29  2.7e-10  7.6e-07  5.4e-10  1.00e+00   -1.950579649e-05  -1.950579719e-05  3.8e-10  11.73 \n",
      "30  2.6e-11  7.4e-08  5.3e-11  1.00e+00   -1.950668077e-05  -1.950668097e-05  3.7e-11  12.03 \n",
      "31  2.3e-13  2.3e-10  2.6e-12  1.00e+00   -1.950679857e-05  -1.950679856e-05  1.2e-14  12.20 \n",
      "Basis identification started.\n",
      "Primal basis identification phase started.\n",
      "Primal basis identification phase terminated. Time: 2.92\n",
      "Dual basis identification phase started.\n",
      "Dual basis identification phase terminated. Time: 0.00\n",
      "Basis identification terminated. Time: 3.17\n",
      "Optimizer terminated. Time: 16.38   \n",
      "\n",
      "\n",
      "Interior-point solution summary\n",
      "  Problem status  : PRIMAL_AND_DUAL_FEASIBLE\n",
      "  Solution status : OPTIMAL\n",
      "  Primal.  obj: -1.9506798566e-05   nrm: 1e+00    Viol.  con: 1e-15    var: 0e+00  \n",
      "  Dual.    obj: -1.9506798556e-05   nrm: 4e-03    Viol.  con: 0e+00    var: 9e-13  \n",
      "\n",
      "Basic solution summary\n",
      "  Problem status  : PRIMAL_AND_DUAL_FEASIBLE\n",
      "  Solution status : OPTIMAL\n",
      "  Primal.  obj: -1.9506798566e-05   nrm: 1e+00    Viol.  con: 2e-07    var: 0e+00  \n",
      "  Dual.    obj: -1.9506798605e-05   nrm: 4e-03    Viol.  con: 2e-06    var: 2e-06  \n"
     ]
    },
    {
     "data": {
      "text/plain": [
       "{'status': 'optimal',\n",
       " 'x': <2080x1 matrix, tc='d'>,\n",
       " 's': <2123776x1 matrix, tc='d'>,\n",
       " 'y': <1x1 matrix, tc='d'>,\n",
       " 'z': <2123776x1 matrix, tc='d'>,\n",
       " 'primal objective': -1.9506798565794375e-05,\n",
       " 'dual objective': -1.9506798604887057e-05,\n",
       " 'gap': 1.2090503497545257e-13,\n",
       " 'relative gap': 6.198097271966624e-09,\n",
       " 'primal infeasibility': 2.3159252293680765e-11,\n",
       " 'dual infeasibility': 0.0005902077338705597,\n",
       " 'residual as primal infeasibility certificate': None,\n",
       " 'residual as dual infeasibility certificate': None,\n",
       " 'primal slack': -3.6155888314781886e-12,\n",
       " 'dual slack': -1.8737150662485965e-06}"
      ]
     },
     "execution_count": 18,
     "metadata": {},
     "output_type": "execute_result"
    }
   ],
   "source": [
    "import mosek\n",
    "from cvxopt import msk\n",
    "rowcount=MCVXOPT.size[0];\n",
    "colcount=MCVXOPT.size[1];\n",
    "CVXOPTb=matrix(atleast_2d(b).T)\n",
    "CVXOPTh=matrix(zeros((rowcount,1)))\n",
    "CVXOPTA=matrix(ones((1,colcount)))\n",
    "solvers.lp(CVXOPTb,-MCVXOPT,CVXOPTh,CVXOPTA,matrix(ones((1,1))),solver='mosek')"
   ]
  },
  {
   "cell_type": "code",
   "execution_count": null,
   "metadata": {},
   "outputs": [],
   "source": []
  }
 ],
 "metadata": {
  "colab": {
   "collapsed_sections": [],
   "include_colab_link": true,
   "name": "Inflation Technique.ipynb",
   "provenance": []
  },
  "kernelspec": {
   "display_name": "Python 3",
   "language": "python",
   "name": "python3"
  },
  "language_info": {
   "codemirror_mode": {
    "name": "ipython",
    "version": 3
   },
   "file_extension": ".py",
   "mimetype": "text/x-python",
   "name": "python",
   "nbconvert_exporter": "python",
   "pygments_lexer": "ipython3",
   "version": "3.7.7"
  }
 },
 "nbformat": 4,
 "nbformat_minor": 4
}
