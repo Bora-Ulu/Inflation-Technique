{
  "nbformat": 4,
  "nbformat_minor": 0,
  "metadata": {
    "colab": {
      "name": "Copy of Inflation Technique.ipynb",
      "provenance": [],
      "collapsed_sections": [],
      "include_colab_link": true
    },
    "kernelspec": {
      "display_name": "Python 3",
      "language": "python",
      "name": "python3"
    },
    "language_info": {
      "codemirror_mode": {
        "name": "ipython",
        "version": 3
      },
      "file_extension": ".py",
      "mimetype": "text/x-python",
      "name": "python",
      "nbconvert_exporter": "python",
      "pygments_lexer": "ipython3",
      "version": "3.7.7"
    }
  },
  "cells": [
    {
      "cell_type": "markdown",
      "metadata": {
        "id": "view-in-github",
        "colab_type": "text"
      },
      "source": [
        "<a href=\"https://colab.research.google.com/github/Bora-Ulu/Inflation-Technique/blob/main/Copy_of_Inflation_Technique.ipynb\" target=\"_parent\"><img src=\"https://colab.research.google.com/assets/colab-badge.svg\" alt=\"Open In Colab\"/></a>"
      ]
    },
    {
      "cell_type": "code",
      "metadata": {
        "id": "26ylEW1UCWEr"
      },
      "source": [
        "from numpy import *\n",
        "from itertools import *\n",
        "import time\n",
        "from scipy.sparse import coo_matrix\n",
        "from scipy.sparse import csc_matrix\n",
        "from scipy.sparse import csr_matrix\n",
        "from cvxopt import matrix, solvers, sparse, spmatrix\n",
        "from numba import njit\n",
        "\n",
        "@njit\n",
        "def PrepForIntToArray32(ar):# Takes a huge column vector as input\n",
        "                     # Returns a matrix where the rows are the base-4 binary expansions of each element of the input array\n",
        "    #return transpose(atleast_2d(ravel(ar.astype(uint32)))).view(uint8)\n",
        "    return reshape(ar.astype(uint32).view(uint8),(-1,4))\n",
        "\n",
        "\n",
        "def IntToArray32(ar):\n",
        "    return unpackbits(PrepForIntToArray32(ar),axis=1, bitorder='little').view(bool_)\n",
        "\n",
        "\n",
        "def ArrayToInt32(bitarray):\n",
        "    return packbits(bitarray, bitorder='little').view(uint32)\n",
        "\n",
        "@njit\n",
        "def ExtractBitsFromBitArray(bitarray,bitstoextract): #bitstoextract must be numpy array\n",
        "    tempbitarray=zeros_like(bitarray)\n",
        "    tempbitarray[:,:len(bitstoextract)]=bitarray[:,subtract(amax(bitstoextract),bitstoextract)]\n",
        "    return tempbitarray\n",
        "\n",
        "def ExtractBitsFromInts(intarray,bitstoextract): #bitstoextract need not be a numpy array\n",
        "\n",
        "    return ArrayToInt32(ExtractBitsFromBitArray(IntToArray32(intarray),array(bitstoextract,uint16)))\n",
        "\n",
        "@njit\n",
        "def PositionIndex(arraywithduplicates):\n",
        "    arraycopy=zeros_like(arraywithduplicates)\n",
        "    u=unique(arraywithduplicates)\n",
        "    arraycopy[u]=arange(len(u))\n",
        "    return arraycopy[arraywithduplicates]"
      ],
      "execution_count": 109,
      "outputs": []
    },
    {
      "cell_type": "code",
      "metadata": {
        "colab": {
          "base_uri": "https://localhost:8080/"
        },
        "id": "j_0xqmjU20-2",
        "outputId": "c509c3a8-1d61-46c2-ba4d-b8cd8c71371e"
      },
      "source": [
        "\n",
        "X=array([[1,5],[3,8]])\n",
        "L=array([[1,2,3,4],[5,6,8,9]])\n",
        "anc_con=[X,L]\n",
        "\n",
        "card=2\n",
        "num_var=10\n",
        "inflationorder=2\n",
        "Data=[0.12199995751046305, 0.0022969343799089472, 0.001748319476328954, 3.999015242496535e-05, 0.028907881434196828, 0.0005736087488455967, 0.0003924033706699725, 1.1247230369521505e-05, 0.0030142577390317635, 0.09234476010282468, 4.373922921480586e-05, 0.0014533921021948346, 0.0007798079722868244, 0.024091567451515063, 1.1247230369521505e-05, 0.0003849052170902915, 0.020774884184769502, 0.000396152447459813, 0.0003049249122403608, 4.998769053120669e-06, 0.10820335492385, 0.0020794879260981982, 0.0015546171755205281, 2.4993845265603346e-05, 0.0006260958239033638, 0.020273757587194154, 7.498153579681003e-06, 0.0003374169110856452, 0.0028942872817568676, 0.08976414557915113, 2.624353752888351e-05, 0.0012984302615480939, 0.002370666223442477, 4.7488306004646356e-05, 0.0999928767540993, 0.001957018084296742, 0.0006198473625869629, 8.747845842961171e-06, 0.02636975644747481, 0.0005198719815245496, 1.4996307159362007e-05, 0.000403650601039494, 0.0005498645958432735, 0.017359475229224805, 7.123245900696953e-05, 0.002346922070440154, 0.0033754188031197316, 0.10295964618712641, 0.00038740460161685187, 7.498153579681003e-06, 0.01608353942841575, 0.000306174604503641, 0.0021319750011559654, 4.248953695152569e-05, 0.09107007399427891, 0.001860791780024169, 5.998522863744803e-05, 0.0018395470115484063, 0.002570616985567304, 0.0766411271224461, 1.874538394920251e-05, 0.00048238121362614454, 0.0006410921310627258, 0.020223769896662948]\n",
        "ai_naturalorder=[0,1,2,7,8,9]\n",
        "\n",
        "Det1=array([[1,3],[2,4]])\n",
        "Det2=array([[5,8],[6,9]])\n",
        "Det=[Det1,Det2]\n",
        "\"\"\"\n",
        "\n",
        "\n",
        "card=4\n",
        "num_var=12\n",
        "inflationorder=2\n",
        "X=array([[0,3,2,8],[6,9,5,11]])\n",
        "Y=array([[0,6,1,4],[3,9,7,10]])\n",
        "Z=array([[1,7,2,5],[4,10,8,11]])\n",
        "anc_con=[X,Y,Z]\n",
        "ai_naturalorder=[0,1,2,3,4,5,18,19,20,21,22,23]\n",
        "Det=[]\n",
        "\"\"\"\n"
      ],
      "execution_count": 110,
      "outputs": [
        {
          "output_type": "execute_result",
          "data": {
            "text/plain": [
              "'\\n\\n\\ncard=4\\nnum_var=12\\ninflationorder=2\\nX=array([[0,3,2,8],[6,9,5,11]])\\nY=array([[0,6,1,4],[3,9,7,10]])\\nZ=array([[1,7,2,5],[4,10,8,11]])\\nanc_con=[X,Y,Z]\\nai_naturalorder=[0,1,2,3,4,5,18,19,20,21,22,23]\\nDet=[]\\n'"
            ]
          },
          "metadata": {
            "tags": []
          },
          "execution_count": 110
        }
      ]
    },
    {
      "cell_type": "code",
      "metadata": {
        "colab": {
          "base_uri": "https://localhost:8080/"
        },
        "id": "ksPPDwdq1qDF",
        "outputId": "5510caa5-d698-4e53-e66c-7b4a7ef1da91"
      },
      "source": [
        "def CardAdj(card,num_var,ar):\n",
        "    \n",
        "    c=int(card/2)\n",
        "    a=array([list(arange(c)+(x*c)) for x in range(num_var)])\n",
        "\n",
        "    AdjArray=a[ar]\n",
        "    AdjArray=ravel(AdjArray)\n",
        "    \n",
        "    return AdjArray\n",
        "\n",
        "def Determinism(card,num_var,Det,ColumnInts):\n",
        "  ElementsToRemove=[]\n",
        "  ColumnIntegers=ColumnInts\n",
        "  ColumnIntegersAsBits=IntToArray32(ColumnIntegers)\n",
        "\n",
        "  for D in Det:\n",
        "\n",
        "      K=ColumnIntegersAsBits\n",
        "      ar1=CardAdj(card,num_var,D[0])\n",
        "      ar2=CardAdj(card,num_var,D[1])\n",
        "    \n",
        "      BothT=K[:,ar1[0]]\n",
        "      BothF=~K[:,ar1[0]]\n",
        "    \n",
        "      for i in range(1,len(D[0])):\n",
        "        \n",
        "          BothT=BothT & K[:,ar1[i]]\n",
        "          BothF=BothF & ~K[:,ar1[i]]\n",
        "    \n",
        "      G1=BothT|BothF\n",
        "      G2=where(G1 == True)\n",
        "      G2=G2[0]\n",
        "      K1=ColumnIntegersAsBits[G2,:]\n",
        "    \n",
        "      BothT=K1[:,ar2[0]]\n",
        "      BothF=~K1[:,ar2[0]]\n",
        "\n",
        "      for i in range(1,len(D[0])):\n",
        "        \n",
        "          BothT=BothT & K1[:,ar2[i]]\n",
        "          BothF=BothF & ~K1[:,ar2[i]]    \n",
        "    \n",
        "      G3=BothT|BothF\n",
        "      G4=where(G3 == False)\n",
        "      G4=G4[0]\n",
        "      ElementsToRemove.extend(list(G4))\n",
        "    \n",
        "  E=unique(ElementsToRemove)\n",
        "\n",
        "  return list(E)\n",
        "print(len(Determinism(card,num_var,Det,arange(0,card**num_var,1,uint32))))\n",
        "  "
      ],
      "execution_count": 111,
      "outputs": [
        {
          "output_type": "stream",
          "text": [
            "384\n"
          ],
          "name": "stdout"
        }
      ]
    },
    {
      "cell_type": "code",
      "metadata": {
        "id": "HO4Ltr0pC1Xz"
      },
      "source": [
        "def SwappingOps(card, num_var, anc_con):\n",
        "    c=int(card/2)\n",
        "    a=array([list(arange(c)+(x*c)) for x in range(num_var)])\n",
        "    \n",
        "    for i in range(len(anc_con)):\n",
        "        \n",
        "        C=list(combinations(list(anc_con[i]),2))\n",
        "        \n",
        "        for j in range(len(C)):\n",
        "                \n",
        "            V=vstack((C[j][0],C[j][1]))\n",
        "                \n",
        "            V=a[V]\n",
        "            S1=ravel(V[0])\n",
        "            S2=ravel(V[1])\n",
        "                \n",
        "            Swap=arange(32)          \n",
        "            Swap[(num_var*c-1)-hstack((S1,S2))]=Swap[(num_var*c-1)-hstack((S2,S1))]\n",
        "                \n",
        "            if i==0 and j==0:\n",
        "                    \n",
        "                Swaps=Swap\n",
        "                    \n",
        "            else:\n",
        "                    \n",
        "                Swaps=vstack((Swaps,Swap))\n",
        "                \n",
        "    return Swaps\n"
      ],
      "execution_count": 112,
      "outputs": []
    },
    {
      "cell_type": "code",
      "metadata": {
        "colab": {
          "base_uri": "https://localhost:8080/"
        },
        "id": "GKxHkfQCDO9c",
        "outputId": "0b03fecf-64dd-46b2-9526-f01fd8714370"
      },
      "source": [
        "def A(card, num_var, anc_con,Det):\n",
        "    \n",
        "    c=int(card/2)\n",
        "\n",
        "    ColumnIntegers=arange(0,card**num_var,1,uint32)\n",
        "    \n",
        "    ColumnIntegersAsBits=IntToArray32(ColumnIntegers)\n",
        "    \n",
        "    S=SwappingOps(card, num_var, anc_con)\n",
        "    \n",
        "    multiplier=hstack((2**arange(num_var*c),zeros((32-c*num_var),uint32)))\n",
        "    \n",
        "    SymMultiplier=multiplier\n",
        "    \n",
        "    a=range(len(S))\n",
        "    \n",
        "    for i in range(1,len(S)+1):\n",
        "        \n",
        "        C=list(combinations(a,i))\n",
        "        \n",
        "        for k in C:\n",
        "            \n",
        "            D=S[k[0]]\n",
        "            j=0\n",
        "            while j+1 < i:\n",
        "                \n",
        "                D=D[S[k[j+1]]]\n",
        "                j=j+1\n",
        "            \n",
        "            SymMultiplier=vstack((SymMultiplier,multiplier[D]))\n",
        "    A=dot(SymMultiplier[:,:(c*num_var)],ColumnIntegersAsBits.T[:(c*num_var),:])\n",
        "    print(A.shape)\n",
        "    if Det is not []:\n",
        "      A=delete(A,Determinism(card,num_var,Det,ColumnIntegers),axis=1)\n",
        "    print(A.shape)\n",
        "    AA=unique(amin(A,axis=0),return_index=True)\n",
        "    #print(AA[1])\n",
        "    A=A[:,AA[1]]\n",
        "    print(A.shape)\n",
        "    return A\n",
        "print(A(card, num_var, anc_con,Det))"
      ],
      "execution_count": 113,
      "outputs": [
        {
          "output_type": "stream",
          "text": [
            "(4, 1024)\n",
            "(4, 640)\n",
            "(4, 282)\n",
            "[[   0    1   16 ...  991 1019 1023]\n",
            " [   0    1    2 ...  991 1019 1023]\n",
            " [   0   32  256 ... 1022 1019 1023]\n",
            " [   0   32   64 ... 1022 1019 1023]]\n"
          ],
          "name": "stdout"
        }
      ]
    },
    {
      "cell_type": "code",
      "metadata": {
        "id": "YHhZ0BbTF_4S"
      },
      "source": [
        "def MergeMonomials(bvector,encoding):\n",
        "    return ravel(coo_matrix((bvector, (zeros(len(bvector),uint8), encoding)),(1, amax(encoding)+1)).toarray())"
      ],
      "execution_count": 114,
      "outputs": []
    },
    {
      "cell_type": "code",
      "metadata": {
        "id": "CHTlviKhDTEq"
      },
      "source": [
        "def EncodeA_FindB(card, num_var, anc_con, ai_naturalorder, Data, inflationorder,Det):\n",
        "    c=int(card/2)\n",
        "    RowIntegers=arange(0,card**(int(len(ai_naturalorder)/c)),1,uint32)\n",
        "    \n",
        "    ColumnIntegers=arange(0,card**num_var,1,uint32)\n",
        "\n",
        "    ColumnIntegersAsBits=IntToArray32(ColumnIntegers)\n",
        "\n",
        "    ai_sym=arange(len(ai_naturalorder))\n",
        "    ai_sym=reshape(array(list(permutations(reshape(ai_sym,(inflationorder,-1)).tolist()))),(-1,len(ai_sym)))\n",
        "\n",
        "    for i in range(1,len(ai_sym)):\n",
        "        RowIntegers=vstack((RowIntegers,ExtractBitsFromInts(RowIntegers,ai_sym[i])))\n",
        "\n",
        "    EncodingMonomialToRow=PositionIndex(amin(RowIntegers,axis=0))\n",
        "\n",
        "    \n",
        "    EncodingColumnToMonomial=ArrayToInt32(ExtractBitsFromBitArray(ColumnIntegersAsBits,array(ai_naturalorder,uint16)))\n",
        "\n",
        "    EncodedA=EncodingMonomialToRow[EncodingColumnToMonomial][A(card, num_var, anc_con,Det)]\n",
        "    print(EncodedA.shape)\n",
        "    preb=array(Data[:(card**3)])\n",
        "    b=preb\n",
        "    for i in range(1,inflationorder):\n",
        "        b=kron(preb,b)\n",
        "    b=MergeMonomials(b,EncodingMonomialToRow)\n",
        "\n",
        "    return EncodedA,b\n"
      ],
      "execution_count": 115,
      "outputs": []
    },
    {
      "cell_type": "code",
      "metadata": {
        "id": "MTOaAM63DWjk"
      },
      "source": [
        "def FormCVXOPTArrayFromOnesPositions(OnesPositions):\n",
        "    columncount=OnesPositions.shape[-1]\n",
        "    columnspec=ravel(broadcast_to(arange(columncount), (len(OnesPositions), columncount)))\n",
        "    return spmatrix(ones(OnesPositions.size), ravel(OnesPositions).tolist(), columnspec.tolist(),(amax(OnesPositions)+1, columncount))"
      ],
      "execution_count": 116,
      "outputs": []
    },
    {
      "cell_type": "code",
      "metadata": {
        "colab": {
          "base_uri": "https://localhost:8080/"
        },
        "id": "M1V_jyvxDaH9",
        "outputId": "bbf91577-8800-4474-8ecd-9f4f2bee6209"
      },
      "source": [
        "start = time.time()\n",
        "EncodedA,b=EncodeA_FindB(card, num_var, anc_con, ai_naturalorder,Data,inflationorder,Det)\n",
        "MCVXOPT=FormCVXOPTArrayFromOnesPositions(EncodedA).T \n",
        "print('It took', time.time()-start, 'seconds.')\n",
        "print(MCVXOPT.size)"
      ],
      "execution_count": 117,
      "outputs": [
        {
          "output_type": "stream",
          "text": [
            "(4, 1024)\n",
            "(4, 640)\n",
            "(4, 282)\n",
            "(4, 282)\n",
            "It took 0.6255087852478027 seconds.\n",
            "(282, 40)\n"
          ],
          "name": "stdout"
        }
      ]
    },
    {
      "cell_type": "code",
      "metadata": {
        "colab": {
          "base_uri": "https://localhost:8080/"
        },
        "id": "BStEV_p3FGQ5",
        "outputId": "fa0179c0-6f24-4eb0-db24-8d6d185eb949"
      },
      "source": [
        "rowcount=MCVXOPT.size[0];\n",
        "colcount=MCVXOPT.size[1];\n",
        "CVXOPTb=matrix(atleast_2d(b).T)\n",
        "CVXOPTh=matrix(zeros((rowcount,1)))\n",
        "CVXOPTA=matrix(ones((1,colcount)))\n",
        "solvers.lp(CVXOPTb,-MCVXOPT,CVXOPTh,CVXOPTA,matrix(ones((1,1))),solver='mosek')"
      ],
      "execution_count": 118,
      "outputs": [
        {
          "output_type": "stream",
          "text": [
            "Problem\n",
            "  Name                   :                 \n",
            "  Objective sense        : min             \n",
            "  Type                   : LO (linear optimization problem)\n",
            "  Constraints            : 283             \n",
            "  Cones                  : 0               \n",
            "  Scalar variables       : 40              \n",
            "  Matrix variables       : 0               \n",
            "  Integer variables      : 0               \n",
            "\n",
            "Optimizer started.\n",
            "Presolve started.\n",
            "Linear dependency checker started.\n",
            "Linear dependency checker terminated.\n",
            "Eliminator started.\n",
            "Freed constraints in eliminator : 55\n",
            "Eliminator terminated.\n",
            "Eliminator - tries                  : 1                 time                   : 0.00            \n",
            "Lin. dep.  - tries                  : 1                 time                   : 0.00            \n",
            "Lin. dep.  - number                 : 0               \n",
            "Presolve terminated. Time: 0.00    \n",
            "Problem\n",
            "  Name                   :                 \n",
            "  Objective sense        : min             \n",
            "  Type                   : LO (linear optimization problem)\n",
            "  Constraints            : 283             \n",
            "  Cones                  : 0               \n",
            "  Scalar variables       : 40              \n",
            "  Matrix variables       : 0               \n",
            "  Integer variables      : 0               \n",
            "\n",
            "Optimizer  - threads                : 8               \n",
            "Optimizer  - solved problem         : the dual        \n",
            "Optimizer  - Constraints            : 40\n",
            "Optimizer  - Cones                  : 0\n",
            "Optimizer  - Scalar variables       : 166               conic                  : 0               \n",
            "Optimizer  - Semi-definite variables: 0                 scalarized             : 0               \n",
            "Factor     - setup time             : 0.00              dense det. time        : 0.00            \n",
            "Factor     - ML order time          : 0.00              GP order time          : 0.00            \n",
            "Factor     - nonzeros before factor : 755               after factor           : 763             \n",
            "Factor     - dense dim.             : 0                 flops                  : 2.57e+04        \n",
            "ITE PFEAS    DFEAS    GFEAS    PRSTATUS   POBJ              DOBJ              MU       TIME  \n",
            "0   1.4e+00  4.4e+01  1.4e+00  0.00e+00   0.000000000e+00   0.000000000e+00   2.0e+00  0.01  \n",
            "1   1.1e+00  3.3e+01  1.1e+00  6.55e+00   5.081480199e-04   6.435148577e-03   1.5e+00  0.02  \n",
            "2   6.0e-01  1.9e+01  6.0e-01  3.38e+00   7.028365824e-04   -7.264098219e-02  8.5e-01  0.02  \n",
            "3   1.0e-02  3.1e-01  1.0e-02  2.22e+00   7.678066499e-04   5.178974780e-04   1.4e-02  0.02  \n",
            "4   4.1e-04  1.3e-02  4.1e-04  1.02e+00   1.476095740e-04   1.307250123e-04   5.8e-04  0.02  \n",
            "5   4.8e-05  1.5e-03  4.8e-05  9.34e-01   2.510761099e-05   2.312999507e-05   6.8e-05  0.02  \n",
            "6   4.8e-06  1.5e-04  4.8e-06  1.10e+00   3.296467421e-06   3.066807240e-06   6.8e-06  0.02  \n",
            "7   2.2e-06  6.9e-05  2.2e-06  6.84e-01   1.404275492e-06   1.284454036e-06   3.1e-06  0.02  \n",
            "8   2.6e-07  8.0e-06  2.6e-07  1.02e+00   1.818070913e-07   1.647173436e-07   3.7e-07  0.02  \n",
            "9   5.2e-08  1.6e-06  3.5e-08  1.37e+00   2.603067657e-08   2.418882345e-08   7.3e-08  0.03  \n",
            "10  5.2e-08  1.6e-06  3.5e-08  1.06e+00   2.603067657e-08   2.418882345e-08   7.3e-08  0.03  \n",
            "11  3.5e-10  9.1e-09  1.9e-08  1.07e+00   1.221202782e-09   1.791553071e-10   2.4e-09  0.03  \n",
            "12  3.8e-12  2.6e-08  2.4e-09  1.00e+00   2.534319413e-10   3.858430083e-10   1.3e-10  0.03  \n",
            "13  3.8e-12  2.6e-08  2.4e-09  3.20e+00   2.534319413e-10   3.858430083e-10   1.3e-10  0.03  \n",
            "Basis identification started.\n",
            "Primal basis identification phase started.\n",
            "Primal basis identification phase terminated. Time: 0.00\n",
            "Dual basis identification phase started.\n",
            "Dual basis identification phase terminated. Time: 0.00\n",
            "Basis identification terminated. Time: 0.00\n",
            "Optimizer terminated. Time: 0.04    \n",
            "\n",
            "\n",
            "Interior-point solution summary\n",
            "  Problem status  : PRIMAL_AND_DUAL_FEASIBLE\n",
            "  Solution status : OPTIMAL\n",
            "  Primal.  obj: 2.5343194133e-10    nrm: 4e+00    Viol.  con: 3e-13    var: 0e+00  \n",
            "  Dual.    obj: 3.8584300830e-10    nrm: 4e-03    Viol.  con: 5e-10    var: 3e-09  \n",
            "\n",
            "Basic solution summary\n",
            "  Problem status  : PRIMAL_AND_DUAL_FEASIBLE\n",
            "  Solution status : OPTIMAL\n",
            "  Primal.  obj: 1.2650019099e-10    nrm: 4e+00    Viol.  con: 3e-18    var: 0e+00  \n",
            "  Dual.    obj: 1.2650019099e-10    nrm: 4e-03    Viol.  con: 3e-07    var: 2e-18  \n"
          ],
          "name": "stdout"
        },
        {
          "output_type": "execute_result",
          "data": {
            "text/plain": [
              "{'status': 'optimal',\n",
              " 'x': <40x1 matrix, tc='d'>,\n",
              " 's': <282x1 matrix, tc='d'>,\n",
              " 'y': <1x1 matrix, tc='d'>,\n",
              " 'z': <282x1 matrix, tc='d'>,\n",
              " 'primal objective': 1.2650019098508688e-10,\n",
              " 'dual objective': 1.2650019098508685e-10,\n",
              " 'gap': 1.649880703184695e-26,\n",
              " 'relative gap': 1.3042515511926775e-16,\n",
              " 'primal infeasibility': 0.0,\n",
              " 'dual infeasibility': 1.3890162607138892e-18,\n",
              " 'residual as primal infeasibility certificate': None,\n",
              " 'residual as dual infeasibility certificate': None,\n",
              " 'primal slack': -8.271806125530277e-25,\n",
              " 'dual slack': -2.9700136506782563e-07}"
            ]
          },
          "metadata": {
            "tags": []
          },
          "execution_count": 118
        }
      ]
    },
    {
      "cell_type": "code",
      "metadata": {
        "id": "Mc5B6pQEWeqX"
      },
      "source": [
        "#A1 A2 A3 A4 B1 B2 B3 B4 C1 C2 C3 C4\n",
        "#0. 1. 2. 3. 4. 5. 6. 7. 8. 9. 10 11\n",
        "\n",
        "#A1. A2. A3. A4. B1. B2.   B3.   B4.   C1.   C2.   C3.   C4\n",
        "#0,1 2,3 4,5 6,7 8,9 10,11 12,13 14,15 16,17 18,19 20,21 22,23\n",
        "\n",
        "#A1 A4 B1 B4 C1 C4\n",
        "#0. 1. 2. 3. 4. 5"
      ],
      "execution_count": 119,
      "outputs": []
    }
  ]
}