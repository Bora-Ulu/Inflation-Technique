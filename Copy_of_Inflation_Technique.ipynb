{
 "cells": [
  {
   "cell_type": "markdown",
   "metadata": {
    "colab_type": "text",
    "id": "view-in-github"
   },
   "source": [
    "<a href=\"https://colab.research.google.com/github/Bora-Ulu/Inflation-Technique/blob/main/Copy_of_Inflation_Technique.ipynb\" target=\"_parent\"><img src=\"https://colab.research.google.com/assets/colab-badge.svg\" alt=\"Open In Colab\"/></a>"
   ]
  },
  {
   "cell_type": "code",
   "execution_count": null,
   "metadata": {
    "id": "26ylEW1UCWEr"
   },
   "outputs": [],
   "source": [
    "from numpy import *\n",
    "from itertools import *\n",
    "import time\n",
    "from scipy.sparse import coo_matrix\n",
    "from scipy.sparse import csc_matrix\n",
    "from scipy.sparse import csr_matrix\n",
    "from cvxopt import matrix, solvers, sparse, spmatrix\n",
    "from numba import njit\n",
    "\n",
    "@njit\n",
    "def PrepForIntToArray32(ar):# Takes a huge column vector as input\n",
    "                     # Returns a matrix where the rows are the base-4 binary expansions of each element of the input array\n",
    "    #return transpose(atleast_2d(ravel(ar.astype(uint32)))).view(uint8)\n",
    "    return reshape(ar.astype(uint32).view(uint8),(-1,4))\n",
    "\n",
    "\n",
    "def IntToArray32(ar):\n",
    "    return unpackbits(PrepForIntToArray32(ar),axis=1, bitorder='little').view(bool_)\n",
    "\n",
    "\n",
    "def ArrayToInt32(bitarray):\n",
    "    return packbits(bitarray, bitorder='little').view(uint32)\n",
    "\n",
    "@njit\n",
    "def ExtractBitsFromBitArray(bitarray,bitstoextract): #bitstoextract must be numpy array\n",
    "    tempbitarray=zeros_like(bitarray)\n",
    "    tempbitarray[:,:len(bitstoextract)]=bitarray[:,subtract(amax(bitstoextract),bitstoextract)]\n",
    "    return tempbitarray\n",
    "\n",
    "def ExtractBitsFromInts(intarray,bitstoextract): #bitstoextract need not be a numpy array\n",
    "\n",
    "    return ArrayToInt32(ExtractBitsFromBitArray(IntToArray32(intarray),array(bitstoextract,uint16)))\n",
    "\n",
    "@njit\n",
    "def PositionIndex(arraywithduplicates):\n",
    "    arraycopy=zeros_like(arraywithduplicates)\n",
    "    u=unique(arraywithduplicates)\n",
    "    arraycopy[u]=arange(len(u))\n",
    "    return arraycopy[arraywithduplicates]"
   ]
  },
  {
   "cell_type": "code",
   "execution_count": null,
   "metadata": {
    "id": "HO4Ltr0pC1Xz"
   },
   "outputs": [],
   "source": [
    "def SwappingOps(card, num_var, anc_con):\n",
    "    c=int(card/2)\n",
    "    a=array([list(arange(2)+(x*c)) for x in range(num_var)])\n",
    "    \n",
    "    for i in range(len(anc_con)):\n",
    "        \n",
    "        C=list(combinations(list(anc_con[i]),2))\n",
    "        \n",
    "        for j in range(len(C)):\n",
    "                \n",
    "            V=vstack((C[j][0],C[j][1]))\n",
    "                \n",
    "            V=a[V]\n",
    "            S1=ravel(V[0])\n",
    "            S2=ravel(V[1])\n",
    "                \n",
    "            Swap=arange(32)          \n",
    "            Swap[(num_var*c-1)-hstack((S1,S2))]=Swap[(num_var*c-1)-hstack((S2,S1))]\n",
    "                \n",
    "            if i==0 and j==0:\n",
    "                    \n",
    "                Swaps=Swap\n",
    "                    \n",
    "            else:\n",
    "                    \n",
    "                Swaps=vstack((Swaps,Swap))\n",
    "                \n",
    "    return Swaps\n",
    "\n",
    "card=4\n",
    "num_var=12\n",
    "X=array([[0,3,2,8],[6,9,5,11]])\n",
    "Y=array([[0,6,1,4],[3,9,7,10]])\n",
    "Z=array([[1,7,2,5],[4,10,8,11]])\n",
    "anc_con=[X,Y,Z]\n",
    "\n",
    "N=SwappingOps(card, num_var, anc_con)"
   ]
  },
  {
   "cell_type": "code",
   "execution_count": null,
   "metadata": {
    "colab": {
     "base_uri": "https://localhost:8080/"
    },
    "id": "GKxHkfQCDO9c",
    "outputId": "bc76ed71-7ed2-4984-e70d-0aecbe64e8b3"
   },
   "outputs": [
    {
     "name": "stdout",
     "output_type": "stream",
     "text": [
      "(8, 16777216)\n",
      "(8, 2123776)\n"
     ]
    }
   ],
   "source": [
    "def A(card, num_var, anc_con):\n",
    "    \n",
    "    ColumnIntegers=arange(0,card**num_var,1,uint32)\n",
    "    \n",
    "    ColumnIntegersAsBits=IntToArray32(ColumnIntegers)\n",
    "    \n",
    "    S=SwappingOps(card, num_var, anc_con)\n",
    "    \n",
    "    multiplier=hstack((2**arange(num_var*2),zeros((32-2*num_var),uint32)))\n",
    "    \n",
    "    SymMultiplier=multiplier\n",
    "    \n",
    "    a=range(len(S))\n",
    "    \n",
    "    for i in range(1,len(S)+1):\n",
    "        \n",
    "        C=list(combinations(a,i))\n",
    "        \n",
    "        for k in C:\n",
    "            \n",
    "            D=S[k[0]]\n",
    "            j=0\n",
    "            while j+1 < i:\n",
    "                \n",
    "                D=D[S[k[j+1]]]\n",
    "                j=j+1\n",
    "            \n",
    "            SymMultiplier=vstack((SymMultiplier,multiplier[D]))\n",
    "    A=dot(SymMultiplier[:,:(2*num_var)],ColumnIntegersAsBits.T[:(2*num_var),:])\n",
    "    print(A.shape)\n",
    "    A=A[:,unique(amin(A,axis=0))]\n",
    "    print(A.shape)\n",
    "    return A\n",
    "\n",
    "L=A(card, num_var, anc_con)"
   ]
  },
  {
   "cell_type": "code",
   "execution_count": null,
   "metadata": {
    "id": "YHhZ0BbTF_4S"
   },
   "outputs": [],
   "source": [
    "def MergeMonomials(bvector,encoding):\n",
    "    return ravel(coo_matrix((bvector, (zeros(len(bvector),uint8), encoding)),(1, amax(encoding)+1)).toarray())"
   ]
  },
  {
   "cell_type": "code",
   "execution_count": null,
   "metadata": {
    "colab": {
     "base_uri": "https://localhost:8080/"
    },
    "id": "CHTlviKhDTEq",
    "outputId": "a22b6d81-6386-490d-ae16-c759b5e5c804"
   },
   "outputs": [
    {
     "name": "stdout",
     "output_type": "stream",
     "text": [
      "[[ 0  1  2  3  4  5  6  7  8  9 10 11]\n",
      " [ 6  7  8  9 10 11  0  1  2  3  4  5]]\n",
      "[[   0    1    2 ... 4093 4094 4095]\n",
      " [   0   32   16 ... 4079 4063 4095]]\n",
      "(8, 16777216)\n",
      "(8, 2123776)\n"
     ]
    }
   ],
   "source": [
    "def EncodeA_FindB(card, num_var, anc_con, ai_naturalorder, Data, inflationorder):\n",
    "    \n",
    "    RowIntegers=arange(0,card**(int(len(ai)/2)),1,uint32)\n",
    "    \n",
    "    ColumnIntegers=arange(0,card**num_var,1,uint32)\n",
    "    \n",
    "    ColumnIntegersAsBits=IntToArray32(ColumnIntegers)\n",
    "    \"\"\"\n",
    "    ai_sym=arange(len(ai))\n",
    "    \n",
    "    i=0\n",
    "    \n",
    "    while i<=len(ai_sym)-4:\n",
    "        \n",
    "        ai_sym[[i,i+1,i+2,i+3]]=ai_sym[[i+2,i+3,i,i+1]]\n",
    "        \n",
    "        i=i+4\n",
    "    \n",
    "    ai_sym=list(ai_sym)\n",
    "    \"\"\"\n",
    "    ai_sym=arange(len(ai_naturalorder))\n",
    "    ai_sym=reshape(array(list(permutations(reshape(ai_sym,(inflationorder,-1)).tolist()))),(-1,len(ai_sym)))\n",
    "    print(ai_sym)\n",
    "    for i in range(1,len(ai_sym)):\n",
    "        RowIntegers=vstack((RowIntegers,ExtractBitsFromInts(RowIntegers,ai_sym[i])))\n",
    "    print(RowIntegers)\n",
    "    EncodingMonomialToRow=PositionIndex(amin(RowIntegers,axis=0))   \n",
    "    \n",
    "    EncodingColumnToMonomial=ArrayToInt32(ExtractBitsFromBitArray(ColumnIntegersAsBits,array(ai_naturalorder,uint16)))\n",
    "    \n",
    "    EncodedA=EncodingMonomialToRow[EncodingColumnToMonomial][A(card, num_var, anc_con)]\n",
    "    \n",
    "    preb=array(Data)\n",
    "    b=preb\n",
    "    for i in range(1,inflationorder):\n",
    "        b=kron(preb,b)\n",
    "\n",
    "    b=MergeMonomials(b,EncodingMonomialToRow)\n",
    "\n",
    "    return EncodedA,b\n",
    "inflationorder=2\n",
    "Data=[0.12199995751046305, 0.0022969343799089472, 0.001748319476328954, 3.999015242496535e-05, 0.028907881434196828, 0.0005736087488455967, 0.0003924033706699725, 1.1247230369521505e-05, 0.0030142577390317635, 0.09234476010282468, 4.373922921480586e-05, 0.0014533921021948346, 0.0007798079722868244, 0.024091567451515063, 1.1247230369521505e-05, 0.0003849052170902915, 0.020774884184769502, 0.000396152447459813, 0.0003049249122403608, 4.998769053120669e-06, 0.10820335492385, 0.0020794879260981982, 0.0015546171755205281, 2.4993845265603346e-05, 0.0006260958239033638, 0.020273757587194154, 7.498153579681003e-06, 0.0003374169110856452, 0.0028942872817568676, 0.08976414557915113, 2.624353752888351e-05, 0.0012984302615480939, 0.002370666223442477, 4.7488306004646356e-05, 0.0999928767540993, 0.001957018084296742, 0.0006198473625869629, 8.747845842961171e-06, 0.02636975644747481, 0.0005198719815245496, 1.4996307159362007e-05, 0.000403650601039494, 0.0005498645958432735, 0.017359475229224805, 7.123245900696953e-05, 0.002346922070440154, 0.0033754188031197316, 0.10295964618712641, 0.00038740460161685187, 7.498153579681003e-06, 0.01608353942841575, 0.000306174604503641, 0.0021319750011559654, 4.248953695152569e-05, 0.09107007399427891, 0.001860791780024169, 5.998522863744803e-05, 0.0018395470115484063, 0.002570616985567304, 0.0766411271224461, 1.874538394920251e-05, 0.00048238121362614454, 0.0006410921310627258, 0.020223769896662948]\n",
    "#ai_naturalorder=[0,1,8,9,16,17,6,7,14,15,22,23]\n",
    "ai_naturalorder=[0,1,2,3,4,5,18,19,20,21,22,23]\n",
    "EncodedA,b=EncodeA_FindB(card, num_var, anc_con, ai_naturalorder, Data, inflationorder)"
   ]
  },
  {
   "cell_type": "code",
   "execution_count": null,
   "metadata": {
    "id": "MTOaAM63DWjk"
   },
   "outputs": [],
   "source": [
    "def FormCVXOPTArrayFromOnesPositions(OnesPositions):\n",
    "    columncount=OnesPositions.shape[-1]\n",
    "    columnspec=ravel(broadcast_to(arange(columncount), (len(OnesPositions), columncount)))\n",
    "    return spmatrix(ones(OnesPositions.size), ravel(OnesPositions).tolist(), columnspec.tolist(),(amax(OnesPositions)+1, columncount))"
   ]
  },
  {
   "cell_type": "code",
   "execution_count": null,
   "metadata": {
    "colab": {
     "base_uri": "https://localhost:8080/"
    },
    "id": "M1V_jyvxDaH9",
    "outputId": "7a7cfb5e-aafc-4ac8-891a-0cc0f4b913be"
   },
   "outputs": [
    {
     "name": "stdout",
     "output_type": "stream",
     "text": [
      "[[ 0  1  2  3  4  5  6  7  8  9 10 11]\n",
      " [ 6  7  8  9 10 11  0  1  2  3  4  5]]\n",
      "[[   0    1    2 ... 4093 4094 4095]\n",
      " [   0   32   16 ... 4079 4063 4095]]\n",
      "(8, 16777216)\n",
      "(8, 2123776)\n",
      "It took 10.718161821365356 seconds.\n",
      "(2123776, 2080)\n"
     ]
    }
   ],
   "source": [
    "Data=[0.12199995751046305, 0.0022969343799089472, 0.001748319476328954, 3.999015242496535e-05, 0.028907881434196828, 0.0005736087488455967, 0.0003924033706699725, 1.1247230369521505e-05, 0.0030142577390317635, 0.09234476010282468, 4.373922921480586e-05, 0.0014533921021948346, 0.0007798079722868244, 0.024091567451515063, 1.1247230369521505e-05, 0.0003849052170902915, 0.020774884184769502, 0.000396152447459813, 0.0003049249122403608, 4.998769053120669e-06, 0.10820335492385, 0.0020794879260981982, 0.0015546171755205281, 2.4993845265603346e-05, 0.0006260958239033638, 0.020273757587194154, 7.498153579681003e-06, 0.0003374169110856452, 0.0028942872817568676, 0.08976414557915113, 2.624353752888351e-05, 0.0012984302615480939, 0.002370666223442477, 4.7488306004646356e-05, 0.0999928767540993, 0.001957018084296742, 0.0006198473625869629, 8.747845842961171e-06, 0.02636975644747481, 0.0005198719815245496, 1.4996307159362007e-05, 0.000403650601039494, 0.0005498645958432735, 0.017359475229224805, 7.123245900696953e-05, 0.002346922070440154, 0.0033754188031197316, 0.10295964618712641, 0.00038740460161685187, 7.498153579681003e-06, 0.01608353942841575, 0.000306174604503641, 0.0021319750011559654, 4.248953695152569e-05, 0.09107007399427891, 0.001860791780024169, 5.998522863744803e-05, 0.0018395470115484063, 0.002570616985567304, 0.0766411271224461, 1.874538394920251e-05, 0.00048238121362614454, 0.0006410921310627258, 0.020223769896662948]\n",
    "inflationorder=2;\n",
    "ai_naturalorder=[0,1,2,3,4,5,18,19,20,21,22,23]\n",
    "start = time.time()\n",
    "EncodedA,b=EncodeA_FindB(card, num_var, anc_con, ai_naturalorder,Data,inflationorder)\n",
    "MCVXOPT=FormCVXOPTArrayFromOnesPositions(EncodedA).T \n",
    "print('It took', time.time()-start, 'seconds.')\n",
    "print(MCVXOPT.size)"
   ]
  },
  {
   "cell_type": "code",
   "execution_count": null,
   "metadata": {
    "colab": {
     "base_uri": "https://localhost:8080/"
    },
    "id": "BStEV_p3FGQ5",
    "outputId": "282aab61-d535-4fde-ecfc-d9308e2db121"
   },
   "outputs": [
    {
     "name": "stdout",
     "output_type": "stream",
     "text": [
      "Problem\n",
      "  Name                   :                 \n",
      "  Objective sense        : min             \n",
      "  Type                   : LO (linear optimization problem)\n",
      "  Constraints            : 2123777         \n",
      "  Cones                  : 0               \n",
      "  Scalar variables       : 2080            \n",
      "  Matrix variables       : 0               \n",
      "  Integer variables      : 0               \n",
      "\n",
      "Optimizer started.\n",
      "Presolve started.\n",
      "Linear dependency checker started.\n",
      "Linear dependency checker terminated.\n",
      "Eliminator started.\n",
      "Freed constraints in eliminator : 0\n",
      "Eliminator terminated.\n",
      "Eliminator - tries                  : 1                 time                   : 0.00            \n",
      "Lin. dep.  - tries                  : 1                 time                   : 0.35            \n",
      "Lin. dep.  - number                 : 0               \n",
      "Presolve terminated. Time: 4.33    \n",
      "Problem\n",
      "  Name                   :                 \n",
      "  Objective sense        : min             \n",
      "  Type                   : LO (linear optimization problem)\n",
      "  Constraints            : 2123777         \n",
      "  Cones                  : 0               \n",
      "  Scalar variables       : 2080            \n",
      "  Matrix variables       : 0               \n",
      "  Integer variables      : 0               \n",
      "\n",
      "Optimizer  - threads                : 8               \n",
      "Optimizer  - solved problem         : the dual        \n",
      "Optimizer  - Constraints            : 1036\n",
      "Optimizer  - Cones                  : 0\n",
      "Optimizer  - Scalar variables       : 829565            conic                  : 0               \n",
      "Optimizer  - Semi-definite variables: 0                 scalarized             : 0               \n",
      "Factor     - setup time             : 0.41              dense det. time        : 0.00            \n",
      "Factor     - ML order time          : 0.01              GP order time          : 0.00            \n",
      "Factor     - nonzeros before factor : 5.37e+05          after factor           : 5.37e+05        \n",
      "Factor     - dense dim.             : 0                 flops                  : 3.89e+08        \n",
      "ITE PFEAS    DFEAS    GFEAS    PRSTATUS   POBJ              DOBJ              MU       TIME  \n",
      "0   1.4e+00  4.0e+03  2.8e+00  0.00e+00   6.887232624e-10   -9.999999993e-01  2.0e+00  5.28  \n",
      "1   1.4e-01  3.9e+02  2.8e-01  1.99e+02   7.475546882e-06   -9.433424362e-09  2.0e-01  5.48  \n",
      "2   3.5e-02  9.7e+01  6.9e-02  1.56e+00   3.648341580e-06   -1.116384159e-08  4.9e-02  5.80  \n",
      "3   1.7e-02  4.6e+01  3.3e-02  8.74e-01   2.622777019e-06   -6.371583257e-09  2.4e-02  6.05  \n",
      "4   7.7e-03  2.1e+01  1.5e-02  1.05e+00   9.581271367e-07   -1.136890971e-09  1.1e-02  6.35  \n",
      "5   3.9e-03  1.1e+01  7.8e-03  1.19e+00   4.784120935e-07   -1.428006143e-10  5.5e-03  6.59  \n",
      "6   2.8e-03  7.9e+00  5.7e-03  8.16e-01   3.786746088e-07   -1.452365347e-11  4.0e-03  6.77  \n",
      "7   7.0e-04  2.0e+00  1.4e-03  6.20e-01   1.434667405e-07   3.126305372e-10   1.0e-03  7.11  \n",
      "8   1.4e-04  4.0e-01  2.8e-04  -3.04e-01  9.118843129e-08   -5.644352014e-10  2.0e-04  7.43  \n",
      "9   2.2e-05  6.1e-02  4.3e-05  -8.04e-01  -2.575968966e-07  -8.929322947e-09  3.1e-05  7.58  \n",
      "10  1.6e-05  4.4e-02  3.2e-05  2.72e-01   -3.304760466e-06  -3.132523449e-06  2.2e-05  7.76  \n",
      "11  1.1e-05  3.1e-02  2.2e-05  9.50e-01   -6.087182169e-06  -5.969632678e-06  1.6e-05  7.99  \n",
      "12  7.9e-06  2.2e-02  1.6e-05  9.46e-01   -8.486706378e-06  -8.407085317e-06  1.1e-05  8.23  \n",
      "13  6.7e-06  1.9e-02  1.3e-05  9.45e-01   -9.607357282e-06  -9.541494114e-06  9.5e-06  8.37  \n",
      "14  4.3e-06  1.2e-02  8.6e-06  9.46e-01   -1.178604679e-05  -1.174701607e-05  6.1e-06  8.60  \n",
      "15  3.3e-06  9.3e-03  6.7e-06  9.50e-01   -1.301367067e-05  -1.298454011e-05  4.7e-06  8.84  \n",
      "16  2.1e-06  6.0e-03  4.3e-06  9.56e-01   -1.476211658e-05  -1.474522571e-05  3.0e-06  9.07  \n",
      "17  1.8e-06  5.2e-03  3.7e-06  9.67e-01   -1.531350960e-05  -1.529933447e-05  2.6e-06  9.24  \n",
      "18  1.3e-06  3.7e-03  2.6e-06  9.72e-01   -1.635716995e-05  -1.634791138e-05  1.9e-06  9.53  \n",
      "19  1.2e-06  3.3e-03  2.4e-06  9.81e-01   -1.663049153e-05  -1.662233619e-05  1.7e-06  9.71  \n",
      "20  1.1e-06  3.2e-03  2.3e-06  9.83e-01   -1.674236003e-05  -1.673465174e-05  1.6e-06  9.86  \n",
      "21  9.2e-07  2.6e-03  1.8e-06  9.84e-01   -1.720081147e-05  -1.719490869e-05  1.3e-06  10.06 \n",
      "22  8.2e-07  2.3e-03  1.6e-06  9.89e-01   -1.741160003e-05  -1.740643646e-05  1.2e-06  10.21 \n",
      "23  6.5e-07  1.8e-03  1.3e-06  9.90e-01   -1.782586406e-05  -1.782204370e-05  9.2e-07  10.40 \n",
      "24  5.7e-07  1.6e-03  1.1e-06  9.92e-01   -1.801488563e-05  -1.801162627e-05  8.1e-07  10.59 \n",
      "25  3.2e-07  8.9e-04  6.4e-07  9.93e-01   -1.863224751e-05  -1.863075659e-05  4.5e-07  10.78 \n",
      "26  2.6e-07  7.4e-04  5.3e-07  9.96e-01   -1.877201595e-05  -1.877085161e-05  3.7e-07  10.96 \n",
      "27  2.0e-07  5.5e-04  3.9e-07  9.97e-01   -1.894981124e-05  -1.894903242e-05  2.8e-07  11.13 \n",
      "28  1.8e-07  4.9e-04  3.5e-07  9.98e-01   -1.900414041e-05  -1.900346947e-05  2.5e-07  11.30 \n",
      "29  2.9e-08  8.1e-05  5.8e-08  9.98e-01   -1.940208646e-05  -1.940213379e-05  4.1e-08  11.60 \n",
      "30  4.6e-09  1.3e-05  9.2e-09  1.00e+00   -1.948957977e-05  -1.948959239e-05  6.6e-09  11.83 \n",
      "31  1.1e-10  3.0e-07  2.1e-10  1.00e+00   -1.950633837e-05  -1.950633919e-05  1.5e-10  12.03 \n",
      "32  1.4e-11  3.8e-08  2.7e-11  1.00e+00   -1.950673989e-05  -1.950674000e-05  1.9e-11  12.22 \n",
      "33  2.8e-13  2.0e-10  1.3e-13  1.00e+00   -1.950679860e-05  -1.950679860e-05  2.0e-15  12.38 \n",
      "Basis identification started.\n",
      "Primal basis identification phase started.\n",
      "Primal basis identification phase terminated. Time: 3.09\n",
      "Dual basis identification phase started.\n",
      "Dual basis identification phase terminated. Time: 0.01\n",
      "Basis identification terminated. Time: 3.31\n",
      "Optimizer terminated. Time: 16.47   \n",
      "\n",
      "\n",
      "Interior-point solution summary\n",
      "  Problem status  : PRIMAL_AND_DUAL_FEASIBLE\n",
      "  Solution status : OPTIMAL\n",
      "  Primal.  obj: -1.9506798599e-05   nrm: 1e+00    Viol.  con: 1e-15    var: 0e+00  \n",
      "  Dual.    obj: -1.9506798598e-05   nrm: 4e-03    Viol.  con: 0e+00    var: 7e-13  \n",
      "\n",
      "Basic solution summary\n",
      "  Problem status  : PRIMAL_AND_DUAL_FEASIBLE\n",
      "  Solution status : OPTIMAL\n",
      "  Primal.  obj: -1.9506798599e-05   nrm: 1e+00    Viol.  con: 6e-10    var: 0e+00  \n",
      "  Dual.    obj: -1.9506798605e-05   nrm: 4e-03    Viol.  con: 2e-06    var: 2e-06  \n"
     ]
    },
    {
     "data": {
      "text/plain": [
       "{'status': 'optimal',\n",
       " 'x': <2080x1 matrix, tc='d'>,\n",
       " 's': <2123776x1 matrix, tc='d'>,\n",
       " 'y': <1x1 matrix, tc='d'>,\n",
       " 'z': <2123776x1 matrix, tc='d'>,\n",
       " 'primal objective': -1.9506798598956898e-05,\n",
       " 'dual objective': -1.950679860488702e-05,\n",
       " 'gap': 1.586546437538902e-14,\n",
       " 'relative gap': 8.133299933817641e-10,\n",
       " 'primal infeasibility': 9.352740804047244e-12,\n",
       " 'dual infeasibility': 0.0005941399056439234,\n",
       " 'residual as primal infeasibility certificate': None,\n",
       " 'residual as dual infeasibility certificate': None,\n",
       " 'primal slack': -1.0459827448627834e-12,\n",
       " 'dual slack': -1.9598570023875597e-06}"
      ]
     },
     "execution_count": 37,
     "metadata": {
      "tags": []
     },
     "output_type": "execute_result"
    }
   ],
   "source": [
    "rowcount=MCVXOPT.size[0];\n",
    "colcount=MCVXOPT.size[1];\n",
    "CVXOPTb=matrix(atleast_2d(b).T)\n",
    "CVXOPTh=matrix(zeros((rowcount,1)))\n",
    "CVXOPTA=matrix(ones((1,colcount)))\n",
    "solvers.lp(CVXOPTb,-MCVXOPT,CVXOPTh,CVXOPTA,matrix(ones((1,1))),solver='mosek')"
   ]
  },
  {
   "cell_type": "code",
   "execution_count": null,
   "metadata": {
    "id": "Mc5B6pQEWeqX"
   },
   "outputs": [],
   "source": [
    "#A1 A2 A3 A4 B1 B2 B3 B4 C1 C2 C3 C4\n",
    "#0. 1. 2. 3. 4. 5. 6. 7. 8. 9. 10 11\n",
    "\n",
    "#A1. A2. A3. A4. B1. B2.   B3.   B4.   C1.   C2.   C3.   C4\n",
    "#0,1 2,3 4,5 6,7 8,9 10,11 12,13 14,15 16,17 18,19 20,21 22,23\n",
    "\n",
    "#A1 A4 B1 B4 C1 C4\n",
    "#0. 1. 2. 3. 4. 5"
   ]
  }
 ],
 "metadata": {
  "colab": {
   "collapsed_sections": [],
   "include_colab_link": true,
   "name": "Copy of Inflation Technique.ipynb",
   "provenance": []
  },
  "kernelspec": {
   "display_name": "Python 3",
   "language": "python",
   "name": "python3"
  },
  "language_info": {
   "codemirror_mode": {
    "name": "ipython",
    "version": 3
   },
   "file_extension": ".py",
   "mimetype": "text/x-python",
   "name": "python",
   "nbconvert_exporter": "python",
   "pygments_lexer": "ipython3",
   "version": "3.7.9"
  }
 },
 "nbformat": 4,
 "nbformat_minor": 4
}
