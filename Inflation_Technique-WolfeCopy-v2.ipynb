{
 "cells": [
  {
   "cell_type": "markdown",
   "metadata": {
    "colab_type": "text",
    "id": "view-in-github"
   },
   "source": [
    "<a href=\"https://colab.research.google.com/github/Bora-Ulu/Inflation-Technique/blob/main/Inflation_Technique.ipynb\" target=\"_parent\"><img src=\"https://colab.research.google.com/assets/colab-badge.svg\" alt=\"Open In Colab\"/></a>"
   ]
  },
  {
   "cell_type": "code",
   "execution_count": 402,
   "metadata": {
    "colab": {
     "base_uri": "https://localhost:8080/"
    },
    "id": "DFJJdFsS0RDX",
    "outputId": "ab46b54c-dfce-4e60-fb14-b7ca210f2bd0"
   },
   "outputs": [
    {
     "data": {
      "text/plain": [
       "[(16777216,), (16777216, 32)]"
      ]
     },
     "execution_count": 402,
     "metadata": {},
     "output_type": "execute_result"
    }
   ],
   "source": [
    "from numpy import *\n",
    "from itertools import *\n",
    "import time\n",
    "from scipy.sparse import coo_matrix\n",
    "from scipy.sparse import csc_matrix\n",
    "from scipy.sparse import csr_matrix\n",
    "from cvxopt import matrix, solvers, sparse, spmatrix\n",
    "from numba import njit\n",
    "\n",
    "@njit\n",
    "def PrepForIntToArray32(ar):# Takes a huge column vector as input\n",
    "                     # Returns a matrix where the rows are the base-4 binary expansions of each element of the input array\n",
    "    #return transpose(atleast_2d(ravel(ar.astype(uint32)))).view(uint8)\n",
    "    return reshape(ar.astype(uint32).view(uint8),(-1,4))\n",
    "\n",
    "\n",
    "def IntToArray32(ar):\n",
    "    return unpackbits(PrepForIntToArray32(ar),axis=1, bitorder='little').view(bool_)\n",
    "\n",
    "#@njit\n",
    "#def PrepForArrayToInt32(bitarray):\n",
    "#    as2mat=bitarray.reshape(-1, bitarray.shape[-1])\n",
    "#    temparray=zeros((len(as2mat),32),bool_)\n",
    "#    temparray[:,:bitarray.shape[-1]]=as2mat\n",
    "#    # return pad(bitarray.reshape(-1, bitarray.shape[-1]),[(0,0), (0, 32-bitarray.shape[-1])], mode='constant')\n",
    "#    return temparray\n",
    "\n",
    "\n",
    "def ArrayToInt32(bitarray):\n",
    "    return packbits(PrepForArrayToInt32(bitarray), bitorder='little').view(uint32)\n",
    "\n",
    "@njit\n",
    "def ExtractBitsFromBitArray(bitarray,bitstoextract): #bitstoextract must be numpy array\n",
    "    tempbitarray=zeros_like(bitarray)\n",
    "    tempbitarray[:,:len(bitstoextract)]=bitarray[:,subtract(amax(bitstoextract),bitstoextract)]\n",
    "    return tempbitarray\n",
    "\n",
    "def ExtractBitsFromInts(intarray,bitstoextract): #bitstoextract need not be a numpy array\n",
    "#    asbitarray=IntToArray32(intarray)\n",
    "#    tempbitarray=zeros_like(asbitarray)\n",
    "#    tempbitarray[:,:len(bitstoextract)]=asbitarray[:,subtract(amax(bitstoextract),array(bitstoextract))]\n",
    "    return ArrayToInt32(ExtractBitsFromBitArray(IntToArray32(intarray),array(bitstoextract,uint16)))\n",
    "\n",
    "\n",
    "ColumnIntegers=arange(0,4**12,1,uint32)\n",
    "ColumnIntegersAsBits=IntToArray32(ColumnIntegers)\n",
    "[ColumnIntegers.shape,ColumnIntegersAsBits.shape]"
   ]
  },
  {
   "cell_type": "code",
   "execution_count": 398,
   "metadata": {},
   "outputs": [
    {
     "data": {
      "text/plain": [
       "(80,)"
      ]
     },
     "execution_count": 398,
     "metadata": {},
     "output_type": "execute_result"
    }
   ],
   "source": [
    "arange(240,260).view(uint8).shape"
   ]
  },
  {
   "cell_type": "code",
   "execution_count": 418,
   "metadata": {},
   "outputs": [
    {
     "name": "stdout",
     "output_type": "stream",
     "text": [
      "[1 2 4 5 6 7]\n"
     ]
    },
    {
     "data": {
      "text/plain": [
       "array([0, 0, 1, 2, 4, 2, 1, 3, 5])"
      ]
     },
     "execution_count": 418,
     "metadata": {},
     "output_type": "execute_result"
    }
   ],
   "source": [
    "@njit\n",
    "def PositionIndex(arraywithduplicates):\n",
    "    arraycopy=zeros_like(arraywithduplicates)\n",
    "    u=unique(arraywithduplicates)\n",
    "    arraycopy[u]=arange(len(u))\n",
    "    return arraycopy[arraywithduplicates]\n",
    "\n",
    "PositionIndex(array([1,1,2,4,6,4,2,5,7],int32))"
   ]
  },
  {
   "cell_type": "code",
   "execution_count": 422,
   "metadata": {},
   "outputs": [
    {
     "name": "stdout",
     "output_type": "stream",
     "text": [
      "(4096,)\n"
     ]
    },
    {
     "data": {
      "text/plain": [
       "array([   0,    1,    2, ..., 2069, 2043, 2079], dtype=uint32)"
      ]
     },
     "execution_count": 422,
     "metadata": {},
     "output_type": "execute_result"
    }
   ],
   "source": [
    "RowIntegers=arange(0,4**6,1,uint32)\n",
    "EncodingMonomialToRow=PositionIndex(amin(vstack((RowIntegers,ExtractBitsFromInts(RowIntegers,[2,3,0,1,6,7,4,5,10,11,8,9]))),axis=0))\n",
    "print(EncodingMonomialToRow.shape)\n",
    "EncodingMonomialToRow"
   ]
  },
  {
   "cell_type": "code",
   "execution_count": 423,
   "metadata": {},
   "outputs": [
    {
     "name": "stdout",
     "output_type": "stream",
     "text": [
      "(16777216,)\n"
     ]
    },
    {
     "data": {
      "text/plain": [
       "array([   0, 2048, 1024, ..., 3071, 2047, 4095], dtype=uint32)"
      ]
     },
     "execution_count": 423,
     "metadata": {},
     "output_type": "execute_result"
    }
   ],
   "source": [
    "EncodingColumnToMonomial=ArrayToInt32(ExtractBitsFromBitArray(ColumnIntegersAsBits,array([0,1,6,7,8,9,14,15,16,17,22,23],uint16)))\n",
    "print(EncodingColumnToMonomial.shape)\n",
    "EncodingColumnToMonomial"
   ]
  },
  {
   "cell_type": "code",
   "execution_count": 438,
   "metadata": {},
   "outputs": [],
   "source": [
    "multiplier=hstack((2**arange(24),zeros(8,uint32)))\n",
    "SwapX1X2=arange(32);\n",
    "SwapX1X2[23-array([0,1,2,3,4,5,6,7,8,9,12,13,10,11,14,15])]=SwapX1X2[23-array([2,3,0,1,6,7,4,5,12,13,8,9,14,15,10,11])];\n",
    "SwapY1Y2=arange(32);\n",
    "SwapY1Y2[23-array([0,1,4,5,2,3,6,7,16,17,18,19,20,21,22,23])]=SwapY1Y2[23-array([4,5,0,1,6,7,2,3,18,19,16,17,22,23,20,21])];\n",
    "SwapZ1Z2=arange(32);\n",
    "SwapZ1Z2[23-array([8,9,10,11,12,13,14,15,16,17,20,21,18,19,22,23])]=SwapZ1Z2[23-array([10,11,8,9,14,15,12,13,20,21,16,17,22,23,18,19])]\n",
    "SymMultiplier=vstack((multiplier,\\\n",
    "     multiplier[SwapX1X2],\\\n",
    "     multiplier[SwapY1Y2], \\\n",
    "     multiplier[SwapZ1Z2], \\\n",
    "     multiplier[SwapX1X2[SwapY1Y2]], \\\n",
    "     multiplier[SwapX1X2[SwapZ1Z2]], \\\n",
    "     multiplier[SwapY1Y2[SwapZ1Z2]], \\\n",
    "     multiplier[SwapX1X2[SwapY1Y2[SwapZ1Z2]]],\\\n",
    "    ))"
   ]
  },
  {
   "cell_type": "code",
   "execution_count": 439,
   "metadata": {},
   "outputs": [
    {
     "name": "stdout",
     "output_type": "stream",
     "text": [
      "It took 3.97999906539917 seconds.\n"
     ]
    },
    {
     "data": {
      "text/plain": [
       "(8, 16777216)"
      ]
     },
     "execution_count": 439,
     "metadata": {},
     "output_type": "execute_result"
    }
   ],
   "source": [
    "#TIMING COMPARISONS: Trimmed matrix multiplication\n",
    "start = time.time()\n",
    "A=dot(SymMultiplier[:,:24],ColumnIntegersAsBits.T[:24,:]);\n",
    "print('It took', time.time()-start, 'seconds.')\n",
    "A.shape"
   ]
  },
  {
   "cell_type": "code",
   "execution_count": 442,
   "metadata": {},
   "outputs": [
    {
     "name": "stdout",
     "output_type": "stream",
     "text": [
      "It took 4.019994497299194 seconds.\n"
     ]
    },
    {
     "data": {
      "text/plain": [
       "(8, 16777216)"
      ]
     },
     "execution_count": 442,
     "metadata": {},
     "output_type": "execute_result"
    }
   ],
   "source": [
    "#TIMING COMPARISONS: Untrimmed matrix multiplication\n",
    "start = time.time()\n",
    "A=dot(ColumnIntegersAsBits,SymMultiplier.T).T;\n",
    "print('It took', time.time()-start, 'seconds.')\n",
    "A.shape"
   ]
  },
  {
   "cell_type": "code",
   "execution_count": 441,
   "metadata": {},
   "outputs": [
    {
     "name": "stdout",
     "output_type": "stream",
     "text": [
      "It took 13.543001413345337 seconds.\n"
     ]
    },
    {
     "data": {
      "text/plain": [
       "(8, 16777216)"
      ]
     },
     "execution_count": 441,
     "metadata": {},
     "output_type": "execute_result"
    }
   ],
   "source": [
    "#TIMING COMPARISONS: Bit reshuffling and repacking\n",
    "start = time.time()\n",
    "A=vstack((ColumnIntegers,\\\n",
    "     packbits(ColumnIntegersAsBits[:,SwapX1X2], bitorder='little').view(uint32),\\\n",
    "     packbits(ColumnIntegersAsBits[:,SwapY1Y2], bitorder='little').view(uint32),\\\n",
    "     packbits(ColumnIntegersAsBits[:,SwapZ1Z2], bitorder='little').view(uint32),\\\n",
    "     packbits(ColumnIntegersAsBits[:,SwapX1X2[SwapY1Y2]], bitorder='little').view(uint32),\\\n",
    "     packbits(ColumnIntegersAsBits[:,SwapX1X2[SwapZ1Z2]], bitorder='little').view(uint32),\\\n",
    "     packbits(ColumnIntegersAsBits[:,SwapY1Y2[SwapZ1Z2]], bitorder='little').view(uint32),\\\n",
    "     packbits(ColumnIntegersAsBits[:,SwapX1X2[SwapY1Y2[SwapZ1Z2]]], bitorder='little').view(uint32),\\\n",
    "    ))\n",
    "print('It took', time.time()-start, 'seconds.')\n",
    "A.shape"
   ]
  },
  {
   "cell_type": "code",
   "execution_count": 443,
   "metadata": {},
   "outputs": [
    {
     "data": {
      "text/plain": [
       "(8, 2123776)"
      ]
     },
     "execution_count": 443,
     "metadata": {},
     "output_type": "execute_result"
    }
   ],
   "source": [
    "#Removing duplicate columns\n",
    "A=A[:,unique(amin(A,axis=0))]\n",
    "A.shape"
   ]
  },
  {
   "cell_type": "code",
   "execution_count": 445,
   "metadata": {},
   "outputs": [
    {
     "name": "stdout",
     "output_type": "stream",
     "text": [
      "2079\n"
     ]
    },
    {
     "data": {
      "text/plain": [
       "(8, 2123776)"
      ]
     },
     "execution_count": 445,
     "metadata": {},
     "output_type": "execute_result"
    }
   ],
   "source": [
    "EncodedA=EncodingMonomialToRow[EncodingColumnToMonomial][A]\n",
    "print(amax(EncodedA))\n",
    "EncodedA.shape"
   ]
  },
  {
   "cell_type": "markdown",
   "metadata": {},
   "source": [
    "EDITED UP TO THIS POINT. Next we need to construct the sparse matrix from this data, and generate the b vector from the distribution --- USING EncodingMonomialToRow !"
   ]
  }
 ],
 "metadata": {
  "colab": {
   "collapsed_sections": [],
   "include_colab_link": true,
   "name": "Inflation Technique.ipynb",
   "provenance": []
  },
  "kernelspec": {
   "display_name": "Python 3",
   "language": "python",
   "name": "python3"
  },
  "language_info": {
   "codemirror_mode": {
    "name": "ipython",
    "version": 3
   },
   "file_extension": ".py",
   "mimetype": "text/x-python",
   "name": "python",
   "nbconvert_exporter": "python",
   "pygments_lexer": "ipython3",
   "version": "3.7.7"
  }
 },
 "nbformat": 4,
 "nbformat_minor": 4
}
