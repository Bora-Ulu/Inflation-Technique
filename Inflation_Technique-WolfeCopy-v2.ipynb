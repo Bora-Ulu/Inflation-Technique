{
 "cells": [
  {
   "cell_type": "markdown",
   "metadata": {
    "colab_type": "text",
    "id": "view-in-github"
   },
   "source": [
    "<a href=\"https://colab.research.google.com/github/Bora-Ulu/Inflation-Technique/blob/main/Inflation_Technique.ipynb\" target=\"_parent\"><img src=\"https://colab.research.google.com/assets/colab-badge.svg\" alt=\"Open In Colab\"/></a>"
   ]
  },
  {
   "cell_type": "code",
   "execution_count": 318,
   "metadata": {
    "colab": {
     "base_uri": "https://localhost:8080/"
    },
    "id": "DFJJdFsS0RDX",
    "outputId": "ab46b54c-dfce-4e60-fb14-b7ca210f2bd0"
   },
   "outputs": [],
   "source": [
    "from numpy import *\n",
    "from itertools import *\n",
    "import time\n",
    "from scipy.sparse import coo_matrix\n",
    "from scipy.sparse import csc_matrix\n",
    "from scipy.sparse import csr_matrix\n",
    "from cvxopt import matrix, solvers, sparse, spmatrix\n",
    "from numba import njit\n",
    "\n",
    "@njit\n",
    "def PrepForIntToArray32(ar):# Takes a huge column vector as input\n",
    "                     # Returns a matrix where the rows are the base-4 binary expansions of each element of the input array\n",
    "    #return transpose(atleast_2d(ravel(ar.astype(uint32)))).view(uint8)\n",
    "    return reshape(ar.astype(uint32).view(uint8),(-1,4))\n",
    "\n",
    "\n",
    "def IntToArray32(ar):\n",
    "    return unpackbits(PrepForIntToArray32(ar),axis=1, bitorder='little').view(bool_)\n",
    "\n",
    "@njit\n",
    "def PrepForArrayToInt32(bitarray):\n",
    "    as2mat=bitarray.reshape(-1, bitarray.shape[-1])\n",
    "    temparray=zeros((len(as2mat),32),bool_)\n",
    "    temparray[:,:bitarray.shape[-1]]=as2mat\n",
    "    # return pad(bitarray.reshape(-1, bitarray.shape[-1]),[(0,0), (0, 32-bitarray.shape[-1])], mode='constant')\n",
    "    return temparray\n",
    "\n",
    "def ArrayToInt32(bitarray):\n",
    "    \n",
    "    return reshape(packbits(PrepForArrayToInt32(bitarray), bitorder='little').view(uint32),bitarray.shape[:-1])\n",
    "\n",
    "ar=transpose(atleast_2d(arange(0,4**12,1,uint32))) \n",
    "arasbits=unpackbits(ar.view(uint8),axis=1, bitorder='little').view(bool_)"
   ]
  },
  {
   "cell_type": "code",
   "execution_count": 317,
   "metadata": {},
   "outputs": [
    {
     "data": {
      "text/plain": [
       "(67108864, 32)"
      ]
     },
     "execution_count": 317,
     "metadata": {},
     "output_type": "execute_result"
    }
   ],
   "source": [
    "PrepForArrayToInt32(IntToArray32(ar)).shape"
   ]
  },
  {
   "cell_type": "code",
   "execution_count": 322,
   "metadata": {},
   "outputs": [
    {
     "data": {
      "text/plain": [
       "array([       0,        1,        2, ..., 16777213, 16777214, 16777215],\n",
       "      dtype=uint32)"
      ]
     },
     "execution_count": 322,
     "metadata": {},
     "output_type": "execute_result"
    }
   ],
   "source": [
    "ArrayToInt32(IntToArray32(ar))"
   ]
  },
  {
   "cell_type": "code",
   "execution_count": 281,
   "metadata": {},
   "outputs": [],
   "source": [
    "SwapX1X2=arange(32);\n",
    "SwapX1X2[23-array([0,1,2,3,4,5,6,7,8,9,12,13,10,11,14,15])]=SwapX1X2[23-array([2,3,0,1,6,7,4,5,12,13,8,9,14,15,10,11])];\n",
    "SwapY1Y2=arange(32);\n",
    "SwapY1Y2[23-array([0,1,4,5,2,3,6,7,16,17,18,19,20,21,22,23])]=SwapY1Y2[23-array([4,5,0,1,6,7,2,3,18,19,16,17,22,23,20,21])];\n",
    "SwapZ1Z2=arange(32);\n",
    "SwapZ1Z2[23-array([8,9,10,11,12,13,14,15,16,17,20,21,18,19,22,23])]=SwapZ1Z2[23-array([10,11,8,9,14,15,12,13,20,21,16,17,22,23,18,19])]"
   ]
  },
  {
   "cell_type": "code",
   "execution_count": null,
   "metadata": {
    "colab": {
     "base_uri": "https://localhost:8080/"
    },
    "id": "MwN2cz2ZGBid",
    "outputId": "cfddc8df-7d03-4ff6-a215-fa22cc9ed433"
   },
   "outputs": [],
   "source": [
    "\"\"\"\n",
    "def Symmetry_Op(operation, ar):#Takes the exchange opration of copy latent variables and the values of the observable variables as a uint32 column vector as input\n",
    "                                   #Returns the corresponding observable values for the resultant identical probability\n",
    "    \n",
    "    # The input list is of the form: [A1,A2,A3,A4,B1,B2,B3,B4,C1,C2,C3,C4]\n",
    "  \n",
    "    A=unpackbits(ar.view(uint8), axis=1, bitorder='little').astype(bool_)\n",
    "    \n",
    "    if operation == 'X1_X2': #Exchanging \\Lambda_{1}^{AB} and \\Lambda_{2}^{AB} \n",
    "        return packbits(A[:,SwapX1X2], bitorder='little').view(uint32)\n",
    "        \n",
    "    elif operation == 'Y1_Y2': #Exchanging \\Lambda_{1}^{AC} and \\Lambda_{2}^{AC}\n",
    "        return packbits(A[:,SwapY1Y2], bitorder='little').view(uint32)\n",
    "        \n",
    "    elif operation == 'Z1_Z2': #Exchanging \\Lambda_{1}^{BC} and \\Lambda_{2}^{BC}\n",
    "        return packbits(A[:,SwapZ1Z2], bitorder='little').view(uint32)\n",
    "    \n",
    "    else:\n",
    "        print('Error: Enter a valid operation.')\n",
    "        \n",
    "ar=transpose(atleast_2d(arange(0,4**12,1,uint32)))        \n",
    "start = time.time()\n",
    "\n",
    "A=Symmetry_Op('X1_X2',ar)\n",
    "print('It took', time.time()-start, 'seconds.')\n",
    "\"\"\""
   ]
  },
  {
   "cell_type": "code",
   "execution_count": null,
   "metadata": {},
   "outputs": [],
   "source": [
    "\"\"\"\n",
    "B=vstack((A,A))\n",
    "B.shape\n",
    "\"\"\""
   ]
  },
  {
   "cell_type": "code",
   "execution_count": 115,
   "metadata": {
    "colab": {
     "base_uri": "https://localhost:8080/"
    },
    "id": "_n2XK5FoGI62",
    "outputId": "54d7286b-b5ba-408e-f666-44ac0ae0e9d4"
   },
   "outputs": [
    {
     "name": "stdout",
     "output_type": "stream",
     "text": [
      "It took 13.635999917984009 seconds.\n"
     ]
    },
    {
     "data": {
      "text/plain": [
       "(8, 16777216)"
      ]
     },
     "execution_count": 115,
     "metadata": {},
     "output_type": "execute_result"
    }
   ],
   "source": [
    "def Symmetric_Arrays(ar):#Takes a list of laten variable copy index exchange operations and the values of the observable variables as input as input \n",
    "                                     #Returns all configurations of observable variable values that have identical probabilities in the form of a list\n",
    "    A=unpackbits(ar.view(uint8), axis=1, bitorder='little')\n",
    "    return vstack((transpose(ar),\\\n",
    "     packbits(A[:,SwapX1X2], bitorder='little').view(uint32),\\\n",
    "     packbits(A[:,SwapY1Y2], bitorder='little').view(uint32),\\\n",
    "     packbits(A[:,SwapZ1Z2], bitorder='little').view(uint32),\\\n",
    "     packbits(A[:,SwapX1X2[SwapY1Y2]], bitorder='little').view(uint32),\\\n",
    "     packbits(A[:,SwapX1X2[SwapZ1Z2]], bitorder='little').view(uint32),\\\n",
    "     packbits(A[:,SwapY1Y2[SwapZ1Z2]], bitorder='little').view(uint32),\\\n",
    "     packbits(A[:,SwapX1X2[SwapY1Y2[SwapZ1Z2]]], bitorder='little').view(uint32),\\\n",
    "    ))\n",
    "start = time.time()\n",
    "A=Symmetric_Arrays(ar)\n",
    "print('It took', time.time()-start, 'seconds.')\n",
    "A.shape"
   ]
  },
  {
   "cell_type": "code",
   "execution_count": 123,
   "metadata": {},
   "outputs": [
    {
     "name": "stdout",
     "output_type": "stream",
     "text": [
      "It took 0.8059978485107422 seconds.\n"
     ]
    },
    {
     "data": {
      "text/plain": [
       "(8, 2123776)"
      ]
     },
     "execution_count": 123,
     "metadata": {},
     "output_type": "execute_result"
    }
   ],
   "source": [
    "start = time.time()\n",
    "A=A[:,unique(amin(A,axis=0))]\n",
    "print('It took', time.time()-start, 'seconds.')\n",
    "A.shape"
   ]
  },
  {
   "cell_type": "code",
   "execution_count": null,
   "metadata": {},
   "outputs": [],
   "source": [
    "\"\"\"\n",
    "AasBits=transpose(atleast_2d(ravel(A))).view(uint8)\n",
    "AasBits=unpackbits(AasBits,axis=1, bitorder='little').view(bool_)\n",
    "AasBits.shape\n",
    "\"\"\""
   ]
  },
  {
   "cell_type": "code",
   "execution_count": 254,
   "metadata": {},
   "outputs": [],
   "source": [
    "arasbits=unpackbits(ar.view(uint8),axis=1, bitorder='little').view(bool_)"
   ]
  },
  {
   "cell_type": "code",
   "execution_count": 187,
   "metadata": {},
   "outputs": [
    {
     "data": {
      "text/plain": [
       "2080"
      ]
     },
     "execution_count": 187,
     "metadata": {},
     "output_type": "execute_result"
    }
   ],
   "source": [
    "temparray=zeros_like(arasbits)\n",
    "temparray[:,:12]=arasbits[:,23-array([0,1,6,7,8,9,14,15,16,17,22,23])]\n",
    "A1=packbits(temparray, bitorder='little').view(uint32)\n",
    "temparray=zeros_like(arasbits)\n",
    "temparray[:,:12]=arasbits[:,23-array([23,22,17,16,15,14,9,8,7,6,1,0])] #DEFINETLY A MISTAKE HERE!!\n",
    "A2=packbits(temparray, bitorder='little').view(uint32)\n",
    "fromquadratictorow=amin(vstack((A1,A2)),axis=0)\n",
    "len(unique(fromquadratictorow))"
   ]
  },
  {
   "cell_type": "code",
   "execution_count": 210,
   "metadata": {},
   "outputs": [],
   "source": [
    "\"\"\"\n",
    "temparray=zeros_like(AasBits)\n",
    "temparray[:,:12]=AasBits[:,23-array([0,1,6,7,8,9,14,15,16,17,22,23])]\n",
    "rowencoding=reshape(packbits(temparray, bitorder='little').view(uint32),A.shape)\n",
    "\"\"\""
   ]
  },
  {
   "cell_type": "code",
   "execution_count": 249,
   "metadata": {},
   "outputs": [
    {
     "data": {
      "text/plain": [
       "(16777216,)"
      ]
     },
     "execution_count": 249,
     "metadata": {},
     "output_type": "execute_result"
    }
   ],
   "source": [
    "temp=zeros(4**6,uint16);\n",
    "u=unique(fromquadratictorow)\n",
    "temp[u]=arange(0,len(u),1,uint16);\n",
    "encoding=temp[fromquadratictorow]\n",
    "encoding.shape"
   ]
  },
  {
   "cell_type": "code",
   "execution_count": 252,
   "metadata": {},
   "outputs": [
    {
     "data": {
      "text/plain": [
       "(8, 2123776)"
      ]
     },
     "execution_count": 252,
     "metadata": {},
     "output_type": "execute_result"
    }
   ],
   "source": [
    "sparsematrixdata=encoding[A]\n",
    "sparsematrixdata.shape"
   ]
  },
  {
   "cell_type": "markdown",
   "metadata": {},
   "source": [
    "---UP TO THIS POINT EDITED---\n",
    "---I'm not happy with the row construction. We need to know which of the 4^6 probabilities corresponds to which of the 2080 rows. This is best done by defining an encoding from 4096 to 2048, and then compressing."
   ]
  },
  {
   "cell_type": "code",
   "execution_count": 4,
   "metadata": {
    "colab": {
     "base_uri": "https://localhost:8080/"
    },
    "id": "BR-pR4TnGNvB",
    "outputId": "74476d75-e1dc-4be4-a37f-00285c4a1255"
   },
   "outputs": [
    {
     "name": "stdout",
     "output_type": "stream",
     "text": [
      "It took 3.7859010696411133 seconds.\n"
     ]
    }
   ],
   "source": [
    "def CorRowsNoSymmetry(ar):\n",
    "    \n",
    "    A=IntToArray32(ar)\n",
    "    \n",
    "    #A=A[:,[0,1,6,7,8,9,14,15,16,17,22,23]]\n",
    "    A=A[:,[23,22,17,16,15,14,9,8,7,6,1,0]]\n",
    "\n",
    "    A=ArrayToInt16(A)\n",
    "    \n",
    "    return A\n",
    "\n",
    "def CorRows(ar):#Creates an array with all the rows that have a \"1\" in the corresponding column of the input array. the row symmetries are applied\n",
    "                #by choosing the row with the smaller index among the symmetric rows\n",
    "    \n",
    "    A=IntToArray32(ar)\n",
    "    \n",
    "    A1=A[:,[0,1,6,7,8,9,14,15,16,17,22,23]]\n",
    "    #A1=A[:,[14,9,8,7,6,1,0,23,22,17,16,15]]\n",
    "    \n",
    "    A1=ArrayToInt16(A1)\n",
    "    \n",
    "    A=A[:,[23,22,17,16,15,14,9,8,7,6,1,0]]\n",
    "    \n",
    "    A=ArrayToInt16(A)\n",
    "    A=vstack((A,A1))\n",
    "    A=amin(A,axis=0)\n",
    "    \n",
    "    return A\n",
    "start = time.time()\n",
    "A=CorRows(ar)\n",
    "print('It took', time.time()-start, 'seconds.')"
   ]
  },
  {
   "cell_type": "code",
   "execution_count": 5,
   "metadata": {
    "colab": {
     "base_uri": "https://localhost:8080/"
    },
    "id": "z_tyKDW4GSd1",
    "outputId": "2a5845b0-bffb-418f-e569-4ee8d200d43c"
   },
   "outputs": [
    {
     "name": "stdout",
     "output_type": "stream",
     "text": [
      "It took 143.67358303070068 seconds.\n"
     ]
    }
   ],
   "source": [
    "def NewCols(ar):#Applies the symmetry condition to the columns by choosing the column with the smaller index among the symmetric columns\n",
    "    \n",
    "    Op_list=['X1_X2','Y1_Y2','Z1_Z2']\n",
    "    \n",
    "    A=Symmetric_Arrays(Op_list, ar)\n",
    "    \n",
    "    A=amin(A,axis=1)\n",
    "    \n",
    "    #A=A[:,0]\n",
    "    \n",
    "    return A\n",
    "start = time.time()\n",
    "A=NewCols(ar)\n",
    "print('It took', time.time()-start, 'seconds.')"
   ]
  },
  {
   "cell_type": "code",
   "execution_count": 6,
   "metadata": {
    "colab": {
     "base_uri": "https://localhost:8080/"
    },
    "id": "TP0ChQRIGXl2",
    "outputId": "b63a1be4-77dd-4236-a6d1-ae5c26caf2da"
   },
   "outputs": [
    {
     "name": "stdout",
     "output_type": "stream",
     "text": [
      "It took 154.16555166244507 seconds.\n",
      "The number of columns in the MDM:\n",
      "2123776\n",
      "The number of rows in the MDM:\n",
      "2080\n"
     ]
    }
   ],
   "source": [
    "def remove_zero_rows(M):# Removes zero rows from sparse array\n",
    "  M = csr_matrix(M)\n",
    "  num_nonzeros = diff(M.indptr)\n",
    "  return M[num_nonzeros != 0]\n",
    "\n",
    "def drop_zero_columns(m):#removes zero columns from sparse array\n",
    "    \n",
    "    nz_cols, new_col = unique(m.col, return_inverse=True)\n",
    "    m.col[:] = new_col\n",
    "    m._shape = (m.shape[0], len(nz_cols))\n",
    "\n",
    "    return m\n",
    "\n",
    "def MDM():#Creates the MDM by combining the outputs of the previous functions in a coo sparse array\n",
    "        \n",
    "    ar=array([arange(4**12)]).T\n",
    "        \n",
    "    Rows=CorRows(ar)\n",
    "    Columns=NewCols(ar)\n",
    "        \n",
    "    data=[1 for i in range(len(Rows))]\n",
    "    \n",
    "    m = coo_matrix((data, (Rows, Columns)),dtype=uint8)\n",
    "    M=drop_zero_columns(m)\n",
    "    M=remove_zero_rows(M)\n",
    "    M = M.toarray()\n",
    "    \n",
    "    return M\n",
    "start = time.time()\n",
    "M=MDM()\n",
    "print('It took', time.time()-start, 'seconds.')\n",
    "print('The number of columns in the MDM:')\n",
    "print(len(M[0]))\n",
    "print('The number of rows in the MDM:')\n",
    "print(len(M))"
   ]
  },
  {
   "cell_type": "code",
   "execution_count": 8,
   "metadata": {
    "colab": {
     "base_uri": "https://localhost:8080/"
    },
    "id": "e2ohZUMdGe1W",
    "outputId": "448a6838-fae3-4356-f433-6ff3bc28a41d"
   },
   "outputs": [
    {
     "name": "stdout",
     "output_type": "stream",
     "text": [
      "It took 0.02775096893310547 seconds.\n",
      "The lenght of the vector b is:\n",
      "2080\n"
     ]
    }
   ],
   "source": [
    "def RowSymmetry(inte):#Takes a row as input\n",
    "                      #Returns the symmetric row\n",
    "    \n",
    "    c=IntToList(inte,4,6)\n",
    "    c=[c[1],c[0],c[3],c[2],c[5],c[4]]\n",
    "    c=ListToInt(c,4)\n",
    "    \n",
    "    return c\n",
    "\n",
    "\n",
    "def b(Data):#Creates the b vector by removing the symmetrical rows and using the input data with the correct multiplications of the probabilities.\n",
    "    \n",
    "    Checklist=[0 for i in range(4**6)]\n",
    "    i=0\n",
    "    b=[]\n",
    "    while i in range(len(Checklist)):\n",
    "        \n",
    "        if Checklist[i] == 0:\n",
    "            \n",
    "            R=RowSymmetry(i)\n",
    "            \n",
    "            c=IntToList(i,4,6)\n",
    "            c1=[c[0],c[1],c[2]]\n",
    "            c1=ListToInt(c1,4)\n",
    "            c2=[c[3],c[4],c[5]]\n",
    "            c2=ListToInt(c2,4)\n",
    "            \n",
    "            c3=Data[c1]*Data[c2]\n",
    "            \n",
    "            b.append(c3)\n",
    "            Checklist[R]=1\n",
    "            \n",
    "        i=i+1\n",
    "    \n",
    "    b=array([b]).T\n",
    "    \n",
    "    return b\n",
    "Data=[0.12199995751046305, 0.0022969343799089472, 0.001748319476328954, 3.999015242496535e-05, 0.028907881434196828, 0.0005736087488455967, 0.0003924033706699725, 1.1247230369521505e-05, 0.0030142577390317635, 0.09234476010282468, 4.373922921480586e-05, 0.0014533921021948346, 0.0007798079722868244, 0.024091567451515063, 1.1247230369521505e-05, 0.0003849052170902915, 0.020774884184769502, 0.000396152447459813, 0.0003049249122403608, 4.998769053120669e-06, 0.10820335492385, 0.0020794879260981982, 0.0015546171755205281, 2.4993845265603346e-05, 0.0006260958239033638, 0.020273757587194154, 7.498153579681003e-06, 0.0003374169110856452, 0.0028942872817568676, 0.08976414557915113, 2.624353752888351e-05, 0.0012984302615480939, 0.002370666223442477, 4.7488306004646356e-05, 0.0999928767540993, 0.001957018084296742, 0.0006198473625869629, 8.747845842961171e-06, 0.02636975644747481, 0.0005198719815245496, 1.4996307159362007e-05, 0.000403650601039494, 0.0005498645958432735, 0.017359475229224805, 7.123245900696953e-05, 0.002346922070440154, 0.0033754188031197316, 0.10295964618712641, 0.00038740460161685187, 7.498153579681003e-06, 0.01608353942841575, 0.000306174604503641, 0.0021319750011559654, 4.248953695152569e-05, 0.09107007399427891, 0.001860791780024169, 5.998522863744803e-05, 0.0018395470115484063, 0.002570616985567304, 0.0766411271224461, 1.874538394920251e-05, 0.00048238121362614454, 0.0006410921310627258, 0.020223769896662948]\n",
    "start = time.time()\n",
    "b=b(Data)\n",
    "print('It took', time.time()-start, 'seconds.')\n",
    "print('The length of the vector b is:')\n",
    "print(len(b))"
   ]
  },
  {
   "cell_type": "code",
   "execution_count": 9,
   "metadata": {
    "colab": {
     "base_uri": "https://localhost:8080/"
    },
    "id": "R_0g-e9rGkC-",
    "outputId": "f71755ed-7cee-4003-a35d-0e7a671f59e5"
   },
   "outputs": [
    {
     "name": "stdout",
     "output_type": "stream",
     "text": [
      "Problem\n",
      "  Name                   :                 \n",
      "  Objective sense        : min             \n",
      "  Type                   : LO (linear optimization problem)\n",
      "  Constraints            : 2123776         \n",
      "  Cones                  : 0               \n",
      "  Scalar variables       : 2080            \n",
      "  Matrix variables       : 0               \n",
      "  Integer variables      : 0               \n",
      "\n",
      "Optimizer started.\n",
      "Presolve started.\n",
      "Eliminator - tries                  : 0                 time                   : 0.00            \n",
      "Lin. dep.  - tries                  : 0                 time                   : 0.00            \n",
      "Lin. dep.  - number                 : 0               \n",
      "Presolve terminated. Time: 0.87    \n",
      "Optimizer terminated. Time: 1.13    \n",
      "\n",
      "\n",
      "Interior-point solution summary\n",
      "  Problem status  : DUAL_INFEASIBLE\n",
      "  Solution status : DUAL_INFEASIBLE_CER\n",
      "  Primal.  obj: -4.0900086883e-04   nrm: 2e+00    Viol.  con: 0e+00    var: 0e+00  \n",
      "\n",
      "Basic solution summary\n",
      "  Problem status  : DUAL_INFEASIBLE\n",
      "  Solution status : DUAL_INFEASIBLE_CER\n",
      "  Primal.  obj: -4.0900086883e-04   nrm: 2e+00    Viol.  con: 0e+00    var: 0e+00  \n"
     ]
    }
   ],
   "source": [
    "def scipy_sparse_to_spmatrix(A):#Turns a scipy sparse array into a cvxopt sparse array\n",
    "    coo = A.tocoo()\n",
    "    SP = spmatrix(coo.data.tolist(), coo.row.tolist(), coo.col.tolist(), size=A.shape, tc='d')\n",
    "    return SP\n",
    "\n",
    "A=M\n",
    "c=b\n",
    "z=zeros((len(A[0]),1))#Creates the right side of the inequality y.M>=0 in the form of a vector\n",
    "    \n",
    "A=A.astype(double)#Changes the format of the input arrays in a way that cvxopt functions will accept\n",
    "c=c.astype(double)\n",
    "z=z.astype(double)\n",
    "A=transpose(A)#Changes the rows with columns as this is how cvxopt accepts the input matrix M\n",
    "A=coo_matrix(A)#Changes the input matrix M to sparse form so that the solver won't crash the python kernel\n",
    "\n",
    "\"\"\"\n",
    "A=matrix(A)\n",
    "c=matrix(c)\n",
    "z=matrix(z)\n",
    "\"\"\"\n",
    "\n",
    "A=scipy_sparse_to_spmatrix(A)#Turns the scipy sparse array M into cvxopt sparse array\n",
    "c=matrix(c)#Turns numpy array objective function to cvxopt dense array\n",
    "z=matrix(z)\n",
    "\n",
    "sol=solvers.lp(c,A,z, solver='mosek')#Solves the linear program"
   ]
  }
 ],
 "metadata": {
  "colab": {
   "collapsed_sections": [],
   "include_colab_link": true,
   "name": "Inflation Technique.ipynb",
   "provenance": []
  },
  "kernelspec": {
   "display_name": "Python 3",
   "language": "python",
   "name": "python3"
  },
  "language_info": {
   "codemirror_mode": {
    "name": "ipython",
    "version": 3
   },
   "file_extension": ".py",
   "mimetype": "text/x-python",
   "name": "python",
   "nbconvert_exporter": "python",
   "pygments_lexer": "ipython3",
   "version": "3.7.7"
  }
 },
 "nbformat": 4,
 "nbformat_minor": 4
}
